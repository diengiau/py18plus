{
  "nbformat": 4,
  "nbformat_minor": 0,
  "metadata": {
    "language_info": {
      "name": "python",
      "codemirror_mode": {
        "name": "ipython",
        "version": 3
      },
      "version": "3.7.3-final"
    },
    "orig_nbformat": 2,
    "file_extension": ".py",
    "mimetype": "text/x-python",
    "name": "python",
    "npconvert_exporter": "python",
    "pygments_lexer": "ipython3",
    "version": 3,
    "kernelspec": {
      "name": "python37364bituservirtualenv4ac141b7ffc148cbb06838cd1cd2b7fd",
      "display_name": "Python 3.7.3 64-bit ('User': virtualenv)"
    },
    "colab": {
      "name": "01_helloWorld.ipynb",
      "provenance": [],
      "include_colab_link": true
    }
  },
  "cells": [
    {
      "cell_type": "markdown",
      "metadata": {
        "id": "view-in-github",
        "colab_type": "text"
      },
      "source": [
        "<a href=\"https://colab.research.google.com/github/diengiau/py18plus/blob/master/01_helloWorld.ipynb\" target=\"_parent\"><img src=\"https://colab.research.google.com/assets/colab-badge.svg\" alt=\"Open In Colab\"/></a>"
      ]
    },
    {
      "cell_type": "markdown",
      "metadata": {
        "id": "M1qSl40FEzKp",
        "colab_type": "text"
      },
      "source": [
        "# 1 Set up\n",
        "\n",
        "To install Python in your desktop, it is a bit troublesome:\n",
        "\n",
        "- Install Python language\n",
        "- Install an IDE among many choices: iPython, Jupyter, Spyder, Pycharm, VScode, Atom, ...\n",
        "\n",
        "But for this class, we will use Colab from Google for easy setup and save you a lots of time.\n",
        "\n",
        "# 2. Hello World in Python\n",
        "\n",
        "Print out to screen:"
      ]
    },
    {
      "cell_type": "code",
      "metadata": {
        "id": "s0o8AAv0EzK5",
        "colab_type": "code",
        "colab": {},
        "outputId": "7bf55c69-5b6b-4d36-dd14-1fcd4ead5b89"
      },
      "source": [
        "print(\"Hello World\")"
      ],
      "execution_count": 0,
      "outputs": [
        {
          "output_type": "stream",
          "text": [
            "Hello World\n"
          ],
          "name": "stdout"
        }
      ]
    },
    {
      "cell_type": "markdown",
      "metadata": {
        "id": "3ONNgxklEzLW",
        "colab_type": "text"
      },
      "source": [
        "# 3. Data type in Python\n",
        "\n",
        "We have different data types in Python:\n",
        "\n",
        "- String: like character or string, e.g., \"a\", \"yuan ze\"\n",
        "- Number: integer or floating numbers, e.g., 7, 1.74\n",
        "- Boolean: `true` or `false` "
      ]
    },
    {
      "cell_type": "code",
      "metadata": {
        "id": "fbGGX2Z1EzLg",
        "colab_type": "code",
        "colab": {},
        "outputId": "0ab11a9e-56cb-4bf0-cd99-83fab4e4859f"
      },
      "source": [
        "type(\"a\")"
      ],
      "execution_count": 0,
      "outputs": [
        {
          "output_type": "execute_result",
          "data": {
            "text/plain": [
              "str"
            ]
          },
          "metadata": {
            "tags": []
          },
          "execution_count": 4
        }
      ]
    },
    {
      "cell_type": "code",
      "metadata": {
        "id": "K-fbXxlXEzL2",
        "colab_type": "code",
        "colab": {},
        "outputId": "5402dd86-de14-4341-8f5f-1f76f621d05d"
      },
      "source": [
        "type(\"yuan ze\")"
      ],
      "execution_count": 0,
      "outputs": [
        {
          "output_type": "execute_result",
          "data": {
            "text/plain": [
              "str"
            ]
          },
          "metadata": {
            "tags": []
          },
          "execution_count": 5
        }
      ]
    },
    {
      "cell_type": "code",
      "metadata": {
        "id": "5MS_lrGGEzMI",
        "colab_type": "code",
        "colab": {},
        "outputId": "5048daf5-d9d9-40a1-e24f-4587686e8c16"
      },
      "source": [
        "type(7)"
      ],
      "execution_count": 0,
      "outputs": [
        {
          "output_type": "execute_result",
          "data": {
            "text/plain": [
              "int"
            ]
          },
          "metadata": {
            "tags": []
          },
          "execution_count": 6
        }
      ]
    },
    {
      "cell_type": "code",
      "metadata": {
        "id": "ms07KGVfEzMb",
        "colab_type": "code",
        "colab": {},
        "outputId": "b8fcf295-9e50-42b7-a184-02c4ba0696f0"
      },
      "source": [
        "type(1.74)"
      ],
      "execution_count": 0,
      "outputs": [
        {
          "output_type": "execute_result",
          "data": {
            "text/plain": [
              "float"
            ]
          },
          "metadata": {
            "tags": []
          },
          "execution_count": 7
        }
      ]
    },
    {
      "cell_type": "code",
      "metadata": {
        "id": "OFQF3OqPEzMr",
        "colab_type": "code",
        "colab": {},
        "outputId": "a048fd9e-5059-416d-9e9b-be00bb209a96"
      },
      "source": [
        "type(1 == 1)"
      ],
      "execution_count": 0,
      "outputs": [
        {
          "output_type": "execute_result",
          "data": {
            "text/plain": [
              "bool"
            ]
          },
          "metadata": {
            "tags": []
          },
          "execution_count": 9
        }
      ]
    },
    {
      "cell_type": "markdown",
      "metadata": {
        "id": "wmpkWp_WEzM_",
        "colab_type": "text"
      },
      "source": [
        "Above we use `==` to compare two numbers, not one `=`. Remember that."
      ]
    },
    {
      "cell_type": "markdown",
      "metadata": {
        "id": "twTr3mbTEzND",
        "colab_type": "text"
      },
      "source": [
        "# 3. Some basic math operations in Python"
      ]
    },
    {
      "cell_type": "code",
      "metadata": {
        "id": "U962Z5liEzNI",
        "colab_type": "code",
        "colab": {},
        "outputId": "1be0f73e-fda5-4f05-ecc7-a377f6f08af2"
      },
      "source": [
        "1 + 99"
      ],
      "execution_count": 0,
      "outputs": [
        {
          "output_type": "execute_result",
          "data": {
            "text/plain": [
              "100"
            ]
          },
          "metadata": {
            "tags": []
          },
          "execution_count": 10
        }
      ]
    },
    {
      "cell_type": "code",
      "metadata": {
        "id": "RbRTHwgcEzNY",
        "colab_type": "code",
        "colab": {},
        "outputId": "c3cbc919-acc2-46ad-9923-96a9925bdb2d"
      },
      "source": [
        "4*4.5"
      ],
      "execution_count": 0,
      "outputs": [
        {
          "output_type": "execute_result",
          "data": {
            "text/plain": [
              "18.0"
            ]
          },
          "metadata": {
            "tags": []
          },
          "execution_count": 11
        }
      ]
    },
    {
      "cell_type": "code",
      "metadata": {
        "id": "mMusaoACEzNq",
        "colab_type": "code",
        "colab": {},
        "outputId": "34bdcef5-6439-4808-ef76-e3edcb5bc6d6"
      },
      "source": [
        "99/8"
      ],
      "execution_count": 0,
      "outputs": [
        {
          "output_type": "execute_result",
          "data": {
            "text/plain": [
              "12.375"
            ]
          },
          "metadata": {
            "tags": []
          },
          "execution_count": 12
        }
      ]
    },
    {
      "cell_type": "code",
      "metadata": {
        "id": "rGG1wm_vEzOG",
        "colab_type": "code",
        "colab": {},
        "outputId": "359fb1a8-b54b-4555-afcc-79f465128293"
      },
      "source": [
        "2**2 # 2^2"
      ],
      "execution_count": 0,
      "outputs": [
        {
          "output_type": "execute_result",
          "data": {
            "text/plain": [
              "4"
            ]
          },
          "metadata": {
            "tags": []
          },
          "execution_count": 14
        }
      ]
    },
    {
      "cell_type": "code",
      "metadata": {
        "id": "mn5cjO-gEzOV",
        "colab_type": "code",
        "colab": {},
        "outputId": "1775fab1-3b43-491c-d7c4-a41e1db5679e"
      },
      "source": [
        "13 % 5 # 13 = 5*2 + 3 --> 3"
      ],
      "execution_count": 0,
      "outputs": [
        {
          "output_type": "execute_result",
          "data": {
            "text/plain": [
              "3"
            ]
          },
          "metadata": {
            "tags": []
          },
          "execution_count": 18
        }
      ]
    },
    {
      "cell_type": "code",
      "metadata": {
        "id": "U0a1g5nCEzOk",
        "colab_type": "code",
        "colab": {}
      },
      "source": [
        ""
      ],
      "execution_count": 0,
      "outputs": []
    }
  ]
}