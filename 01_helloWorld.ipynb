{
  "nbformat": 4,
  "nbformat_minor": 0,
  "metadata": {
    "language_info": {
      "name": "python",
      "codemirror_mode": {
        "name": "ipython",
        "version": 3
      },
      "version": "3.7.3-final"
    },
    "orig_nbformat": 2,
    "file_extension": ".py",
    "mimetype": "text/x-python",
    "name": "python",
    "npconvert_exporter": "python",
    "pygments_lexer": "ipython3",
    "version": 3,
    "kernelspec": {
      "name": "python37364bituservirtualenv4ac141b7ffc148cbb06838cd1cd2b7fd",
      "display_name": "Python 3.7.3 64-bit ('User': virtualenv)"
    },
    "colab": {
      "name": "01_helloWorld.ipynb",
      "provenance": [],
      "toc_visible": true,
      "include_colab_link": true
    }
  },
  "cells": [
    {
      "cell_type": "markdown",
      "metadata": {
        "id": "view-in-github",
        "colab_type": "text"
      },
      "source": [
        "<a href=\"https://colab.research.google.com/github/diengiau/py18plus/blob/master/01_helloWorld.ipynb\" target=\"_parent\"><img src=\"https://colab.research.google.com/assets/colab-badge.svg\" alt=\"Open In Colab\"/></a>"
      ]
    },
    {
      "cell_type": "markdown",
      "metadata": {
        "id": "i5NCSMydFMwh",
        "colab_type": "text"
      },
      "source": [
        "# 1 Set up\n",
        "\n",
        "To install Python in your desktop, it is a bit troublesome:\n",
        "\n",
        "- Install Python language\n",
        "- Install an IDE among many choices: iPython, Jupyter, Spyder, Pycharm, VScode, Atom, ...\n",
        "\n",
        "But for this class, we will use Colab from Google for easy setup and save you a lots of time.\n",
        "\n",
        "# 2. Hello World in Python\n",
        "\n",
        "Print out to screen:"
      ]
    },
    {
      "cell_type": "code",
      "metadata": {
        "id": "WyjZUn0sFMwk",
        "colab_type": "code",
        "colab": {},
        "outputId": "cce5b8f0-f917-4ba7-adb2-42ec8a0ff4e0"
      },
      "source": [
        "print(\"Hello World\")"
      ],
      "execution_count": 0,
      "outputs": [
        {
          "output_type": "stream",
          "text": [
            "Hello World\n"
          ],
          "name": "stdout"
        }
      ]
    },
    {
      "cell_type": "markdown",
      "metadata": {
        "id": "UXEl7HBoFMwu",
        "colab_type": "text"
      },
      "source": [
        "# 3. Data type in Python\n",
        "\n",
        "We have different data types in Python:\n",
        "\n",
        "- String: like character or string, e.g., \"a\", \"yuan ze\"\n",
        "- Number: integer or floating numbers, e.g., 7, 1.74\n",
        "- Boolean: `True` or `False` "
      ]
    },
    {
      "cell_type": "code",
      "metadata": {
        "id": "EF5-Ct-tFMww",
        "colab_type": "code",
        "colab": {},
        "outputId": "4eb0f2c5-687a-4f42-a0f5-61a98d485be7"
      },
      "source": [
        "type(\"a\")"
      ],
      "execution_count": 0,
      "outputs": [
        {
          "output_type": "execute_result",
          "data": {
            "text/plain": [
              "str"
            ]
          },
          "metadata": {
            "tags": []
          },
          "execution_count": 4
        }
      ]
    },
    {
      "cell_type": "code",
      "metadata": {
        "id": "k0xlLV9lFMw3",
        "colab_type": "code",
        "colab": {},
        "outputId": "26ca546f-3076-4b98-cc9a-5f9718c2edad"
      },
      "source": [
        "type(\"yuan ze\")"
      ],
      "execution_count": 0,
      "outputs": [
        {
          "output_type": "execute_result",
          "data": {
            "text/plain": [
              "str"
            ]
          },
          "metadata": {
            "tags": []
          },
          "execution_count": 5
        }
      ]
    },
    {
      "cell_type": "code",
      "metadata": {
        "id": "ic8AT593FMw_",
        "colab_type": "code",
        "colab": {},
        "outputId": "65c72558-93c7-4034-9830-9be7b74810e5"
      },
      "source": [
        "type(7)"
      ],
      "execution_count": 0,
      "outputs": [
        {
          "output_type": "execute_result",
          "data": {
            "text/plain": [
              "int"
            ]
          },
          "metadata": {
            "tags": []
          },
          "execution_count": 6
        }
      ]
    },
    {
      "cell_type": "code",
      "metadata": {
        "id": "xitAg-mtFMxH",
        "colab_type": "code",
        "colab": {},
        "outputId": "14921461-02f1-4890-beb8-8536ab298b0d"
      },
      "source": [
        "type(1.74)"
      ],
      "execution_count": 0,
      "outputs": [
        {
          "output_type": "execute_result",
          "data": {
            "text/plain": [
              "float"
            ]
          },
          "metadata": {
            "tags": []
          },
          "execution_count": 7
        }
      ]
    },
    {
      "cell_type": "code",
      "metadata": {
        "id": "RyCKycmnFMxP",
        "colab_type": "code",
        "colab": {},
        "outputId": "6df47b27-ce97-4e18-a967-27094025d205"
      },
      "source": [
        "type(1 == 1)"
      ],
      "execution_count": 0,
      "outputs": [
        {
          "output_type": "execute_result",
          "data": {
            "text/plain": [
              "bool"
            ]
          },
          "metadata": {
            "tags": []
          },
          "execution_count": 9
        }
      ]
    },
    {
      "cell_type": "code",
      "metadata": {
        "id": "0sp4wlzLOWKo",
        "colab_type": "code",
        "colab": {
          "base_uri": "https://localhost:8080/",
          "height": 34
        },
        "outputId": "2037f719-fb84-463e-ffaa-2bd60a970596"
      },
      "source": [
        "type(True)"
      ],
      "execution_count": 1,
      "outputs": [
        {
          "output_type": "execute_result",
          "data": {
            "text/plain": [
              "bool"
            ]
          },
          "metadata": {
            "tags": []
          },
          "execution_count": 1
        }
      ]
    },
    {
      "cell_type": "markdown",
      "metadata": {
        "id": "PuVfPWkqFMxb",
        "colab_type": "text"
      },
      "source": [
        "Above we use `==` to compare two numbers, not one `=`. Remember that."
      ]
    },
    {
      "cell_type": "markdown",
      "metadata": {
        "id": "Qc27InzDFMxf",
        "colab_type": "text"
      },
      "source": [
        "# 3. Some basic math operations in Python"
      ]
    },
    {
      "cell_type": "code",
      "metadata": {
        "id": "S_icwOWyFMxi",
        "colab_type": "code",
        "colab": {},
        "outputId": "e4d2186c-e94a-487c-dac6-97a0aa538738"
      },
      "source": [
        "1 + 99"
      ],
      "execution_count": 0,
      "outputs": [
        {
          "output_type": "execute_result",
          "data": {
            "text/plain": [
              "100"
            ]
          },
          "metadata": {
            "tags": []
          },
          "execution_count": 10
        }
      ]
    },
    {
      "cell_type": "code",
      "metadata": {
        "id": "tk5UWC1dFMxt",
        "colab_type": "code",
        "colab": {},
        "outputId": "bd4d8606-706f-41e4-e3d6-61afa2f8c217"
      },
      "source": [
        "4*4.5"
      ],
      "execution_count": 0,
      "outputs": [
        {
          "output_type": "execute_result",
          "data": {
            "text/plain": [
              "18.0"
            ]
          },
          "metadata": {
            "tags": []
          },
          "execution_count": 11
        }
      ]
    },
    {
      "cell_type": "code",
      "metadata": {
        "id": "9wSo_3QsFMyK",
        "colab_type": "code",
        "colab": {},
        "outputId": "6adb5a18-2a84-4afb-dfa4-56f0fd9923ac"
      },
      "source": [
        "99/8"
      ],
      "execution_count": 0,
      "outputs": [
        {
          "output_type": "execute_result",
          "data": {
            "text/plain": [
              "12.375"
            ]
          },
          "metadata": {
            "tags": []
          },
          "execution_count": 12
        }
      ]
    },
    {
      "cell_type": "code",
      "metadata": {
        "id": "CQ7Y_3CXFMyY",
        "colab_type": "code",
        "colab": {},
        "outputId": "9bc04a6c-b103-420f-ed07-1c9d9dc580c1"
      },
      "source": [
        "2**2 # 2^2"
      ],
      "execution_count": 0,
      "outputs": [
        {
          "output_type": "execute_result",
          "data": {
            "text/plain": [
              "4"
            ]
          },
          "metadata": {
            "tags": []
          },
          "execution_count": 14
        }
      ]
    },
    {
      "cell_type": "code",
      "metadata": {
        "id": "owtyCsc3FMym",
        "colab_type": "code",
        "colab": {},
        "outputId": "9cc01851-4c0d-40e7-8c5d-4f44b10292ed"
      },
      "source": [
        "13 % 5 # modulus (remainder of division)"
      ],
      "execution_count": 0,
      "outputs": [
        {
          "output_type": "execute_result",
          "data": {
            "text/plain": [
              "3"
            ]
          },
          "metadata": {
            "tags": []
          },
          "execution_count": 18
        }
      ]
    },
    {
      "cell_type": "code",
      "metadata": {
        "id": "3ZnvX5SMFMyx",
        "colab_type": "code",
        "colab": {}
      },
      "source": [
        ""
      ],
      "execution_count": 0,
      "outputs": []
    }
  ]
}