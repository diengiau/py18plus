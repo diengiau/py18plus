{
  "nbformat": 4,
  "nbformat_minor": 0,
  "metadata": {
    "language_info": {
      "name": "python",
      "codemirror_mode": {
        "name": "ipython",
        "version": 3
      },
      "version": "3.7.3-final"
    },
    "orig_nbformat": 2,
    "file_extension": ".py",
    "mimetype": "text/x-python",
    "name": "python",
    "npconvert_exporter": "python",
    "pygments_lexer": "ipython3",
    "version": 3,
    "kernelspec": {
      "name": "python37364bituservirtualenv4ac141b7ffc148cbb06838cd1cd2b7fd",
      "display_name": "Python 3.7.3 64-bit ('User': virtualenv)"
    },
    "colab": {
      "name": "02_varStats.ipynb",
      "provenance": [],
      "include_colab_link": true
    }
  },
  "cells": [
    {
      "cell_type": "markdown",
      "metadata": {
        "id": "view-in-github",
        "colab_type": "text"
      },
      "source": [
        "<a href=\"https://colab.research.google.com/github/diengiau/py18plus/blob/master/02_varStats.ipynb\" target=\"_parent\"><img src=\"https://colab.research.google.com/assets/colab-badge.svg\" alt=\"Open In Colab\"/></a>"
      ]
    },
    {
      "cell_type": "markdown",
      "metadata": {
        "id": "gPjSfX77Dg7O",
        "colab_type": "text"
      },
      "source": [
        "# 1. Variable\n",
        "\n",
        "We often use a variable to store data and re-use it in a program. It is quite easy in Python:\n",
        "\n",
        "`variableName = value`\n",
        "\n",
        "For example:\n"
      ]
    },
    {
      "cell_type": "code",
      "metadata": {
        "id": "fwEcAtzmDg7X",
        "colab_type": "code",
        "colab": {},
        "outputId": "40b39f87-a8f1-403e-db65-3c37261f145d"
      },
      "source": [
        "x = 15\n",
        "4*x"
      ],
      "execution_count": 0,
      "outputs": [
        {
          "output_type": "execute_result",
          "data": {
            "text/plain": [
              "60"
            ]
          },
          "metadata": {
            "tags": []
          },
          "execution_count": 1
        }
      ]
    },
    {
      "cell_type": "code",
      "metadata": {
        "id": "_dMilMm9Dg7z",
        "colab_type": "code",
        "colab": {},
        "outputId": "8ba94356-2b66-4d3e-b15f-a713bb24fa6f"
      },
      "source": [
        "x**2"
      ],
      "execution_count": 0,
      "outputs": [
        {
          "output_type": "execute_result",
          "data": {
            "text/plain": [
              "225"
            ]
          },
          "metadata": {
            "tags": []
          },
          "execution_count": 2
        }
      ]
    },
    {
      "cell_type": "markdown",
      "metadata": {
        "id": "s8guxDNDDg8H",
        "colab_type": "text"
      },
      "source": [
        "A variable can be re-assigned another value:"
      ]
    },
    {
      "cell_type": "code",
      "metadata": {
        "id": "llLnepQCDg8N",
        "colab_type": "code",
        "colab": {},
        "outputId": "caea0cf9-c05b-4163-8c8a-2acb8811958e"
      },
      "source": [
        "x = 20\n",
        "x"
      ],
      "execution_count": 0,
      "outputs": [
        {
          "output_type": "execute_result",
          "data": {
            "text/plain": [
              "20"
            ]
          },
          "metadata": {
            "tags": []
          },
          "execution_count": 3
        }
      ]
    },
    {
      "cell_type": "markdown",
      "metadata": {
        "id": "T-i_DvswDg8e",
        "colab_type": "text"
      },
      "source": [
        "We can create a variable to store all stock prices of a stock. So we should introduce a new definition: a list.\n",
        "A list is like a vector to store many individual value inside.\n",
        "\n",
        "List = \\[value1, value2, ...\\]"
      ]
    },
    {
      "cell_type": "code",
      "metadata": {
        "id": "ySGL3fKzDg8j",
        "colab_type": "code",
        "colab": {}
      },
      "source": [
        "prices = [90, 94, 97, 96, 91, 89, 95, 97, 100, 105]"
      ],
      "execution_count": 0,
      "outputs": []
    },
    {
      "cell_type": "code",
      "metadata": {
        "id": "gT5b80rbDg8_",
        "colab_type": "code",
        "colab": {},
        "outputId": "e293c60c-3dd9-4e7b-e576-cc42a66ddd3e"
      },
      "source": [
        "prices"
      ],
      "execution_count": 0,
      "outputs": [
        {
          "output_type": "execute_result",
          "data": {
            "text/plain": [
              "[90, 94, 97, 96, 91, 89, 95, 97, 100, 105]"
            ]
          },
          "metadata": {
            "tags": []
          },
          "execution_count": 5
        }
      ]
    },
    {
      "cell_type": "code",
      "metadata": {
        "id": "6wy5GnhZDg9S",
        "colab_type": "code",
        "colab": {},
        "outputId": "679c4598-2dac-421b-a770-be152c747177"
      },
      "source": [
        "len(prices)"
      ],
      "execution_count": 0,
      "outputs": [
        {
          "output_type": "execute_result",
          "data": {
            "text/plain": [
              "10"
            ]
          },
          "metadata": {
            "tags": []
          },
          "execution_count": 8
        }
      ]
    },
    {
      "cell_type": "code",
      "metadata": {
        "id": "GZOWh0t6Dg9k",
        "colab_type": "code",
        "colab": {},
        "outputId": "16e0e4de-1e26-42c9-fb57-dc0d490d984d"
      },
      "source": [
        "prices[0]"
      ],
      "execution_count": 0,
      "outputs": [
        {
          "output_type": "execute_result",
          "data": {
            "text/plain": [
              "90"
            ]
          },
          "metadata": {
            "tags": []
          },
          "execution_count": 6
        }
      ]
    },
    {
      "cell_type": "code",
      "metadata": {
        "id": "W7WY4ag_Dg90",
        "colab_type": "code",
        "colab": {},
        "outputId": "a24b1a8e-8c9c-4464-dffd-fca523ae5a7f"
      },
      "source": [
        "prices[1]"
      ],
      "execution_count": 0,
      "outputs": [
        {
          "output_type": "execute_result",
          "data": {
            "text/plain": [
              "94"
            ]
          },
          "metadata": {
            "tags": []
          },
          "execution_count": 7
        }
      ]
    },
    {
      "cell_type": "code",
      "metadata": {
        "id": "nHeUFcAoDg-F",
        "colab_type": "code",
        "colab": {},
        "outputId": "3a79dd91-9a88-4f8a-d487-ab524ec652ba"
      },
      "source": [
        "prices[9]"
      ],
      "execution_count": 0,
      "outputs": [
        {
          "output_type": "execute_result",
          "data": {
            "text/plain": [
              "105"
            ]
          },
          "metadata": {
            "tags": []
          },
          "execution_count": 9
        }
      ]
    },
    {
      "cell_type": "code",
      "metadata": {
        "id": "wSgISgC8Dg-Z",
        "colab_type": "code",
        "colab": {},
        "outputId": "f42968bc-913b-4522-84e5-7dcc739a3b47"
      },
      "source": [
        "prices[10] # Index Error: we only have 10 elements in list, so the maximum index should be 9"
      ],
      "execution_count": 0,
      "outputs": [
        {
          "output_type": "error",
          "ename": "IndexError",
          "evalue": "list index out of range",
          "traceback": [
            "\u001b[1;31m---------------------------------------------------------------------------\u001b[0m",
            "\u001b[1;31mIndexError\u001b[0m                                Traceback (most recent call last)",
            "\u001b[1;32m<ipython-input-16-c7cddac4fa72>\u001b[0m in \u001b[0;36m<module>\u001b[1;34m\u001b[0m\n\u001b[1;32m----> 1\u001b[1;33m \u001b[0mprices\u001b[0m\u001b[1;33m[\u001b[0m\u001b[1;36m10\u001b[0m\u001b[1;33m]\u001b[0m \u001b[1;31m# Index Error: we only have 10 elements in list, so the maximum index should be 9\u001b[0m\u001b[1;33m\u001b[0m\u001b[1;33m\u001b[0m\u001b[0m\n\u001b[0m",
            "\u001b[1;31mIndexError\u001b[0m: list index out of range"
          ]
        }
      ]
    },
    {
      "cell_type": "markdown",
      "metadata": {
        "id": "EUc2hfRZDg-n",
        "colab_type": "text"
      },
      "source": [
        "The next problem is how to calculate stock returns?"
      ]
    },
    {
      "cell_type": "code",
      "metadata": {
        "id": "0BwVrgZ4Dg-r",
        "colab_type": "code",
        "colab": {},
        "outputId": "ee9e55c6-2291-48b8-b555-cb38fa190ccc"
      },
      "source": [
        "ret = []\n",
        "ret"
      ],
      "execution_count": 0,
      "outputs": [
        {
          "output_type": "execute_result",
          "data": {
            "text/plain": [
              "[]"
            ]
          },
          "metadata": {
            "tags": []
          },
          "execution_count": 13
        }
      ]
    },
    {
      "cell_type": "code",
      "metadata": {
        "id": "3-fbNdb1Dg-5",
        "colab_type": "code",
        "colab": {},
        "outputId": "90a27c1e-4dc9-4c05-a7b6-d57cda62293c"
      },
      "source": [
        "(prices[1] - prices[0])/prices[0] # simple return"
      ],
      "execution_count": 0,
      "outputs": [
        {
          "output_type": "execute_result",
          "data": {
            "text/plain": [
              "0.044444444444444446"
            ]
          },
          "metadata": {
            "tags": []
          },
          "execution_count": 14
        }
      ]
    },
    {
      "cell_type": "code",
      "metadata": {
        "id": "kdO_hUCHDg_I",
        "colab_type": "code",
        "colab": {},
        "outputId": "8f682b1f-d59d-4b08-8f49-c95b607b7339"
      },
      "source": [
        "import math # import a package in Python\n",
        "math.log(prices[1]/prices[0]) # log returns"
      ],
      "execution_count": 0,
      "outputs": [
        {
          "output_type": "execute_result",
          "data": {
            "text/plain": [
              "0.04348511193973889"
            ]
          },
          "metadata": {
            "tags": []
          },
          "execution_count": 15
        }
      ]
    },
    {
      "cell_type": "markdown",
      "metadata": {
        "id": "0sLB57OsDg_W",
        "colab_type": "text"
      },
      "source": [
        "Above, we load a package `math` to python, and use the function `log` from this package to calculate natural log of a number. In python, we load a function `f` from a package `p` by following syntax: `p.f()`.\n",
        "\n",
        "Repeat this method, we can append returns to the `ret` list:"
      ]
    },
    {
      "cell_type": "code",
      "metadata": {
        "id": "gZTdA7GmDg_c",
        "colab_type": "code",
        "colab": {},
        "outputId": "2d2a1de9-e9bb-407d-ab98-e1d2aa57cef5"
      },
      "source": [
        "ret.append(math.log(prices[1]/prices[0]))\n",
        "ret.append(math.log(prices[2]/prices[1]))\n",
        "ret.append(math.log(prices[3]/prices[2]))\n",
        "ret.append(math.log(prices[4]/prices[3]))\n",
        "ret.append(math.log(prices[5]/prices[4]))\n",
        "ret.append(math.log(prices[6]/prices[5]))\n",
        "ret.append(math.log(prices[7]/prices[6]))\n",
        "ret.append(math.log(prices[8]/prices[7]))\n",
        "ret.append(math.log(prices[9]/prices[8]))\n",
        "ret"
      ],
      "execution_count": 0,
      "outputs": [
        {
          "output_type": "execute_result",
          "data": {
            "text/plain": [
              "[0.04348511193973889,\n",
              " 0.031416196233378914,\n",
              " -0.010362787035546547,\n",
              " -0.053488684950986236,\n",
              " -0.022223136784710235,\n",
              " 0.06524052186840094,\n",
              " 0.020834086902842053,\n",
              " 0.03045920748470844,\n",
              " 0.04879016416943204]"
            ]
          },
          "metadata": {
            "tags": []
          },
          "execution_count": 17
        }
      ]
    },
    {
      "cell_type": "markdown",
      "metadata": {
        "id": "m1GJNF59Dg_s",
        "colab_type": "text"
      },
      "source": [
        "# 2. Basic stats for univariate\n",
        "\n",
        "We can calculate some stats like mean, median, variance, standard deviation, ...\n",
        "We may require a new package/library `numpy`."
      ]
    },
    {
      "cell_type": "code",
      "metadata": {
        "id": "ZGFD8wGDDg_x",
        "colab_type": "code",
        "colab": {},
        "outputId": "1007dcbe-ae2b-450e-9ae8-0785754f999f"
      },
      "source": [
        "import numpy as np\n",
        "np.mean(ret)"
      ],
      "execution_count": 0,
      "outputs": [
        {
          "output_type": "execute_result",
          "data": {
            "text/plain": [
              "0.01712785331413981"
            ]
          },
          "metadata": {
            "tags": []
          },
          "execution_count": 20
        }
      ]
    },
    {
      "cell_type": "code",
      "metadata": {
        "id": "7NFr5aAwDhAD",
        "colab_type": "code",
        "colab": {},
        "outputId": "32929495-1f34-4d25-a17b-736eee6005e8"
      },
      "source": [
        "np.median(ret)"
      ],
      "execution_count": 0,
      "outputs": [
        {
          "output_type": "execute_result",
          "data": {
            "text/plain": [
              "0.03045920748470844"
            ]
          },
          "metadata": {
            "tags": []
          },
          "execution_count": 21
        }
      ]
    },
    {
      "cell_type": "code",
      "metadata": {
        "id": "DpxPW4tuDhAP",
        "colab_type": "code",
        "colab": {},
        "outputId": "1fac38a9-df36-4e32-cdec-857af3a94fc7"
      },
      "source": [
        "np.var(ret)"
      ],
      "execution_count": 0,
      "outputs": [
        {
          "output_type": "execute_result",
          "data": {
            "text/plain": [
              "0.0012998427784805112"
            ]
          },
          "metadata": {
            "tags": []
          },
          "execution_count": 22
        }
      ]
    },
    {
      "cell_type": "code",
      "metadata": {
        "id": "Epu_Ts0dDhAd",
        "colab_type": "code",
        "colab": {},
        "outputId": "54f06ce5-48c8-491a-fef4-087fd7d0d8ee"
      },
      "source": [
        "np.std(ret)"
      ],
      "execution_count": 0,
      "outputs": [
        {
          "output_type": "execute_result",
          "data": {
            "text/plain": [
              "0.036053332418522856"
            ]
          },
          "metadata": {
            "tags": []
          },
          "execution_count": 23
        }
      ]
    },
    {
      "cell_type": "code",
      "metadata": {
        "id": "WVD75Ey6DhAs",
        "colab_type": "code",
        "colab": {}
      },
      "source": [
        ""
      ],
      "execution_count": 0,
      "outputs": []
    }
  ]
}