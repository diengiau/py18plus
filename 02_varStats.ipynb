{
  "nbformat": 4,
  "nbformat_minor": 0,
  "metadata": {
    "language_info": {
      "name": "python",
      "codemirror_mode": {
        "name": "ipython",
        "version": 3
      },
      "version": "3.7.3-final"
    },
    "orig_nbformat": 2,
    "file_extension": ".py",
    "mimetype": "text/x-python",
    "name": "python",
    "npconvert_exporter": "python",
    "pygments_lexer": "ipython3",
    "version": 3,
    "kernelspec": {
      "name": "python37364bituservirtualenv4ac141b7ffc148cbb06838cd1cd2b7fd",
      "display_name": "Python 3.7.3 64-bit ('User': virtualenv)"
    },
    "colab": {
      "name": "02_varStats.ipynb",
      "provenance": [],
      "toc_visible": true,
      "include_colab_link": true
    }
  },
  "cells": [
    {
      "cell_type": "markdown",
      "metadata": {
        "id": "view-in-github",
        "colab_type": "text"
      },
      "source": [
        "<a href=\"https://colab.research.google.com/github/diengiau/py18plus/blob/master/02_varStats.ipynb\" target=\"_parent\"><img src=\"https://colab.research.google.com/assets/colab-badge.svg\" alt=\"Open In Colab\"/></a>"
      ]
    },
    {
      "cell_type": "markdown",
      "metadata": {
        "id": "gPjSfX77Dg7O",
        "colab_type": "text"
      },
      "source": [
        "# 1. Variable\n",
        "\n",
        "We often use a variable to store data and re-use it in a program. It is quite easy in Python:\n",
        "\n",
        "`variableName = value`\n",
        "\n",
        "For example:\n"
      ]
    },
    {
      "cell_type": "code",
      "metadata": {
        "id": "fwEcAtzmDg7X",
        "colab_type": "code",
        "colab": {
          "base_uri": "https://localhost:8080/",
          "height": 34
        },
        "outputId": "604f18e4-472e-40af-fafb-c517c28afc5a"
      },
      "source": [
        "x = 15\n",
        "4*x"
      ],
      "execution_count": 123,
      "outputs": [
        {
          "output_type": "execute_result",
          "data": {
            "text/plain": [
              "60"
            ]
          },
          "metadata": {
            "tags": []
          },
          "execution_count": 123
        }
      ]
    },
    {
      "cell_type": "code",
      "metadata": {
        "id": "_dMilMm9Dg7z",
        "colab_type": "code",
        "colab": {
          "base_uri": "https://localhost:8080/",
          "height": 34
        },
        "outputId": "7ea4536a-54b7-47a5-8324-435876ac053e"
      },
      "source": [
        "x**2"
      ],
      "execution_count": 124,
      "outputs": [
        {
          "output_type": "execute_result",
          "data": {
            "text/plain": [
              "225"
            ]
          },
          "metadata": {
            "tags": []
          },
          "execution_count": 124
        }
      ]
    },
    {
      "cell_type": "markdown",
      "metadata": {
        "id": "s8guxDNDDg8H",
        "colab_type": "text"
      },
      "source": [
        "A variable can be re-assigned another value:"
      ]
    },
    {
      "cell_type": "code",
      "metadata": {
        "id": "llLnepQCDg8N",
        "colab_type": "code",
        "colab": {
          "base_uri": "https://localhost:8080/",
          "height": 34
        },
        "outputId": "4b631a2c-f0b5-4a4c-b8d1-1aec19007fff"
      },
      "source": [
        "x = 20\n",
        "x"
      ],
      "execution_count": 125,
      "outputs": [
        {
          "output_type": "execute_result",
          "data": {
            "text/plain": [
              "20"
            ]
          },
          "metadata": {
            "tags": []
          },
          "execution_count": 125
        }
      ]
    },
    {
      "cell_type": "markdown",
      "metadata": {
        "id": "T-i_DvswDg8e",
        "colab_type": "text"
      },
      "source": [
        "We can create a variable to store all stock prices of a stock. So we should introduce a new definition: a list.\n",
        "A list is like a vector to store many individual value inside.\n",
        "\n",
        "List = \\[value1, value2, ...\\]"
      ]
    },
    {
      "cell_type": "code",
      "metadata": {
        "id": "ySGL3fKzDg8j",
        "colab_type": "code",
        "colab": {}
      },
      "source": [
        "prices = [90, 94, 97, 96, 91, 89, 95, 97, 100, 105]"
      ],
      "execution_count": 0,
      "outputs": []
    },
    {
      "cell_type": "code",
      "metadata": {
        "id": "gT5b80rbDg8_",
        "colab_type": "code",
        "colab": {
          "base_uri": "https://localhost:8080/",
          "height": 34
        },
        "outputId": "6f61dfff-bb12-4a6c-998b-96042163fde2"
      },
      "source": [
        "prices"
      ],
      "execution_count": 127,
      "outputs": [
        {
          "output_type": "execute_result",
          "data": {
            "text/plain": [
              "[90, 94, 97, 96, 91, 89, 95, 97, 100, 105]"
            ]
          },
          "metadata": {
            "tags": []
          },
          "execution_count": 127
        }
      ]
    },
    {
      "cell_type": "code",
      "metadata": {
        "id": "6wy5GnhZDg9S",
        "colab_type": "code",
        "colab": {
          "base_uri": "https://localhost:8080/",
          "height": 34
        },
        "outputId": "afb655ba-2d4c-48de-c2d1-e1fe645b4139"
      },
      "source": [
        "len(prices)"
      ],
      "execution_count": 128,
      "outputs": [
        {
          "output_type": "execute_result",
          "data": {
            "text/plain": [
              "10"
            ]
          },
          "metadata": {
            "tags": []
          },
          "execution_count": 128
        }
      ]
    },
    {
      "cell_type": "code",
      "metadata": {
        "id": "GZOWh0t6Dg9k",
        "colab_type": "code",
        "colab": {
          "base_uri": "https://localhost:8080/",
          "height": 34
        },
        "outputId": "0cc4db38-a5eb-4a9b-f53c-d858a70ac77b"
      },
      "source": [
        "prices[0]"
      ],
      "execution_count": 129,
      "outputs": [
        {
          "output_type": "execute_result",
          "data": {
            "text/plain": [
              "90"
            ]
          },
          "metadata": {
            "tags": []
          },
          "execution_count": 129
        }
      ]
    },
    {
      "cell_type": "code",
      "metadata": {
        "id": "W7WY4ag_Dg90",
        "colab_type": "code",
        "colab": {
          "base_uri": "https://localhost:8080/",
          "height": 34
        },
        "outputId": "f658d455-7daa-4bce-8a0a-be42807da37c"
      },
      "source": [
        "prices[1]"
      ],
      "execution_count": 130,
      "outputs": [
        {
          "output_type": "execute_result",
          "data": {
            "text/plain": [
              "94"
            ]
          },
          "metadata": {
            "tags": []
          },
          "execution_count": 130
        }
      ]
    },
    {
      "cell_type": "code",
      "metadata": {
        "id": "nHeUFcAoDg-F",
        "colab_type": "code",
        "colab": {
          "base_uri": "https://localhost:8080/",
          "height": 34
        },
        "outputId": "10d37656-bd07-41d8-d96b-4f5c0eb3586e"
      },
      "source": [
        "prices[9]"
      ],
      "execution_count": 131,
      "outputs": [
        {
          "output_type": "execute_result",
          "data": {
            "text/plain": [
              "105"
            ]
          },
          "metadata": {
            "tags": []
          },
          "execution_count": 131
        }
      ]
    },
    {
      "cell_type": "code",
      "metadata": {
        "id": "wSgISgC8Dg-Z",
        "colab_type": "code",
        "colab": {}
      },
      "source": [
        "# prices[10] # Index Error: we only have 10 elements in list, so the maximum index should be 9"
      ],
      "execution_count": 0,
      "outputs": []
    },
    {
      "cell_type": "markdown",
      "metadata": {
        "id": "EUc2hfRZDg-n",
        "colab_type": "text"
      },
      "source": [
        "The next problem is how to calculate stock returns?"
      ]
    },
    {
      "cell_type": "code",
      "metadata": {
        "id": "0BwVrgZ4Dg-r",
        "colab_type": "code",
        "colab": {
          "base_uri": "https://localhost:8080/",
          "height": 34
        },
        "outputId": "7ac0a0dc-8c50-48b6-eeb1-438423fe336d"
      },
      "source": [
        "ret = []\n",
        "ret"
      ],
      "execution_count": 133,
      "outputs": [
        {
          "output_type": "execute_result",
          "data": {
            "text/plain": [
              "[]"
            ]
          },
          "metadata": {
            "tags": []
          },
          "execution_count": 133
        }
      ]
    },
    {
      "cell_type": "code",
      "metadata": {
        "id": "3-fbNdb1Dg-5",
        "colab_type": "code",
        "colab": {
          "base_uri": "https://localhost:8080/",
          "height": 34
        },
        "outputId": "30c59a04-69c0-45a7-c4bd-54c75f345942"
      },
      "source": [
        "(prices[1] - prices[0])/prices[0] # simple return"
      ],
      "execution_count": 134,
      "outputs": [
        {
          "output_type": "execute_result",
          "data": {
            "text/plain": [
              "0.044444444444444446"
            ]
          },
          "metadata": {
            "tags": []
          },
          "execution_count": 134
        }
      ]
    },
    {
      "cell_type": "code",
      "metadata": {
        "id": "kdO_hUCHDg_I",
        "colab_type": "code",
        "colab": {
          "base_uri": "https://localhost:8080/",
          "height": 34
        },
        "outputId": "3b90d4d8-24bf-4d75-85f4-856b0ad605c9"
      },
      "source": [
        "import math # import a package in Python\n",
        "math.log(prices[1]/prices[0]) # log returns"
      ],
      "execution_count": 135,
      "outputs": [
        {
          "output_type": "execute_result",
          "data": {
            "text/plain": [
              "0.04348511193973889"
            ]
          },
          "metadata": {
            "tags": []
          },
          "execution_count": 135
        }
      ]
    },
    {
      "cell_type": "markdown",
      "metadata": {
        "id": "0sLB57OsDg_W",
        "colab_type": "text"
      },
      "source": [
        "Above, we load a package `math` to python, and use the function `log` from this package to calculate natural log of a number. In python, we load a function `f` from a package `p` by following syntax: `p.f()`.\n",
        "\n",
        "Repeat this method, we can append returns to the `ret` list:"
      ]
    },
    {
      "cell_type": "code",
      "metadata": {
        "id": "gZTdA7GmDg_c",
        "colab_type": "code",
        "colab": {
          "base_uri": "https://localhost:8080/",
          "height": 168
        },
        "outputId": "73bef094-530f-4409-a06f-8b0f10d4ecd4"
      },
      "source": [
        "ret.append(math.log(prices[1]/prices[0]))\n",
        "ret.append(math.log(prices[2]/prices[1]))\n",
        "ret.append(math.log(prices[3]/prices[2]))\n",
        "ret.append(math.log(prices[4]/prices[3]))\n",
        "ret.append(math.log(prices[5]/prices[4]))\n",
        "ret.append(math.log(prices[6]/prices[5]))\n",
        "ret.append(math.log(prices[7]/prices[6]))\n",
        "ret.append(math.log(prices[8]/prices[7]))\n",
        "ret.append(math.log(prices[9]/prices[8]))\n",
        "ret"
      ],
      "execution_count": 136,
      "outputs": [
        {
          "output_type": "execute_result",
          "data": {
            "text/plain": [
              "[0.04348511193973889,\n",
              " 0.031416196233378914,\n",
              " -0.010362787035546547,\n",
              " -0.053488684950986236,\n",
              " -0.022223136784710235,\n",
              " 0.06524052186840094,\n",
              " 0.020834086902842053,\n",
              " 0.03045920748470844,\n",
              " 0.04879016416943205]"
            ]
          },
          "metadata": {
            "tags": []
          },
          "execution_count": 136
        }
      ]
    },
    {
      "cell_type": "markdown",
      "metadata": {
        "id": "m1GJNF59Dg_s",
        "colab_type": "text"
      },
      "source": [
        "# 2. Basic stats and operations for univariate\n",
        "\n",
        "We can calculate some stats like mean, median, variance, standard deviation, ...\n",
        "We may require a new package/library `numpy`."
      ]
    },
    {
      "cell_type": "code",
      "metadata": {
        "id": "ZGFD8wGDDg_x",
        "colab_type": "code",
        "colab": {
          "base_uri": "https://localhost:8080/",
          "height": 34
        },
        "outputId": "f43ab7b9-fca8-44d8-e47e-166d8e3c8fc7"
      },
      "source": [
        "import numpy as np\n",
        "np.mean(ret)"
      ],
      "execution_count": 137,
      "outputs": [
        {
          "output_type": "execute_result",
          "data": {
            "text/plain": [
              "0.01712785331413981"
            ]
          },
          "metadata": {
            "tags": []
          },
          "execution_count": 137
        }
      ]
    },
    {
      "cell_type": "code",
      "metadata": {
        "id": "7NFr5aAwDhAD",
        "colab_type": "code",
        "colab": {
          "base_uri": "https://localhost:8080/",
          "height": 34
        },
        "outputId": "f2ca7c31-b45f-4e22-d64e-ed995860df47"
      },
      "source": [
        "np.median(ret)"
      ],
      "execution_count": 138,
      "outputs": [
        {
          "output_type": "execute_result",
          "data": {
            "text/plain": [
              "0.03045920748470844"
            ]
          },
          "metadata": {
            "tags": []
          },
          "execution_count": 138
        }
      ]
    },
    {
      "cell_type": "code",
      "metadata": {
        "id": "DpxPW4tuDhAP",
        "colab_type": "code",
        "colab": {
          "base_uri": "https://localhost:8080/",
          "height": 34
        },
        "outputId": "66aeca7e-3a4b-43a3-a631-70e11ff04934"
      },
      "source": [
        "np.var(ret)"
      ],
      "execution_count": 139,
      "outputs": [
        {
          "output_type": "execute_result",
          "data": {
            "text/plain": [
              "0.0012998427784805112"
            ]
          },
          "metadata": {
            "tags": []
          },
          "execution_count": 139
        }
      ]
    },
    {
      "cell_type": "code",
      "metadata": {
        "id": "Epu_Ts0dDhAd",
        "colab_type": "code",
        "colab": {
          "base_uri": "https://localhost:8080/",
          "height": 34
        },
        "outputId": "1271d303-084a-4595-97e6-41655b803be8"
      },
      "source": [
        "np.std(ret)"
      ],
      "execution_count": 140,
      "outputs": [
        {
          "output_type": "execute_result",
          "data": {
            "text/plain": [
              "0.036053332418522856"
            ]
          },
          "metadata": {
            "tags": []
          },
          "execution_count": 140
        }
      ]
    },
    {
      "cell_type": "code",
      "metadata": {
        "id": "TEccGVmnPxex",
        "colab_type": "code",
        "colab": {
          "base_uri": "https://localhost:8080/",
          "height": 34
        },
        "outputId": "6b23f70e-48cd-4c72-dec3-bc1134b62b3b"
      },
      "source": [
        "np.sum(ret)"
      ],
      "execution_count": 141,
      "outputs": [
        {
          "output_type": "execute_result",
          "data": {
            "text/plain": [
              "0.15415067982725827"
            ]
          },
          "metadata": {
            "tags": []
          },
          "execution_count": 141
        }
      ]
    },
    {
      "cell_type": "code",
      "metadata": {
        "id": "_0n378sQSPck",
        "colab_type": "code",
        "colab": {
          "base_uri": "https://localhost:8080/",
          "height": 34
        },
        "outputId": "5f095957-02c0-43ed-8523-e8d1a1c020ce"
      },
      "source": [
        "np.min(ret)"
      ],
      "execution_count": 142,
      "outputs": [
        {
          "output_type": "execute_result",
          "data": {
            "text/plain": [
              "-0.053488684950986236"
            ]
          },
          "metadata": {
            "tags": []
          },
          "execution_count": 142
        }
      ]
    },
    {
      "cell_type": "code",
      "metadata": {
        "id": "ehBUIfwFSRl4",
        "colab_type": "code",
        "colab": {
          "base_uri": "https://localhost:8080/",
          "height": 34
        },
        "outputId": "1a70736b-1f4a-4092-ae39-caa5339bb797"
      },
      "source": [
        "np.max(ret)"
      ],
      "execution_count": 143,
      "outputs": [
        {
          "output_type": "execute_result",
          "data": {
            "text/plain": [
              "0.06524052186840094"
            ]
          },
          "metadata": {
            "tags": []
          },
          "execution_count": 143
        }
      ]
    },
    {
      "cell_type": "markdown",
      "metadata": {
        "id": "ZSc-94Y_L-7f",
        "colab_type": "text"
      },
      "source": [
        "Some important math operations also use `numpy` functions such as exponential or square root:"
      ]
    },
    {
      "cell_type": "code",
      "metadata": {
        "id": "WVD75Ey6DhAs",
        "colab_type": "code",
        "colab": {
          "base_uri": "https://localhost:8080/",
          "height": 34
        },
        "outputId": "3635ec8d-5423-4ea3-e41c-d8d57d192b42"
      },
      "source": [
        "np.exp(2) # exponential"
      ],
      "execution_count": 144,
      "outputs": [
        {
          "output_type": "execute_result",
          "data": {
            "text/plain": [
              "7.38905609893065"
            ]
          },
          "metadata": {
            "tags": []
          },
          "execution_count": 144
        }
      ]
    },
    {
      "cell_type": "code",
      "metadata": {
        "id": "fUbR_fsbMOJu",
        "colab_type": "code",
        "colab": {
          "base_uri": "https://localhost:8080/",
          "height": 34
        },
        "outputId": "10c8bd92-f09c-45ed-942b-58c2349e5d87"
      },
      "source": [
        "np.sqrt(81) # same as 81**0.5"
      ],
      "execution_count": 145,
      "outputs": [
        {
          "output_type": "execute_result",
          "data": {
            "text/plain": [
              "9.0"
            ]
          },
          "metadata": {
            "tags": []
          },
          "execution_count": 145
        }
      ]
    },
    {
      "cell_type": "code",
      "metadata": {
        "id": "_u1hZVU_MQbq",
        "colab_type": "code",
        "colab": {
          "base_uri": "https://localhost:8080/",
          "height": 34
        },
        "outputId": "c6374aa0-2b71-4ab2-8d22-22fb7c082d0a"
      },
      "source": [
        "np.log(100)"
      ],
      "execution_count": 146,
      "outputs": [
        {
          "output_type": "execute_result",
          "data": {
            "text/plain": [
              "4.605170185988092"
            ]
          },
          "metadata": {
            "tags": []
          },
          "execution_count": 146
        }
      ]
    },
    {
      "cell_type": "code",
      "metadata": {
        "id": "X_tPtXl5NVTA",
        "colab_type": "code",
        "colab": {
          "base_uri": "https://localhost:8080/",
          "height": 34
        },
        "outputId": "ed095ca2-b754-485f-ed33-a41187e2bbdb"
      },
      "source": [
        "np.log10(100)"
      ],
      "execution_count": 147,
      "outputs": [
        {
          "output_type": "execute_result",
          "data": {
            "text/plain": [
              "2.0"
            ]
          },
          "metadata": {
            "tags": []
          },
          "execution_count": 147
        }
      ]
    },
    {
      "cell_type": "code",
      "metadata": {
        "id": "u17oS7GSNNW9",
        "colab_type": "code",
        "colab": {
          "base_uri": "https://localhost:8080/",
          "height": 34
        },
        "outputId": "e2b5b9d8-4f8b-4aa7-df4c-d606de765b20"
      },
      "source": [
        "np.abs(-90)"
      ],
      "execution_count": 148,
      "outputs": [
        {
          "output_type": "execute_result",
          "data": {
            "text/plain": [
              "90"
            ]
          },
          "metadata": {
            "tags": []
          },
          "execution_count": 148
        }
      ]
    },
    {
      "cell_type": "code",
      "metadata": {
        "id": "qF_N4GVKNSxo",
        "colab_type": "code",
        "colab": {
          "base_uri": "https://localhost:8080/",
          "height": 34
        },
        "outputId": "f309fc9b-74d5-43ab-d37a-d2984337992d"
      },
      "source": [
        "np.floor(20.9), np.ceil(20.9)"
      ],
      "execution_count": 149,
      "outputs": [
        {
          "output_type": "execute_result",
          "data": {
            "text/plain": [
              "(20.0, 21.0)"
            ]
          },
          "metadata": {
            "tags": []
          },
          "execution_count": 149
        }
      ]
    },
    {
      "cell_type": "code",
      "metadata": {
        "id": "wdP-pwFVR0ou",
        "colab_type": "code",
        "colab": {
          "base_uri": "https://localhost:8080/",
          "height": 67
        },
        "outputId": "e87db02a-a3b1-4d18-9b59-b6364aa3fd69"
      },
      "source": [
        "np.cumprod(ret)"
      ],
      "execution_count": 150,
      "outputs": [
        {
          "output_type": "execute_result",
          "data": {
            "text/plain": [
              "array([ 4.34851119e-02,  1.36613681e-03, -1.41569848e-05,  7.57238501e-07,\n",
              "       -1.68282148e-08, -1.09788151e-09, -2.28733589e-11, -6.96704384e-13,\n",
              "       -3.39923213e-14])"
            ]
          },
          "metadata": {
            "tags": []
          },
          "execution_count": 150
        }
      ]
    },
    {
      "cell_type": "markdown",
      "metadata": {
        "id": "sMrYCl9zEB5a",
        "colab_type": "text"
      },
      "source": [
        "# 3. Two variables\n",
        "\n",
        "First, we can create two randon variables, each contain 100 values.\n"
      ]
    },
    {
      "cell_type": "code",
      "metadata": {
        "id": "EpIRMz9-EJtZ",
        "colab_type": "code",
        "colab": {}
      },
      "source": [
        "np.random.seed(42)\n",
        "x = np.random.randn(100) # 100 observation\n",
        "e = np.random.uniform(low=0,high=1,size=100)\n",
        "y = 0.2*x + e"
      ],
      "execution_count": 0,
      "outputs": []
    },
    {
      "cell_type": "code",
      "metadata": {
        "id": "9Tb4eK9YJ1E9",
        "colab_type": "code",
        "colab": {
          "base_uri": "https://localhost:8080/",
          "height": 84
        },
        "outputId": "d4c0c96c-6644-4bcf-c690-62c0605e2023"
      },
      "source": [
        "x[:10], y[:10] # ten obs only"
      ],
      "execution_count": 152,
      "outputs": [
        {
          "output_type": "execute_result",
          "data": {
            "text/plain": [
              "(array([ 0.49671415, -0.1382643 ,  0.64768854,  1.52302986, -0.23415337,\n",
              "        -0.23413696,  1.57921282,  0.76743473, -0.46947439,  0.54256004]),\n",
              " array([0.51675383, 0.19445495, 0.24940307, 0.64222114, 0.89607903,\n",
              "        0.27637554, 0.83463318, 0.8565059 , 0.26973473, 1.08029409]))"
            ]
          },
          "metadata": {
            "tags": []
          },
          "execution_count": 152
        }
      ]
    },
    {
      "cell_type": "code",
      "metadata": {
        "id": "-sfv7NoEKhJi",
        "colab_type": "code",
        "colab": {
          "base_uri": "https://localhost:8080/",
          "height": 34
        },
        "outputId": "c5f1dcfb-8caf-4c13-8b1c-0039bdd2e7f6"
      },
      "source": [
        "x.shape, y.shape"
      ],
      "execution_count": 153,
      "outputs": [
        {
          "output_type": "execute_result",
          "data": {
            "text/plain": [
              "((100,), (100,))"
            ]
          },
          "metadata": {
            "tags": []
          },
          "execution_count": 153
        }
      ]
    },
    {
      "cell_type": "code",
      "metadata": {
        "id": "XsdQTPiWKh9l",
        "colab_type": "code",
        "colab": {
          "base_uri": "https://localhost:8080/",
          "height": 34
        },
        "outputId": "c1829cad-c508-42f8-cbfb-b133773fffb5"
      },
      "source": [
        "x.dtype, y.dtype"
      ],
      "execution_count": 154,
      "outputs": [
        {
          "output_type": "execute_result",
          "data": {
            "text/plain": [
              "(dtype('float64'), dtype('float64'))"
            ]
          },
          "metadata": {
            "tags": []
          },
          "execution_count": 154
        }
      ]
    },
    {
      "cell_type": "markdown",
      "metadata": {
        "id": "eMF9UMl43ORD",
        "colab_type": "text"
      },
      "source": [
        "## Binary Operations"
      ]
    },
    {
      "cell_type": "markdown",
      "metadata": {
        "id": "Fp4HduJ1No1B",
        "colab_type": "text"
      },
      "source": [
        "Some binary operations between two variables:"
      ]
    },
    {
      "cell_type": "code",
      "metadata": {
        "id": "mVJZo-gbK1D6",
        "colab_type": "code",
        "colab": {
          "base_uri": "https://localhost:8080/",
          "height": 50
        },
        "outputId": "a764a22d-6f6d-4b1f-b620-4fec8525c402"
      },
      "source": [
        "np.add(x, y)[:10]"
      ],
      "execution_count": 155,
      "outputs": [
        {
          "output_type": "execute_result",
          "data": {
            "text/plain": [
              "array([ 1.01346799,  0.05619065,  0.89709161,  2.165251  ,  0.66192565,\n",
              "        0.04223858,  2.413846  ,  1.62394063, -0.19973966,  1.62285414])"
            ]
          },
          "metadata": {
            "tags": []
          },
          "execution_count": 155
        }
      ]
    },
    {
      "cell_type": "code",
      "metadata": {
        "id": "zdVIq5YIN0IP",
        "colab_type": "code",
        "colab": {
          "base_uri": "https://localhost:8080/",
          "height": 50
        },
        "outputId": "a9ce469a-ed5b-470a-a726-43543f38af4d"
      },
      "source": [
        "np.subtract(x, y)[:10]"
      ],
      "execution_count": 156,
      "outputs": [
        {
          "output_type": "execute_result",
          "data": {
            "text/plain": [
              "array([-0.02003968, -0.33271925,  0.39828546,  0.88080871, -1.1302324 ,\n",
              "       -0.5105125 ,  0.74457963, -0.08907118, -0.73920911, -0.53773405])"
            ]
          },
          "metadata": {
            "tags": []
          },
          "execution_count": 156
        }
      ]
    },
    {
      "cell_type": "code",
      "metadata": {
        "id": "RM1YQLcKN6zU",
        "colab_type": "code",
        "colab": {
          "base_uri": "https://localhost:8080/",
          "height": 50
        },
        "outputId": "b78828bc-d937-4b1a-91cb-f5b361d40f11"
      },
      "source": [
        "np.multiply(x, y)[:10]"
      ],
      "execution_count": 157,
      "outputs": [
        {
          "output_type": "execute_result",
          "data": {
            "text/plain": [
              "array([ 0.25667894, -0.02688618,  0.16153551,  0.97812197, -0.20981993,\n",
              "       -0.06470973,  1.31806342,  0.65731238, -0.12663354,  0.58612441])"
            ]
          },
          "metadata": {
            "tags": []
          },
          "execution_count": 157
        }
      ]
    },
    {
      "cell_type": "code",
      "metadata": {
        "id": "7nAtXE-9N_eM",
        "colab_type": "code",
        "colab": {
          "base_uri": "https://localhost:8080/",
          "height": 50
        },
        "outputId": "0d884115-152c-4616-b495-45eb371bddcc"
      },
      "source": [
        "np.divide(x, y)[:10]"
      ],
      "execution_count": 158,
      "outputs": [
        {
          "output_type": "execute_result",
          "data": {
            "text/plain": [
              "array([ 0.96122006, -0.71103513,  2.5969549 ,  2.37150376, -0.26130884,\n",
              "       -0.8471696 ,  1.89210403,  0.89600635, -1.74050407,  0.50223365])"
            ]
          },
          "metadata": {
            "tags": []
          },
          "execution_count": 158
        }
      ]
    },
    {
      "cell_type": "code",
      "metadata": {
        "id": "4KL-MztGOBgn",
        "colab_type": "code",
        "colab": {
          "base_uri": "https://localhost:8080/",
          "height": 50
        },
        "outputId": "9aa5f3b0-beec-45df-f20c-de63a391d667"
      },
      "source": [
        "np.greater(x, y)[:10]"
      ],
      "execution_count": 159,
      "outputs": [
        {
          "output_type": "execute_result",
          "data": {
            "text/plain": [
              "array([False, False,  True,  True, False, False,  True, False, False,\n",
              "       False])"
            ]
          },
          "metadata": {
            "tags": []
          },
          "execution_count": 159
        }
      ]
    },
    {
      "cell_type": "markdown",
      "metadata": {
        "id": "EUGdEDVm3S2j",
        "colab_type": "text"
      },
      "source": [
        "## Correlation between two variables"
      ]
    },
    {
      "cell_type": "code",
      "metadata": {
        "id": "MwmmWJZYORzW",
        "colab_type": "code",
        "colab": {
          "base_uri": "https://localhost:8080/",
          "height": 50
        },
        "outputId": "77186f9c-4323-4fc0-8952-50f28ca6ba04"
      },
      "source": [
        "np.corrcoef(x, y)"
      ],
      "execution_count": 160,
      "outputs": [
        {
          "output_type": "execute_result",
          "data": {
            "text/plain": [
              "array([[1.        , 0.60845792],\n",
              "       [0.60845792, 1.        ]])"
            ]
          },
          "metadata": {
            "tags": []
          },
          "execution_count": 160
        }
      ]
    },
    {
      "cell_type": "markdown",
      "metadata": {
        "id": "4hhnQ-oF3xhU",
        "colab_type": "text"
      },
      "source": [
        "Very highly correlated, up to 0.6."
      ]
    },
    {
      "cell_type": "code",
      "metadata": {
        "id": "5KQzt50v3fOU",
        "colab_type": "code",
        "colab": {}
      },
      "source": [
        ""
      ],
      "execution_count": 0,
      "outputs": []
    }
  ]
}