{
  "nbformat": 4,
  "nbformat_minor": 0,
  "metadata": {
    "colab": {
      "name": "03_plotRegression_revised.ipynb",
      "provenance": [],
      "collapsed_sections": [],
      "toc_visible": true,
      "authorship_tag": "ABX9TyPCpdImbewYuou9vKSnpxh/",
      "include_colab_link": true
    },
    "kernelspec": {
      "name": "python3",
      "display_name": "Python 3"
    }
  },
  "cells": [
    {
      "cell_type": "markdown",
      "metadata": {
        "id": "view-in-github",
        "colab_type": "text"
      },
      "source": [
        "<a href=\"https://colab.research.google.com/github/diengiau/py18plus/blob/master/03_plotRegression.ipynb\" target=\"_parent\"><img src=\"https://colab.research.google.com/assets/colab-badge.svg\" alt=\"Open In Colab\"/></a>"
      ]
    },
    {
      "cell_type": "code",
      "metadata": {
        "id": "R-2gDOEl4apO",
        "colab_type": "code",
        "colab": {}
      },
      "source": [
        "from pandas_datareader import data\n",
        "import pandas as pd\n",
        "import numpy as np\n",
        "import matplotlib.pyplot as plt\n",
        "%matplotlib inline\n",
        "#plt.style.use('ggplot')"
      ],
      "execution_count": 0,
      "outputs": []
    },
    {
      "cell_type": "markdown",
      "metadata": {
        "id": "bp5hldJC4tc5",
        "colab_type": "text"
      },
      "source": [
        "# 1. Download stock data\n",
        "\n",
        "One public source of stock data is from Yahoo Finance. We can use `pandas` package to download data. Now, we need Apple Inc. and Russell 2000 daily close price.\n",
        "\n",
        "First, visit the Yahoo Finance to find out the ticker:\n",
        "- Apple: [AAPL](https://finance.yahoo.com/quote/AAPL?p=AAPL&.tsrc=fin-srch)\n",
        "- Russel 2000: [^RUT](https://finance.yahoo.com/quote/%5ERUT?p=^RUT)\n"
      ]
    },
    {
      "cell_type": "code",
      "metadata": {
        "id": "V8DFHnD75Gmj",
        "colab_type": "code",
        "colab": {}
      },
      "source": [
        "AAPL = data.DataReader(\"AAPL\", start='2019-1-1', end='2019-12-31', data_source='yahoo')\n",
        "RUT = data.DataReader(\"^RUT\", start='2019-1-1', end='2019-12-31', data_source='yahoo')"
      ],
      "execution_count": 0,
      "outputs": []
    },
    {
      "cell_type": "code",
      "metadata": {
        "id": "Knkx8wBA5xhZ",
        "colab_type": "code",
        "outputId": "06bb61c9-9d9e-40ff-b208-10b3d3c2bf02",
        "colab": {
          "base_uri": "https://localhost:8080/",
          "height": 35
        }
      },
      "source": [
        "type(AAPL), type(RUT)"
      ],
      "execution_count": 0,
      "outputs": [
        {
          "output_type": "execute_result",
          "data": {
            "text/plain": [
              "(pandas.core.frame.DataFrame, pandas.core.frame.DataFrame)"
            ]
          },
          "metadata": {
            "tags": []
          },
          "execution_count": 3
        }
      ]
    },
    {
      "cell_type": "markdown",
      "metadata": {
        "id": "TktMY8kP6bYV",
        "colab_type": "text"
      },
      "source": [
        "We come to a new data type: a dataframe, which include:\n",
        "\n",
        "- columns: each column is a variable\n",
        "- rows: each row is one observation, e.g., one date's data"
      ]
    },
    {
      "cell_type": "code",
      "metadata": {
        "id": "wVMG-MSw51K0",
        "colab_type": "code",
        "outputId": "d0b1d3a4-aad4-4ca9-fb9a-146069132fc2",
        "colab": {
          "base_uri": "https://localhost:8080/",
          "height": 228
        }
      },
      "source": [
        "AAPL.head()"
      ],
      "execution_count": 0,
      "outputs": [
        {
          "output_type": "execute_result",
          "data": {
            "text/html": [
              "<div>\n",
              "<style scoped>\n",
              "    .dataframe tbody tr th:only-of-type {\n",
              "        vertical-align: middle;\n",
              "    }\n",
              "\n",
              "    .dataframe tbody tr th {\n",
              "        vertical-align: top;\n",
              "    }\n",
              "\n",
              "    .dataframe thead th {\n",
              "        text-align: right;\n",
              "    }\n",
              "</style>\n",
              "<table border=\"1\" class=\"dataframe\">\n",
              "  <thead>\n",
              "    <tr style=\"text-align: right;\">\n",
              "      <th></th>\n",
              "      <th>High</th>\n",
              "      <th>Low</th>\n",
              "      <th>Open</th>\n",
              "      <th>Close</th>\n",
              "      <th>Volume</th>\n",
              "      <th>Adj Close</th>\n",
              "    </tr>\n",
              "    <tr>\n",
              "      <th>Date</th>\n",
              "      <th></th>\n",
              "      <th></th>\n",
              "      <th></th>\n",
              "      <th></th>\n",
              "      <th></th>\n",
              "      <th></th>\n",
              "    </tr>\n",
              "  </thead>\n",
              "  <tbody>\n",
              "    <tr>\n",
              "      <th>2019-01-02</th>\n",
              "      <td>158.850006</td>\n",
              "      <td>154.229996</td>\n",
              "      <td>154.889999</td>\n",
              "      <td>157.919998</td>\n",
              "      <td>37039700.0</td>\n",
              "      <td>155.214005</td>\n",
              "    </tr>\n",
              "    <tr>\n",
              "      <th>2019-01-03</th>\n",
              "      <td>145.720001</td>\n",
              "      <td>142.000000</td>\n",
              "      <td>143.979996</td>\n",
              "      <td>142.190002</td>\n",
              "      <td>91312200.0</td>\n",
              "      <td>139.753540</td>\n",
              "    </tr>\n",
              "    <tr>\n",
              "      <th>2019-01-04</th>\n",
              "      <td>148.550003</td>\n",
              "      <td>143.800003</td>\n",
              "      <td>144.529999</td>\n",
              "      <td>148.259995</td>\n",
              "      <td>58607100.0</td>\n",
              "      <td>145.719513</td>\n",
              "    </tr>\n",
              "    <tr>\n",
              "      <th>2019-01-07</th>\n",
              "      <td>148.830002</td>\n",
              "      <td>145.899994</td>\n",
              "      <td>148.699997</td>\n",
              "      <td>147.929993</td>\n",
              "      <td>54777800.0</td>\n",
              "      <td>145.395203</td>\n",
              "    </tr>\n",
              "    <tr>\n",
              "      <th>2019-01-08</th>\n",
              "      <td>151.820007</td>\n",
              "      <td>148.520004</td>\n",
              "      <td>149.559998</td>\n",
              "      <td>150.750000</td>\n",
              "      <td>41025300.0</td>\n",
              "      <td>148.166870</td>\n",
              "    </tr>\n",
              "  </tbody>\n",
              "</table>\n",
              "</div>"
            ],
            "text/plain": [
              "                  High         Low  ...      Volume   Adj Close\n",
              "Date                                ...                        \n",
              "2019-01-02  158.850006  154.229996  ...  37039700.0  155.214005\n",
              "2019-01-03  145.720001  142.000000  ...  91312200.0  139.753540\n",
              "2019-01-04  148.550003  143.800003  ...  58607100.0  145.719513\n",
              "2019-01-07  148.830002  145.899994  ...  54777800.0  145.395203\n",
              "2019-01-08  151.820007  148.520004  ...  41025300.0  148.166870\n",
              "\n",
              "[5 rows x 6 columns]"
            ]
          },
          "metadata": {
            "tags": []
          },
          "execution_count": 4
        }
      ]
    },
    {
      "cell_type": "code",
      "metadata": {
        "id": "f-7lyX2757Oo",
        "colab_type": "code",
        "outputId": "75d0feef-85fb-450e-d6c9-5fafb22c2589",
        "colab": {
          "base_uri": "https://localhost:8080/",
          "height": 228
        }
      },
      "source": [
        "RUT.head()"
      ],
      "execution_count": 0,
      "outputs": [
        {
          "output_type": "execute_result",
          "data": {
            "text/html": [
              "<div>\n",
              "<style scoped>\n",
              "    .dataframe tbody tr th:only-of-type {\n",
              "        vertical-align: middle;\n",
              "    }\n",
              "\n",
              "    .dataframe tbody tr th {\n",
              "        vertical-align: top;\n",
              "    }\n",
              "\n",
              "    .dataframe thead th {\n",
              "        text-align: right;\n",
              "    }\n",
              "</style>\n",
              "<table border=\"1\" class=\"dataframe\">\n",
              "  <thead>\n",
              "    <tr style=\"text-align: right;\">\n",
              "      <th></th>\n",
              "      <th>High</th>\n",
              "      <th>Low</th>\n",
              "      <th>Open</th>\n",
              "      <th>Close</th>\n",
              "      <th>Volume</th>\n",
              "      <th>Adj Close</th>\n",
              "    </tr>\n",
              "    <tr>\n",
              "      <th>Date</th>\n",
              "      <th></th>\n",
              "      <th></th>\n",
              "      <th></th>\n",
              "      <th></th>\n",
              "      <th></th>\n",
              "      <th></th>\n",
              "    </tr>\n",
              "  </thead>\n",
              "  <tbody>\n",
              "    <tr>\n",
              "      <th>2019-01-02</th>\n",
              "      <td>1357.770020</td>\n",
              "      <td>1325.180054</td>\n",
              "      <td>1346.109985</td>\n",
              "      <td>1355.910034</td>\n",
              "      <td>37331600</td>\n",
              "      <td>1355.910034</td>\n",
              "    </tr>\n",
              "    <tr>\n",
              "      <th>2019-01-03</th>\n",
              "      <td>1355.020020</td>\n",
              "      <td>1328.000000</td>\n",
              "      <td>1355.020020</td>\n",
              "      <td>1330.829956</td>\n",
              "      <td>38228600</td>\n",
              "      <td>1330.829956</td>\n",
              "    </tr>\n",
              "    <tr>\n",
              "      <th>2019-01-04</th>\n",
              "      <td>1383.160034</td>\n",
              "      <td>1333.099976</td>\n",
              "      <td>1333.099976</td>\n",
              "      <td>1380.750000</td>\n",
              "      <td>42134100</td>\n",
              "      <td>1380.750000</td>\n",
              "    </tr>\n",
              "    <tr>\n",
              "      <th>2019-01-07</th>\n",
              "      <td>1411.900024</td>\n",
              "      <td>1380.839966</td>\n",
              "      <td>1380.839966</td>\n",
              "      <td>1405.369995</td>\n",
              "      <td>41047100</td>\n",
              "      <td>1405.369995</td>\n",
              "    </tr>\n",
              "    <tr>\n",
              "      <th>2019-01-08</th>\n",
              "      <td>1426.550049</td>\n",
              "      <td>1404.010010</td>\n",
              "      <td>1405.869995</td>\n",
              "      <td>1426.550049</td>\n",
              "      <td>40810300</td>\n",
              "      <td>1426.550049</td>\n",
              "    </tr>\n",
              "  </tbody>\n",
              "</table>\n",
              "</div>"
            ],
            "text/plain": [
              "                   High          Low  ...    Volume    Adj Close\n",
              "Date                                  ...                       \n",
              "2019-01-02  1357.770020  1325.180054  ...  37331600  1355.910034\n",
              "2019-01-03  1355.020020  1328.000000  ...  38228600  1330.829956\n",
              "2019-01-04  1383.160034  1333.099976  ...  42134100  1380.750000\n",
              "2019-01-07  1411.900024  1380.839966  ...  41047100  1405.369995\n",
              "2019-01-08  1426.550049  1404.010010  ...  40810300  1426.550049\n",
              "\n",
              "[5 rows x 6 columns]"
            ]
          },
          "metadata": {
            "tags": []
          },
          "execution_count": 5
        }
      ]
    },
    {
      "cell_type": "code",
      "metadata": {
        "id": "SYzyp24A6BzE",
        "colab_type": "code",
        "colab": {}
      },
      "source": [
        ""
      ],
      "execution_count": 0,
      "outputs": []
    },
    {
      "cell_type": "markdown",
      "metadata": {
        "id": "kw6NCt_N64UJ",
        "colab_type": "text"
      },
      "source": [
        "# 2. Calculate Returns"
      ]
    },
    {
      "cell_type": "code",
      "metadata": {
        "id": "vPgOpiuh4cJu",
        "colab_type": "code",
        "outputId": "7cb6c970-e1bb-4ac6-b249-45f8fb8cd3c5",
        "colab": {
          "base_uri": "https://localhost:8080/",
          "height": 245
        }
      },
      "source": [
        "AAPL['Close']"
      ],
      "execution_count": 0,
      "outputs": [
        {
          "output_type": "execute_result",
          "data": {
            "text/plain": [
              "Date\n",
              "2019-01-02    157.919998\n",
              "2019-01-03    142.190002\n",
              "2019-01-04    148.259995\n",
              "2019-01-07    147.929993\n",
              "2019-01-08    150.750000\n",
              "                 ...    \n",
              "2019-12-24    284.269989\n",
              "2019-12-26    289.910004\n",
              "2019-12-27    289.799988\n",
              "2019-12-30    291.519989\n",
              "2019-12-31    293.649994\n",
              "Name: Close, Length: 252, dtype: float64"
            ]
          },
          "metadata": {
            "tags": []
          },
          "execution_count": 6
        }
      ]
    },
    {
      "cell_type": "code",
      "metadata": {
        "id": "4RsvlgJG4cXD",
        "colab_type": "code",
        "outputId": "86ed7967-9504-4708-dee3-46d343b69f3d",
        "colab": {
          "base_uri": "https://localhost:8080/",
          "height": 245
        }
      },
      "source": [
        "AAPL['Close'].shift(1)"
      ],
      "execution_count": 0,
      "outputs": [
        {
          "output_type": "execute_result",
          "data": {
            "text/plain": [
              "Date\n",
              "2019-01-02           NaN\n",
              "2019-01-03    157.919998\n",
              "2019-01-04    142.190002\n",
              "2019-01-07    148.259995\n",
              "2019-01-08    147.929993\n",
              "                 ...    \n",
              "2019-12-24    284.000000\n",
              "2019-12-26    284.269989\n",
              "2019-12-27    289.910004\n",
              "2019-12-30    289.799988\n",
              "2019-12-31    291.519989\n",
              "Name: Close, Length: 252, dtype: float64"
            ]
          },
          "metadata": {
            "tags": []
          },
          "execution_count": 7
        }
      ]
    },
    {
      "cell_type": "code",
      "metadata": {
        "id": "Mz9dtz3Z5QEm",
        "colab_type": "code",
        "outputId": "189b33fe-40a6-4b10-a628-fe676e05dced",
        "colab": {
          "base_uri": "https://localhost:8080/",
          "height": 228
        }
      },
      "source": [
        "AAPL['logReturn'] = np.log(AAPL['Close'] / AAPL['Close'].shift(1)) # log return\n",
        "AAPL.head()"
      ],
      "execution_count": 0,
      "outputs": [
        {
          "output_type": "execute_result",
          "data": {
            "text/html": [
              "<div>\n",
              "<style scoped>\n",
              "    .dataframe tbody tr th:only-of-type {\n",
              "        vertical-align: middle;\n",
              "    }\n",
              "\n",
              "    .dataframe tbody tr th {\n",
              "        vertical-align: top;\n",
              "    }\n",
              "\n",
              "    .dataframe thead th {\n",
              "        text-align: right;\n",
              "    }\n",
              "</style>\n",
              "<table border=\"1\" class=\"dataframe\">\n",
              "  <thead>\n",
              "    <tr style=\"text-align: right;\">\n",
              "      <th></th>\n",
              "      <th>High</th>\n",
              "      <th>Low</th>\n",
              "      <th>Open</th>\n",
              "      <th>Close</th>\n",
              "      <th>Volume</th>\n",
              "      <th>Adj Close</th>\n",
              "      <th>logReturn</th>\n",
              "    </tr>\n",
              "    <tr>\n",
              "      <th>Date</th>\n",
              "      <th></th>\n",
              "      <th></th>\n",
              "      <th></th>\n",
              "      <th></th>\n",
              "      <th></th>\n",
              "      <th></th>\n",
              "      <th></th>\n",
              "    </tr>\n",
              "  </thead>\n",
              "  <tbody>\n",
              "    <tr>\n",
              "      <th>2019-01-02</th>\n",
              "      <td>158.850006</td>\n",
              "      <td>154.229996</td>\n",
              "      <td>154.889999</td>\n",
              "      <td>157.919998</td>\n",
              "      <td>37039700.0</td>\n",
              "      <td>155.214005</td>\n",
              "      <td>NaN</td>\n",
              "    </tr>\n",
              "    <tr>\n",
              "      <th>2019-01-03</th>\n",
              "      <td>145.720001</td>\n",
              "      <td>142.000000</td>\n",
              "      <td>143.979996</td>\n",
              "      <td>142.190002</td>\n",
              "      <td>91312200.0</td>\n",
              "      <td>139.753540</td>\n",
              "      <td>-0.104924</td>\n",
              "    </tr>\n",
              "    <tr>\n",
              "      <th>2019-01-04</th>\n",
              "      <td>148.550003</td>\n",
              "      <td>143.800003</td>\n",
              "      <td>144.529999</td>\n",
              "      <td>148.259995</td>\n",
              "      <td>58607100.0</td>\n",
              "      <td>145.719513</td>\n",
              "      <td>0.041803</td>\n",
              "    </tr>\n",
              "    <tr>\n",
              "      <th>2019-01-07</th>\n",
              "      <td>148.830002</td>\n",
              "      <td>145.899994</td>\n",
              "      <td>148.699997</td>\n",
              "      <td>147.929993</td>\n",
              "      <td>54777800.0</td>\n",
              "      <td>145.395203</td>\n",
              "      <td>-0.002228</td>\n",
              "    </tr>\n",
              "    <tr>\n",
              "      <th>2019-01-08</th>\n",
              "      <td>151.820007</td>\n",
              "      <td>148.520004</td>\n",
              "      <td>149.559998</td>\n",
              "      <td>150.750000</td>\n",
              "      <td>41025300.0</td>\n",
              "      <td>148.166870</td>\n",
              "      <td>0.018884</td>\n",
              "    </tr>\n",
              "  </tbody>\n",
              "</table>\n",
              "</div>"
            ],
            "text/plain": [
              "                  High         Low  ...   Adj Close  logReturn\n",
              "Date                                ...                       \n",
              "2019-01-02  158.850006  154.229996  ...  155.214005        NaN\n",
              "2019-01-03  145.720001  142.000000  ...  139.753540  -0.104924\n",
              "2019-01-04  148.550003  143.800003  ...  145.719513   0.041803\n",
              "2019-01-07  148.830002  145.899994  ...  145.395203  -0.002228\n",
              "2019-01-08  151.820007  148.520004  ...  148.166870   0.018884\n",
              "\n",
              "[5 rows x 7 columns]"
            ]
          },
          "metadata": {
            "tags": []
          },
          "execution_count": 8
        }
      ]
    },
    {
      "cell_type": "code",
      "metadata": {
        "id": "0Op5XB7C5f2D",
        "colab_type": "code",
        "outputId": "13042944-1cce-4462-f72a-9c8fc77b0548",
        "colab": {
          "base_uri": "https://localhost:8080/",
          "height": 245
        }
      },
      "source": [
        "(AAPL['Close'] - AAPL['Close'].shift(1))/AAPL['Close'].shift(1) # log return"
      ],
      "execution_count": 0,
      "outputs": [
        {
          "output_type": "execute_result",
          "data": {
            "text/plain": [
              "Date\n",
              "2019-01-02         NaN\n",
              "2019-01-03   -0.099607\n",
              "2019-01-04    0.042689\n",
              "2019-01-07   -0.002226\n",
              "2019-01-08    0.019063\n",
              "                ...   \n",
              "2019-12-24    0.000951\n",
              "2019-12-26    0.019840\n",
              "2019-12-27   -0.000379\n",
              "2019-12-30    0.005935\n",
              "2019-12-31    0.007307\n",
              "Name: Close, Length: 252, dtype: float64"
            ]
          },
          "metadata": {
            "tags": []
          },
          "execution_count": 9
        }
      ]
    },
    {
      "cell_type": "code",
      "metadata": {
        "id": "73oSmb2C68nB",
        "colab_type": "code",
        "outputId": "94101f4e-02c9-45e0-cf35-ad25aa238d42",
        "colab": {
          "base_uri": "https://localhost:8080/",
          "height": 228
        }
      },
      "source": [
        "AAPL['simpleReturn'] = AAPL['Close'].pct_change() # simple return\n",
        "AAPL['cumReturn'] = ((1 + AAPL['logReturn']).cumprod() - 1)\n",
        "AAPL.head()"
      ],
      "execution_count": 0,
      "outputs": [
        {
          "output_type": "execute_result",
          "data": {
            "text/html": [
              "<div>\n",
              "<style scoped>\n",
              "    .dataframe tbody tr th:only-of-type {\n",
              "        vertical-align: middle;\n",
              "    }\n",
              "\n",
              "    .dataframe tbody tr th {\n",
              "        vertical-align: top;\n",
              "    }\n",
              "\n",
              "    .dataframe thead th {\n",
              "        text-align: right;\n",
              "    }\n",
              "</style>\n",
              "<table border=\"1\" class=\"dataframe\">\n",
              "  <thead>\n",
              "    <tr style=\"text-align: right;\">\n",
              "      <th></th>\n",
              "      <th>High</th>\n",
              "      <th>Low</th>\n",
              "      <th>Open</th>\n",
              "      <th>Close</th>\n",
              "      <th>Volume</th>\n",
              "      <th>Adj Close</th>\n",
              "      <th>logReturn</th>\n",
              "      <th>simpleReturn</th>\n",
              "      <th>cumReturn</th>\n",
              "    </tr>\n",
              "    <tr>\n",
              "      <th>Date</th>\n",
              "      <th></th>\n",
              "      <th></th>\n",
              "      <th></th>\n",
              "      <th></th>\n",
              "      <th></th>\n",
              "      <th></th>\n",
              "      <th></th>\n",
              "      <th></th>\n",
              "      <th></th>\n",
              "    </tr>\n",
              "  </thead>\n",
              "  <tbody>\n",
              "    <tr>\n",
              "      <th>2019-01-02</th>\n",
              "      <td>158.850006</td>\n",
              "      <td>154.229996</td>\n",
              "      <td>154.889999</td>\n",
              "      <td>157.919998</td>\n",
              "      <td>37039700.0</td>\n",
              "      <td>155.214005</td>\n",
              "      <td>NaN</td>\n",
              "      <td>NaN</td>\n",
              "      <td>NaN</td>\n",
              "    </tr>\n",
              "    <tr>\n",
              "      <th>2019-01-03</th>\n",
              "      <td>145.720001</td>\n",
              "      <td>142.000000</td>\n",
              "      <td>143.979996</td>\n",
              "      <td>142.190002</td>\n",
              "      <td>91312200.0</td>\n",
              "      <td>139.753540</td>\n",
              "      <td>-0.104924</td>\n",
              "      <td>-0.099607</td>\n",
              "      <td>-0.104924</td>\n",
              "    </tr>\n",
              "    <tr>\n",
              "      <th>2019-01-04</th>\n",
              "      <td>148.550003</td>\n",
              "      <td>143.800003</td>\n",
              "      <td>144.529999</td>\n",
              "      <td>148.259995</td>\n",
              "      <td>58607100.0</td>\n",
              "      <td>145.719513</td>\n",
              "      <td>0.041803</td>\n",
              "      <td>0.042689</td>\n",
              "      <td>-0.067507</td>\n",
              "    </tr>\n",
              "    <tr>\n",
              "      <th>2019-01-07</th>\n",
              "      <td>148.830002</td>\n",
              "      <td>145.899994</td>\n",
              "      <td>148.699997</td>\n",
              "      <td>147.929993</td>\n",
              "      <td>54777800.0</td>\n",
              "      <td>145.395203</td>\n",
              "      <td>-0.002228</td>\n",
              "      <td>-0.002226</td>\n",
              "      <td>-0.069585</td>\n",
              "    </tr>\n",
              "    <tr>\n",
              "      <th>2019-01-08</th>\n",
              "      <td>151.820007</td>\n",
              "      <td>148.520004</td>\n",
              "      <td>149.559998</td>\n",
              "      <td>150.750000</td>\n",
              "      <td>41025300.0</td>\n",
              "      <td>148.166870</td>\n",
              "      <td>0.018884</td>\n",
              "      <td>0.019063</td>\n",
              "      <td>-0.052016</td>\n",
              "    </tr>\n",
              "  </tbody>\n",
              "</table>\n",
              "</div>"
            ],
            "text/plain": [
              "                  High         Low  ...  simpleReturn  cumReturn\n",
              "Date                                ...                         \n",
              "2019-01-02  158.850006  154.229996  ...           NaN        NaN\n",
              "2019-01-03  145.720001  142.000000  ...     -0.099607  -0.104924\n",
              "2019-01-04  148.550003  143.800003  ...      0.042689  -0.067507\n",
              "2019-01-07  148.830002  145.899994  ...     -0.002226  -0.069585\n",
              "2019-01-08  151.820007  148.520004  ...      0.019063  -0.052016\n",
              "\n",
              "[5 rows x 9 columns]"
            ]
          },
          "metadata": {
            "tags": []
          },
          "execution_count": 10
        }
      ]
    },
    {
      "cell_type": "markdown",
      "metadata": {
        "id": "0HDuGZMz7ZuD",
        "colab_type": "text"
      },
      "source": [
        "We also calculate market returns too:\n"
      ]
    },
    {
      "cell_type": "code",
      "metadata": {
        "id": "Tbhszem37GOa",
        "colab_type": "code",
        "outputId": "3a6d5d6d-3f25-473c-e043-e2585480cac3",
        "colab": {
          "base_uri": "https://localhost:8080/",
          "height": 437
        }
      },
      "source": [
        "RUT['marketReturn'] = np.log(RUT['Close'] / RUT['Close'].shift(1)) \n",
        "RUT"
      ],
      "execution_count": 0,
      "outputs": [
        {
          "output_type": "execute_result",
          "data": {
            "text/html": [
              "<div>\n",
              "<style scoped>\n",
              "    .dataframe tbody tr th:only-of-type {\n",
              "        vertical-align: middle;\n",
              "    }\n",
              "\n",
              "    .dataframe tbody tr th {\n",
              "        vertical-align: top;\n",
              "    }\n",
              "\n",
              "    .dataframe thead th {\n",
              "        text-align: right;\n",
              "    }\n",
              "</style>\n",
              "<table border=\"1\" class=\"dataframe\">\n",
              "  <thead>\n",
              "    <tr style=\"text-align: right;\">\n",
              "      <th></th>\n",
              "      <th>High</th>\n",
              "      <th>Low</th>\n",
              "      <th>Open</th>\n",
              "      <th>Close</th>\n",
              "      <th>Volume</th>\n",
              "      <th>Adj Close</th>\n",
              "      <th>marketReturn</th>\n",
              "    </tr>\n",
              "    <tr>\n",
              "      <th>Date</th>\n",
              "      <th></th>\n",
              "      <th></th>\n",
              "      <th></th>\n",
              "      <th></th>\n",
              "      <th></th>\n",
              "      <th></th>\n",
              "      <th></th>\n",
              "    </tr>\n",
              "  </thead>\n",
              "  <tbody>\n",
              "    <tr>\n",
              "      <th>2019-01-02</th>\n",
              "      <td>1357.770020</td>\n",
              "      <td>1325.180054</td>\n",
              "      <td>1346.109985</td>\n",
              "      <td>1355.910034</td>\n",
              "      <td>37331600</td>\n",
              "      <td>1355.910034</td>\n",
              "      <td>NaN</td>\n",
              "    </tr>\n",
              "    <tr>\n",
              "      <th>2019-01-03</th>\n",
              "      <td>1355.020020</td>\n",
              "      <td>1328.000000</td>\n",
              "      <td>1355.020020</td>\n",
              "      <td>1330.829956</td>\n",
              "      <td>38228600</td>\n",
              "      <td>1330.829956</td>\n",
              "      <td>-0.018670</td>\n",
              "    </tr>\n",
              "    <tr>\n",
              "      <th>2019-01-04</th>\n",
              "      <td>1383.160034</td>\n",
              "      <td>1333.099976</td>\n",
              "      <td>1333.099976</td>\n",
              "      <td>1380.750000</td>\n",
              "      <td>42134100</td>\n",
              "      <td>1380.750000</td>\n",
              "      <td>0.036824</td>\n",
              "    </tr>\n",
              "    <tr>\n",
              "      <th>2019-01-07</th>\n",
              "      <td>1411.900024</td>\n",
              "      <td>1380.839966</td>\n",
              "      <td>1380.839966</td>\n",
              "      <td>1405.369995</td>\n",
              "      <td>41047100</td>\n",
              "      <td>1405.369995</td>\n",
              "      <td>0.017674</td>\n",
              "    </tr>\n",
              "    <tr>\n",
              "      <th>2019-01-08</th>\n",
              "      <td>1426.550049</td>\n",
              "      <td>1404.010010</td>\n",
              "      <td>1405.869995</td>\n",
              "      <td>1426.550049</td>\n",
              "      <td>40810300</td>\n",
              "      <td>1426.550049</td>\n",
              "      <td>0.014958</td>\n",
              "    </tr>\n",
              "    <tr>\n",
              "      <th>...</th>\n",
              "      <td>...</td>\n",
              "      <td>...</td>\n",
              "      <td>...</td>\n",
              "      <td>...</td>\n",
              "      <td>...</td>\n",
              "      <td>...</td>\n",
              "      <td>...</td>\n",
              "    </tr>\n",
              "    <tr>\n",
              "      <th>2019-12-24</th>\n",
              "      <td>1678.089966</td>\n",
              "      <td>1673.739990</td>\n",
              "      <td>1676.229980</td>\n",
              "      <td>1678.010010</td>\n",
              "      <td>12965400</td>\n",
              "      <td>1678.010010</td>\n",
              "      <td>0.002309</td>\n",
              "    </tr>\n",
              "    <tr>\n",
              "      <th>2019-12-26</th>\n",
              "      <td>1680.359985</td>\n",
              "      <td>1675.099976</td>\n",
              "      <td>1680.219971</td>\n",
              "      <td>1677.670044</td>\n",
              "      <td>21606800</td>\n",
              "      <td>1677.670044</td>\n",
              "      <td>-0.000203</td>\n",
              "    </tr>\n",
              "    <tr>\n",
              "      <th>2019-12-27</th>\n",
              "      <td>1681.680054</td>\n",
              "      <td>1666.430054</td>\n",
              "      <td>1681.250000</td>\n",
              "      <td>1669.030029</td>\n",
              "      <td>24286700</td>\n",
              "      <td>1669.030029</td>\n",
              "      <td>-0.005163</td>\n",
              "    </tr>\n",
              "    <tr>\n",
              "      <th>2019-12-30</th>\n",
              "      <td>1670.219971</td>\n",
              "      <td>1658.050049</td>\n",
              "      <td>1669.880005</td>\n",
              "      <td>1664.150024</td>\n",
              "      <td>30132900</td>\n",
              "      <td>1664.150024</td>\n",
              "      <td>-0.002928</td>\n",
              "    </tr>\n",
              "    <tr>\n",
              "      <th>2019-12-31</th>\n",
              "      <td>1673.339966</td>\n",
              "      <td>1659.829956</td>\n",
              "      <td>1660.050049</td>\n",
              "      <td>1668.469971</td>\n",
              "      <td>28938100</td>\n",
              "      <td>1668.469971</td>\n",
              "      <td>0.002593</td>\n",
              "    </tr>\n",
              "  </tbody>\n",
              "</table>\n",
              "<p>252 rows × 7 columns</p>\n",
              "</div>"
            ],
            "text/plain": [
              "                   High          Low  ...    Adj Close  marketReturn\n",
              "Date                                  ...                           \n",
              "2019-01-02  1357.770020  1325.180054  ...  1355.910034           NaN\n",
              "2019-01-03  1355.020020  1328.000000  ...  1330.829956     -0.018670\n",
              "2019-01-04  1383.160034  1333.099976  ...  1380.750000      0.036824\n",
              "2019-01-07  1411.900024  1380.839966  ...  1405.369995      0.017674\n",
              "2019-01-08  1426.550049  1404.010010  ...  1426.550049      0.014958\n",
              "...                 ...          ...  ...          ...           ...\n",
              "2019-12-24  1678.089966  1673.739990  ...  1678.010010      0.002309\n",
              "2019-12-26  1680.359985  1675.099976  ...  1677.670044     -0.000203\n",
              "2019-12-27  1681.680054  1666.430054  ...  1669.030029     -0.005163\n",
              "2019-12-30  1670.219971  1658.050049  ...  1664.150024     -0.002928\n",
              "2019-12-31  1673.339966  1659.829956  ...  1668.469971      0.002593\n",
              "\n",
              "[252 rows x 7 columns]"
            ]
          },
          "metadata": {
            "tags": []
          },
          "execution_count": 11
        }
      ]
    },
    {
      "cell_type": "markdown",
      "metadata": {
        "id": "0SNNDlGg8S0o",
        "colab_type": "text"
      },
      "source": [
        "# 3. Correlation in DataFrame\n",
        "\n",
        "We merge stock and market returns and discover the correlation between them."
      ]
    },
    {
      "cell_type": "code",
      "metadata": {
        "id": "dWqvcvwV7oix",
        "colab_type": "code",
        "colab": {}
      },
      "source": [
        "df = pd.merge(AAPL[['logReturn', 'simpleReturn', 'cumReturn']], \n",
        "                RUT['marketReturn'],\n",
        "                left_index=True,\n",
        "                right_index=True)"
      ],
      "execution_count": 0,
      "outputs": []
    },
    {
      "cell_type": "code",
      "metadata": {
        "id": "1gZPelzU85EV",
        "colab_type": "code",
        "outputId": "cd775f43-a7da-4353-842d-0771f1d4d113",
        "colab": {
          "base_uri": "https://localhost:8080/",
          "height": 228
        }
      },
      "source": [
        "df.head()"
      ],
      "execution_count": 0,
      "outputs": [
        {
          "output_type": "execute_result",
          "data": {
            "text/html": [
              "<div>\n",
              "<style scoped>\n",
              "    .dataframe tbody tr th:only-of-type {\n",
              "        vertical-align: middle;\n",
              "    }\n",
              "\n",
              "    .dataframe tbody tr th {\n",
              "        vertical-align: top;\n",
              "    }\n",
              "\n",
              "    .dataframe thead th {\n",
              "        text-align: right;\n",
              "    }\n",
              "</style>\n",
              "<table border=\"1\" class=\"dataframe\">\n",
              "  <thead>\n",
              "    <tr style=\"text-align: right;\">\n",
              "      <th></th>\n",
              "      <th>logReturn</th>\n",
              "      <th>simpleReturn</th>\n",
              "      <th>cumReturn</th>\n",
              "      <th>marketReturn</th>\n",
              "    </tr>\n",
              "    <tr>\n",
              "      <th>Date</th>\n",
              "      <th></th>\n",
              "      <th></th>\n",
              "      <th></th>\n",
              "      <th></th>\n",
              "    </tr>\n",
              "  </thead>\n",
              "  <tbody>\n",
              "    <tr>\n",
              "      <th>2019-01-02</th>\n",
              "      <td>NaN</td>\n",
              "      <td>NaN</td>\n",
              "      <td>NaN</td>\n",
              "      <td>NaN</td>\n",
              "    </tr>\n",
              "    <tr>\n",
              "      <th>2019-01-03</th>\n",
              "      <td>-0.104924</td>\n",
              "      <td>-0.099607</td>\n",
              "      <td>-0.104924</td>\n",
              "      <td>-0.018670</td>\n",
              "    </tr>\n",
              "    <tr>\n",
              "      <th>2019-01-04</th>\n",
              "      <td>0.041803</td>\n",
              "      <td>0.042689</td>\n",
              "      <td>-0.067507</td>\n",
              "      <td>0.036824</td>\n",
              "    </tr>\n",
              "    <tr>\n",
              "      <th>2019-01-07</th>\n",
              "      <td>-0.002228</td>\n",
              "      <td>-0.002226</td>\n",
              "      <td>-0.069585</td>\n",
              "      <td>0.017674</td>\n",
              "    </tr>\n",
              "    <tr>\n",
              "      <th>2019-01-08</th>\n",
              "      <td>0.018884</td>\n",
              "      <td>0.019063</td>\n",
              "      <td>-0.052016</td>\n",
              "      <td>0.014958</td>\n",
              "    </tr>\n",
              "  </tbody>\n",
              "</table>\n",
              "</div>"
            ],
            "text/plain": [
              "            logReturn  simpleReturn  cumReturn  marketReturn\n",
              "Date                                                        \n",
              "2019-01-02        NaN           NaN        NaN           NaN\n",
              "2019-01-03  -0.104924     -0.099607  -0.104924     -0.018670\n",
              "2019-01-04   0.041803      0.042689  -0.067507      0.036824\n",
              "2019-01-07  -0.002228     -0.002226  -0.069585      0.017674\n",
              "2019-01-08   0.018884      0.019063  -0.052016      0.014958"
            ]
          },
          "metadata": {
            "tags": []
          },
          "execution_count": 13
        }
      ]
    },
    {
      "cell_type": "code",
      "metadata": {
        "id": "WwMyzU1u852b",
        "colab_type": "code",
        "outputId": "41f23017-498a-4e2d-8983-a6c98c99a057",
        "colab": {
          "base_uri": "https://localhost:8080/",
          "height": 437
        }
      },
      "source": [
        "df = df[1:]\n",
        "df"
      ],
      "execution_count": 0,
      "outputs": [
        {
          "output_type": "execute_result",
          "data": {
            "text/html": [
              "<div>\n",
              "<style scoped>\n",
              "    .dataframe tbody tr th:only-of-type {\n",
              "        vertical-align: middle;\n",
              "    }\n",
              "\n",
              "    .dataframe tbody tr th {\n",
              "        vertical-align: top;\n",
              "    }\n",
              "\n",
              "    .dataframe thead th {\n",
              "        text-align: right;\n",
              "    }\n",
              "</style>\n",
              "<table border=\"1\" class=\"dataframe\">\n",
              "  <thead>\n",
              "    <tr style=\"text-align: right;\">\n",
              "      <th></th>\n",
              "      <th>logReturn</th>\n",
              "      <th>simpleReturn</th>\n",
              "      <th>cumReturn</th>\n",
              "      <th>marketReturn</th>\n",
              "    </tr>\n",
              "    <tr>\n",
              "      <th>Date</th>\n",
              "      <th></th>\n",
              "      <th></th>\n",
              "      <th></th>\n",
              "      <th></th>\n",
              "    </tr>\n",
              "  </thead>\n",
              "  <tbody>\n",
              "    <tr>\n",
              "      <th>2019-01-03</th>\n",
              "      <td>-0.104924</td>\n",
              "      <td>-0.099607</td>\n",
              "      <td>-0.104924</td>\n",
              "      <td>-0.018670</td>\n",
              "    </tr>\n",
              "    <tr>\n",
              "      <th>2019-01-04</th>\n",
              "      <td>0.041803</td>\n",
              "      <td>0.042689</td>\n",
              "      <td>-0.067507</td>\n",
              "      <td>0.036824</td>\n",
              "    </tr>\n",
              "    <tr>\n",
              "      <th>2019-01-07</th>\n",
              "      <td>-0.002228</td>\n",
              "      <td>-0.002226</td>\n",
              "      <td>-0.069585</td>\n",
              "      <td>0.017674</td>\n",
              "    </tr>\n",
              "    <tr>\n",
              "      <th>2019-01-08</th>\n",
              "      <td>0.018884</td>\n",
              "      <td>0.019063</td>\n",
              "      <td>-0.052016</td>\n",
              "      <td>0.014958</td>\n",
              "    </tr>\n",
              "    <tr>\n",
              "      <th>2019-01-09</th>\n",
              "      <td>0.016839</td>\n",
              "      <td>0.016982</td>\n",
              "      <td>-0.036052</td>\n",
              "      <td>0.008557</td>\n",
              "    </tr>\n",
              "    <tr>\n",
              "      <th>...</th>\n",
              "      <td>...</td>\n",
              "      <td>...</td>\n",
              "      <td>...</td>\n",
              "      <td>...</td>\n",
              "    </tr>\n",
              "    <tr>\n",
              "      <th>2019-12-24</th>\n",
              "      <td>0.000950</td>\n",
              "      <td>0.000951</td>\n",
              "      <td>0.737500</td>\n",
              "      <td>0.002309</td>\n",
              "    </tr>\n",
              "    <tr>\n",
              "      <th>2019-12-26</th>\n",
              "      <td>0.019646</td>\n",
              "      <td>0.019840</td>\n",
              "      <td>0.771635</td>\n",
              "      <td>-0.000203</td>\n",
              "    </tr>\n",
              "    <tr>\n",
              "      <th>2019-12-27</th>\n",
              "      <td>-0.000380</td>\n",
              "      <td>-0.000379</td>\n",
              "      <td>0.770963</td>\n",
              "      <td>-0.005163</td>\n",
              "    </tr>\n",
              "    <tr>\n",
              "      <th>2019-12-30</th>\n",
              "      <td>0.005918</td>\n",
              "      <td>0.005935</td>\n",
              "      <td>0.781442</td>\n",
              "      <td>-0.002928</td>\n",
              "    </tr>\n",
              "    <tr>\n",
              "      <th>2019-12-31</th>\n",
              "      <td>0.007280</td>\n",
              "      <td>0.007307</td>\n",
              "      <td>0.794411</td>\n",
              "      <td>0.002593</td>\n",
              "    </tr>\n",
              "  </tbody>\n",
              "</table>\n",
              "<p>251 rows × 4 columns</p>\n",
              "</div>"
            ],
            "text/plain": [
              "            logReturn  simpleReturn  cumReturn  marketReturn\n",
              "Date                                                        \n",
              "2019-01-03  -0.104924     -0.099607  -0.104924     -0.018670\n",
              "2019-01-04   0.041803      0.042689  -0.067507      0.036824\n",
              "2019-01-07  -0.002228     -0.002226  -0.069585      0.017674\n",
              "2019-01-08   0.018884      0.019063  -0.052016      0.014958\n",
              "2019-01-09   0.016839      0.016982  -0.036052      0.008557\n",
              "...               ...           ...        ...           ...\n",
              "2019-12-24   0.000950      0.000951   0.737500      0.002309\n",
              "2019-12-26   0.019646      0.019840   0.771635     -0.000203\n",
              "2019-12-27  -0.000380     -0.000379   0.770963     -0.005163\n",
              "2019-12-30   0.005918      0.005935   0.781442     -0.002928\n",
              "2019-12-31   0.007280      0.007307   0.794411      0.002593\n",
              "\n",
              "[251 rows x 4 columns]"
            ]
          },
          "metadata": {
            "tags": []
          },
          "execution_count": 14
        }
      ]
    },
    {
      "cell_type": "markdown",
      "metadata": {
        "id": "XNRjWy749Dpi",
        "colab_type": "text"
      },
      "source": [
        "Correlation between variables:"
      ]
    },
    {
      "cell_type": "code",
      "metadata": {
        "id": "SIizDWjs8-RD",
        "colab_type": "code",
        "outputId": "835ab9ae-23d6-47f0-dece-8fec24001c30",
        "colab": {
          "base_uri": "https://localhost:8080/",
          "height": 168
        }
      },
      "source": [
        "df.corr()"
      ],
      "execution_count": 0,
      "outputs": [
        {
          "output_type": "execute_result",
          "data": {
            "text/html": [
              "<div>\n",
              "<style scoped>\n",
              "    .dataframe tbody tr th:only-of-type {\n",
              "        vertical-align: middle;\n",
              "    }\n",
              "\n",
              "    .dataframe tbody tr th {\n",
              "        vertical-align: top;\n",
              "    }\n",
              "\n",
              "    .dataframe thead th {\n",
              "        text-align: right;\n",
              "    }\n",
              "</style>\n",
              "<table border=\"1\" class=\"dataframe\">\n",
              "  <thead>\n",
              "    <tr style=\"text-align: right;\">\n",
              "      <th></th>\n",
              "      <th>logReturn</th>\n",
              "      <th>simpleReturn</th>\n",
              "      <th>cumReturn</th>\n",
              "      <th>marketReturn</th>\n",
              "    </tr>\n",
              "  </thead>\n",
              "  <tbody>\n",
              "    <tr>\n",
              "      <th>logReturn</th>\n",
              "      <td>1.000000</td>\n",
              "      <td>0.999707</td>\n",
              "      <td>0.093883</td>\n",
              "      <td>0.628305</td>\n",
              "    </tr>\n",
              "    <tr>\n",
              "      <th>simpleReturn</th>\n",
              "      <td>0.999707</td>\n",
              "      <td>1.000000</td>\n",
              "      <td>0.089952</td>\n",
              "      <td>0.628603</td>\n",
              "    </tr>\n",
              "    <tr>\n",
              "      <th>cumReturn</th>\n",
              "      <td>0.093883</td>\n",
              "      <td>0.089952</td>\n",
              "      <td>1.000000</td>\n",
              "      <td>0.007580</td>\n",
              "    </tr>\n",
              "    <tr>\n",
              "      <th>marketReturn</th>\n",
              "      <td>0.628305</td>\n",
              "      <td>0.628603</td>\n",
              "      <td>0.007580</td>\n",
              "      <td>1.000000</td>\n",
              "    </tr>\n",
              "  </tbody>\n",
              "</table>\n",
              "</div>"
            ],
            "text/plain": [
              "              logReturn  simpleReturn  cumReturn  marketReturn\n",
              "logReturn      1.000000      0.999707   0.093883      0.628305\n",
              "simpleReturn   0.999707      1.000000   0.089952      0.628603\n",
              "cumReturn      0.093883      0.089952   1.000000      0.007580\n",
              "marketReturn   0.628305      0.628603   0.007580      1.000000"
            ]
          },
          "metadata": {
            "tags": []
          },
          "execution_count": 15
        }
      ]
    },
    {
      "cell_type": "markdown",
      "metadata": {
        "id": "SKH234GQ_LQ3",
        "colab_type": "text"
      },
      "source": [
        "# 4. Plots for data analysis"
      ]
    },
    {
      "cell_type": "code",
      "metadata": {
        "id": "oRKe4d0D9HXM",
        "colab_type": "code",
        "outputId": "9ad950d7-a7b4-4043-ac1d-8883a6baac1f",
        "colab": {
          "base_uri": "https://localhost:8080/",
          "height": 297
        }
      },
      "source": [
        "df['logReturn'].plot()"
      ],
      "execution_count": 0,
      "outputs": [
        {
          "output_type": "execute_result",
          "data": {
            "text/plain": [
              "<matplotlib.axes._subplots.AxesSubplot at 0x7ff283e483c8>"
            ]
          },
          "metadata": {
            "tags": []
          },
          "execution_count": 73
        },
        {
          "output_type": "display_data",
          "data": {
            "image/png": "[encoded data removed]",
            "text/plain": [
              "<Figure size 432x288 with 1 Axes>"
            ]
          },
          "metadata": {
            "tags": []
          }
        }
      ]
    },
    {
      "cell_type": "code",
      "metadata": {
        "id": "4BovzSsf-Ukx",
        "colab_type": "code",
        "outputId": "5e591deb-25ff-42ca-c54c-faa4d4474274",
        "colab": {
          "base_uri": "https://localhost:8080/",
          "height": 282
        }
      },
      "source": [
        "plt.plot(df.logReturn)"
      ],
      "execution_count": 0,
      "outputs": [
        {
          "output_type": "execute_result",
          "data": {
            "text/plain": [
              "[<matplotlib.lines.Line2D at 0x7ff283f13208>]"
            ]
          },
          "metadata": {
            "tags": []
          },
          "execution_count": 74
        },
        {
          "output_type": "display_data",
          "data": {
            "image/png": "[encoded data removed]",
            "text/plain": [
              "<Figure size 432x288 with 1 Axes>"
            ]
          },
          "metadata": {
            "tags": []
          }
        }
      ]
    },
    {
      "cell_type": "code",
      "metadata": {
        "id": "ojsx-Ej9-zi3",
        "colab_type": "code",
        "outputId": "08895a8f-bdc2-4dc6-e518-ed17cc391248",
        "colab": {
          "base_uri": "https://localhost:8080/",
          "height": 300
        }
      },
      "source": [
        "df['marketReturn'].plot()"
      ],
      "execution_count": 0,
      "outputs": [
        {
          "output_type": "execute_result",
          "data": {
            "text/plain": [
              "<matplotlib.axes._subplots.AxesSubplot at 0x7ff283e7e588>"
            ]
          },
          "metadata": {
            "tags": []
          },
          "execution_count": 75
        },
        {
          "output_type": "display_data",
          "data": {
            "image/png": "[encoded data removed]",
            "text/plain": [
              "<Figure size 432x288 with 1 Axes>"
            ]
          },
          "metadata": {
            "tags": []
          }
        }
      ]
    },
    {
      "cell_type": "markdown",
      "metadata": {
        "id": "lX-EY6nC_2PX",
        "colab_type": "text"
      },
      "source": [
        "Histogram plots:"
      ]
    },
    {
      "cell_type": "code",
      "metadata": {
        "id": "CMSgQ3AN_5WK",
        "colab_type": "code",
        "outputId": "1917ad76-d866-432b-e3a2-70855759a90e",
        "colab": {
          "base_uri": "https://localhost:8080/",
          "height": 282
        }
      },
      "source": [
        "df['logReturn'].plot.hist()"
      ],
      "execution_count": 0,
      "outputs": [
        {
          "output_type": "execute_result",
          "data": {
            "text/plain": [
              "<matplotlib.axes._subplots.AxesSubplot at 0x7ff283e51748>"
            ]
          },
          "metadata": {
            "tags": []
          },
          "execution_count": 76
        },
        {
          "output_type": "display_data",
          "data": {
            "image/png": "[encoded data removed]",
            "text/plain": [
              "<Figure size 432x288 with 1 Axes>"
            ]
          },
          "metadata": {
            "tags": []
          }
        }
      ]
    },
    {
      "cell_type": "code",
      "metadata": {
        "id": "JjcpA3ChAG8C",
        "colab_type": "code",
        "outputId": "d0eb6b5b-adac-4381-f16b-2fb342331157",
        "colab": {
          "base_uri": "https://localhost:8080/",
          "height": 282
        }
      },
      "source": [
        "df['logReturn'].plot.density()"
      ],
      "execution_count": 0,
      "outputs": [
        {
          "output_type": "execute_result",
          "data": {
            "text/plain": [
              "<matplotlib.axes._subplots.AxesSubplot at 0x7ff283e0abe0>"
            ]
          },
          "metadata": {
            "tags": []
          },
          "execution_count": 77
        },
        {
          "output_type": "display_data",
          "data": {
            "image/png": "[encoded data removed]",
            "text/plain": [
              "<Figure size 432x288 with 1 Axes>"
            ]
          },
          "metadata": {
            "tags": []
          }
        }
      ]
    },
    {
      "cell_type": "code",
      "metadata": {
        "id": "czEa6lKw__c2",
        "colab_type": "code",
        "outputId": "a42e8624-4ef8-4201-c64d-cf122b32b492",
        "colab": {
          "base_uri": "https://localhost:8080/",
          "height": 282
        }
      },
      "source": [
        "df['marketReturn'].plot.hist()"
      ],
      "execution_count": 0,
      "outputs": [
        {
          "output_type": "execute_result",
          "data": {
            "text/plain": [
              "<matplotlib.axes._subplots.AxesSubplot at 0x7ff283d9b908>"
            ]
          },
          "metadata": {
            "tags": []
          },
          "execution_count": 78
        },
        {
          "output_type": "display_data",
          "data": {
            "image/png": "[encoded data removed]",
            "text/plain": [
              "<Figure size 432x288 with 1 Axes>"
            ]
          },
          "metadata": {
            "tags": []
          }
        }
      ]
    },
    {
      "cell_type": "code",
      "metadata": {
        "id": "_ssDkcm7ALbf",
        "colab_type": "code",
        "outputId": "7c0c9708-1857-49a8-8704-a0fee69eac44",
        "colab": {
          "base_uri": "https://localhost:8080/",
          "height": 282
        }
      },
      "source": [
        "df['marketReturn'].plot.density()"
      ],
      "execution_count": 0,
      "outputs": [
        {
          "output_type": "execute_result",
          "data": {
            "text/plain": [
              "<matplotlib.axes._subplots.AxesSubplot at 0x7ff283d28208>"
            ]
          },
          "metadata": {
            "tags": []
          },
          "execution_count": 79
        },
        {
          "output_type": "display_data",
          "data": {
            "image/png": "[encoded data removed]",
            "text/plain": [
              "<Figure size 432x288 with 1 Axes>"
            ]
          },
          "metadata": {
            "tags": []
          }
        }
      ]
    },
    {
      "cell_type": "markdown",
      "metadata": {
        "id": "W_KrLn3k9M-1",
        "colab_type": "text"
      },
      "source": [
        "A scatter plot between stock return and the market return."
      ]
    },
    {
      "cell_type": "code",
      "metadata": {
        "id": "T5YAv4nP_r47",
        "colab_type": "code",
        "outputId": "47054594-0716-4d6e-bddf-52f76409ec88",
        "colab": {
          "base_uri": "https://localhost:8080/",
          "height": 316
        }
      },
      "source": [
        "import seaborn as sns\n",
        "sns.regplot('logReturn', 'marketReturn', data=df)\n",
        "plt.title('Changes in %s versus %s' % ('stock return', 'market return'))"
      ],
      "execution_count": 0,
      "outputs": [
        {
          "output_type": "execute_result",
          "data": {
            "text/plain": [
              "Text(0.5, 1.0, 'Changes in stock return versus market return')"
            ]
          },
          "metadata": {
            "tags": []
          },
          "execution_count": 80
        },
        {
          "output_type": "display_data",
          "data": {
            "image/png": "[encoded data removed]",
            "text/plain": [
              "<Figure size 432x288 with 1 Axes>"
            ]
          },
          "metadata": {
            "tags": []
          }
        }
      ]
    },
    {
      "cell_type": "markdown",
      "metadata": {
        "id": "WNg2o8CfBJop",
        "colab_type": "text"
      },
      "source": [
        "Lastly, we can draw a pairplot too, which includes almost everything about a dataframe:"
      ]
    },
    {
      "cell_type": "code",
      "metadata": {
        "id": "sLiF9aH0A4Gt",
        "colab_type": "code",
        "outputId": "4cacba39-c193-4d20-babb-5c9d7ce1c9a7",
        "colab": {
          "base_uri": "https://localhost:8080/",
          "height": 742
        }
      },
      "source": [
        "sns.pairplot(df, diag_kind='kde', plot_kws={'alpha': 0.2})"
      ],
      "execution_count": 0,
      "outputs": [
        {
          "output_type": "execute_result",
          "data": {
            "text/plain": [
              "<seaborn.axisgrid.PairGrid at 0x7ff283cfab38>"
            ]
          },
          "metadata": {
            "tags": []
          },
          "execution_count": 81
        },
        {
          "output_type": "display_data",
          "data": {
            "image/png": "[encoded data removed]",
            "text/plain": [
              "<Figure size 720x720 with 20 Axes>"
            ]
          },
          "metadata": {
            "tags": []
          }
        }
      ]
    },
    {
      "cell_type": "markdown",
      "metadata": {
        "id": "kt4T3VIrB8J0",
        "colab_type": "text"
      },
      "source": [
        "# 5. Regression\n",
        "\n",
        "We will run a regression between the stock return and the market return, including an intercept:"
      ]
    },
    {
      "cell_type": "code",
      "metadata": {
        "id": "K0e909S6BP_E",
        "colab_type": "code",
        "outputId": "50f23a7b-165a-4d97-b704-4b2ceb5c903f",
        "colab": {
          "base_uri": "https://localhost:8080/",
          "height": 437
        }
      },
      "source": [
        "import statsmodels.formula.api as smf\n",
        "results = smf.ols('logReturn ~ marketReturn', data=df).fit()\n",
        "print(results.summary())"
      ],
      "execution_count": 0,
      "outputs": [
        {
          "output_type": "stream",
          "text": [
            "                            OLS Regression Results                            \n",
            "==============================================================================\n",
            "Dep. Variable:              logReturn   R-squared:                       0.395\n",
            "Model:                            OLS   Adj. R-squared:                  0.392\n",
            "Method:                 Least Squares   F-statistic:                     162.4\n",
            "Date:                Fri, 31 Jan 2020   Prob (F-statistic):           5.65e-29\n",
            "Time:                        14:37:54   Log-Likelihood:                 735.67\n",
            "No. Observations:                 251   AIC:                            -1467.\n",
            "Df Residuals:                     249   BIC:                            -1460.\n",
            "Df Model:                           1                                         \n",
            "Covariance Type:            nonrobust                                         \n",
            "================================================================================\n",
            "                   coef    std err          t      P>|t|      [0.025      0.975]\n",
            "--------------------------------------------------------------------------------\n",
            "Intercept        0.0016      0.001      1.973      0.050    2.53e-06       0.003\n",
            "marketReturn     1.0313      0.081     12.744      0.000       0.872       1.191\n",
            "==============================================================================\n",
            "Omnibus:                       70.448   Durbin-Watson:                   1.882\n",
            "Prob(Omnibus):                  0.000   Jarque-Bera (JB):              938.705\n",
            "Skew:                          -0.658   Prob(JB):                    1.45e-204\n",
            "Kurtosis:                      12.382   Cond. No.                         98.9\n",
            "==============================================================================\n",
            "\n",
            "Warnings:\n",
            "[1] Standard Errors assume that the covariance matrix of the errors is correctly specified.\n"
          ],
          "name": "stdout"
        }
      ]
    },
    {
      "cell_type": "code",
      "metadata": {
        "id": "HzZgVvbTCOnc",
        "colab_type": "code",
        "outputId": "d0f35d3d-f6f7-4826-f0d6-9d7b82298128",
        "colab": {
          "base_uri": "https://localhost:8080/",
          "height": 67
        }
      },
      "source": [
        "results.params"
      ],
      "execution_count": 0,
      "outputs": [
        {
          "output_type": "execute_result",
          "data": {
            "text/plain": [
              "Intercept       0.001619\n",
              "marketReturn    1.031300\n",
              "dtype: float64"
            ]
          },
          "metadata": {
            "tags": []
          },
          "execution_count": 85
        }
      ]
    },
    {
      "cell_type": "code",
      "metadata": {
        "id": "L5Eo1nBmCZWu",
        "colab_type": "code",
        "outputId": "b345ac80-cd1e-403c-b4da-79b4774bc642",
        "colab": {
          "base_uri": "https://localhost:8080/",
          "height": 67
        }
      },
      "source": [
        "results.tvalues"
      ],
      "execution_count": 0,
      "outputs": [
        {
          "output_type": "execute_result",
          "data": {
            "text/plain": [
              "Intercept        1.972621\n",
              "marketReturn    12.744086\n",
              "dtype: float64"
            ]
          },
          "metadata": {
            "tags": []
          },
          "execution_count": 86
        }
      ]
    },
    {
      "cell_type": "code",
      "metadata": {
        "id": "nWnCwOxlCcNc",
        "colab_type": "code",
        "outputId": "2e844d67-8b67-4ab4-fc74-d6ea9d9beb23",
        "colab": {
          "base_uri": "https://localhost:8080/",
          "height": 235
        }
      },
      "source": [
        "results.predict(df) # fitted value"
      ],
      "execution_count": 0,
      "outputs": [
        {
          "output_type": "execute_result",
          "data": {
            "text/plain": [
              "Date\n",
              "2019-01-03   -0.017635\n",
              "2019-01-04    0.039596\n",
              "2019-01-07    0.019846\n",
              "2019-01-08    0.017046\n",
              "2019-01-09    0.010444\n",
              "                ...   \n",
              "2019-12-24    0.004000\n",
              "2019-12-26    0.001410\n",
              "2019-12-27   -0.003706\n",
              "2019-12-30   -0.001401\n",
              "2019-12-31    0.004293\n",
              "Length: 251, dtype: float64"
            ]
          },
          "metadata": {
            "tags": []
          },
          "execution_count": 87
        }
      ]
    },
    {
      "cell_type": "code",
      "metadata": {
        "id": "jRUyPmCdChAx",
        "colab_type": "code",
        "outputId": "6629d874-04e2-4e88-efb9-1fc792a139d2",
        "colab": {
          "base_uri": "https://localhost:8080/",
          "height": 235
        }
      },
      "source": [
        "results.predict(df) - df['logReturn']"
      ],
      "execution_count": 0,
      "outputs": [
        {
          "output_type": "execute_result",
          "data": {
            "text/plain": [
              "Date\n",
              "2019-01-03    0.087289\n",
              "2019-01-04   -0.002208\n",
              "2019-01-07    0.022074\n",
              "2019-01-08   -0.001838\n",
              "2019-01-09   -0.006395\n",
              "                ...   \n",
              "2019-12-24    0.003050\n",
              "2019-12-26   -0.018236\n",
              "2019-12-27   -0.003326\n",
              "2019-12-30   -0.007318\n",
              "2019-12-31   -0.002987\n",
              "Length: 251, dtype: float64"
            ]
          },
          "metadata": {
            "tags": []
          },
          "execution_count": 88
        }
      ]
    },
    {
      "cell_type": "code",
      "metadata": {
        "id": "O1XUknmvCnC0",
        "colab_type": "code",
        "colab": {}
      },
      "source": [
        ""
      ],
      "execution_count": 0,
      "outputs": []
    }
  ]
}