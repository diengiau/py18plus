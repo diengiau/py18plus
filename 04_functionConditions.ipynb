{
  "nbformat": 4,
  "nbformat_minor": 0,
  "metadata": {
    "language_info": {
      "name": "python",
      "codemirror_mode": {
        "name": "ipython",
        "version": 3
      },
      "version": "3.6.8-final"
    },
    "orig_nbformat": 2,
    "file_extension": ".py",
    "mimetype": "text/x-python",
    "name": "python",
    "npconvert_exporter": "python",
    "pygments_lexer": "ipython3",
    "version": 3,
    "kernelspec": {
      "name": "python36864bit105ca9937d9642daa3958d93a183440c",
      "display_name": "Python 3.6.8 64-bit"
    },
    "colab": {
      "name": "04_functionConditions.ipynb",
      "provenance": [],
      "include_colab_link": true
    }
  },
  "cells": [
    {
      "cell_type": "markdown",
      "metadata": {
        "id": "view-in-github",
        "colab_type": "text"
      },
      "source": [
        "<a href=\"https://colab.research.google.com/github/diengiau/py18plus/blob/master/04_functionConditions.ipynb\" target=\"_parent\"><img src=\"https://colab.research.google.com/assets/colab-badge.svg\" alt=\"Open In Colab\"/></a>"
      ]
    },
    {
      "cell_type": "markdown",
      "metadata": {},
      "source": [
        "[TOC]"
      ]
    },
    {
      "cell_type": "markdown",
      "metadata": {
        "id": "Hb-d7jCFHGPi",
        "colab_type": "text"
      },
      "source": [
        "# 1. Function in Python\n",
        "\n",
        "## 1.1 Forward price function\n",
        "\n",
        "We'll use functions to wrap repeated processes to clean the codes, re-use it in multiple projects, and make our codes more efficiently.\n",
        "\n",
        "Let's assume we need to recalculate the futures price for a contract multiple times, based on current prices (e.g., $S$) and the time (e.g., $T$), so how should we do?\n",
        "\n",
        "Let $S$ runs from 20, 25, 30, ..., 100.\n",
        "$T$ is from 1 to 5 years.\n",
        "\n",
        "Then how much is the forward price, let assume: $F=S\\times e^{rT}$ where the risk-free rate is 5% per annum.\n"
      ]
    },
    {
      "cell_type": "code",
      "metadata": {
        "id": "7l3uelJxHGPl",
        "colab_type": "code",
        "colab": {},
        "outputId": "ccfa5d8e-34c7-469b-cc0c-3441e06a3fb9"
      },
      "source": [
        "# if S = 20, T = 1\n",
        "from numpy import exp as exp\n",
        "20*exp(0.05*1)"
      ],
      "execution_count": 0,
      "outputs": [
        {
          "output_type": "execute_result",
          "data": {
            "text/plain": [
              "21.025421927520483"
            ]
          },
          "metadata": {
            "tags": []
          },
          "execution_count": 4
        }
      ]
    },
    {
      "cell_type": "code",
      "metadata": {
        "id": "E66Z71K6HGPp",
        "colab_type": "code",
        "colab": {},
        "outputId": "6a5ad118-4a15-4f66-be5b-cd6c8b947ebe"
      },
      "source": [
        "# if S = 20, T = 2\n",
        "20*exp(0.05*2)\n",
        "# if S = 20, T = 3\n",
        "20*exp(0.05*3)\n",
        "# if S = 20, T = 4\n",
        "20*exp(0.05*4)\n",
        "# if S = 20, T = 5\n",
        "20*exp(0.05*5)"
      ],
      "execution_count": 0,
      "outputs": [
        {
          "output_type": "execute_result",
          "data": {
            "text/plain": [
              "25.68050833375483"
            ]
          },
          "metadata": {
            "tags": []
          },
          "execution_count": 5
        }
      ]
    },
    {
      "cell_type": "markdown",
      "metadata": {
        "id": "hvtHxzT1HGPt",
        "colab_type": "text"
      },
      "source": [
        "It is too time-consuming. So we can think about a function $f=f(T)$.\n",
        "\n",
        "Step 1: Define the function:"
      ]
    },
    {
      "cell_type": "code",
      "metadata": {
        "id": "Sk96Xe4uHGPu",
        "colab_type": "code",
        "colab": {}
      },
      "source": [
        "def f(T):\n",
        "    return 20*exp(0.05*T)"
      ],
      "execution_count": 0,
      "outputs": []
    },
    {
      "cell_type": "code",
      "metadata": {
        "id": "uj7oPzcyHGPy",
        "colab_type": "code",
        "colab": {},
        "outputId": "ea0147ac-ecfb-48c6-b2b8-b39edb9acf45"
      },
      "source": [
        "f"
      ],
      "execution_count": 0,
      "outputs": [
        {
          "output_type": "execute_result",
          "data": {
            "text/plain": [
              "<function __main__.f(T)>"
            ]
          },
          "metadata": {
            "tags": []
          },
          "execution_count": 7
        }
      ]
    },
    {
      "cell_type": "markdown",
      "metadata": {
        "id": "qYcLIV3vHGP3",
        "colab_type": "text"
      },
      "source": [
        "Step 2: Use/call/apply the function:"
      ]
    },
    {
      "cell_type": "code",
      "metadata": {
        "id": "Jvs_UIakHGP4",
        "colab_type": "code",
        "colab": {},
        "outputId": "45dd2b9c-08d6-48fb-dcd2-7a4186c45824"
      },
      "source": [
        "f(1)"
      ],
      "execution_count": 0,
      "outputs": [
        {
          "output_type": "execute_result",
          "data": {
            "text/plain": [
              "21.025421927520483"
            ]
          },
          "metadata": {
            "tags": []
          },
          "execution_count": 8
        }
      ]
    },
    {
      "cell_type": "code",
      "metadata": {
        "id": "jtgm3vHUHGP7",
        "colab_type": "code",
        "colab": {},
        "outputId": "e52f3f9c-f466-4250-8ae4-f1e9e7056f14"
      },
      "source": [
        "f(5)"
      ],
      "execution_count": 0,
      "outputs": [
        {
          "output_type": "execute_result",
          "data": {
            "text/plain": [
              "25.68050833375483"
            ]
          },
          "metadata": {
            "tags": []
          },
          "execution_count": 9
        }
      ]
    },
    {
      "cell_type": "markdown",
      "metadata": {
        "id": "w2G0i0uGHGP9",
        "colab_type": "text"
      },
      "source": [
        "We can add one more argument, say current price $S$, into the function:"
      ]
    },
    {
      "cell_type": "code",
      "metadata": {
        "id": "aIHlRl9WHGP-",
        "colab_type": "code",
        "colab": {}
      },
      "source": [
        "def f(S, T):\n",
        "    return S*exp(0.05*T)"
      ],
      "execution_count": 0,
      "outputs": []
    },
    {
      "cell_type": "code",
      "metadata": {
        "id": "xMcBR4ttHGQB",
        "colab_type": "code",
        "colab": {},
        "outputId": "359afc65-f5ff-4d43-ebfe-bfaa6a8e4895"
      },
      "source": [
        "f(20, 1)"
      ],
      "execution_count": 0,
      "outputs": [
        {
          "output_type": "execute_result",
          "data": {
            "text/plain": [
              "21.025421927520483"
            ]
          },
          "metadata": {
            "tags": []
          },
          "execution_count": 11
        }
      ]
    },
    {
      "cell_type": "code",
      "metadata": {
        "id": "xIwUu1XuHGQD",
        "colab_type": "code",
        "colab": {},
        "outputId": "ea8235eb-778d-49be-c0e1-02a6ea89842c"
      },
      "source": [
        "f(20, 5)"
      ],
      "execution_count": 0,
      "outputs": [
        {
          "output_type": "execute_result",
          "data": {
            "text/plain": [
              "25.68050833375483"
            ]
          },
          "metadata": {
            "tags": []
          },
          "execution_count": 12
        }
      ]
    },
    {
      "cell_type": "markdown",
      "metadata": {
        "id": "0cUTp-NlHGQG",
        "colab_type": "text"
      },
      "source": [
        "Or even a more complex function with both $S$, $T$, and $r$:"
      ]
    },
    {
      "cell_type": "code",
      "metadata": {
        "id": "_Ca0Gf0NHGQH",
        "colab_type": "code",
        "colab": {}
      },
      "source": [
        "def f(S,T,r):\n",
        "    return S*exp(r*T)"
      ],
      "execution_count": 0,
      "outputs": []
    },
    {
      "cell_type": "code",
      "metadata": {
        "id": "A9IuaFGcHGQJ",
        "colab_type": "code",
        "colab": {},
        "outputId": "398a5e9a-df96-4722-84c4-09d5b44fa1dd"
      },
      "source": [
        "f(20, 5, 0.05)"
      ],
      "execution_count": 0,
      "outputs": [
        {
          "output_type": "execute_result",
          "data": {
            "text/plain": [
              "25.68050833375483"
            ]
          },
          "metadata": {
            "tags": []
          },
          "execution_count": 14
        }
      ]
    },
    {
      "cell_type": "markdown",
      "metadata": {
        "id": "vAe7TuF0HGQL",
        "colab_type": "text"
      },
      "source": [
        "We should explicitly call the arguments to make the code more understandable:"
      ]
    },
    {
      "cell_type": "code",
      "metadata": {
        "id": "TzddVNW2HGQM",
        "colab_type": "code",
        "colab": {},
        "outputId": "67cacfec-244b-45d0-d6d5-3f4eabe13bc8"
      },
      "source": [
        "f(S=20, T=5, r=0.05)"
      ],
      "execution_count": 0,
      "outputs": [
        {
          "output_type": "execute_result",
          "data": {
            "text/plain": [
              "25.68050833375483"
            ]
          },
          "metadata": {
            "tags": []
          },
          "execution_count": 15
        }
      ]
    },
    {
      "cell_type": "markdown",
      "metadata": {
        "id": "QMNJuRhWHGQO",
        "colab_type": "text"
      },
      "source": [
        "If one argument change very little, we should add the default value for the argument too:"
      ]
    },
    {
      "cell_type": "code",
      "metadata": {
        "id": "g57pp5ajHGQP",
        "colab_type": "code",
        "colab": {},
        "outputId": "d11d4f44-3238-4cc8-d11c-010c8acc65f1"
      },
      "source": [
        "def f(S,T,r=0.05):\n",
        "    return S*exp(r*T)\n",
        "f(S=20, T=5)"
      ],
      "execution_count": 0,
      "outputs": [
        {
          "output_type": "execute_result",
          "data": {
            "text/plain": [
              "25.68050833375483"
            ]
          },
          "metadata": {
            "tags": []
          },
          "execution_count": 16
        }
      ]
    },
    {
      "cell_type": "markdown",
      "metadata": {},
      "source": [
        "## 1.2 A function to get bond yield\n",
        "\n",
        "As we discussed in class, we need more efficient way to get the bond yield. Now, we rely on a method, namely __Newton optimization__ to derive the bond yield from the bond pricing formula. So the inputs of the function include:\n",
        "\n",
        "- Bond (market) price\n",
        "- Par/face value\n",
        "- Coupon rate\n",
        "- Time to maturity\n",
        "- Frequency of compounding, e.g., semiannually or 2 times yearly\n",
        "\n",
        "Let's see the code:"
      ]
    },
    {
      "cell_type": "code",
      "execution_count": 1,
      "metadata": {},
      "outputs": [
        {
          "output_type": "stream",
          "name": "stdout",
          "text": "Number of period: 3.0\n[0.5, 1.0, 1.5]\nCoupon payment per time: 2.875\n\nThe bond yield is:\n"
        },
        {
          "output_type": "execute_result",
          "data": {
            "text/plain": "0.09156324174532894"
          },
          "metadata": {},
          "execution_count": 1
        }
      ],
      "source": [
        "\"\"\" Get yield-to-maturity of a bond \"\"\"\n",
        "import scipy.optimize as optimize\n",
        "import numpy as np\n",
        "def bondYield(price, par, T, coup, freq=2, guess=0.05):\n",
        "    #freq = float(freq)\n",
        "    periods = T*freq # number times of paying counpon\n",
        "    print(f\"Number of period: {periods}\")\n",
        "    dt = [(i+1)/freq for i in range(int(periods))]\n",
        "    print(dt)\n",
        "    coupon = coup/100.*par/freq # coupon per time\n",
        "    print(f\"Coupon payment per time: {coupon}\")\n",
        "\n",
        "    def price_func(y): \n",
        "        return sum([coupon*np.exp(-y*t) for t in dt]) + par*np.exp(-y*T) - price\n",
        "    print(\"\\nThe bond yield is:\")\n",
        "    return optimize.newton(price_func, guess)\n",
        "\n",
        "bondYield(price=95.0428, par=100, T=1.5, coup=5.75, freq=2)"
      ]
    },
    {
      "cell_type": "code",
      "execution_count": 2,
      "metadata": {},
      "outputs": [
        {
          "output_type": "stream",
          "name": "stdout",
          "text": "Number of period: 4\n[0.5, 1.0, 1.5, 2.0]\nCoupon payment per time: 3.0\n\nThe bond yield is:\n"
        },
        {
          "output_type": "execute_result",
          "data": {
            "text/plain": "0.06759816234142131"
          },
          "metadata": {},
          "execution_count": 2
        }
      ],
      "source": [
        "# another example in our slide\n",
        "bondYield(price=98.39, par=100, T=2, coup=6, freq=2)"
      ]
    },
    {
      "cell_type": "markdown",
      "metadata": {},
      "source": [
        "You see that it works like a magic. But why? Please read this awesome explanation from `stackexchange`:\n",
        "\n",
        "[Why does Newton's method work?](https://math.stackexchange.com/questions/350740/why-does-newtons-method-work)\n",
        "\n",
        "![](https://i.stack.imgur.com/arGHL.png)\n"
      ]
    },
    {
      "cell_type": "markdown",
      "metadata": {
        "id": "pPwhIF6bHGQS",
        "colab_type": "text"
      },
      "source": [
        "# 2. Conditional operations\n",
        "\n",
        "The most common one is the `if else` operations to check condition. It works like we often make decisions in real life:\n",
        "\n",
        "```{python}\n",
        "if have_girl_friend:\n",
        "    stay_at_home_and_play_game\n",
        "else:\n",
        "    go_out_watch_3d_movies_then_go_home_eat_instant_noodle\n",
        "```\n",
        "\n",
        "Let write a simple `if` operation to check if a number is even number:"
      ]
    },
    {
      "cell_type": "code",
      "metadata": {
        "id": "lBd2WLMUHGQT",
        "colab_type": "code",
        "colab": {},
        "outputId": "c8499846-0ac0-4ee8-a133-dbd41d13ca19"
      },
      "source": [
        "n = 14\n",
        "if n % 2 == 0:\n",
        "    print(\"This is an even number\")\n",
        "else:\n",
        "    print(\"This is NOT an even number\")"
      ],
      "execution_count": 0,
      "outputs": [
        {
          "output_type": "stream",
          "text": [
            "This is an even number\n"
          ],
          "name": "stdout"
        }
      ]
    },
    {
      "cell_type": "markdown",
      "metadata": {
        "id": "XdjsKxAVHGQW",
        "colab_type": "text"
      },
      "source": [
        "We can wrap it in a function to make it more clean:"
      ]
    },
    {
      "cell_type": "code",
      "metadata": {
        "id": "FYQJjxveHGQX",
        "colab_type": "code",
        "colab": {}
      },
      "source": [
        "def checkEvenNumber(n):\n",
        "    if n % 2 == 0:\n",
        "        print(\"This is an even number\")\n",
        "    else:\n",
        "        print(\"This is NOT an even number\")"
      ],
      "execution_count": 0,
      "outputs": []
    },
    {
      "cell_type": "code",
      "metadata": {
        "id": "pVgsglEjHGQZ",
        "colab_type": "code",
        "colab": {},
        "outputId": "0884913c-d6c9-4827-e8ed-6bfcbe429f94"
      },
      "source": [
        "checkEvenNumber(14)"
      ],
      "execution_count": 0,
      "outputs": [
        {
          "output_type": "stream",
          "text": [
            "This is an even number\n"
          ],
          "name": "stdout"
        }
      ]
    },
    {
      "cell_type": "code",
      "metadata": {
        "id": "8MojqyopHGQc",
        "colab_type": "code",
        "colab": {},
        "outputId": "104a3195-606a-4e3a-b732-1dd58aa34d8b"
      },
      "source": [
        "checkEvenNumber(13)"
      ],
      "execution_count": 0,
      "outputs": [
        {
          "output_type": "stream",
          "text": [
            "This is NOT an even number\n"
          ],
          "name": "stdout"
        }
      ]
    },
    {
      "cell_type": "markdown",
      "metadata": {
        "id": "hPJIQ_8CHGQe",
        "colab_type": "text"
      },
      "source": [
        "# 3. Ternary Operator\n",
        "\n",
        "The `if else` may be too long, sometimes we need a more simple conditional operation: ternary operator.\n",
        "See the document at [here](https://book.pythontips.com/en/latest/ternary_operators.html).\n",
        "\n",
        "The formula is:\n",
        "\n",
        "`action_if_true if condition else action_if_false`\n",
        "\n",
        "For example, we want to check a number if a number is positive or not:\n",
        "\n",
        "- If YES, then we take square root\n",
        "- If NO, then we replace it with zero\n"
      ]
    },
    {
      "cell_type": "code",
      "metadata": {
        "id": "BDKYEk9vHGQg",
        "colab_type": "code",
        "colab": {},
        "outputId": "08c6ec98-9c0a-43d1-ecff-894a5fbdd3a5"
      },
      "source": [
        "import numpy as np\n",
        "x = np.random.randn(10)\n",
        "x"
      ],
      "execution_count": 0,
      "outputs": [
        {
          "output_type": "execute_result",
          "data": {
            "text/plain": [
              "array([-0.42349303, -0.76934915, -0.50730064,  0.51074904, -0.74593857,\n",
              "       -0.57070175,  0.20060892, -0.63145137,  0.595394  , -0.81397664])"
            ]
          },
          "metadata": {
            "tags": []
          },
          "execution_count": 21
        }
      ]
    },
    {
      "cell_type": "markdown",
      "metadata": {
        "id": "c7xYErKxHGQi",
        "colab_type": "text"
      },
      "source": [
        "We first do the ternary operator for the first number in the list `x`:"
      ]
    },
    {
      "cell_type": "code",
      "metadata": {
        "id": "ZgDapwTAHGQj",
        "colab_type": "code",
        "colab": {},
        "outputId": "9604256a-791d-4160-a861-0fbf1f56ea92"
      },
      "source": [
        "np.sqrt(x[0]) if x[0]>0 else 0"
      ],
      "execution_count": 0,
      "outputs": [
        {
          "output_type": "execute_result",
          "data": {
            "text/plain": [
              "0"
            ]
          },
          "metadata": {
            "tags": []
          },
          "execution_count": 24
        }
      ]
    },
    {
      "cell_type": "code",
      "metadata": {
        "id": "smPlvYg0HGQm",
        "colab_type": "code",
        "colab": {},
        "outputId": "4991ac41-9f2a-4464-b896-84c29cfad040"
      },
      "source": [
        "np.sqrt(x[1]) if x[1]>0 else 0"
      ],
      "execution_count": 0,
      "outputs": [
        {
          "output_type": "execute_result",
          "data": {
            "text/plain": [
              "0"
            ]
          },
          "metadata": {
            "tags": []
          },
          "execution_count": 25
        }
      ]
    },
    {
      "cell_type": "code",
      "metadata": {
        "id": "5lMpxR-0HGQp",
        "colab_type": "code",
        "colab": {},
        "outputId": "6d506e6c-e9d3-4880-feb4-05edeb2d1cec"
      },
      "source": [
        "np.sqrt(x[3]) if x[3]>0 else 0"
      ],
      "execution_count": 0,
      "outputs": [
        {
          "output_type": "execute_result",
          "data": {
            "text/plain": [
              "0.7146670800162905"
            ]
          },
          "metadata": {
            "tags": []
          },
          "execution_count": 26
        }
      ]
    },
    {
      "cell_type": "markdown",
      "metadata": {
        "id": "5BnpyEFIHGQr",
        "colab_type": "text"
      },
      "source": [
        "It is too long to repeat this for a 10-element list `x`, or even a longer list in our future life. We need to save time for go-out-watch-3d-movies with our girl-friend/boy-friend (let assume you have one). So we will go next section to learn `loop` operator."
      ]
    },
    {
      "cell_type": "markdown",
      "metadata": {
        "id": "-4251etMHGQs",
        "colab_type": "text"
      },
      "source": [
        "# 4. Loop\n",
        "\n",
        "The most common is `for` loop:"
      ]
    },
    {
      "cell_type": "code",
      "metadata": {
        "id": "3tbJ7f5fHGQt",
        "colab_type": "code",
        "colab": {},
        "outputId": "24ae7499-c02f-4c1c-9147-1e1673b2ce1b"
      },
      "source": [
        "for i in [0,1,2,3,4,5,6,7,8,9]:\n",
        "    print(np.sqrt(x[i]) if x[i]>0 else 0)"
      ],
      "execution_count": 0,
      "outputs": [
        {
          "output_type": "stream",
          "text": [
            "0\n",
            "0\n",
            "0\n",
            "0.7146670800162905\n",
            "0\n",
            "0\n",
            "0.44789387045655266\n",
            "0\n",
            "0.7716177814216344\n",
            "0\n"
          ],
          "name": "stdout"
        }
      ]
    },
    {
      "cell_type": "markdown",
      "metadata": {
        "id": "imDHstIrHGQv",
        "colab_type": "text"
      },
      "source": [
        "It is cleaner if we replace `[0,1,2,3,4,5,6,7,8,9]` by `range(10)`:"
      ]
    },
    {
      "cell_type": "code",
      "metadata": {
        "id": "zHKoKyPAHGQw",
        "colab_type": "code",
        "colab": {},
        "outputId": "4576a6a9-5950-4c38-9aeb-bcf8ef5b3821"
      },
      "source": [
        "list(range(10)) # equivalent"
      ],
      "execution_count": 0,
      "outputs": [
        {
          "output_type": "execute_result",
          "data": {
            "text/plain": [
              "[0, 1, 2, 3, 4, 5, 6, 7, 8, 9]"
            ]
          },
          "metadata": {
            "tags": []
          },
          "execution_count": 31
        }
      ]
    },
    {
      "cell_type": "code",
      "metadata": {
        "id": "B9yvI_hHHGQy",
        "colab_type": "code",
        "colab": {},
        "outputId": "3b473f27-e179-4618-c06f-3436bd2841b3"
      },
      "source": [
        "for i in range(10):\n",
        "    print(np.sqrt(x[i]) if x[i]>0 else 0)"
      ],
      "execution_count": 0,
      "outputs": [
        {
          "output_type": "stream",
          "text": [
            "0\n",
            "0\n",
            "0\n",
            "0.7146670800162905\n",
            "0\n",
            "0\n",
            "0.44789387045655266\n",
            "0\n",
            "0.7716177814216344\n",
            "0\n"
          ],
          "name": "stdout"
        }
      ]
    },
    {
      "cell_type": "markdown",
      "metadata": {
        "id": "M9aa_UkHHGQ1",
        "colab_type": "text"
      },
      "source": [
        "Next, we are better to store the output data into a list of output:"
      ]
    },
    {
      "cell_type": "code",
      "metadata": {
        "id": "KoBz6HY-HGQ2",
        "colab_type": "code",
        "colab": {},
        "outputId": "9e4dd6d2-6962-4e33-83f9-f2eeccce6c9a"
      },
      "source": [
        "output = []\n",
        "for i in range(10):\n",
        "    output.append(np.sqrt(x[i]) if x[i]>0 else 0)\n",
        "output"
      ],
      "execution_count": 0,
      "outputs": [
        {
          "output_type": "execute_result",
          "data": {
            "text/plain": [
              "[0,\n",
              " 0,\n",
              " 0,\n",
              " 0.7146670800162905,\n",
              " 0,\n",
              " 0,\n",
              " 0.44789387045655266,\n",
              " 0,\n",
              " 0.7716177814216344,\n",
              " 0]"
            ]
          },
          "metadata": {
            "tags": []
          },
          "execution_count": 33
        }
      ]
    },
    {
      "cell_type": "markdown",
      "metadata": {
        "id": "0Byb6wwHHGQ6",
        "colab_type": "text"
      },
      "source": [
        "# 5. `map` operator\n",
        "\n",
        "The next idea is to use `map` to map a function to a list, so it works very similar to `for loop` and gives the same results.\n",
        "The idea is that we will create a function so that can transform the input to output. Then apply that function to every element of the input list.\n"
      ]
    },
    {
      "cell_type": "code",
      "metadata": {
        "id": "1kF-gapXHGQ7",
        "colab_type": "code",
        "colab": {},
        "outputId": "a8de8393-3d47-4ea4-d63b-ccf9c06800f8"
      },
      "source": [
        "def transformNumber(n):\n",
        "    return np.sqrt(n) if n>0 else 0\n",
        "list(map(transformNumber, x))"
      ],
      "execution_count": 0,
      "outputs": [
        {
          "output_type": "execute_result",
          "data": {
            "text/plain": [
              "[0,\n",
              " 0,\n",
              " 0,\n",
              " 0.7146670800162905,\n",
              " 0,\n",
              " 0,\n",
              " 0.44789387045655266,\n",
              " 0,\n",
              " 0.7716177814216344,\n",
              " 0]"
            ]
          },
          "metadata": {
            "tags": []
          },
          "execution_count": 36
        }
      ]
    },
    {
      "cell_type": "markdown",
      "metadata": {
        "id": "ns4wlASHHGQ9",
        "colab_type": "text"
      },
      "source": [
        "It is too much for today. We will apply these operators in our forwards/futures calculation in the next tutorial."
      ]
    }
  ]
}