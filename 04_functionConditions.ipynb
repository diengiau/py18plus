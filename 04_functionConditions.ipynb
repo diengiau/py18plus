{
 "nbformat": 4,
 "nbformat_minor": 2,
 "metadata": {
  "language_info": {
   "name": "python",
   "codemirror_mode": {
    "name": "ipython",
    "version": 3
   },
   "version": "3.7.3-final"
  },
  "orig_nbformat": 2,
  "file_extension": ".py",
  "mimetype": "text/x-python",
  "name": "python",
  "npconvert_exporter": "python",
  "pygments_lexer": "ipython3",
  "version": 3,
  "kernelspec": {
   "name": "python37364bituservirtualenv4ac141b7ffc148cbb06838cd1cd2b7fd",
   "display_name": "Python 3.7.3 64-bit ('User': virtualenv)"
  }
 },
 "cells": [
  {
   "cell_type": "markdown",
   "execution_count": null,
   "metadata": {},
   "outputs": [],
   "source": [
    "# 1. Function in Python\n",
    "\n",
    "We'll use functions to wrap repeated processes to clean the codes, re-use it in multiple projects, and make our codes more efficiently.\n",
    "\n",
    "Let's assume we need to recalculate the futures price for a contract multiple times, based on current prices (e.g., $S$) and the time (e.g., $T$), so how should we do?\n",
    "\n",
    "Let $S$ runs from 20, 25, 30, ..., 100.\n",
    "$T$ is from 1 to 5 years.\n",
    "\n",
    "Then how much is the forward price, let assume: $F=S\\times e^{rT}$ where the risk-free rate is 5% per annum.\n"
   ]
  },
  {
   "cell_type": "code",
   "execution_count": 4,
   "metadata": {},
   "outputs": [
    {
     "data": {
      "text/plain": "21.025421927520483"
     },
     "execution_count": 4,
     "metadata": {},
     "output_type": "execute_result"
    }
   ],
   "source": [
    "# if S = 20, T = 1\n",
    "from numpy import exp as exp\n",
    "20*exp(0.05*1)"
   ]
  },
  {
   "cell_type": "code",
   "execution_count": 5,
   "metadata": {},
   "outputs": [
    {
     "data": {
      "text/plain": "25.68050833375483"
     },
     "execution_count": 5,
     "metadata": {},
     "output_type": "execute_result"
    }
   ],
   "source": [
    "# if S = 20, T = 2\n",
    "20*exp(0.05*2)\n",
    "# if S = 20, T = 3\n",
    "20*exp(0.05*3)\n",
    "# if S = 20, T = 4\n",
    "20*exp(0.05*4)\n",
    "# if S = 20, T = 5\n",
    "20*exp(0.05*5)"
   ]
  },
  {
   "cell_type": "markdown",
   "execution_count": null,
   "metadata": {},
   "outputs": [],
   "source": [
    "It is too time-consuming. So we can think about a function $f=f(T)$.\n",
    "\n",
    "Step 1: Define the function:"
   ]
  },
  {
   "cell_type": "code",
   "execution_count": 6,
   "metadata": {},
   "outputs": [],
   "source": [
    "def f(T):\n",
    "    return 20*exp(0.05*T)"
   ]
  },
  {
   "cell_type": "code",
   "execution_count": 7,
   "metadata": {},
   "outputs": [
    {
     "data": {
      "text/plain": "<function __main__.f(T)>"
     },
     "execution_count": 7,
     "metadata": {},
     "output_type": "execute_result"
    }
   ],
   "source": [
    "f"
   ]
  },
  {
   "cell_type": "markdown",
   "execution_count": null,
   "metadata": {},
   "outputs": [],
   "source": [
    "Step 2: Use/call/apply the function:"
   ]
  },
  {
   "cell_type": "code",
   "execution_count": 8,
   "metadata": {},
   "outputs": [
    {
     "data": {
      "text/plain": "21.025421927520483"
     },
     "execution_count": 8,
     "metadata": {},
     "output_type": "execute_result"
    }
   ],
   "source": [
    "f(1)"
   ]
  },
  {
   "cell_type": "code",
   "execution_count": 9,
   "metadata": {},
   "outputs": [
    {
     "data": {
      "text/plain": "25.68050833375483"
     },
     "execution_count": 9,
     "metadata": {},
     "output_type": "execute_result"
    }
   ],
   "source": [
    "f(5)"
   ]
  },
  {
   "cell_type": "markdown",
   "execution_count": null,
   "metadata": {},
   "outputs": [],
   "source": [
    "We can add one more argument, say current price $S$, into the function:"
   ]
  },
  {
   "cell_type": "code",
   "execution_count": 10,
   "metadata": {},
   "outputs": [],
   "source": [
    "def f(S, T):\n",
    "    return S*exp(0.05*T)"
   ]
  },
  {
   "cell_type": "code",
   "execution_count": 11,
   "metadata": {},
   "outputs": [
    {
     "data": {
      "text/plain": "21.025421927520483"
     },
     "execution_count": 11,
     "metadata": {},
     "output_type": "execute_result"
    }
   ],
   "source": [
    "f(20, 1)"
   ]
  },
  {
   "cell_type": "code",
   "execution_count": 12,
   "metadata": {},
   "outputs": [
    {
     "data": {
      "text/plain": "25.68050833375483"
     },
     "execution_count": 12,
     "metadata": {},
     "output_type": "execute_result"
    }
   ],
   "source": [
    "f(20, 5)"
   ]
  },
  {
   "cell_type": "markdown",
   "execution_count": null,
   "metadata": {},
   "outputs": [],
   "source": [
    "Or even a more complex function with both $S$, $T$, and $r$:"
   ]
  },
  {
   "cell_type": "code",
   "execution_count": 13,
   "metadata": {},
   "outputs": [],
   "source": [
    "def f(S,T,r):\n",
    "    return S*exp(r*T)"
   ]
  },
  {
   "cell_type": "code",
   "execution_count": 14,
   "metadata": {},
   "outputs": [
    {
     "data": {
      "text/plain": "25.68050833375483"
     },
     "execution_count": 14,
     "metadata": {},
     "output_type": "execute_result"
    }
   ],
   "source": [
    "f(20, 5, 0.05)"
   ]
  },
  {
   "cell_type": "markdown",
   "execution_count": null,
   "metadata": {},
   "outputs": [],
   "source": [
    "We should explicitly call the arguments to make the code more understandable:"
   ]
  },
  {
   "cell_type": "code",
   "execution_count": 15,
   "metadata": {},
   "outputs": [
    {
     "data": {
      "text/plain": "25.68050833375483"
     },
     "execution_count": 15,
     "metadata": {},
     "output_type": "execute_result"
    }
   ],
   "source": [
    "f(S=20, T=5, r=0.05)"
   ]
  },
  {
   "cell_type": "markdown",
   "execution_count": null,
   "metadata": {},
   "outputs": [],
   "source": [
    "If one argument change very little, we should add the default value for the argument too:"
   ]
  },
  {
   "cell_type": "code",
   "execution_count": 16,
   "metadata": {},
   "outputs": [
    {
     "data": {
      "text/plain": "25.68050833375483"
     },
     "execution_count": 16,
     "metadata": {},
     "output_type": "execute_result"
    }
   ],
   "source": [
    "def f(S,T,r=0.05):\n",
    "    return S*exp(r*T)\n",
    "f(S=20, T=5)"
   ]
  },
  {
   "cell_type": "markdown",
   "execution_count": null,
   "metadata": {},
   "outputs": [],
   "source": [
    "# 2. Conditional operations\n",
    "\n",
    "The most common one is the `if else` operations to check condition. It works like we often make decisions in real life:\n",
    "\n",
    "```{python}\n",
    "if have_girl_friend:\n",
    "    stay_at_home_and_play_game\n",
    "else:\n",
    "    go_out_watch_3d_movies_then_go_home_eat_instant_noodle\n",
    "```\n",
    "\n",
    "Let write a simple `if` operation to check if a number is even number:"
   ]
  },
  {
   "cell_type": "code",
   "execution_count": 17,
   "metadata": {},
   "outputs": [
    {
     "name": "stdout",
     "output_type": "stream",
     "text": "This is an even number\n"
    }
   ],
   "source": [
    "n = 14\n",
    "if n % 2 == 0:\n",
    "    print(\"This is an even number\")\n",
    "else:\n",
    "    print(\"This is NOT an even number\")"
   ]
  },
  {
   "cell_type": "markdown",
   "execution_count": null,
   "metadata": {},
   "outputs": [],
   "source": [
    "We can wrap it in a function to make it more clean:"
   ]
  },
  {
   "cell_type": "code",
   "execution_count": 18,
   "metadata": {},
   "outputs": [],
   "source": [
    "def checkEvenNumber(n):\n",
    "    if n % 2 == 0:\n",
    "        print(\"This is an even number\")\n",
    "    else:\n",
    "        print(\"This is NOT an even number\")"
   ]
  },
  {
   "cell_type": "code",
   "execution_count": 19,
   "metadata": {},
   "outputs": [
    {
     "name": "stdout",
     "output_type": "stream",
     "text": "This is an even number\n"
    }
   ],
   "source": [
    "checkEvenNumber(14)"
   ]
  },
  {
   "cell_type": "code",
   "execution_count": 20,
   "metadata": {},
   "outputs": [
    {
     "name": "stdout",
     "output_type": "stream",
     "text": "This is NOT an even number\n"
    }
   ],
   "source": [
    "checkEvenNumber(13)"
   ]
  },
  {
   "cell_type": "markdown",
   "execution_count": null,
   "metadata": {},
   "outputs": [],
   "source": [
    "# 3. Ternary Operator\n",
    "\n",
    "The `if else` may be too long, sometimes we need a more simple conditional operation: ternary operator.\n",
    "See the document at [here](https://book.pythontips.com/en/latest/ternary_operators.html).\n",
    "\n",
    "The formula is:\n",
    "\n",
    "`action_if_true if condition else action_if_false`\n",
    "\n",
    "For example, we want to check a number if a number is positive or not:\n",
    "\n",
    "- If YES, then we take square root\n",
    "- If NO, then we replace it with zero\n"
   ]
  },
  {
   "cell_type": "code",
   "execution_count": 21,
   "metadata": {},
   "outputs": [
    {
     "data": {
      "text/plain": "array([-0.42349303, -0.76934915, -0.50730064,  0.51074904, -0.74593857,\n       -0.57070175,  0.20060892, -0.63145137,  0.595394  , -0.81397664])"
     },
     "execution_count": 21,
     "metadata": {},
     "output_type": "execute_result"
    }
   ],
   "source": [
    "import numpy as np\n",
    "x = np.random.randn(10)\n",
    "x"
   ]
  },
  {
   "cell_type": "markdown",
   "execution_count": 23,
   "metadata": {},
   "outputs": [
    {
     "data": {
      "text/plain": "0"
     },
     "execution_count": 23,
     "metadata": {},
     "output_type": "execute_result"
    }
   ],
   "source": [
    "We first do the ternary operator for the first number in the list `x`:"
   ]
  },
  {
   "cell_type": "code",
   "execution_count": 24,
   "metadata": {},
   "outputs": [
    {
     "data": {
      "text/plain": "0"
     },
     "execution_count": 24,
     "metadata": {},
     "output_type": "execute_result"
    }
   ],
   "source": [
    "np.sqrt(x[0]) if x[0]>0 else 0"
   ]
  },
  {
   "cell_type": "code",
   "execution_count": 25,
   "metadata": {},
   "outputs": [
    {
     "data": {
      "text/plain": "0"
     },
     "execution_count": 25,
     "metadata": {},
     "output_type": "execute_result"
    }
   ],
   "source": [
    "np.sqrt(x[1]) if x[1]>0 else 0"
   ]
  },
  {
   "cell_type": "code",
   "execution_count": 26,
   "metadata": {},
   "outputs": [
    {
     "data": {
      "text/plain": "0.7146670800162905"
     },
     "execution_count": 26,
     "metadata": {},
     "output_type": "execute_result"
    }
   ],
   "source": [
    "np.sqrt(x[3]) if x[3]>0 else 0"
   ]
  },
  {
   "cell_type": "markdown",
   "execution_count": null,
   "metadata": {},
   "outputs": [],
   "source": [
    "It is too long to repeat this for a 10-element list `x`, or even a longer list in our future life. We need to save time for go-out-watch-3d-movies with our girl-friend/boy-friend (let assume you have one). So we will go next section to learn `loop` operator."
   ]
  },
  {
   "cell_type": "markdown",
   "execution_count": null,
   "metadata": {},
   "outputs": [],
   "source": [
    "# 4. Loop\n",
    "\n",
    "The most common is `for` loop:"
   ]
  },
  {
   "cell_type": "code",
   "execution_count": 28,
   "metadata": {},
   "outputs": [
    {
     "name": "stdout",
     "output_type": "stream",
     "text": "0\n0\n0\n0.7146670800162905\n0\n0\n0.44789387045655266\n0\n0.7716177814216344\n0\n"
    }
   ],
   "source": [
    "for i in [0,1,2,3,4,5,6,7,8,9]:\n",
    "    print(np.sqrt(x[i]) if x[i]>0 else 0)"
   ]
  },
  {
   "cell_type": "markdown",
   "execution_count": null,
   "metadata": {},
   "outputs": [],
   "source": [
    "It is cleaner if we replace `[0,1,2,3,4,5,6,7,8,9]` by `range(10)`:"
   ]
  },
  {
   "cell_type": "code",
   "execution_count": 31,
   "metadata": {},
   "outputs": [
    {
     "data": {
      "text/plain": "[0, 1, 2, 3, 4, 5, 6, 7, 8, 9]"
     },
     "execution_count": 31,
     "metadata": {},
     "output_type": "execute_result"
    }
   ],
   "source": [
    "list(range(10)) # equivalent"
   ]
  },
  {
   "cell_type": "code",
   "execution_count": 32,
   "metadata": {},
   "outputs": [
    {
     "name": "stdout",
     "output_type": "stream",
     "text": "0\n0\n0\n0.7146670800162905\n0\n0\n0.44789387045655266\n0\n0.7716177814216344\n0\n"
    }
   ],
   "source": [
    "for i in range(10):\n",
    "    print(np.sqrt(x[i]) if x[i]>0 else 0)"
   ]
  },
  {
   "cell_type": "markdown",
   "execution_count": null,
   "metadata": {},
   "outputs": [],
   "source": [
    "Next, we are better to store the output data into a list of output:"
   ]
  },
  {
   "cell_type": "code",
   "execution_count": 33,
   "metadata": {},
   "outputs": [
    {
     "data": {
      "text/plain": "[0,\n 0,\n 0,\n 0.7146670800162905,\n 0,\n 0,\n 0.44789387045655266,\n 0,\n 0.7716177814216344,\n 0]"
     },
     "execution_count": 33,
     "metadata": {},
     "output_type": "execute_result"
    }
   ],
   "source": [
    "output = []\n",
    "for i in range(10):\n",
    "    output.append(np.sqrt(x[i]) if x[i]>0 else 0)\n",
    "output"
   ]
  },
  {
   "cell_type": "markdown",
   "execution_count": null,
   "metadata": {},
   "outputs": [],
   "source": [
    "# 5. `map` operator\n",
    "\n",
    "The next idea is to use `map` to map a function to a list, so it works very similar to `for loop` and gives the same results.\n",
    "The idea is that we will create a function so that can transform the input to output. Then apply that function to every element of the input list.\n"
   ]
  },
  {
   "cell_type": "code",
   "execution_count": 36,
   "metadata": {},
   "outputs": [
    {
     "data": {
      "text/plain": "[0,\n 0,\n 0,\n 0.7146670800162905,\n 0,\n 0,\n 0.44789387045655266,\n 0,\n 0.7716177814216344,\n 0]"
     },
     "execution_count": 36,
     "metadata": {},
     "output_type": "execute_result"
    }
   ],
   "source": [
    "def transformNumber(n):\n",
    "    return np.sqrt(n) if n>0 else 0\n",
    "list(map(transformNumber, x))"
   ]
  },
  {
   "cell_type": "markdown",
   "execution_count": null,
   "metadata": {},
   "outputs": [],
   "source": [
    "It is too much for today. We will apply these operators in our forwards/futures calculation in the next tutorial."
   ]
  }
 ]
}