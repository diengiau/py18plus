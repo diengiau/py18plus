{
  "nbformat": 4,
  "nbformat_minor": 0,
  "metadata": {
    "language_info": {
      "name": "python",
      "codemirror_mode": {
        "name": "ipython",
        "version": 3
      },
      "version": "3.7.3-final"
    },
    "orig_nbformat": 2,
    "file_extension": ".py",
    "mimetype": "text/x-python",
    "name": "python",
    "npconvert_exporter": "python",
    "pygments_lexer": "ipython3",
    "version": 3,
    "kernelspec": {
      "name": "python37364bituservirtualenv4ac141b7ffc148cbb06838cd1cd2b7fd",
      "display_name": "Python 3.7.3 64-bit ('User': virtualenv)"
    },
    "colab": {
      "name": "05_forwardFuturesPrice.ipynb",
      "provenance": [],
      "include_colab_link": true
    }
  },
  "cells": [
    {
      "cell_type": "markdown",
      "metadata": {
        "id": "view-in-github",
        "colab_type": "text"
      },
      "source": [
        "<a href=\"https://colab.research.google.com/github/diengiau/py18plus/blob/master/05_forwardFuturesPrice.ipynb\" target=\"_parent\"><img src=\"https://colab.research.google.com/assets/colab-badge.svg\" alt=\"Open In Colab\"/></a>"
      ]
    },
    {
      "cell_type": "markdown",
      "metadata": {
        "id": "unKz26d-HUwj",
        "colab_type": "text"
      },
      "source": [
        "# 1. Get input from users\n",
        "\n",
        "Assume that you wanna write a program to get input from users, then use the data to calculate the price of a forward/futures contract. \n",
        "Then you display the result to our user. Think about it as a real example in your future life, where you wanna get data from your clients and report the result/advice to them.\n",
        "\n",
        "In Python, we use `input()` to get the data from users:"
      ]
    },
    {
      "cell_type": "code",
      "metadata": {
        "id": "shqXBLIHHUwm",
        "colab_type": "code",
        "colab": {},
        "outputId": "0384779b-903f-41c9-93f7-54c624c55e71"
      },
      "source": [
        "input(\"What is your name\")"
      ],
      "execution_count": 0,
      "outputs": [
        {
          "output_type": "execute_result",
          "data": {
            "text/plain": [
              "'richard'"
            ]
          },
          "metadata": {
            "tags": []
          },
          "execution_count": 1
        }
      ]
    },
    {
      "cell_type": "markdown",
      "metadata": {
        "id": "C3lVT8HBHUwr",
        "colab_type": "text"
      },
      "source": [
        "Save it data for later usage:"
      ]
    },
    {
      "cell_type": "code",
      "metadata": {
        "id": "9sW4tHIZHUws",
        "colab_type": "code",
        "colab": {}
      },
      "source": [
        "herName = input(\"What is your name\")"
      ],
      "execution_count": 0,
      "outputs": []
    },
    {
      "cell_type": "code",
      "metadata": {
        "id": "tpRvA8mcHUwv",
        "colab_type": "code",
        "colab": {},
        "outputId": "767e6fbf-c05e-47f3-82a5-2d8b6d1ceea5"
      },
      "source": [
        "herName"
      ],
      "execution_count": 0,
      "outputs": [
        {
          "output_type": "execute_result",
          "data": {
            "text/plain": [
              "'richard'"
            ]
          },
          "metadata": {
            "tags": []
          },
          "execution_count": 3
        }
      ]
    },
    {
      "cell_type": "markdown",
      "metadata": {
        "id": "BsfPYGHlHUwy",
        "colab_type": "text"
      },
      "source": [
        "# 2. Apply to write a futures/forward price calculation"
      ]
    },
    {
      "cell_type": "code",
      "metadata": {
        "id": "jWr5j45THUwz",
        "colab_type": "code",
        "colab": {}
      },
      "source": [
        "def forwardPrice(S, T, r):\n",
        "    from numpy import exp\n",
        "    F = S*exp(r*T)\n",
        "    return F"
      ],
      "execution_count": 0,
      "outputs": []
    },
    {
      "cell_type": "code",
      "metadata": {
        "id": "kZ2nUaSQHUw3",
        "colab_type": "code",
        "colab": {},
        "outputId": "c48ef18b-f31f-4b50-fabd-35da9e0e4df8"
      },
      "source": [
        "S = input(\"what is current stock price\")\n",
        "T = input(\"how long is the future contract\")\n",
        "r = input(\"what is the discount rate\")\n"
      ],
      "execution_count": 0,
      "outputs": [
        {
          "output_type": "execute_result",
          "data": {
            "text/plain": [
              "<function __main__.forwardPrice(S, T, r)>"
            ]
          },
          "metadata": {
            "tags": []
          },
          "execution_count": 13
        }
      ]
    },
    {
      "cell_type": "code",
      "metadata": {
        "id": "9d1IUmXwHUw6",
        "colab_type": "code",
        "colab": {},
        "outputId": "a21de1be-5f6c-4eec-fa58-0c361deeb0d8"
      },
      "source": [
        "forwardPrice(S, T, r)"
      ],
      "execution_count": 0,
      "outputs": [
        {
          "output_type": "error",
          "ename": "TypeError",
          "evalue": "can't multiply sequence by non-int of type 'str'",
          "traceback": [
            "\u001b[1;31m---------------------------------------------------------------------------\u001b[0m",
            "\u001b[1;31mTypeError\u001b[0m                                 Traceback (most recent call last)",
            "\u001b[1;32m<ipython-input-15-a157a9e858bd>\u001b[0m in \u001b[0;36m<module>\u001b[1;34m\u001b[0m\n\u001b[1;32m----> 1\u001b[1;33m \u001b[0mforwardPrice\u001b[0m\u001b[1;33m(\u001b[0m\u001b[0mS\u001b[0m\u001b[1;33m,\u001b[0m\u001b[0mT\u001b[0m\u001b[1;33m,\u001b[0m\u001b[0mr\u001b[0m\u001b[1;33m)\u001b[0m\u001b[1;33m\u001b[0m\u001b[1;33m\u001b[0m\u001b[0m\n\u001b[0m",
            "\u001b[1;32m<ipython-input-12-a5bde2e205fd>\u001b[0m in \u001b[0;36mforwardPrice\u001b[1;34m(S, T, r)\u001b[0m\n\u001b[0;32m      1\u001b[0m \u001b[1;32mdef\u001b[0m \u001b[0mforwardPrice\u001b[0m\u001b[1;33m(\u001b[0m\u001b[0mS\u001b[0m\u001b[1;33m,\u001b[0m \u001b[0mT\u001b[0m\u001b[1;33m,\u001b[0m \u001b[0mr\u001b[0m\u001b[1;33m)\u001b[0m\u001b[1;33m:\u001b[0m\u001b[1;33m\u001b[0m\u001b[1;33m\u001b[0m\u001b[0m\n\u001b[0;32m      2\u001b[0m     \u001b[1;32mfrom\u001b[0m \u001b[0mnumpy\u001b[0m \u001b[1;32mimport\u001b[0m \u001b[0mexp\u001b[0m\u001b[1;33m\u001b[0m\u001b[1;33m\u001b[0m\u001b[0m\n\u001b[1;32m----> 3\u001b[1;33m     \u001b[0mF\u001b[0m \u001b[1;33m=\u001b[0m \u001b[0mS\u001b[0m\u001b[1;33m*\u001b[0m\u001b[0mexp\u001b[0m\u001b[1;33m(\u001b[0m\u001b[0mr\u001b[0m\u001b[1;33m*\u001b[0m\u001b[0mT\u001b[0m\u001b[1;33m)\u001b[0m\u001b[1;33m\u001b[0m\u001b[1;33m\u001b[0m\u001b[0m\n\u001b[0m\u001b[0;32m      4\u001b[0m     \u001b[1;32mreturn\u001b[0m \u001b[0mF\u001b[0m\u001b[1;33m\u001b[0m\u001b[1;33m\u001b[0m\u001b[0m\n",
            "\u001b[1;31mTypeError\u001b[0m: can't multiply sequence by non-int of type 'str'"
          ]
        }
      ]
    },
    {
      "cell_type": "markdown",
      "metadata": {
        "id": "_2RyD0RDHUw8",
        "colab_type": "text"
      },
      "source": [
        "Why we have `TypeError`? It often arises if we apply wrong operations for a data type. Here we apply `*` or `exp` for string data.\n",
        "It means that the data from `input()` is a string type. We need to change the data type first:"
      ]
    },
    {
      "cell_type": "code",
      "metadata": {
        "id": "GBbW4JbCHUw9",
        "colab_type": "code",
        "colab": {},
        "outputId": "07481246-8b7b-4ea7-8c87-a67ae02b8ff3"
      },
      "source": [
        "S = float(S) # convert to float numbers\n",
        "T = float(T)\n",
        "r = float(r)\n",
        "forwardPrice(S, T, r)"
      ],
      "execution_count": 0,
      "outputs": [
        {
          "output_type": "execute_result",
          "data": {
            "text/plain": [
              "22.103418361512954"
            ]
          },
          "metadata": {
            "tags": []
          },
          "execution_count": 16
        }
      ]
    },
    {
      "cell_type": "markdown",
      "metadata": {
        "id": "2x1vcB6zHUxA",
        "colab_type": "text"
      },
      "source": [
        "HOLA. We can get it now.\n",
        "\n",
        "Your possible homework is to add more possible inputs from users. For example, we can have income yield `q` or storage cost from the asset. It will change the futures price too. Please change the functions to accommodate these factors."
      ]
    },
    {
      "cell_type": "code",
      "metadata": {
        "id": "kZB9I_U8HUxB",
        "colab_type": "code",
        "colab": {}
      },
      "source": [
        ""
      ],
      "execution_count": 0,
      "outputs": []
    }
  ]
}