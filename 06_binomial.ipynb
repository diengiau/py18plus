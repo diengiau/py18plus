{
 "nbformat": 4,
 "nbformat_minor": 2,
 "metadata": {
  "language_info": {
   "name": "python",
   "codemirror_mode": {
    "name": "ipython",
    "version": 3
   },
   "version": "3.7.3-final"
  },
  "orig_nbformat": 2,
  "file_extension": ".py",
  "mimetype": "text/x-python",
  "name": "python",
  "npconvert_exporter": "python",
  "pygments_lexer": "ipython3",
  "version": 3,
  "kernelspec": {
   "name": "python37364bitbasecondaaf4415f6e74344a9bdb14afd88a1402d",
   "display_name": "Python 3.7.3 64-bit ('base': conda)"
  }
 },
 "cells": [
  {
   "cell_type": "markdown",
   "execution_count": null,
   "metadata": {},
   "outputs": [],
   "source": [
    "# 1. One-step binomial tree\n",
    "\n",
    "Define:\n",
    "- $S_0$ is current stock price and $f$ is the call option price\n",
    "- The strike price is $K$\n",
    "- Stock price can go up to $S_0 u$ or go down to $S_0 d$\n",
    "- Interest rate is $r$\n",
    "- The time maturity is $T$\n",
    "\n",
    "Assume that the data is as same as we have in our lecture note. Then, we can define a fuction to get the option price $f$ as follows:"
   ]
  },
  {
   "cell_type": "code",
   "execution_count": 6,
   "metadata": {},
   "outputs": [],
   "source": [
    "def oneStepBinomialCall(K, S0, u, d, T, r):\n",
    "    import numpy as np\n",
    "    # option price in two possible cases\n",
    "    f_u = np.max([S0*u-K, 0])\n",
    "    f_d = np.max([S0*d-K, 0])\n",
    "    # probability move up\n",
    "    p = (np.exp(r*T)-d)/(u-d)\n",
    "    # option price\n",
    "    f = np.exp(-r*T)*(p*f_u + (1-p)*f_d)\n",
    "    return f"
   ]
  },
  {
   "cell_type": "code",
   "execution_count": 7,
   "metadata": {},
   "outputs": [
    {
     "data": {
      "text/plain": "0.6329950990317132"
     },
     "execution_count": 7,
     "metadata": {},
     "output_type": "execute_result"
    }
   ],
   "source": [
    "oneStepBinomialCall(K=21, S0=20, u=1.1, d=0.9, T=0.25, r=0.12)"
   ]
  },
  {
   "cell_type": "code",
   "execution_count": 8,
   "metadata": {},
   "outputs": [],
   "source": [
    "?oneStepBinomialCall # return nothing"
   ]
  },
  {
   "cell_type": "markdown",
   "execution_count": null,
   "metadata": {},
   "outputs": [],
   "source": [
    "However, it is better to write down more documentation for a function, so that we can understand it more clearly:"
   ]
  },
  {
   "cell_type": "code",
   "execution_count": 11,
   "metadata": {},
   "outputs": [],
   "source": [
    "def oneStepBinomialCall(K, S0, u, d, T, r):\n",
    "    \"\"\"\n",
    "    This function calculates the option price of a call option.\n",
    "    Keyword arguments:\n",
    "    K -- the strike price\n",
    "    S0 -- the current stock price\n",
    "    u -- the go-up factor (e.g., u = 1.1 for go up 10%)\n",
    "    d -- the go-down factor (e.g., d = 0.9 for go down 10%)\n",
    "    T -- time to maturity (e.g., T = 0.25 for 3-month call option)\n",
    "    r -- interest rate (e.g., r = 0.12 for 12%)\n",
    "    \"\"\"\n",
    "    import numpy as np\n",
    "    # option price in two possible cases\n",
    "    f_u = np.max([S0*u-K, 0])\n",
    "    f_d = np.max([S0*d-K, 0])\n",
    "    # probability move up\n",
    "    p = (np.exp(r*T)-d)/(u-d)\n",
    "    # option price\n",
    "    f = np.exp(-r*T)*(p*f_u + (1-p)*f_d)\n",
    "    return f"
   ]
  },
  {
   "cell_type": "code",
   "execution_count": 13,
   "metadata": {},
   "outputs": [],
   "source": [
    "?oneStepBinomialCall"
   ]
  },
  {
   "cell_type": "markdown",
   "execution_count": null,
   "metadata": {},
   "outputs": [],
   "source": [
    "But, we can use the `if` condition to calculate for both call and put option:"
   ]
  },
  {
   "cell_type": "code",
   "execution_count": 29,
   "metadata": {},
   "outputs": [],
   "source": [
    "def oneStepBinomial(call=True, K=21, S0=20, u=1.1, d=0.9, T=0.25, r=0.12):\n",
    "    \"\"\"\n",
    "    This function calculates the option price of a call option by a one-step binomial model.\n",
    "    Keyword arguments:\n",
    "    call -- call or put option (default is a call option)\n",
    "    K -- the strike price\n",
    "    S0 -- the current stock price\n",
    "    u -- the go-up factor (e.g., u = 1.1 for go up 10%)\n",
    "    d -- the go-down factor (e.g., d = 0.9 for go down 10%)\n",
    "    T -- time to maturity (e.g., T = 0.25 for 3-month call option)\n",
    "    r -- interest rate (e.g., r = 0.12 for 12%)\n",
    "    \"\"\"\n",
    "    import numpy as np\n",
    "    # option price in two possible cases\n",
    "    if (call == True):\n",
    "        f_u = np.max([S0*u - K, 0])\n",
    "        f_d = np.max([S0*d - K, 0])\n",
    "    else:\n",
    "        f_u = np.max([K - S0*u, 0])\n",
    "        f_d = np.max([K - S0*d, 0])\n",
    "    # probability move up\n",
    "    p = (np.exp(r*T)-d)/(u-d)\n",
    "    # option price\n",
    "    f = np.exp(-r*T)*(p*f_u + (1-p)*f_d)\n",
    "    return f"
   ]
  },
  {
   "cell_type": "code",
   "execution_count": 30,
   "metadata": {},
   "outputs": [
    {
     "data": {
      "text/plain": "1.4147530940085673"
     },
     "execution_count": 30,
     "metadata": {},
     "output_type": "execute_result"
    }
   ],
   "source": [
    "oneStepBinomial(call=False, K=52, S0=60, u=1.2, d=0.8, T=1, r=0.05)"
   ]
  },
  {
   "cell_type": "code",
   "execution_count": 31,
   "metadata": {},
   "outputs": [
    {
     "data": {
      "text/plain": "9.463930074037126"
     },
     "execution_count": 31,
     "metadata": {},
     "output_type": "execute_result"
    }
   ],
   "source": [
    "oneStepBinomial(call=False, K=52, S0=40, u=1.2, d=0.8, T=1, r=0.05)"
   ]
  },
  {
   "cell_type": "markdown",
   "execution_count": null,
   "metadata": {},
   "outputs": [],
   "source": [
    "# 2. Two-step binomial tree"
   ]
  },
  {
   "cell_type": "markdown",
   "execution_count": null,
   "metadata": {},
   "outputs": [],
   "source": [
    "A two-step binomial tree includes:\n",
    "- Two middle nodes: each is one-step binomial tree ($f_u$ and $f_d$)\n",
    "- And one initial node at present ($f$)\n",
    "\n",
    "Let's take example from our lecture note (Section 3): the price at the two middle nodes:"
   ]
  },
  {
   "cell_type": "code",
   "execution_count": 36,
   "metadata": {},
   "outputs": [
    {
     "data": {
      "text/plain": "2.0255843169014844"
     },
     "execution_count": 36,
     "metadata": {},
     "output_type": "execute_result"
    }
   ],
   "source": [
    "f_u = oneStepBinomial(call=True, K=21, S0=22, u=1.1, d=0.9, T=0.25, r=0.12)\n",
    "f_u"
   ]
  },
  {
   "cell_type": "code",
   "execution_count": 35,
   "metadata": {},
   "outputs": [
    {
     "data": {
      "text/plain": "0.0"
     },
     "execution_count": 35,
     "metadata": {},
     "output_type": "execute_result"
    }
   ],
   "source": [
    "f_d = oneStepBinomial(call=True, K=21, S0=18, u=1.1, d=0.9, T=0.25, r=0.12)\n",
    "f_d"
   ]
  },
  {
   "cell_type": "markdown",
   "execution_count": null,
   "metadata": {},
   "outputs": [],
   "source": [
    "At the initial node, it is just the the expected value of possible cases, discounted to the present:"
   ]
  },
  {
   "cell_type": "code",
   "execution_count": 38,
   "metadata": {},
   "outputs": [
    {
     "data": {
      "text/plain": "1.2821849452741405"
     },
     "execution_count": 38,
     "metadata": {},
     "output_type": "execute_result"
    }
   ],
   "source": [
    "p = (np.exp(0.12*0.25)-0.9)/(1.1-0.9)\n",
    "f = np.exp(-0.12*0.25)*(p*f_u + (1-p)*f_d)\n",
    "f"
   ]
  },
  {
   "cell_type": "markdown",
   "execution_count": null,
   "metadata": {},
   "outputs": [],
   "source": [
    "Of course, we can wrap as a function too:"
   ]
  },
  {
   "cell_type": "code",
   "execution_count": 39,
   "metadata": {},
   "outputs": [],
   "source": [
    "def twoStepBinomial(call=True, K=21, S0=20, u=1.1, d=0.9, T=0.25, r=0.12):\n",
    "    \"\"\"\n",
    "    This function calculates the option price of a option by two-step binomial models.\n",
    "    Keyword arguments:\n",
    "    call -- call or put option (default is a call option)\n",
    "    K -- the strike price\n",
    "    S0 -- the current stock price\n",
    "    u -- the go-up factor (e.g., u = 1.1 for go up 10%)\n",
    "    d -- the go-down factor (e.g., d = 0.9 for go down 10%)\n",
    "    T -- time to maturity (e.g., T = 0.25 for 3-month call option)\n",
    "    r -- interest rate (e.g., r = 0.12 for 12%)\n",
    "    \"\"\"\n",
    "    import numpy as np\n",
    "    # option price in two middle nodes\n",
    "    f_u = oneStepBinomial(call=call, K=K, S0=S0*u, u=u, d=d, T=T, r=r)\n",
    "    f_d = oneStepBinomial(call=call, K=K, S0=S0*d, u=u, d=d, T=T, r=r)\n",
    "\n",
    "    # probability move up\n",
    "    p = (np.exp(r*T)-d)/(u-d)\n",
    "\n",
    "    # option price at initial node\n",
    "    f = np.exp(-r*T)*(p*f_u + (1-p)*f_d)\n",
    "    return f"
   ]
  },
  {
   "cell_type": "code",
   "execution_count": 40,
   "metadata": {},
   "outputs": [
    {
     "data": {
      "text/plain": "1.2821849452741405"
     },
     "execution_count": 40,
     "metadata": {},
     "output_type": "execute_result"
    }
   ],
   "source": [
    "twoStepBinomial(call=True, K=21, S0=20, u=1.1, d=0.9, T=0.25, r=0.12)"
   ]
  },
  {
   "cell_type": "markdown",
   "execution_count": null,
   "metadata": {},
   "outputs": [],
   "source": [
    "# 3. Plot the binomial tree\n",
    "\n",
    "I borrow a function from Yuxing Yang (2017) to draw the plot:"
   ]
  },
  {
   "cell_type": "code",
   "execution_count": 41,
   "metadata": {},
   "outputs": [],
   "source": [
    "def binomial_grid(n):\n",
    "    G=nx.Graph()\n",
    "    for i in range(0,n+1):\n",
    "        for j in range(1,i+2):\n",
    "            if i<n:\n",
    "                G.add_edge((i,j),(i+1,j))\n",
    "                G.add_edge((i,j),(i+1,j+1))\n",
    "    posG={}\n",
    "    for node in G.nodes():\n",
    "        posG[node]=(node[0],n+2+node[0]-2*node[1])\n",
    "    nx.draw(G,pos=posG)"
   ]
  },
  {
   "cell_type": "markdown",
   "execution_count": null,
   "metadata": {},
   "outputs": [],
   "source": [
    "Then apply to our example of two-step tree above:"
   ]
  },
  {
   "cell_type": "code",
   "execution_count": 44,
   "metadata": {},
   "outputs": [
    {
     "ename": "NameError",
     "evalue": "name 'nx' is not defined",
     "output_type": "error",
     "traceback": [
      "\u001b[1;31m---------------------------------------------------------------------------\u001b[0m",
      "\u001b[1;31mNameError\u001b[0m                                 Traceback (most recent call last)",
      "\u001b[1;32m<ipython-input-44-66598afb0442>\u001b[0m in \u001b[0;36m<module>\u001b[1;34m\u001b[0m\n\u001b[0;32m     17\u001b[0m \u001b[0mplt\u001b[0m\u001b[1;33m.\u001b[0m\u001b[0mfigtext\u001b[0m\u001b[1;33m(\u001b[0m\u001b[1;36m0.75\u001b[0m\u001b[1;33m,\u001b[0m\u001b[1;36m0.6\u001b[0m\u001b[1;33m,\u001b[0m \u001b[1;34m'Stock price=$'\u001b[0m \u001b[1;33m+\u001b[0m \u001b[0mstr\u001b[0m\u001b[1;33m(\u001b[0m\u001b[0mS_ud\u001b[0m\u001b[1;33m)\u001b[0m\u001b[1;33m)\u001b[0m\u001b[1;33m\u001b[0m\u001b[1;33m\u001b[0m\u001b[0m\n\u001b[0;32m     18\u001b[0m \u001b[0mplt\u001b[0m\u001b[1;33m.\u001b[0m\u001b[0mfigtext\u001b[0m\u001b[1;33m(\u001b[0m\u001b[1;36m0.75\u001b[0m\u001b[1;33m,\u001b[0m\u001b[1;36m0.28\u001b[0m\u001b[1;33m,\u001b[0m \u001b[1;34m'Stock price='\u001b[0m \u001b[1;33m+\u001b[0m \u001b[0mstr\u001b[0m\u001b[1;33m(\u001b[0m\u001b[0mS_dd\u001b[0m\u001b[1;33m)\u001b[0m\u001b[1;33m)\u001b[0m\u001b[1;33m\u001b[0m\u001b[1;33m\u001b[0m\u001b[0m\n\u001b[1;32m---> 19\u001b[1;33m \u001b[0mbinomial_grid\u001b[0m\u001b[1;33m(\u001b[0m\u001b[0mn\u001b[0m\u001b[1;33m=\u001b[0m\u001b[1;36m2\u001b[0m\u001b[1;33m)\u001b[0m\u001b[1;33m\u001b[0m\u001b[1;33m\u001b[0m\u001b[0m\n\u001b[0m\u001b[0;32m     20\u001b[0m \u001b[0mplt\u001b[0m\u001b[1;33m.\u001b[0m\u001b[0mshow\u001b[0m\u001b[1;33m(\u001b[0m\u001b[1;33m)\u001b[0m\u001b[1;33m\u001b[0m\u001b[1;33m\u001b[0m\u001b[0m\n",
      "\u001b[1;32m<ipython-input-41-6b29d963862a>\u001b[0m in \u001b[0;36mbinomial_grid\u001b[1;34m(n)\u001b[0m\n\u001b[0;32m      1\u001b[0m \u001b[1;32mdef\u001b[0m \u001b[0mbinomial_grid\u001b[0m\u001b[1;33m(\u001b[0m\u001b[0mn\u001b[0m\u001b[1;33m)\u001b[0m\u001b[1;33m:\u001b[0m\u001b[1;33m\u001b[0m\u001b[1;33m\u001b[0m\u001b[0m\n\u001b[1;32m----> 2\u001b[1;33m     \u001b[0mG\u001b[0m\u001b[1;33m=\u001b[0m\u001b[0mnx\u001b[0m\u001b[1;33m.\u001b[0m\u001b[0mGraph\u001b[0m\u001b[1;33m(\u001b[0m\u001b[1;33m)\u001b[0m\u001b[1;33m\u001b[0m\u001b[1;33m\u001b[0m\u001b[0m\n\u001b[0m\u001b[0;32m      3\u001b[0m     \u001b[1;32mfor\u001b[0m \u001b[0mi\u001b[0m \u001b[1;32min\u001b[0m \u001b[0mrange\u001b[0m\u001b[1;33m(\u001b[0m\u001b[1;36m0\u001b[0m\u001b[1;33m,\u001b[0m\u001b[0mn\u001b[0m\u001b[1;33m+\u001b[0m\u001b[1;36m1\u001b[0m\u001b[1;33m)\u001b[0m\u001b[1;33m:\u001b[0m\u001b[1;33m\u001b[0m\u001b[1;33m\u001b[0m\u001b[0m\n\u001b[0;32m      4\u001b[0m         \u001b[1;32mfor\u001b[0m \u001b[0mj\u001b[0m \u001b[1;32min\u001b[0m \u001b[0mrange\u001b[0m\u001b[1;33m(\u001b[0m\u001b[1;36m1\u001b[0m\u001b[1;33m,\u001b[0m\u001b[0mi\u001b[0m\u001b[1;33m+\u001b[0m\u001b[1;36m2\u001b[0m\u001b[1;33m)\u001b[0m\u001b[1;33m:\u001b[0m\u001b[1;33m\u001b[0m\u001b[1;33m\u001b[0m\u001b[0m\n\u001b[0;32m      5\u001b[0m             \u001b[1;32mif\u001b[0m \u001b[0mi\u001b[0m\u001b[1;33m<\u001b[0m\u001b[0mn\u001b[0m\u001b[1;33m:\u001b[0m\u001b[1;33m\u001b[0m\u001b[1;33m\u001b[0m\u001b[0m\n",
      "\u001b[1;31mNameError\u001b[0m: name 'nx' is not defined"
     ]
    }
   ],
   "source": [
    "# our data\n",
    "u = 1.1\n",
    "d = 0.9\n",
    "S0 = 20\n",
    "S_u = S0*u\n",
    "S_d = S0*d\n",
    "S_uu = S_u*u\n",
    "S_ud = S_u*d\n",
    "S_dd = S_d*d\n",
    "\n",
    "# plot it\n",
    "import matplotlib.pyplot as plt\n",
    "plt.figtext(0.08,0.6, 'Stock ' + str(S0))\n",
    "plt.figtext(0.33,0.76, 'Stock price=$' + str(S_u))\n",
    "plt.figtext(0.33,0.27, 'Stock price=' + str(S_d))\n",
    "plt.figtext(0.75,0.91, 'Stock price=$' + str(S_uu))\n",
    "plt.figtext(0.75,0.6, 'Stock price=$' + str(S_ud))\n",
    "plt.figtext(0.75,0.28, 'Stock price=' + str(S_dd))\n",
    "binomial_grid(n=2)\n",
    "plt.show()"
   ]
  },
  {
   "cell_type": "code",
   "execution_count": null,
   "metadata": {},
   "outputs": [],
   "source": []
  }
 ]
}