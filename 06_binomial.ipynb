{
 "nbformat": 4,
 "nbformat_minor": 2,
 "metadata": {
  "language_info": {
   "name": "python",
   "codemirror_mode": {
    "name": "ipython",
    "version": 3
   },
   "version": "3.7.3-final"
  },
  "orig_nbformat": 2,
  "file_extension": ".py",
  "mimetype": "text/x-python",
  "name": "python",
  "npconvert_exporter": "python",
  "pygments_lexer": "ipython3",
  "version": 3,
  "kernelspec": {
   "name": "python37364bitbasecondaaf4415f6e74344a9bdb14afd88a1402d",
   "display_name": "Python 3.7.3 64-bit ('base': conda)"
  }
 },
 "cells": [
  {
   "cell_type": "markdown",
   "execution_count": null,
   "metadata": {},
   "outputs": [],
   "source": [
    "# 1. One-step binomial tree\n",
    "\n",
    "Define:\n",
    "- $S_0$ is current stock price and $f$ is the call option price\n",
    "- The strike price is $K$\n",
    "- Stock price can go up to $S_0 u$ or go down to $S_0 d$\n",
    "- Interest rate is $r$\n",
    "- The time maturity is $T$\n",
    "\n",
    "Assume that the data is as same as we have in our lecture note. Then, we can define a fuction to get the option price $f$ as follows:"
   ]
  },
  {
   "cell_type": "code",
   "execution_count": 6,
   "metadata": {},
   "outputs": [],
   "source": [
    "def oneStepBinomialCall(K, S0, u, d, T, r):\n",
    "    import numpy as np\n",
    "    # option price in two possible cases\n",
    "    f_u = np.max([S0*u-K, 0])\n",
    "    f_d = np.max([S0*d-K, 0])\n",
    "    # probability move up\n",
    "    p = (np.exp(r*T)-d)/(u-d)\n",
    "    # option price\n",
    "    f = np.exp(-r*T)*(p*f_u + (1-p)*f_d)\n",
    "    return f"
   ]
  },
  {
   "cell_type": "code",
   "execution_count": 7,
   "metadata": {},
   "outputs": [
    {
     "data": {
      "text/plain": "0.6329950990317132"
     },
     "execution_count": 7,
     "metadata": {},
     "output_type": "execute_result"
    }
   ],
   "source": [
    "oneStepBinomialCall(K=21, S0=20, u=1.1, d=0.9, T=0.25, r=0.12)"
   ]
  },
  {
   "cell_type": "code",
   "execution_count": 8,
   "metadata": {},
   "outputs": [],
   "source": [
    "?oneStepBinomialCall # return nothing"
   ]
  },
  {
   "cell_type": "markdown",
   "execution_count": null,
   "metadata": {},
   "outputs": [],
   "source": [
    "However, it is better to write down more documentation for a function, so that we can understand it more clearly:"
   ]
  },
  {
   "cell_type": "code",
   "execution_count": 11,
   "metadata": {},
   "outputs": [],
   "source": [
    "def oneStepBinomialCall(K, S0, u, d, T, r):\n",
    "    \"\"\"\n",
    "    This function calculates the option price of a call option.\n",
    "    Keyword arguments:\n",
    "    K -- the strike price\n",
    "    S0 -- the current stock price\n",
    "    u -- the go-up factor (e.g., u = 1.1 for go up 10%)\n",
    "    d -- the go-down factor (e.g., d = 0.9 for go down 10%)\n",
    "    T -- time to maturity (e.g., T = 0.25 for 3-month call option)\n",
    "    r -- interest rate (e.g., r = 0.12 for 12%)\n",
    "    \"\"\"\n",
    "    import numpy as np\n",
    "    # option price in two possible cases\n",
    "    f_u = np.max([S0*u-K, 0])\n",
    "    f_d = np.max([S0*d-K, 0])\n",
    "    # probability move up\n",
    "    p = (np.exp(r*T)-d)/(u-d)\n",
    "    # option price\n",
    "    f = np.exp(-r*T)*(p*f_u + (1-p)*f_d)\n",
    "    return f"
   ]
  },
  {
   "cell_type": "code",
   "execution_count": 13,
   "metadata": {},
   "outputs": [],
   "source": [
    "?oneStepBinomialCall"
   ]
  },
  {
   "cell_type": "markdown",
   "execution_count": null,
   "metadata": {},
   "outputs": [],
   "source": [
    "But, we can use the `if` condition to calculate for both call and put option:"
   ]
  },
  {
   "cell_type": "code",
   "execution_count": 29,
   "metadata": {},
   "outputs": [],
   "source": [
    "def oneStepBinomial(call=True, K=21, S0=20, u=1.1, d=0.9, T=0.25, r=0.12):\n",
    "    \"\"\"\n",
    "    This function calculates the option price of a call option by a one-step binomial model.\n",
    "    Keyword arguments:\n",
    "    call -- call or put option (default is a call option)\n",
    "    K -- the strike price\n",
    "    S0 -- the current stock price\n",
    "    u -- the go-up factor (e.g., u = 1.1 for go up 10%)\n",
    "    d -- the go-down factor (e.g., d = 0.9 for go down 10%)\n",
    "    T -- time to maturity (e.g., T = 0.25 for 3-month call option)\n",
    "    r -- interest rate (e.g., r = 0.12 for 12%)\n",
    "    \"\"\"\n",
    "    import numpy as np\n",
    "    # option price in two possible cases\n",
    "    if (call == True):\n",
    "        f_u = np.max([S0*u - K, 0])\n",
    "        f_d = np.max([S0*d - K, 0])\n",
    "    else:\n",
    "        f_u = np.max([K - S0*u, 0])\n",
    "        f_d = np.max([K - S0*d, 0])\n",
    "    # probability move up\n",
    "    p = (np.exp(r*T)-d)/(u-d)\n",
    "    # option price\n",
    "    f = np.exp(-r*T)*(p*f_u + (1-p)*f_d)\n",
    "    return f"
   ]
  },
  {
   "cell_type": "code",
   "execution_count": 30,
   "metadata": {},
   "outputs": [
    {
     "data": {
      "text/plain": "1.4147530940085673"
     },
     "execution_count": 30,
     "metadata": {},
     "output_type": "execute_result"
    }
   ],
   "source": [
    "oneStepBinomial(call=False, K=52, S0=60, u=1.2, d=0.8, T=1, r=0.05)"
   ]
  },
  {
   "cell_type": "code",
   "execution_count": 31,
   "metadata": {},
   "outputs": [
    {
     "data": {
      "text/plain": "9.463930074037126"
     },
     "execution_count": 31,
     "metadata": {},
     "output_type": "execute_result"
    }
   ],
   "source": [
    "oneStepBinomial(call=False, K=52, S0=40, u=1.2, d=0.8, T=1, r=0.05)"
   ]
  },
  {
   "cell_type": "markdown",
   "execution_count": null,
   "metadata": {},
   "outputs": [],
   "source": [
    "# 2. Two-step binomial tree"
   ]
  },
  {
   "cell_type": "markdown",
   "execution_count": null,
   "metadata": {},
   "outputs": [],
   "source": [
    "A two-step binomial tree includes:\n",
    "- Two middle nodes: each is one-step binomial tree ($f_u$ and $f_d$)\n",
    "- And one initial node at present ($f$)\n",
    "\n",
    "Let's take example from our lecture note (Section 3): the price at the two middle nodes:"
   ]
  },
  {
   "cell_type": "code",
   "execution_count": 36,
   "metadata": {},
   "outputs": [
    {
     "data": {
      "text/plain": "2.0255843169014844"
     },
     "execution_count": 36,
     "metadata": {},
     "output_type": "execute_result"
    }
   ],
   "source": [
    "f_u = oneStepBinomial(call=True, K=21, S0=22, u=1.1, d=0.9, T=0.25, r=0.12)\n",
    "f_u"
   ]
  },
  {
   "cell_type": "code",
   "execution_count": 35,
   "metadata": {},
   "outputs": [
    {
     "data": {
      "text/plain": "0.0"
     },
     "execution_count": 35,
     "metadata": {},
     "output_type": "execute_result"
    }
   ],
   "source": [
    "f_d = oneStepBinomial(call=True, K=21, S0=18, u=1.1, d=0.9, T=0.25, r=0.12)\n",
    "f_d"
   ]
  },
  {
   "cell_type": "markdown",
   "execution_count": null,
   "metadata": {},
   "outputs": [],
   "source": [
    "At the initial node, it is just the the expected value of possible cases, discounted to the present:"
   ]
  },
  {
   "cell_type": "code",
   "execution_count": 38,
   "metadata": {},
   "outputs": [
    {
     "data": {
      "text/plain": "1.2821849452741405"
     },
     "execution_count": 38,
     "metadata": {},
     "output_type": "execute_result"
    }
   ],
   "source": [
    "p = (np.exp(0.12*0.25)-0.9)/(1.1-0.9)\n",
    "f = np.exp(-0.12*0.25)*(p*f_u + (1-p)*f_d)\n",
    "f"
   ]
  },
  {
   "cell_type": "markdown",
   "execution_count": null,
   "metadata": {},
   "outputs": [],
   "source": [
    "Of course, we can wrap as a function too:"
   ]
  },
  {
   "cell_type": "code",
   "execution_count": 39,
   "metadata": {},
   "outputs": [],
   "source": [
    "def twoStepBinomial(call=True, K=21, S0=20, u=1.1, d=0.9, T=0.25, r=0.12):\n",
    "    \"\"\"\n",
    "    This function calculates the option price of a option by two-step binomial models.\n",
    "    Keyword arguments:\n",
    "    call -- call or put option (default is a call option)\n",
    "    K -- the strike price\n",
    "    S0 -- the current stock price\n",
    "    u -- the go-up factor (e.g., u = 1.1 for go up 10%)\n",
    "    d -- the go-down factor (e.g., d = 0.9 for go down 10%)\n",
    "    T -- time to maturity (e.g., T = 0.25 for 3-month call option)\n",
    "    r -- interest rate (e.g., r = 0.12 for 12%)\n",
    "    \"\"\"\n",
    "    import numpy as np\n",
    "    # option price in two middle nodes\n",
    "    f_u = oneStepBinomial(call=call, K=K, S0=S0*u, u=u, d=d, T=T, r=r)\n",
    "    f_d = oneStepBinomial(call=call, K=K, S0=S0*d, u=u, d=d, T=T, r=r)\n",
    "\n",
    "    # probability move up\n",
    "    p = (np.exp(r*T)-d)/(u-d)\n",
    "\n",
    "    # option price at initial node\n",
    "    f = np.exp(-r*T)*(p*f_u + (1-p)*f_d)\n",
    "    return f"
   ]
  },
  {
   "cell_type": "code",
   "execution_count": 40,
   "metadata": {},
   "outputs": [
    {
     "data": {
      "text/plain": "1.2821849452741405"
     },
     "execution_count": 40,
     "metadata": {},
     "output_type": "execute_result"
    }
   ],
   "source": [
    "twoStepBinomial(call=True, K=21, S0=20, u=1.1, d=0.9, T=0.25, r=0.12)"
   ]
  },
  {
   "cell_type": "markdown",
   "execution_count": null,
   "metadata": {},
   "outputs": [],
   "source": [
    "# 3. Plot the binomial tree\n",
    "\n",
    "I borrow a function from Yuxing Yang (2017) to draw the plot:"
   ]
  },
  {
   "cell_type": "code",
   "execution_count": 47,
   "metadata": {},
   "outputs": [],
   "source": [
    "def binomial_grid(n):\n",
    "    import networkx as nx\n",
    "    G=nx.Graph()\n",
    "    for i in range(0,n+1):\n",
    "        for j in range(1,i+2):\n",
    "            if i<n:\n",
    "                G.add_edge((i,j),(i+1,j))\n",
    "                G.add_edge((i,j),(i+1,j+1))\n",
    "    posG={}\n",
    "    for node in G.nodes():\n",
    "        posG[node]=(node[0],n+2+node[0]-2*node[1])\n",
    "    nx.draw(G,pos=posG)"
   ]
  },
  {
   "cell_type": "markdown",
   "execution_count": null,
   "metadata": {},
   "outputs": [],
   "source": [
    "Then apply to our example of two-step tree above:"
   ]
  },
  {
   "cell_type": "code",
   "execution_count": 48,
   "metadata": {},
   "outputs": [
    {
     "data": {
      "image/png": "[encoded data removed]",
      "image/svg+xml": "<?xml version=\"1.0\" encoding=\"utf-8\" standalone=\"no\"?>\r\n<!DOCTYPE svg PUBLIC \"-//W3C//DTD SVG 1.1//EN\"\r\n  \"http://www.w3.org/Graphics/SVG/1.1/DTD/svg11.dtd\">\r\n<!-- Created with matplotlib (https://matplotlib.org/) -->\r\n<svg height=\"302.4pt\" version=\"1.1\" viewBox=\"0 0 520.226562 302.4\" width=\"520.226562pt\" xmlns=\"http://www.w3.org/2000/svg\" xmlns:xlink=\"http://www.w3.org/1999/xlink\">\r\n <defs>\r\n  <style type=\"text/css\">\r\n*{stroke-linecap:butt;stroke-linejoin:round;}\r\n  </style>\r\n </defs>\r\n <g id=\"figure_1\">\r\n  <g id=\"patch_1\">\r\n   <path d=\"M 0 302.4 \r\nL 520.226562 302.4 \r\nL 520.226562 0 \r\nL 0 0 \r\nz\r\n\" style=\"fill:#ffffff;\"/>\r\n  </g>\r\n  <g id=\"axes_1\">\r\n   <g id=\"LineCollection_1\">\r\n    <path clip-path=\"url(#peb87183d0f)\" d=\"M 30.695479 151.2 \r\nL 223.2 86.714997 \r\n\" style=\"fill:none;stroke:#000000;\"/>\r\n    <path clip-path=\"url(#peb87183d0f)\" d=\"M 30.695479 151.2 \r\nL 223.2 215.685003 \r\n\" style=\"fill:none;stroke:#000000;\"/>\r\n    <path clip-path=\"url(#peb87183d0f)\" d=\"M 223.2 86.714997 \r\nL 415.704521 22.229994 \r\n\" style=\"fill:none;stroke:#000000;\"/>\r\n    <path clip-path=\"url(#peb87183d0f)\" d=\"M 223.2 86.714997 \r\nL 415.704521 151.2 \r\n\" style=\"fill:none;stroke:#000000;\"/>\r\n    <path clip-path=\"url(#peb87183d0f)\" d=\"M 223.2 215.685003 \r\nL 415.704521 151.2 \r\n\" style=\"fill:none;stroke:#000000;\"/>\r\n    <path clip-path=\"url(#peb87183d0f)\" d=\"M 223.2 215.685003 \r\nL 415.704521 280.170006 \r\n\" style=\"fill:none;stroke:#000000;\"/>\r\n   </g>\r\n   <g id=\"PathCollection_1\">\r\n    <defs>\r\n     <path d=\"M 0 8.660254 \r\nC 2.296726 8.660254 4.499694 7.747755 6.123724 6.123724 \r\nC 7.747755 4.499694 8.660254 2.296726 8.660254 0 \r\nC 8.660254 -2.296726 7.747755 -4.499694 6.123724 -6.123724 \r\nC 4.499694 -7.747755 2.296726 -8.660254 0 -8.660254 \r\nC -2.296726 -8.660254 -4.499694 -7.747755 -6.123724 -6.123724 \r\nC -7.747755 -4.499694 -8.660254 -2.296726 -8.660254 0 \r\nC -8.660254 2.296726 -7.747755 4.499694 -6.123724 6.123724 \r\nC -4.499694 7.747755 -2.296726 8.660254 0 8.660254 \r\nz\r\n\" id=\"mda5bc1ccba\" style=\"stroke:#1f78b4;\"/>\r\n    </defs>\r\n    <g clip-path=\"url(#peb87183d0f)\">\r\n     <use style=\"fill:#1f78b4;stroke:#1f78b4;\" x=\"30.695479\" xlink:href=\"#mda5bc1ccba\" y=\"151.2\"/>\r\n     <use style=\"fill:#1f78b4;stroke:#1f78b4;\" x=\"223.2\" xlink:href=\"#mda5bc1ccba\" y=\"86.714997\"/>\r\n     <use style=\"fill:#1f78b4;stroke:#1f78b4;\" x=\"223.2\" xlink:href=\"#mda5bc1ccba\" y=\"215.685003\"/>\r\n     <use style=\"fill:#1f78b4;stroke:#1f78b4;\" x=\"415.704521\" xlink:href=\"#mda5bc1ccba\" y=\"22.229994\"/>\r\n     <use style=\"fill:#1f78b4;stroke:#1f78b4;\" x=\"415.704521\" xlink:href=\"#mda5bc1ccba\" y=\"151.2\"/>\r\n     <use style=\"fill:#1f78b4;stroke:#1f78b4;\" x=\"415.704521\" xlink:href=\"#mda5bc1ccba\" y=\"280.170006\"/>\r\n    </g>\r\n   </g>\r\n  </g>\r\n  <g id=\"text_1\">\r\n   <!-- Stock 20 -->\r\n   <defs>\r\n    <path d=\"M 53.515625 70.515625 \r\nL 53.515625 60.890625 \r\nQ 47.90625 63.578125 42.921875 64.890625 \r\nQ 37.9375 66.21875 33.296875 66.21875 \r\nQ 25.25 66.21875 20.875 63.09375 \r\nQ 16.5 59.96875 16.5 54.203125 \r\nQ 16.5 49.359375 19.40625 46.890625 \r\nQ 22.3125 44.4375 30.421875 42.921875 \r\nL 36.375 41.703125 \r\nQ 47.40625 39.59375 52.65625 34.296875 \r\nQ 57.90625 29 57.90625 20.125 \r\nQ 57.90625 9.515625 50.796875 4.046875 \r\nQ 43.703125 -1.421875 29.984375 -1.421875 \r\nQ 24.8125 -1.421875 18.96875 -0.25 \r\nQ 13.140625 0.921875 6.890625 3.21875 \r\nL 6.890625 13.375 \r\nQ 12.890625 10.015625 18.65625 8.296875 \r\nQ 24.421875 6.59375 29.984375 6.59375 \r\nQ 38.421875 6.59375 43.015625 9.90625 \r\nQ 47.609375 13.234375 47.609375 19.390625 \r\nQ 47.609375 24.75 44.3125 27.78125 \r\nQ 41.015625 30.8125 33.5 32.328125 \r\nL 27.484375 33.5 \r\nQ 16.453125 35.6875 11.515625 40.375 \r\nQ 6.59375 45.0625 6.59375 53.421875 \r\nQ 6.59375 63.09375 13.40625 68.65625 \r\nQ 20.21875 74.21875 32.171875 74.21875 \r\nQ 37.3125 74.21875 42.625 73.28125 \r\nQ 47.953125 72.359375 53.515625 70.515625 \r\nz\r\n\" id=\"DejaVuSans-83\"/>\r\n    <path d=\"M 18.3125 70.21875 \r\nL 18.3125 54.6875 \r\nL 36.8125 54.6875 \r\nL 36.8125 47.703125 \r\nL 18.3125 47.703125 \r\nL 18.3125 18.015625 \r\nQ 18.3125 11.328125 20.140625 9.421875 \r\nQ 21.96875 7.515625 27.59375 7.515625 \r\nL 36.8125 7.515625 \r\nL 36.8125 0 \r\nL 27.59375 0 \r\nQ 17.1875 0 13.234375 3.875 \r\nQ 9.28125 7.765625 9.28125 18.015625 \r\nL 9.28125 47.703125 \r\nL 2.6875 47.703125 \r\nL 2.6875 54.6875 \r\nL 9.28125 54.6875 \r\nL 9.28125 70.21875 \r\nz\r\n\" id=\"DejaVuSans-116\"/>\r\n    <path d=\"M 30.609375 48.390625 \r\nQ 23.390625 48.390625 19.1875 42.75 \r\nQ 14.984375 37.109375 14.984375 27.296875 \r\nQ 14.984375 17.484375 19.15625 11.84375 \r\nQ 23.34375 6.203125 30.609375 6.203125 \r\nQ 37.796875 6.203125 41.984375 11.859375 \r\nQ 46.1875 17.53125 46.1875 27.296875 \r\nQ 46.1875 37.015625 41.984375 42.703125 \r\nQ 37.796875 48.390625 30.609375 48.390625 \r\nz\r\nM 30.609375 56 \r\nQ 42.328125 56 49.015625 48.375 \r\nQ 55.71875 40.765625 55.71875 27.296875 \r\nQ 55.71875 13.875 49.015625 6.21875 \r\nQ 42.328125 -1.421875 30.609375 -1.421875 \r\nQ 18.84375 -1.421875 12.171875 6.21875 \r\nQ 5.515625 13.875 5.515625 27.296875 \r\nQ 5.515625 40.765625 12.171875 48.375 \r\nQ 18.84375 56 30.609375 56 \r\nz\r\n\" id=\"DejaVuSans-111\"/>\r\n    <path d=\"M 48.78125 52.59375 \r\nL 48.78125 44.1875 \r\nQ 44.96875 46.296875 41.140625 47.34375 \r\nQ 37.3125 48.390625 33.40625 48.390625 \r\nQ 24.65625 48.390625 19.8125 42.84375 \r\nQ 14.984375 37.3125 14.984375 27.296875 \r\nQ 14.984375 17.28125 19.8125 11.734375 \r\nQ 24.65625 6.203125 33.40625 6.203125 \r\nQ 37.3125 6.203125 41.140625 7.25 \r\nQ 44.96875 8.296875 48.78125 10.40625 \r\nL 48.78125 2.09375 \r\nQ 45.015625 0.34375 40.984375 -0.53125 \r\nQ 36.96875 -1.421875 32.421875 -1.421875 \r\nQ 20.0625 -1.421875 12.78125 6.34375 \r\nQ 5.515625 14.109375 5.515625 27.296875 \r\nQ 5.515625 40.671875 12.859375 48.328125 \r\nQ 20.21875 56 33.015625 56 \r\nQ 37.15625 56 41.109375 55.140625 \r\nQ 45.0625 54.296875 48.78125 52.59375 \r\nz\r\n\" id=\"DejaVuSans-99\"/>\r\n    <path d=\"M 9.078125 75.984375 \r\nL 18.109375 75.984375 \r\nL 18.109375 31.109375 \r\nL 44.921875 54.6875 \r\nL 56.390625 54.6875 \r\nL 27.390625 29.109375 \r\nL 57.625 0 \r\nL 45.90625 0 \r\nL 18.109375 26.703125 \r\nL 18.109375 0 \r\nL 9.078125 0 \r\nz\r\n\" id=\"DejaVuSans-107\"/>\r\n    <path id=\"DejaVuSans-32\"/>\r\n    <path d=\"M 19.1875 8.296875 \r\nL 53.609375 8.296875 \r\nL 53.609375 0 \r\nL 7.328125 0 \r\nL 7.328125 8.296875 \r\nQ 12.9375 14.109375 22.625 23.890625 \r\nQ 32.328125 33.6875 34.8125 36.53125 \r\nQ 39.546875 41.84375 41.421875 45.53125 \r\nQ 43.3125 49.21875 43.3125 52.78125 \r\nQ 43.3125 58.59375 39.234375 62.25 \r\nQ 35.15625 65.921875 28.609375 65.921875 \r\nQ 23.96875 65.921875 18.8125 64.3125 \r\nQ 13.671875 62.703125 7.8125 59.421875 \r\nL 7.8125 69.390625 \r\nQ 13.765625 71.78125 18.9375 73 \r\nQ 24.125 74.21875 28.421875 74.21875 \r\nQ 39.75 74.21875 46.484375 68.546875 \r\nQ 53.21875 62.890625 53.21875 53.421875 \r\nQ 53.21875 48.921875 51.53125 44.890625 \r\nQ 49.859375 40.875 45.40625 35.40625 \r\nQ 44.1875 33.984375 37.640625 27.21875 \r\nQ 31.109375 20.453125 19.1875 8.296875 \r\nz\r\n\" id=\"DejaVuSans-50\"/>\r\n    <path d=\"M 31.78125 66.40625 \r\nQ 24.171875 66.40625 20.328125 58.90625 \r\nQ 16.5 51.421875 16.5 36.375 \r\nQ 16.5 21.390625 20.328125 13.890625 \r\nQ 24.171875 6.390625 31.78125 6.390625 \r\nQ 39.453125 6.390625 43.28125 13.890625 \r\nQ 47.125 21.390625 47.125 36.375 \r\nQ 47.125 51.421875 43.28125 58.90625 \r\nQ 39.453125 66.40625 31.78125 66.40625 \r\nz\r\nM 31.78125 74.21875 \r\nQ 44.046875 74.21875 50.515625 64.515625 \r\nQ 56.984375 54.828125 56.984375 36.375 \r\nQ 56.984375 17.96875 50.515625 8.265625 \r\nQ 44.046875 -1.421875 31.78125 -1.421875 \r\nQ 19.53125 -1.421875 13.0625 8.265625 \r\nQ 6.59375 17.96875 6.59375 36.375 \r\nQ 6.59375 54.828125 13.0625 64.515625 \r\nQ 19.53125 74.21875 31.78125 74.21875 \r\nz\r\n\" id=\"DejaVuSans-48\"/>\r\n   </defs>\r\n   <g transform=\"translate(41.76 122.4)scale(0.1 -0.1)\">\r\n    <use xlink:href=\"#DejaVuSans-83\"/>\r\n    <use x=\"63.476562\" xlink:href=\"#DejaVuSans-116\"/>\r\n    <use x=\"102.685547\" xlink:href=\"#DejaVuSans-111\"/>\r\n    <use x=\"163.867188\" xlink:href=\"#DejaVuSans-99\"/>\r\n    <use x=\"218.847656\" xlink:href=\"#DejaVuSans-107\"/>\r\n    <use x=\"276.757812\" xlink:href=\"#DejaVuSans-32\"/>\r\n    <use x=\"308.544922\" xlink:href=\"#DejaVuSans-50\"/>\r\n    <use x=\"372.167969\" xlink:href=\"#DejaVuSans-48\"/>\r\n   </g>\r\n  </g>\r\n  <g id=\"text_2\">\r\n   <!-- Stock price=$22.0 -->\r\n   <defs>\r\n    <path d=\"M 18.109375 8.203125 \r\nL 18.109375 -20.796875 \r\nL 9.078125 -20.796875 \r\nL 9.078125 54.6875 \r\nL 18.109375 54.6875 \r\nL 18.109375 46.390625 \r\nQ 20.953125 51.265625 25.265625 53.625 \r\nQ 29.59375 56 35.59375 56 \r\nQ 45.5625 56 51.78125 48.09375 \r\nQ 58.015625 40.1875 58.015625 27.296875 \r\nQ 58.015625 14.40625 51.78125 6.484375 \r\nQ 45.5625 -1.421875 35.59375 -1.421875 \r\nQ 29.59375 -1.421875 25.265625 0.953125 \r\nQ 20.953125 3.328125 18.109375 8.203125 \r\nz\r\nM 48.6875 27.296875 \r\nQ 48.6875 37.203125 44.609375 42.84375 \r\nQ 40.53125 48.484375 33.40625 48.484375 \r\nQ 26.265625 48.484375 22.1875 42.84375 \r\nQ 18.109375 37.203125 18.109375 27.296875 \r\nQ 18.109375 17.390625 22.1875 11.75 \r\nQ 26.265625 6.109375 33.40625 6.109375 \r\nQ 40.53125 6.109375 44.609375 11.75 \r\nQ 48.6875 17.390625 48.6875 27.296875 \r\nz\r\n\" id=\"DejaVuSans-112\"/>\r\n    <path d=\"M 41.109375 46.296875 \r\nQ 39.59375 47.171875 37.8125 47.578125 \r\nQ 36.03125 48 33.890625 48 \r\nQ 26.265625 48 22.1875 43.046875 \r\nQ 18.109375 38.09375 18.109375 28.8125 \r\nL 18.109375 0 \r\nL 9.078125 0 \r\nL 9.078125 54.6875 \r\nL 18.109375 54.6875 \r\nL 18.109375 46.1875 \r\nQ 20.953125 51.171875 25.484375 53.578125 \r\nQ 30.03125 56 36.53125 56 \r\nQ 37.453125 56 38.578125 55.875 \r\nQ 39.703125 55.765625 41.0625 55.515625 \r\nz\r\n\" id=\"DejaVuSans-114\"/>\r\n    <path d=\"M 9.421875 54.6875 \r\nL 18.40625 54.6875 \r\nL 18.40625 0 \r\nL 9.421875 0 \r\nz\r\nM 9.421875 75.984375 \r\nL 18.40625 75.984375 \r\nL 18.40625 64.59375 \r\nL 9.421875 64.59375 \r\nz\r\n\" id=\"DejaVuSans-105\"/>\r\n    <path d=\"M 56.203125 29.59375 \r\nL 56.203125 25.203125 \r\nL 14.890625 25.203125 \r\nQ 15.484375 15.921875 20.484375 11.0625 \r\nQ 25.484375 6.203125 34.421875 6.203125 \r\nQ 39.59375 6.203125 44.453125 7.46875 \r\nQ 49.3125 8.734375 54.109375 11.28125 \r\nL 54.109375 2.78125 \r\nQ 49.265625 0.734375 44.1875 -0.34375 \r\nQ 39.109375 -1.421875 33.890625 -1.421875 \r\nQ 20.796875 -1.421875 13.15625 6.1875 \r\nQ 5.515625 13.8125 5.515625 26.8125 \r\nQ 5.515625 40.234375 12.765625 48.109375 \r\nQ 20.015625 56 32.328125 56 \r\nQ 43.359375 56 49.78125 48.890625 \r\nQ 56.203125 41.796875 56.203125 29.59375 \r\nz\r\nM 47.21875 32.234375 \r\nQ 47.125 39.59375 43.09375 43.984375 \r\nQ 39.0625 48.390625 32.421875 48.390625 \r\nQ 24.90625 48.390625 20.390625 44.140625 \r\nQ 15.875 39.890625 15.1875 32.171875 \r\nz\r\n\" id=\"DejaVuSans-101\"/>\r\n    <path d=\"M 10.59375 45.40625 \r\nL 73.1875 45.40625 \r\nL 73.1875 37.203125 \r\nL 10.59375 37.203125 \r\nz\r\nM 10.59375 25.484375 \r\nL 73.1875 25.484375 \r\nL 73.1875 17.1875 \r\nL 10.59375 17.1875 \r\nz\r\n\" id=\"DejaVuSans-61\"/>\r\n    <path d=\"M 33.796875 -14.703125 \r\nL 28.90625 -14.703125 \r\nL 28.859375 0 \r\nQ 23.734375 0.09375 18.609375 1.1875 \r\nQ 13.484375 2.296875 8.296875 4.5 \r\nL 8.296875 13.28125 \r\nQ 13.28125 10.15625 18.375 8.5625 \r\nQ 23.484375 6.984375 28.90625 6.9375 \r\nL 28.90625 29.203125 \r\nQ 18.109375 30.953125 13.203125 35.15625 \r\nQ 8.296875 39.359375 8.296875 46.6875 \r\nQ 8.296875 54.640625 13.625 59.21875 \r\nQ 18.953125 63.8125 28.90625 64.5 \r\nL 28.90625 75.984375 \r\nL 33.796875 75.984375 \r\nL 33.796875 64.65625 \r\nQ 38.328125 64.453125 42.578125 63.6875 \r\nQ 46.828125 62.9375 50.875 61.625 \r\nL 50.875 53.078125 \r\nQ 46.828125 55.125 42.546875 56.25 \r\nQ 38.28125 57.375 33.796875 57.5625 \r\nL 33.796875 36.71875 \r\nQ 44.875 35.015625 50.09375 30.609375 \r\nQ 55.328125 26.21875 55.328125 18.609375 \r\nQ 55.328125 10.359375 49.78125 5.59375 \r\nQ 44.234375 0.828125 33.796875 0.09375 \r\nz\r\nM 28.90625 37.59375 \r\nL 28.90625 57.625 \r\nQ 23.25 56.984375 20.265625 54.390625 \r\nQ 17.28125 51.8125 17.28125 47.515625 \r\nQ 17.28125 43.3125 20.03125 40.96875 \r\nQ 22.796875 38.625 28.90625 37.59375 \r\nz\r\nM 33.796875 28.21875 \r\nL 33.796875 7.078125 \r\nQ 39.984375 7.90625 43.140625 10.59375 \r\nQ 46.296875 13.28125 46.296875 17.671875 \r\nQ 46.296875 21.96875 43.28125 24.5 \r\nQ 40.28125 27.046875 33.796875 28.21875 \r\nz\r\n\" id=\"DejaVuSans-36\"/>\r\n    <path d=\"M 10.6875 12.40625 \r\nL 21 12.40625 \r\nL 21 0 \r\nL 10.6875 0 \r\nz\r\n\" id=\"DejaVuSans-46\"/>\r\n   </defs>\r\n   <g transform=\"translate(149.76 76.32)scale(0.1 -0.1)\">\r\n    <use xlink:href=\"#DejaVuSans-83\"/>\r\n    <use x=\"63.476562\" xlink:href=\"#DejaVuSans-116\"/>\r\n    <use x=\"102.685547\" xlink:href=\"#DejaVuSans-111\"/>\r\n    <use x=\"163.867188\" xlink:href=\"#DejaVuSans-99\"/>\r\n    <use x=\"218.847656\" xlink:href=\"#DejaVuSans-107\"/>\r\n    <use x=\"276.757812\" xlink:href=\"#DejaVuSans-32\"/>\r\n    <use x=\"308.544922\" xlink:href=\"#DejaVuSans-112\"/>\r\n    <use x=\"372.021484\" xlink:href=\"#DejaVuSans-114\"/>\r\n    <use x=\"413.134766\" xlink:href=\"#DejaVuSans-105\"/>\r\n    <use x=\"440.917969\" xlink:href=\"#DejaVuSans-99\"/>\r\n    <use x=\"495.898438\" xlink:href=\"#DejaVuSans-101\"/>\r\n    <use x=\"557.421875\" xlink:href=\"#DejaVuSans-61\"/>\r\n    <use x=\"641.210938\" xlink:href=\"#DejaVuSans-36\"/>\r\n    <use x=\"704.833984\" xlink:href=\"#DejaVuSans-50\"/>\r\n    <use x=\"768.457031\" xlink:href=\"#DejaVuSans-50\"/>\r\n    <use x=\"832.080078\" xlink:href=\"#DejaVuSans-46\"/>\r\n    <use x=\"863.867188\" xlink:href=\"#DejaVuSans-48\"/>\r\n   </g>\r\n  </g>\r\n  <g id=\"text_3\">\r\n   <!-- Stock price=18.0 -->\r\n   <defs>\r\n    <path d=\"M 12.40625 8.296875 \r\nL 28.515625 8.296875 \r\nL 28.515625 63.921875 \r\nL 10.984375 60.40625 \r\nL 10.984375 69.390625 \r\nL 28.421875 72.90625 \r\nL 38.28125 72.90625 \r\nL 38.28125 8.296875 \r\nL 54.390625 8.296875 \r\nL 54.390625 0 \r\nL 12.40625 0 \r\nz\r\n\" id=\"DejaVuSans-49\"/>\r\n    <path d=\"M 31.78125 34.625 \r\nQ 24.75 34.625 20.71875 30.859375 \r\nQ 16.703125 27.09375 16.703125 20.515625 \r\nQ 16.703125 13.921875 20.71875 10.15625 \r\nQ 24.75 6.390625 31.78125 6.390625 \r\nQ 38.8125 6.390625 42.859375 10.171875 \r\nQ 46.921875 13.96875 46.921875 20.515625 \r\nQ 46.921875 27.09375 42.890625 30.859375 \r\nQ 38.875 34.625 31.78125 34.625 \r\nz\r\nM 21.921875 38.8125 \r\nQ 15.578125 40.375 12.03125 44.71875 \r\nQ 8.5 49.078125 8.5 55.328125 \r\nQ 8.5 64.0625 14.71875 69.140625 \r\nQ 20.953125 74.21875 31.78125 74.21875 \r\nQ 42.671875 74.21875 48.875 69.140625 \r\nQ 55.078125 64.0625 55.078125 55.328125 \r\nQ 55.078125 49.078125 51.53125 44.71875 \r\nQ 48 40.375 41.703125 38.8125 \r\nQ 48.828125 37.15625 52.796875 32.3125 \r\nQ 56.78125 27.484375 56.78125 20.515625 \r\nQ 56.78125 9.90625 50.3125 4.234375 \r\nQ 43.84375 -1.421875 31.78125 -1.421875 \r\nQ 19.734375 -1.421875 13.25 4.234375 \r\nQ 6.78125 9.90625 6.78125 20.515625 \r\nQ 6.78125 27.484375 10.78125 32.3125 \r\nQ 14.796875 37.15625 21.921875 38.8125 \r\nz\r\nM 18.3125 54.390625 \r\nQ 18.3125 48.734375 21.84375 45.5625 \r\nQ 25.390625 42.390625 31.78125 42.390625 \r\nQ 38.140625 42.390625 41.71875 45.5625 \r\nQ 45.3125 48.734375 45.3125 54.390625 \r\nQ 45.3125 60.0625 41.71875 63.234375 \r\nQ 38.140625 66.40625 31.78125 66.40625 \r\nQ 25.390625 66.40625 21.84375 63.234375 \r\nQ 18.3125 60.0625 18.3125 54.390625 \r\nz\r\n\" id=\"DejaVuSans-56\"/>\r\n   </defs>\r\n   <g transform=\"translate(149.76 217.44)scale(0.1 -0.1)\">\r\n    <use xlink:href=\"#DejaVuSans-83\"/>\r\n    <use x=\"63.476562\" xlink:href=\"#DejaVuSans-116\"/>\r\n    <use x=\"102.685547\" xlink:href=\"#DejaVuSans-111\"/>\r\n    <use x=\"163.867188\" xlink:href=\"#DejaVuSans-99\"/>\r\n    <use x=\"218.847656\" xlink:href=\"#DejaVuSans-107\"/>\r\n    <use x=\"276.757812\" xlink:href=\"#DejaVuSans-32\"/>\r\n    <use x=\"308.544922\" xlink:href=\"#DejaVuSans-112\"/>\r\n    <use x=\"372.021484\" xlink:href=\"#DejaVuSans-114\"/>\r\n    <use x=\"413.134766\" xlink:href=\"#DejaVuSans-105\"/>\r\n    <use x=\"440.917969\" xlink:href=\"#DejaVuSans-99\"/>\r\n    <use x=\"495.898438\" xlink:href=\"#DejaVuSans-101\"/>\r\n    <use x=\"557.421875\" xlink:href=\"#DejaVuSans-61\"/>\r\n    <use x=\"641.210938\" xlink:href=\"#DejaVuSans-49\"/>\r\n    <use x=\"704.833984\" xlink:href=\"#DejaVuSans-56\"/>\r\n    <use x=\"768.457031\" xlink:href=\"#DejaVuSans-46\"/>\r\n    <use x=\"800.244141\" xlink:href=\"#DejaVuSans-48\"/>\r\n   </g>\r\n  </g>\r\n  <g id=\"text_4\">\r\n   <!-- Stock price=$24.200000000000003 -->\r\n   <defs>\r\n    <path d=\"M 37.796875 64.3125 \r\nL 12.890625 25.390625 \r\nL 37.796875 25.390625 \r\nz\r\nM 35.203125 72.90625 \r\nL 47.609375 72.90625 \r\nL 47.609375 25.390625 \r\nL 58.015625 25.390625 \r\nL 58.015625 17.1875 \r\nL 47.609375 17.1875 \r\nL 47.609375 0 \r\nL 37.796875 0 \r\nL 37.796875 17.1875 \r\nL 4.890625 17.1875 \r\nL 4.890625 26.703125 \r\nz\r\n\" id=\"DejaVuSans-52\"/>\r\n    <path d=\"M 40.578125 39.3125 \r\nQ 47.65625 37.796875 51.625 33 \r\nQ 55.609375 28.21875 55.609375 21.1875 \r\nQ 55.609375 10.40625 48.1875 4.484375 \r\nQ 40.765625 -1.421875 27.09375 -1.421875 \r\nQ 22.515625 -1.421875 17.65625 -0.515625 \r\nQ 12.796875 0.390625 7.625 2.203125 \r\nL 7.625 11.71875 \r\nQ 11.71875 9.328125 16.59375 8.109375 \r\nQ 21.484375 6.890625 26.8125 6.890625 \r\nQ 36.078125 6.890625 40.9375 10.546875 \r\nQ 45.796875 14.203125 45.796875 21.1875 \r\nQ 45.796875 27.640625 41.28125 31.265625 \r\nQ 36.765625 34.90625 28.71875 34.90625 \r\nL 20.21875 34.90625 \r\nL 20.21875 43.015625 \r\nL 29.109375 43.015625 \r\nQ 36.375 43.015625 40.234375 45.921875 \r\nQ 44.09375 48.828125 44.09375 54.296875 \r\nQ 44.09375 59.90625 40.109375 62.90625 \r\nQ 36.140625 65.921875 28.71875 65.921875 \r\nQ 24.65625 65.921875 20.015625 65.03125 \r\nQ 15.375 64.15625 9.8125 62.3125 \r\nL 9.8125 71.09375 \r\nQ 15.4375 72.65625 20.34375 73.4375 \r\nQ 25.25 74.21875 29.59375 74.21875 \r\nQ 40.828125 74.21875 47.359375 69.109375 \r\nQ 53.90625 64.015625 53.90625 55.328125 \r\nQ 53.90625 49.265625 50.4375 45.09375 \r\nQ 46.96875 40.921875 40.578125 39.3125 \r\nz\r\n\" id=\"DejaVuSans-51\"/>\r\n   </defs>\r\n   <g transform=\"translate(331.2 33.12)scale(0.1 -0.1)\">\r\n    <use xlink:href=\"#DejaVuSans-83\"/>\r\n    <use x=\"63.476562\" xlink:href=\"#DejaVuSans-116\"/>\r\n    <use x=\"102.685547\" xlink:href=\"#DejaVuSans-111\"/>\r\n    <use x=\"163.867188\" xlink:href=\"#DejaVuSans-99\"/>\r\n    <use x=\"218.847656\" xlink:href=\"#DejaVuSans-107\"/>\r\n    <use x=\"276.757812\" xlink:href=\"#DejaVuSans-32\"/>\r\n    <use x=\"308.544922\" xlink:href=\"#DejaVuSans-112\"/>\r\n    <use x=\"372.021484\" xlink:href=\"#DejaVuSans-114\"/>\r\n    <use x=\"413.134766\" xlink:href=\"#DejaVuSans-105\"/>\r\n    <use x=\"440.917969\" xlink:href=\"#DejaVuSans-99\"/>\r\n    <use x=\"495.898438\" xlink:href=\"#DejaVuSans-101\"/>\r\n    <use x=\"557.421875\" xlink:href=\"#DejaVuSans-61\"/>\r\n    <use x=\"641.210938\" xlink:href=\"#DejaVuSans-36\"/>\r\n    <use x=\"704.833984\" xlink:href=\"#DejaVuSans-50\"/>\r\n    <use x=\"768.457031\" xlink:href=\"#DejaVuSans-52\"/>\r\n    <use x=\"832.080078\" xlink:href=\"#DejaVuSans-46\"/>\r\n    <use x=\"863.867188\" xlink:href=\"#DejaVuSans-50\"/>\r\n    <use x=\"927.490234\" xlink:href=\"#DejaVuSans-48\"/>\r\n    <use x=\"991.113281\" xlink:href=\"#DejaVuSans-48\"/>\r\n    <use x=\"1054.736328\" xlink:href=\"#DejaVuSans-48\"/>\r\n    <use x=\"1118.359375\" xlink:href=\"#DejaVuSans-48\"/>\r\n    <use x=\"1181.982422\" xlink:href=\"#DejaVuSans-48\"/>\r\n    <use x=\"1245.605469\" xlink:href=\"#DejaVuSans-48\"/>\r\n    <use x=\"1309.228516\" xlink:href=\"#DejaVuSans-48\"/>\r\n    <use x=\"1372.851562\" xlink:href=\"#DejaVuSans-48\"/>\r\n    <use x=\"1436.474609\" xlink:href=\"#DejaVuSans-48\"/>\r\n    <use x=\"1500.097656\" xlink:href=\"#DejaVuSans-48\"/>\r\n    <use x=\"1563.720703\" xlink:href=\"#DejaVuSans-48\"/>\r\n    <use x=\"1627.34375\" xlink:href=\"#DejaVuSans-48\"/>\r\n    <use x=\"1690.966797\" xlink:href=\"#DejaVuSans-48\"/>\r\n    <use x=\"1754.589844\" xlink:href=\"#DejaVuSans-51\"/>\r\n   </g>\r\n  </g>\r\n  <g id=\"text_5\">\r\n   <!-- Stock price=$19.8 -->\r\n   <defs>\r\n    <path d=\"M 10.984375 1.515625 \r\nL 10.984375 10.5 \r\nQ 14.703125 8.734375 18.5 7.8125 \r\nQ 22.3125 6.890625 25.984375 6.890625 \r\nQ 35.75 6.890625 40.890625 13.453125 \r\nQ 46.046875 20.015625 46.78125 33.40625 \r\nQ 43.953125 29.203125 39.59375 26.953125 \r\nQ 35.25 24.703125 29.984375 24.703125 \r\nQ 19.046875 24.703125 12.671875 31.3125 \r\nQ 6.296875 37.9375 6.296875 49.421875 \r\nQ 6.296875 60.640625 12.9375 67.421875 \r\nQ 19.578125 74.21875 30.609375 74.21875 \r\nQ 43.265625 74.21875 49.921875 64.515625 \r\nQ 56.59375 54.828125 56.59375 36.375 \r\nQ 56.59375 19.140625 48.40625 8.859375 \r\nQ 40.234375 -1.421875 26.421875 -1.421875 \r\nQ 22.703125 -1.421875 18.890625 -0.6875 \r\nQ 15.09375 0.046875 10.984375 1.515625 \r\nz\r\nM 30.609375 32.421875 \r\nQ 37.25 32.421875 41.125 36.953125 \r\nQ 45.015625 41.5 45.015625 49.421875 \r\nQ 45.015625 57.28125 41.125 61.84375 \r\nQ 37.25 66.40625 30.609375 66.40625 \r\nQ 23.96875 66.40625 20.09375 61.84375 \r\nQ 16.21875 57.28125 16.21875 49.421875 \r\nQ 16.21875 41.5 20.09375 36.953125 \r\nQ 23.96875 32.421875 30.609375 32.421875 \r\nz\r\n\" id=\"DejaVuSans-57\"/>\r\n   </defs>\r\n   <g transform=\"translate(331.2 122.4)scale(0.1 -0.1)\">\r\n    <use xlink:href=\"#DejaVuSans-83\"/>\r\n    <use x=\"63.476562\" xlink:href=\"#DejaVuSans-116\"/>\r\n    <use x=\"102.685547\" xlink:href=\"#DejaVuSans-111\"/>\r\n    <use x=\"163.867188\" xlink:href=\"#DejaVuSans-99\"/>\r\n    <use x=\"218.847656\" xlink:href=\"#DejaVuSans-107\"/>\r\n    <use x=\"276.757812\" xlink:href=\"#DejaVuSans-32\"/>\r\n    <use x=\"308.544922\" xlink:href=\"#DejaVuSans-112\"/>\r\n    <use x=\"372.021484\" xlink:href=\"#DejaVuSans-114\"/>\r\n    <use x=\"413.134766\" xlink:href=\"#DejaVuSans-105\"/>\r\n    <use x=\"440.917969\" xlink:href=\"#DejaVuSans-99\"/>\r\n    <use x=\"495.898438\" xlink:href=\"#DejaVuSans-101\"/>\r\n    <use x=\"557.421875\" xlink:href=\"#DejaVuSans-61\"/>\r\n    <use x=\"641.210938\" xlink:href=\"#DejaVuSans-36\"/>\r\n    <use x=\"704.833984\" xlink:href=\"#DejaVuSans-49\"/>\r\n    <use x=\"768.457031\" xlink:href=\"#DejaVuSans-57\"/>\r\n    <use x=\"832.080078\" xlink:href=\"#DejaVuSans-46\"/>\r\n    <use x=\"863.867188\" xlink:href=\"#DejaVuSans-56\"/>\r\n   </g>\r\n  </g>\r\n  <g id=\"text_6\">\r\n   <!-- Stock price=16.2 -->\r\n   <defs>\r\n    <path d=\"M 33.015625 40.375 \r\nQ 26.375 40.375 22.484375 35.828125 \r\nQ 18.609375 31.296875 18.609375 23.390625 \r\nQ 18.609375 15.53125 22.484375 10.953125 \r\nQ 26.375 6.390625 33.015625 6.390625 \r\nQ 39.65625 6.390625 43.53125 10.953125 \r\nQ 47.40625 15.53125 47.40625 23.390625 \r\nQ 47.40625 31.296875 43.53125 35.828125 \r\nQ 39.65625 40.375 33.015625 40.375 \r\nz\r\nM 52.59375 71.296875 \r\nL 52.59375 62.3125 \r\nQ 48.875 64.0625 45.09375 64.984375 \r\nQ 41.3125 65.921875 37.59375 65.921875 \r\nQ 27.828125 65.921875 22.671875 59.328125 \r\nQ 17.53125 52.734375 16.796875 39.40625 \r\nQ 19.671875 43.65625 24.015625 45.921875 \r\nQ 28.375 48.1875 33.59375 48.1875 \r\nQ 44.578125 48.1875 50.953125 41.515625 \r\nQ 57.328125 34.859375 57.328125 23.390625 \r\nQ 57.328125 12.15625 50.6875 5.359375 \r\nQ 44.046875 -1.421875 33.015625 -1.421875 \r\nQ 20.359375 -1.421875 13.671875 8.265625 \r\nQ 6.984375 17.96875 6.984375 36.375 \r\nQ 6.984375 53.65625 15.1875 63.9375 \r\nQ 23.390625 74.21875 37.203125 74.21875 \r\nQ 40.921875 74.21875 44.703125 73.484375 \r\nQ 48.484375 72.75 52.59375 71.296875 \r\nz\r\n\" id=\"DejaVuSans-54\"/>\r\n   </defs>\r\n   <g transform=\"translate(331.2 214.56)scale(0.1 -0.1)\">\r\n    <use xlink:href=\"#DejaVuSans-83\"/>\r\n    <use x=\"63.476562\" xlink:href=\"#DejaVuSans-116\"/>\r\n    <use x=\"102.685547\" xlink:href=\"#DejaVuSans-111\"/>\r\n    <use x=\"163.867188\" xlink:href=\"#DejaVuSans-99\"/>\r\n    <use x=\"218.847656\" xlink:href=\"#DejaVuSans-107\"/>\r\n    <use x=\"276.757812\" xlink:href=\"#DejaVuSans-32\"/>\r\n    <use x=\"308.544922\" xlink:href=\"#DejaVuSans-112\"/>\r\n    <use x=\"372.021484\" xlink:href=\"#DejaVuSans-114\"/>\r\n    <use x=\"413.134766\" xlink:href=\"#DejaVuSans-105\"/>\r\n    <use x=\"440.917969\" xlink:href=\"#DejaVuSans-99\"/>\r\n    <use x=\"495.898438\" xlink:href=\"#DejaVuSans-101\"/>\r\n    <use x=\"557.421875\" xlink:href=\"#DejaVuSans-61\"/>\r\n    <use x=\"641.210938\" xlink:href=\"#DejaVuSans-49\"/>\r\n    <use x=\"704.833984\" xlink:href=\"#DejaVuSans-54\"/>\r\n    <use x=\"768.457031\" xlink:href=\"#DejaVuSans-46\"/>\r\n    <use x=\"800.244141\" xlink:href=\"#DejaVuSans-50\"/>\r\n   </g>\r\n  </g>\r\n </g>\r\n <defs>\r\n  <clipPath id=\"peb87183d0f\">\r\n   <rect height=\"288\" width=\"432\" x=\"7.2\" y=\"7.2\"/>\r\n  </clipPath>\r\n </defs>\r\n</svg>\r\n",
      "text/plain": "<Figure size 432x288 with 1 Axes>"
     },
     "metadata": {},
     "output_type": "display_data"
    }
   ],
   "source": [
    "# our data\n",
    "u = 1.1\n",
    "d = 0.9\n",
    "S0 = 20\n",
    "S_u = S0*u\n",
    "S_d = S0*d\n",
    "S_uu = S_u*u\n",
    "S_ud = S_u*d\n",
    "S_dd = S_d*d\n",
    "\n",
    "# plot it\n",
    "import matplotlib.pyplot as plt\n",
    "plt.figtext(0.08,0.6, 'Stock ' + str(S0))\n",
    "plt.figtext(0.33,0.76, 'Stock price=$' + str(S_u))\n",
    "plt.figtext(0.33,0.27, 'Stock price=' + str(S_d))\n",
    "plt.figtext(0.75,0.91, 'Stock price=$' + str(S_uu))\n",
    "plt.figtext(0.75,0.6, 'Stock price=$' + str(S_ud))\n",
    "plt.figtext(0.75,0.28, 'Stock price=' + str(S_dd))\n",
    "binomial_grid(n=2)\n",
    "plt.show()"
   ]
  },
  {
   "cell_type": "code",
   "execution_count": null,
   "metadata": {},
   "outputs": [],
   "source": []
  }
 ]
}