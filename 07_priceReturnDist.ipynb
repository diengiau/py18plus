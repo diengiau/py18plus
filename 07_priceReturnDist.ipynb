{
  "nbformat": 4,
  "nbformat_minor": 0,
  "metadata": {
    "colab": {
      "name": "03_statistics.ipynb",
      "provenance": [],
      "collapsed_sections": []
    },
    "kernelspec": {
      "name": "python3",
      "display_name": "Python 3"
    }
  },
  "cells": [
    {
      "cell_type": "markdown",
      "metadata": {
        "colab_type": "text",
        "id": "9RAVFL-lNGTo"
      },
      "source": [
        "This note provides basic idea to check the normality and understand the statistics of the return data. It can help you to link to our lectures on the lognormal and normal properties of stock price and returns."
      ]
    },
    {
      "cell_type": "markdown",
      "metadata": {
        "colab_type": "text",
        "id": "puU6_VcLx58s"
      },
      "source": [
        "Load libraries"
      ]
    },
    {
      "cell_type": "code",
      "execution_count": 0,
      "metadata": {
        "colab": {},
        "colab_type": "code",
        "id": "ugmYbsrax58x",
        "persistent_id": "e5c76e7b-25f6-4b2b-a8f0-2a6adead2dd6"
      },
      "outputs": [],
      "source": [
        "import numpy as np  # array operations\n",
        "import pandas as pd  # dataframe\n",
        "import scipy.stats as scs\n",
        "import statsmodels.api as sm\n",
        "from pylab import plt\n",
        "plt.style.use('ggplot')\n",
        "# put all plots in the notebook itself\n",
        "%matplotlib inline"
      ]
    },
    {
      "cell_type": "markdown",
      "metadata": {
        "colab_type": "text",
        "id": "R6Qoyoz-Egwj"
      },
      "source": [
        "Download some stock data from the Yahoo Finance as we did in the first tutor."
      ]
    },
    {
      "cell_type": "code",
      "execution_count": 1,
      "metadata": {
        "colab": {
          "base_uri": "https://localhost:8080/",
          "height": 225
        },
        "colab_type": "code",
        "id": "hZ1BNJWdDfCG",
        "outputId": "28e0fdbd-7cc7-4871-fb6d-634e3d8674e9"
      },
      "outputs": [
        {
          "data": {
            "text/html": [
              "<div>\n",
              "<style scoped>\n",
              "    .dataframe tbody tr th:only-of-type {\n",
              "        vertical-align: middle;\n",
              "    }\n",
              "\n",
              "    .dataframe tbody tr th {\n",
              "        vertical-align: top;\n",
              "    }\n",
              "\n",
              "    .dataframe thead th {\n",
              "        text-align: right;\n",
              "    }\n",
              "</style>\n",
              "<table border=\"1\" class=\"dataframe\">\n",
              "  <thead>\n",
              "    <tr style=\"text-align: right;\">\n",
              "      <th></th>\n",
              "      <th>High</th>\n",
              "      <th>Low</th>\n",
              "      <th>Open</th>\n",
              "      <th>Close</th>\n",
              "      <th>Volume</th>\n",
              "      <th>Adj Close</th>\n",
              "    </tr>\n",
              "    <tr>\n",
              "      <th>Date</th>\n",
              "      <th></th>\n",
              "      <th></th>\n",
              "      <th></th>\n",
              "      <th></th>\n",
              "      <th></th>\n",
              "      <th></th>\n",
              "    </tr>\n",
              "  </thead>\n",
              "  <tbody>\n",
              "    <tr>\n",
              "      <th>2010-01-04</th>\n",
              "      <td>11.69</td>\n",
              "      <td>11.47</td>\n",
              "      <td>11.49</td>\n",
              "      <td>11.58</td>\n",
              "      <td>8096400.0</td>\n",
              "      <td>8.186360</td>\n",
              "    </tr>\n",
              "    <tr>\n",
              "      <th>2010-01-05</th>\n",
              "      <td>11.66</td>\n",
              "      <td>11.46</td>\n",
              "      <td>11.60</td>\n",
              "      <td>11.53</td>\n",
              "      <td>14375900.0</td>\n",
              "      <td>8.151016</td>\n",
              "    </tr>\n",
              "    <tr>\n",
              "      <th>2010-01-06</th>\n",
              "      <td>11.61</td>\n",
              "      <td>11.38</td>\n",
              "      <td>11.56</td>\n",
              "      <td>11.49</td>\n",
              "      <td>13608400.0</td>\n",
              "      <td>8.122736</td>\n",
              "    </tr>\n",
              "    <tr>\n",
              "      <th>2010-01-07</th>\n",
              "      <td>11.44</td>\n",
              "      <td>11.07</td>\n",
              "      <td>11.41</td>\n",
              "      <td>11.11</td>\n",
              "      <td>27346600.0</td>\n",
              "      <td>7.854100</td>\n",
              "    </tr>\n",
              "    <tr>\n",
              "      <th>2010-01-08</th>\n",
              "      <td>11.22</td>\n",
              "      <td>11.03</td>\n",
              "      <td>11.14</td>\n",
              "      <td>11.10</td>\n",
              "      <td>16895300.0</td>\n",
              "      <td>7.847031</td>\n",
              "    </tr>\n",
              "  </tbody>\n",
              "</table>\n",
              "</div>"
            ],
            "text/plain": [
              "             High    Low   Open  Close      Volume  Adj Close\n",
              "Date                                                         \n",
              "2010-01-04  11.69  11.47  11.49  11.58   8096400.0   8.186360\n",
              "2010-01-05  11.66  11.46  11.60  11.53  14375900.0   8.151016\n",
              "2010-01-06  11.61  11.38  11.56  11.49  13608400.0   8.122736\n",
              "2010-01-07  11.44  11.07  11.41  11.11  27346600.0   7.854100\n",
              "2010-01-08  11.22  11.03  11.14  11.10  16895300.0   7.847031"
            ]
          },
          "execution_count": 1,
          "metadata": {
            "tags": []
          },
          "output_type": "execute_result"
        }
      ],
      "source": [
        "from pandas_datareader import data\n",
        "TSM = data.DataReader(\"TSM\", start='2010-1-1', end='2019-12-31', data_source='yahoo')\n",
        "TSM.head()"
      ]
    },
    {
      "cell_type": "code",
      "execution_count": 3,
      "metadata": {
        "colab": {
          "base_uri": "https://localhost:8080/",
          "height": 600
        },
        "colab_type": "code",
        "id": "mDurKzyWEy0Z",
        "outputId": "27b24ff7-6b3d-46de-ba27-23d845cd59f4"
      },
      "outputs": [
        {
          "data": {
            "text/plain": [
              "<matplotlib.axes._subplots.AxesSubplot at 0x7f21d9554748>"
            ]
          },
          "execution_count": 3,
          "metadata": {
            "tags": []
          },
          "output_type": "execute_result"
        },
        {
          "data": {
            "image/png": "[encoded data removed]",
            "text/plain": [
              "<Figure size 1152x720 with 1 Axes>"
            ]
          },
          "metadata": {
            "tags": []
          },
          "output_type": "display_data"
        }
      ],
      "source": [
        "TSM['Close'].plot(figsize=(16, 10), grid=True, title='TSMC Close Price')"
      ]
    },
    {
      "cell_type": "code",
      "execution_count": 4,
      "metadata": {
        "colab": {
          "base_uri": "https://localhost:8080/",
          "height": 431
        },
        "colab_type": "code",
        "id": "UB25QrAeJvkS",
        "outputId": "f067edb5-7d5c-475c-b2d4-9f6f21095c53"
      },
      "outputs": [
        {
          "data": {
            "text/html": [
              "<div>\n",
              "<style scoped>\n",
              "    .dataframe tbody tr th:only-of-type {\n",
              "        vertical-align: middle;\n",
              "    }\n",
              "\n",
              "    .dataframe tbody tr th {\n",
              "        vertical-align: top;\n",
              "    }\n",
              "\n",
              "    .dataframe thead th {\n",
              "        text-align: right;\n",
              "    }\n",
              "</style>\n",
              "<table border=\"1\" class=\"dataframe\">\n",
              "  <thead>\n",
              "    <tr style=\"text-align: right;\">\n",
              "      <th></th>\n",
              "      <th>High</th>\n",
              "      <th>Low</th>\n",
              "      <th>Open</th>\n",
              "      <th>Close</th>\n",
              "      <th>Volume</th>\n",
              "      <th>Adj Close</th>\n",
              "      <th>Return</th>\n",
              "    </tr>\n",
              "    <tr>\n",
              "      <th>Date</th>\n",
              "      <th></th>\n",
              "      <th></th>\n",
              "      <th></th>\n",
              "      <th></th>\n",
              "      <th></th>\n",
              "      <th></th>\n",
              "      <th></th>\n",
              "    </tr>\n",
              "  </thead>\n",
              "  <tbody>\n",
              "    <tr>\n",
              "      <th>2010-01-04</th>\n",
              "      <td>11.690000</td>\n",
              "      <td>11.470000</td>\n",
              "      <td>11.490000</td>\n",
              "      <td>11.580000</td>\n",
              "      <td>8096400.0</td>\n",
              "      <td>8.186360</td>\n",
              "      <td>NaN</td>\n",
              "    </tr>\n",
              "    <tr>\n",
              "      <th>2010-01-05</th>\n",
              "      <td>11.660000</td>\n",
              "      <td>11.460000</td>\n",
              "      <td>11.600000</td>\n",
              "      <td>11.530000</td>\n",
              "      <td>14375900.0</td>\n",
              "      <td>8.151016</td>\n",
              "      <td>-0.004327</td>\n",
              "    </tr>\n",
              "    <tr>\n",
              "      <th>2010-01-06</th>\n",
              "      <td>11.610000</td>\n",
              "      <td>11.380000</td>\n",
              "      <td>11.560000</td>\n",
              "      <td>11.490000</td>\n",
              "      <td>13608400.0</td>\n",
              "      <td>8.122736</td>\n",
              "      <td>-0.003475</td>\n",
              "    </tr>\n",
              "    <tr>\n",
              "      <th>2010-01-07</th>\n",
              "      <td>11.440000</td>\n",
              "      <td>11.070000</td>\n",
              "      <td>11.410000</td>\n",
              "      <td>11.110000</td>\n",
              "      <td>27346600.0</td>\n",
              "      <td>7.854100</td>\n",
              "      <td>-0.033631</td>\n",
              "    </tr>\n",
              "    <tr>\n",
              "      <th>2010-01-08</th>\n",
              "      <td>11.220000</td>\n",
              "      <td>11.030000</td>\n",
              "      <td>11.140000</td>\n",
              "      <td>11.100000</td>\n",
              "      <td>16895300.0</td>\n",
              "      <td>7.847031</td>\n",
              "      <td>-0.000900</td>\n",
              "    </tr>\n",
              "    <tr>\n",
              "      <th>...</th>\n",
              "      <td>...</td>\n",
              "      <td>...</td>\n",
              "      <td>...</td>\n",
              "      <td>...</td>\n",
              "      <td>...</td>\n",
              "      <td>...</td>\n",
              "      <td>...</td>\n",
              "    </tr>\n",
              "    <tr>\n",
              "      <th>2019-12-24</th>\n",
              "      <td>58.090000</td>\n",
              "      <td>57.549999</td>\n",
              "      <td>57.990002</td>\n",
              "      <td>57.759998</td>\n",
              "      <td>2692200.0</td>\n",
              "      <td>57.759998</td>\n",
              "      <td>-0.007932</td>\n",
              "    </tr>\n",
              "    <tr>\n",
              "      <th>2019-12-26</th>\n",
              "      <td>58.349998</td>\n",
              "      <td>57.759998</td>\n",
              "      <td>57.799999</td>\n",
              "      <td>58.250000</td>\n",
              "      <td>2490400.0</td>\n",
              "      <td>58.250000</td>\n",
              "      <td>0.008448</td>\n",
              "    </tr>\n",
              "    <tr>\n",
              "      <th>2019-12-27</th>\n",
              "      <td>58.709999</td>\n",
              "      <td>58.330002</td>\n",
              "      <td>58.529999</td>\n",
              "      <td>58.459999</td>\n",
              "      <td>2847800.0</td>\n",
              "      <td>58.459999</td>\n",
              "      <td>0.003599</td>\n",
              "    </tr>\n",
              "    <tr>\n",
              "      <th>2019-12-30</th>\n",
              "      <td>58.689999</td>\n",
              "      <td>57.619999</td>\n",
              "      <td>58.660000</td>\n",
              "      <td>57.849998</td>\n",
              "      <td>3519900.0</td>\n",
              "      <td>57.849998</td>\n",
              "      <td>-0.010489</td>\n",
              "    </tr>\n",
              "    <tr>\n",
              "      <th>2019-12-31</th>\n",
              "      <td>58.130001</td>\n",
              "      <td>57.459999</td>\n",
              "      <td>57.680000</td>\n",
              "      <td>58.099998</td>\n",
              "      <td>2950200.0</td>\n",
              "      <td>58.099998</td>\n",
              "      <td>0.004312</td>\n",
              "    </tr>\n",
              "  </tbody>\n",
              "</table>\n",
              "<p>2516 rows × 7 columns</p>\n",
              "</div>"
            ],
            "text/plain": [
              "                 High        Low       Open  ...      Volume  Adj Close    Return\n",
              "Date                                         ...                                 \n",
              "2010-01-04  11.690000  11.470000  11.490000  ...   8096400.0   8.186360       NaN\n",
              "2010-01-05  11.660000  11.460000  11.600000  ...  14375900.0   8.151016 -0.004327\n",
              "2010-01-06  11.610000  11.380000  11.560000  ...  13608400.0   8.122736 -0.003475\n",
              "2010-01-07  11.440000  11.070000  11.410000  ...  27346600.0   7.854100 -0.033631\n",
              "2010-01-08  11.220000  11.030000  11.140000  ...  16895300.0   7.847031 -0.000900\n",
              "...               ...        ...        ...  ...         ...        ...       ...\n",
              "2019-12-24  58.090000  57.549999  57.990002  ...   2692200.0  57.759998 -0.007932\n",
              "2019-12-26  58.349998  57.759998  57.799999  ...   2490400.0  58.250000  0.008448\n",
              "2019-12-27  58.709999  58.330002  58.529999  ...   2847800.0  58.459999  0.003599\n",
              "2019-12-30  58.689999  57.619999  58.660000  ...   3519900.0  57.849998 -0.010489\n",
              "2019-12-31  58.130001  57.459999  57.680000  ...   2950200.0  58.099998  0.004312\n",
              "\n",
              "[2516 rows x 7 columns]"
            ]
          },
          "execution_count": 4,
          "metadata": {
            "tags": []
          },
          "output_type": "execute_result"
        }
      ],
      "source": [
        "TSM['Return'] = np.log(TSM['Close'] / TSM['Close'].shift(1))\n",
        "TSM\n"
      ]
    },
    {
      "cell_type": "code",
      "execution_count": 7,
      "metadata": {
        "colab": {
          "base_uri": "https://localhost:8080/",
          "height": 659
        },
        "colab_type": "code",
        "id": "crIuTdaRJ5RC",
        "outputId": "26455d9f-8b77-4557-e434-a1529564cf65"
      },
      "outputs": [
        {
          "data": {
            "text/plain": [
              "array([[<matplotlib.axes._subplots.AxesSubplot object at 0x7f21d7c6c7f0>,\n",
              "        <matplotlib.axes._subplots.AxesSubplot object at 0x7f21d7b59710>]],\n",
              "      dtype=object)"
            ]
          },
          "execution_count": 7,
          "metadata": {
            "tags": []
          },
          "output_type": "execute_result"
        },
        {
          "data": {
            "image/png": "[encoded data removed]",
            "text/plain": [
              "<Figure size 1152x720 with 2 Axes>"
            ]
          },
          "metadata": {
            "tags": []
          },
          "output_type": "display_data"
        }
      ],
      "source": [
        "TSM[['Close', 'Return']].hist(bins=50, figsize=(16, 10))"
      ]
    },
    {
      "cell_type": "code",
      "execution_count": 10,
      "metadata": {
        "colab": {
          "base_uri": "https://localhost:8080/",
          "height": 284
        },
        "colab_type": "code",
        "id": "FZ2Hy_z9KVE1",
        "outputId": "e2489b91-a119-4b57-d2b0-6df7c5e7034d"
      },
      "outputs": [
        {
          "data": {
            "text/html": [
              "<div>\n",
              "<style scoped>\n",
              "    .dataframe tbody tr th:only-of-type {\n",
              "        vertical-align: middle;\n",
              "    }\n",
              "\n",
              "    .dataframe tbody tr th {\n",
              "        vertical-align: top;\n",
              "    }\n",
              "\n",
              "    .dataframe thead th {\n",
              "        text-align: right;\n",
              "    }\n",
              "</style>\n",
              "<table border=\"1\" class=\"dataframe\">\n",
              "  <thead>\n",
              "    <tr style=\"text-align: right;\">\n",
              "      <th></th>\n",
              "      <th>Close</th>\n",
              "      <th>Return</th>\n",
              "    </tr>\n",
              "  </thead>\n",
              "  <tbody>\n",
              "    <tr>\n",
              "      <th>count</th>\n",
              "      <td>2516.000000</td>\n",
              "      <td>2515.000000</td>\n",
              "    </tr>\n",
              "    <tr>\n",
              "      <th>mean</th>\n",
              "      <td>24.553315</td>\n",
              "      <td>0.000641</td>\n",
              "    </tr>\n",
              "    <tr>\n",
              "      <th>std</th>\n",
              "      <td>11.576921</td>\n",
              "      <td>0.015775</td>\n",
              "    </tr>\n",
              "    <tr>\n",
              "      <th>min</th>\n",
              "      <td>9.400000</td>\n",
              "      <td>-0.093090</td>\n",
              "    </tr>\n",
              "    <tr>\n",
              "      <th>25%</th>\n",
              "      <td>14.680000</td>\n",
              "      <td>-0.008483</td>\n",
              "    </tr>\n",
              "    <tr>\n",
              "      <th>50%</th>\n",
              "      <td>21.395000</td>\n",
              "      <td>0.000823</td>\n",
              "    </tr>\n",
              "    <tr>\n",
              "      <th>75%</th>\n",
              "      <td>35.642500</td>\n",
              "      <td>0.010002</td>\n",
              "    </tr>\n",
              "    <tr>\n",
              "      <th>max</th>\n",
              "      <td>59.230000</td>\n",
              "      <td>0.083325</td>\n",
              "    </tr>\n",
              "  </tbody>\n",
              "</table>\n",
              "</div>"
            ],
            "text/plain": [
              "             Close       Return\n",
              "count  2516.000000  2515.000000\n",
              "mean     24.553315     0.000641\n",
              "std      11.576921     0.015775\n",
              "min       9.400000    -0.093090\n",
              "25%      14.680000    -0.008483\n",
              "50%      21.395000     0.000823\n",
              "75%      35.642500     0.010002\n",
              "max      59.230000     0.083325"
            ]
          },
          "execution_count": 10,
          "metadata": {
            "tags": []
          },
          "output_type": "execute_result"
        }
      ],
      "source": [
        "TSM[['Close', 'Return']].describe()"
      ]
    },
    {
      "cell_type": "code",
      "execution_count": 18,
      "metadata": {
        "colab": {
          "base_uri": "https://localhost:8080/",
          "height": 54
        },
        "colab_type": "code",
        "id": "Nz39nwnbKdTs",
        "outputId": "91a787a2-96ae-4ecb-c3fb-386654e3f240"
      },
      "outputs": [
        {
          "data": {
            "text/plain": [
              "DescribeResult(nobs=2515, minmax=(-0.09309049618797655, 0.08332462595295649), mean=0.0006413066290411361, variance=0.00024884058684507797, skewness=-0.09993077908397481, kurtosis=1.8043716042021032)"
            ]
          },
          "execution_count": 18,
          "metadata": {
            "tags": []
          },
          "output_type": "execute_result"
        }
      ],
      "source": [
        "scs.describe(TSM['Return'].dropna()) # to see skewness & kurtosis"
      ]
    },
    {
      "cell_type": "markdown",
      "metadata": {
        "colab_type": "text",
        "id": "gIVcdpnHLzoQ"
      },
      "source": [
        "Another good skim for the normality data is to check the Q-Q plot:\n"
      ]
    },
    {
      "cell_type": "code",
      "execution_count": 21,
      "metadata": {
        "colab": {
          "base_uri": "https://localhost:8080/",
          "height": 299
        },
        "colab_type": "code",
        "id": "bNjcJTFkL40W",
        "outputId": "9f70b60c-962e-46d0-e1ea-e2be3db3945d"
      },
      "outputs": [
        {
          "data": {
            "text/plain": [
              "Text(0, 0.5, 'sample quantiles')"
            ]
          },
          "execution_count": 21,
          "metadata": {
            "tags": []
          },
          "output_type": "execute_result"
        },
        {
          "data": {
            "image/png": "[encoded data removed]",
            "text/plain": [
              "<Figure size 432x288 with 1 Axes>"
            ]
          },
          "metadata": {
            "tags": []
          },
          "output_type": "display_data"
        }
      ],
      "source": [
        "sm.qqplot(TSM['Return'].dropna(), line='s')\n",
        "plt.grid(True)\n",
        "plt.xlabel('theoretical quantiles')\n",
        "plt.ylabel('sample quantiles')"
      ]
    },
    {
      "cell_type": "markdown",
      "metadata": {
        "colab_type": "text",
        "id": "rjozDA87MXJS"
      },
      "source": [
        "Lastly, we do the normality test. `scipy` gives us several functions to do the test:\n",
        "\n",
        "- [`skewtest`](https://docs.scipy.org/doc/scipy/reference/generated/scipy.stats.skewtest.html#scipy.stats.skewtest)\n",
        "- [`kurtosistest`](https://docs.scipy.org/doc/scipy/reference/generated/scipy.stats.kurtosistest.html#scipy.stats.kurtosistest)\n",
        "- [`normaltest`](https://docs.scipy.org/doc/scipy/reference/generated/scipy.stats.normaltest.html#scipy.stats.normaltest)\n"
      ]
    },
    {
      "cell_type": "code",
      "execution_count": 23,
      "metadata": {
        "colab": {
          "base_uri": "https://localhost:8080/",
          "height": 101
        },
        "colab_type": "code",
        "id": "8b9m7Gp3MZ5u",
        "outputId": "0ec6f8a8-7e68-40e4-fb18-77118a762fac"
      },
      "outputs": [
        {
          "name": "stdout",
          "output_type": "stream",
          "text": [
            "Skew of data set          -0.100\n",
            "Skew test p-value          0.041\n",
            "Kurt of data set           1.804\n",
            "Kurt test p-value          0.000\n",
            "Norm test p-value          0.000\n"
          ]
        }
      ],
      "source": [
        "def normality_tests(arr):\n",
        "    ''' Tests for normality distribution of given data set.\n",
        "    \n",
        "    Parameters\n",
        "    ==========\n",
        "    array: ndarray\n",
        "        object to generate statistics on\n",
        "    '''\n",
        "    print(\"Skew of data set  %14.3f\" % scs.skew(arr))\n",
        "    print(\"Skew test p-value %14.3f\" % scs.skewtest(arr)[1])\n",
        "    print(\"Kurt of data set  %14.3f\" % scs.kurtosis(arr))\n",
        "    print(\"Kurt test p-value %14.3f\" % scs.kurtosistest(arr)[1])\n",
        "    print(\"Norm test p-value %14.3f\" % scs.normaltest(arr)[1])\n",
        "    \n",
        "normality_tests(TSM['Return'].dropna())"
      ]
    },
    {
      "cell_type": "markdown",
      "metadata": {},
      "source": [
        "Now, please read the results and conclude."
      ]
    },
    {
      "cell_type": "code",
      "execution_count": null,
      "metadata": {},
      "outputs": [],
      "source": []
    }
  ]
}