{
 "cells": [
  {
   "cell_type": "markdown",
   "metadata": {},
   "source": [
    "# 1. Sampling in Python"
   ]
  },
  {
   "cell_type": "markdown",
   "metadata": {
    "persistent_id": "75aa443f-ddbe-4500-8686-8ac9130710e0"
   },
   "source": [
    "Assume that we want to replicate the results from toll the dice 10,000 to see the outcome probability.\n",
    "The dice has 6 possible outcomes: 1, 2, 3, 4, 5, 6."
   ]
  },
  {
   "cell_type": "code",
   "execution_count": 1,
   "metadata": {
    "execution_event_id": "9e85040a-df28-4832-904d-9c469550ee51",
    "last_executed_text": "outcomes = [1, 2, 3, 4, 5, 6]",
    "persistent_id": "5ac89a4f-2b2c-48a4-80b8-7a150881fda2"
   },
   "outputs": [],
   "source": [
    "outcomes = [1, 2, 3, 4, 5, 6]"
   ]
  },
  {
   "cell_type": "code",
   "execution_count": 2,
   "metadata": {
    "persistent_id": "1baecd3e-79ec-468f-b80e-b44fc0b6e7ce"
   },
   "outputs": [
    {
     "output_type": "stream",
     "text": "\u001b[1;31mDocstring:\u001b[0m\nchoice(a, size=None, replace=True, p=None)\n\nGenerates a random sample from a given 1-D array\n\n        .. versionadded:: 1.7.0\n\n.. note::\n    New code should use the ``choice`` method of a ``default_rng()``\n    instance instead; see `random-quick-start`.\n\nParameters\n----------\na : 1-D array-like or int\n    If an ndarray, a random sample is generated from its elements.\n    If an int, the random sample is generated as if a were np.arange(a)\nsize : int or tuple of ints, optional\n    Output shape.  If the given shape is, e.g., ``(m, n, k)``, then\n    ``m * n * k`` samples are drawn.  Default is None, in which case a\n    single value is returned.\nreplace : boolean, optional\n    Whether the sample is with or without replacement\np : 1-D array-like, optional\n    The probabilities associated with each entry in a.\n    If not given the sample assumes a uniform distribution over all\n    entries in a.\n\nReturns\n-------\nsamples : single item or ndarray\n    The generated random samples\n\nRaises\n------\nValueError\n    If a is an int and less than zero, if a or p are not 1-dimensional,\n    if a is an array-like of size 0, if p is not a vector of\n    probabilities, if a and p have different lengths, or if\n    replace=False and the sample size is greater than the population\n    size\n\nSee Also\n--------\nrandint, shuffle, permutation\nGenerator.choice: which should be used in new code\n\nExamples\n--------\nGenerate a uniform random sample from np.arange(5) of size 3:\n\n>>> np.random.choice(5, 3)\narray([0, 3, 4]) # random\n>>> #This is equivalent to np.random.randint(0,5,3)\n\nGenerate a non-uniform random sample from np.arange(5) of size 3:\n\n>>> np.random.choice(5, 3, p=[0.1, 0, 0.3, 0.6, 0])\narray([3, 3, 0]) # random\n\nGenerate a uniform random sample from np.arange(5) of size 3 without\nreplacement:\n\n>>> np.random.choice(5, 3, replace=False)\narray([3,1,0]) # random\n>>> #This is equivalent to np.random.permutation(np.arange(5))[:3]\n\nGenerate a non-uniform random sample from np.arange(5) of size\n3 without replacement:\n\n>>> np.random.choice(5, 3, replace=False, p=[0.1, 0, 0.3, 0.6, 0])\narray([2, 3, 0]) # random\n\nAny of the above can be repeated with an arbitrary array-like\ninstead of just integers. For instance:\n\n>>> aa_milne_arr = ['pooh', 'rabbit', 'piglet', 'Christopher']\n>>> np.random.choice(aa_milne_arr, 5, p=[0.5, 0.1, 0.1, 0.3])\narray(['pooh', 'pooh', 'pooh', 'Christopher', 'piglet'], # random\n      dtype='<U11')\n\u001b[1;31mType:\u001b[0m      builtin_function_or_method\n"
    }
   ],
   "source": [
    "import numpy as np\n",
    "? np.random.choice"
   ]
  },
  {
   "cell_type": "markdown",
   "metadata": {},
   "source": [
    "Now let check one example: we toll the dice once to see what is the outcome:"
   ]
  },
  {
   "cell_type": "code",
   "execution_count": 3,
   "metadata": {
    "execution_event_id": "39b6378d-2f89-475d-a3d8-013c018ad5d8",
    "last_executed_text": "np.random.choice(outcomes, size=1)[0]",
    "persistent_id": "09c0b07d-4b5c-4586-861b-06890b818dc5"
   },
   "outputs": [
    {
     "output_type": "execute_result",
     "data": {
      "text/plain": "5"
     },
     "metadata": {},
     "execution_count": 3
    }
   ],
   "source": [
    "np.random.choice(outcomes, size=1)[0]"
   ]
  },
  {
   "cell_type": "code",
   "execution_count": 4,
   "metadata": {
    "execution_event_id": "78655cf2-6f5a-4cc9-94d3-e2675358c937",
    "last_executed_text": "np.random.choice(outcomes, size=1)[0]",
    "persistent_id": "09c0b07d-4b5c-4586-861b-06890b818dc5"
   },
   "outputs": [
    {
     "output_type": "execute_result",
     "data": {
      "text/plain": "3"
     },
     "metadata": {},
     "execution_count": 4
    }
   ],
   "source": [
    "np.random.choice(outcomes, size=1)[0]"
   ]
  },
  {
   "cell_type": "markdown",
   "metadata": {},
   "source": [
    "We need a list to store the outcomes:"
   ]
  },
  {
   "cell_type": "code",
   "execution_count": 5,
   "metadata": {
    "execution_event_id": "b4930109-2f93-4b35-802c-e6d73f194cd5",
    "last_executed_text": "actualOutcomes = []",
    "persistent_id": "7613bc3c-37f3-4891-9a73-e4679b9dd53d"
   },
   "outputs": [],
   "source": [
    "actualOutcomes = []"
   ]
  },
  {
   "cell_type": "markdown",
   "metadata": {},
   "source": [
    "Now let's toll 10,000 times to see:"
   ]
  },
  {
   "cell_type": "code",
   "execution_count": 6,
   "metadata": {
    "execution_event_id": "a5df80fa-505d-48b5-b175-badc2b8b6113",
    "last_executed_text": "for i in np.arange(10001):\n    actualOutcomes.append(np.random.choice(outcomes, size=1)[0])",
    "persistent_id": "eb4d90b6-0bdb-46c2-8141-c5b1ffbf482e"
   },
   "outputs": [],
   "source": [
    "for i in np.arange(10001):\n",
    "    actualOutcomes.append(np.random.choice(outcomes, size=1)[0])"
   ]
  },
  {
   "cell_type": "code",
   "execution_count": 7,
   "metadata": {
    "execution_event_id": "518575e2-146e-4d00-9c2d-951d492a37a8",
    "last_executed_text": "actualOutcomes[0:10]",
    "persistent_id": "676ed11a-7eb3-485e-a1aa-027a2bd62a5b"
   },
   "outputs": [
    {
     "output_type": "execute_result",
     "data": {
      "text/plain": "[2, 5, 1, 2, 6, 6, 3, 6, 4, 2]"
     },
     "metadata": {},
     "execution_count": 7
    }
   ],
   "source": [
    "actualOutcomes[0:10]"
   ]
  },
  {
   "cell_type": "markdown",
   "metadata": {},
   "source": [
    "Now it is time to check the frequency of the outcomes:"
   ]
  },
  {
   "cell_type": "code",
   "execution_count": 8,
   "metadata": {
    "execution_event_id": "23150afb-f921-4c26-8e67-8760195b77f0",
    "last_executed_text": "import pandas as pd\n\npd.Series(actualOutcomes).value_counts().sort_index()",
    "persistent_id": "8f4e198e-0a2e-45ec-834f-4d291d87516a"
   },
   "outputs": [
    {
     "output_type": "execute_result",
     "data": {
      "text/plain": "1    1680\n2    1654\n3    1694\n4    1654\n5    1693\n6    1626\ndtype: int64"
     },
     "metadata": {},
     "execution_count": 8
    }
   ],
   "source": [
    "import pandas as pd\n",
    "\n",
    "pd.Series(actualOutcomes).value_counts().sort_index()"
   ]
  },
  {
   "cell_type": "code",
   "execution_count": 9,
   "metadata": {
    "execution_event_id": "474ead73-f71c-4c48-81f4-1b5f604b7174",
    "last_executed_text": "pd.Series(actualOutcomes).value_counts().sort_index() / 10000  # return probability",
    "persistent_id": "7abf8cc3-5f69-4266-a2f6-f1c773825055"
   },
   "outputs": [
    {
     "output_type": "execute_result",
     "data": {
      "text/plain": "1    0.1680\n2    0.1654\n3    0.1694\n4    0.1654\n5    0.1693\n6    0.1626\ndtype: float64"
     },
     "metadata": {},
     "execution_count": 9
    }
   ],
   "source": [
    "pd.Series(actualOutcomes).value_counts().sort_index() / 10000  # return probability"
   ]
  },
  {
   "cell_type": "markdown",
   "metadata": {},
   "source": [
    "How about we have 1,000,000 times:"
   ]
  },
  {
   "cell_type": "code",
   "execution_count": 10,
   "metadata": {
    "execution_event_id": "b28e36a9-b930-4b0c-bcbf-1e9282a53588",
    "last_executed_text": "actualOutcomes = []\nfor i in np.arange(1000001):\n    actualOutcomes.append(np.random.choice(outcomes, size=1)[0])\npd.Series(actualOutcomes).value_counts().sort_index() / 10000  # return probability",
    "persistent_id": "79d012a9-b5ed-461b-85a6-b8d9b26d8a8d"
   },
   "outputs": [
    {
     "output_type": "execute_result",
     "data": {
      "text/plain": "1    16.7045\n2    16.6677\n3    16.6420\n4    16.6939\n5    16.6570\n6    16.6350\ndtype: float64"
     },
     "metadata": {},
     "execution_count": 10
    }
   ],
   "source": [
    "actualOutcomes = []\n",
    "for i in np.arange(1000001):\n",
    "    actualOutcomes.append(np.random.choice(outcomes, size=1)[0])\n",
    "pd.Series(actualOutcomes).value_counts().sort_index() / 10000  # return probability"
   ]
  },
  {
   "cell_type": "markdown",
   "metadata": {
    "persistent_id": "21328b4c-2160-4164-87f6-fc228a188bc5"
   },
   "source": [
    "This number is equivalent to this:"
   ]
  },
  {
   "cell_type": "code",
   "execution_count": 11,
   "metadata": {
    "execution_event_id": "0e62ad86-abab-4e4e-8f83-b81875cb09c2",
    "last_executed_text": "100 / 6",
    "persistent_id": "b11434ed-e219-410e-9dd1-c9c2810908c0"
   },
   "outputs": [
    {
     "output_type": "execute_result",
     "data": {
      "text/plain": "16.666666666666668"
     },
     "metadata": {},
     "execution_count": 11
    }
   ],
   "source": [
    "100 / 6"
   ]
  },
  {
   "cell_type": "markdown",
   "metadata": {},
   "source": [
    "# 2. Monte Carlo Simulation\n",
    "\n",
    "This gives you the example that we cover in the lecture. Let:\n",
    "\n",
    "- $\\mu = 15\\%$\n",
    "- $\\sigma = 0.3$\n",
    "- time interval $\\Delta t = 1/52 = 0.0192$\n",
    "- $e : N(0,1)$\n",
    "- Initial stock price $S = 100$"
   ]
  },
  {
   "cell_type": "code",
   "execution_count": 12,
   "metadata": {
    "execution_event_id": "749e859e-ec40-4f4f-a532-df818967cd7c",
    "last_executed_text": "mu = 0.15\nsigma = 0.3\nt = 0.0192\nS = 100",
    "persistent_id": "a2fe1cb0-faa2-4cbf-af62-48ee8e662cbd"
   },
   "outputs": [],
   "source": [
    "mu = 0.15\n",
    "sigma = 0.3\n",
    "t = 0.0192\n",
    "S = 100"
   ]
  },
  {
   "cell_type": "code",
   "execution_count": 13,
   "metadata": {
    "execution_event_id": "a641d2f6-c041-4139-8741-5925e4bd768c",
    "last_executed_text": "e = np.random.randn(10)",
    "persistent_id": "3ba0c6fb-891a-4eae-b0ef-773925573d5c"
   },
   "outputs": [],
   "source": [
    "e = np.random.randn(10)"
   ]
  },
  {
   "cell_type": "code",
   "execution_count": 14,
   "metadata": {
    "execution_event_id": "914fef5b-7b9d-475f-82f0-578b23d3d480",
    "last_executed_text": "e",
    "persistent_id": "eebf2e33-91d9-42b5-9a8a-41023cbbcc6a"
   },
   "outputs": [
    {
     "output_type": "execute_result",
     "data": {
      "text/plain": "array([ 1.10017814, -0.29809581, -2.07911915, -0.78575186,  0.28932416,\n       -0.89049571,  2.1886207 , -2.03610136,  1.2988189 ,  0.04955668])"
     },
     "metadata": {},
     "execution_count": 14
    }
   ],
   "source": [
    "e"
   ]
  },
  {
   "cell_type": "code",
   "execution_count": 15,
   "metadata": {
    "execution_event_id": "b0ab5ca8-9f36-4a84-b813-dfb6799b10ad",
    "last_executed_text": "deltaS = mu * t + sigma * e * np.sqrt(t)",
    "persistent_id": "84a928b4-d2e7-4604-b7ce-06825e3f8eb1"
   },
   "outputs": [],
   "source": [
    "deltaS = mu * t + sigma * e * np.sqrt(t)"
   ]
  },
  {
   "cell_type": "code",
   "execution_count": 16,
   "metadata": {
    "execution_event_id": "602fa893-e42e-40a2-8653-40dfd7d7284a",
    "last_executed_text": "deltaS",
    "persistent_id": "737bc343-626e-49e7-bfaa-faa2e4a0bc94"
   },
   "outputs": [
    {
     "output_type": "execute_result",
     "data": {
      "text/plain": "array([ 0.04861355, -0.00951161, -0.08354736, -0.02978309,  0.01490698,\n       -0.03413721,  0.09385925, -0.08175914,  0.05687089,  0.00494003])"
     },
     "metadata": {},
     "execution_count": 16
    }
   ],
   "source": [
    "deltaS"
   ]
  },
  {
   "cell_type": "code",
   "execution_count": 17,
   "metadata": {
    "execution_event_id": "b1e20176-f368-4ad7-9c00-63048bfd9437",
    "last_executed_text": "S + deltaS",
    "persistent_id": "d51dd857-fb8a-433b-9240-3b4b80f90b12"
   },
   "outputs": [
    {
     "output_type": "execute_result",
     "data": {
      "text/plain": "array([100.04861355,  99.99048839,  99.91645264,  99.97021691,\n       100.01490698,  99.96586279, 100.09385925,  99.91824086,\n       100.05687089, 100.00494003])"
     },
     "metadata": {},
     "execution_count": 17
    }
   ],
   "source": [
    "S + deltaS"
   ]
  },
  {
   "cell_type": "code",
   "execution_count": 18,
   "metadata": {
    "execution_event_id": "e1344aa3-773c-4310-820a-ffc11dcc5e5b",
    "last_executed_text": "pd.DataFrame({\"S\": S + deltaS, \"epsilon\": e, \"delta S\": deltaS})",
    "persistent_id": "c925d983-39c2-4b5d-9e29-d43a1eea2a92"
   },
   "outputs": [
    {
     "output_type": "execute_result",
     "data": {
      "text/plain": "            S   epsilon   delta S\n0  100.048614  1.100178  0.048614\n1   99.990488 -0.298096 -0.009512\n2   99.916453 -2.079119 -0.083547\n3   99.970217 -0.785752 -0.029783\n4  100.014907  0.289324  0.014907\n5   99.965863 -0.890496 -0.034137\n6  100.093859  2.188621  0.093859\n7   99.918241 -2.036101 -0.081759\n8  100.056871  1.298819  0.056871\n9  100.004940  0.049557  0.004940",
      "text/html": "<div>\n<style scoped>\n    .dataframe tbody tr th:only-of-type {\n        vertical-align: middle;\n    }\n\n    .dataframe tbody tr th {\n        vertical-align: top;\n    }\n\n    .dataframe thead th {\n        text-align: right;\n    }\n</style>\n<table border=\"1\" class=\"dataframe\">\n  <thead>\n    <tr style=\"text-align: right;\">\n      <th></th>\n      <th>S</th>\n      <th>epsilon</th>\n      <th>delta S</th>\n    </tr>\n  </thead>\n  <tbody>\n    <tr>\n      <th>0</th>\n      <td>100.048614</td>\n      <td>1.100178</td>\n      <td>0.048614</td>\n    </tr>\n    <tr>\n      <th>1</th>\n      <td>99.990488</td>\n      <td>-0.298096</td>\n      <td>-0.009512</td>\n    </tr>\n    <tr>\n      <th>2</th>\n      <td>99.916453</td>\n      <td>-2.079119</td>\n      <td>-0.083547</td>\n    </tr>\n    <tr>\n      <th>3</th>\n      <td>99.970217</td>\n      <td>-0.785752</td>\n      <td>-0.029783</td>\n    </tr>\n    <tr>\n      <th>4</th>\n      <td>100.014907</td>\n      <td>0.289324</td>\n      <td>0.014907</td>\n    </tr>\n    <tr>\n      <th>5</th>\n      <td>99.965863</td>\n      <td>-0.890496</td>\n      <td>-0.034137</td>\n    </tr>\n    <tr>\n      <th>6</th>\n      <td>100.093859</td>\n      <td>2.188621</td>\n      <td>0.093859</td>\n    </tr>\n    <tr>\n      <th>7</th>\n      <td>99.918241</td>\n      <td>-2.036101</td>\n      <td>-0.081759</td>\n    </tr>\n    <tr>\n      <th>8</th>\n      <td>100.056871</td>\n      <td>1.298819</td>\n      <td>0.056871</td>\n    </tr>\n    <tr>\n      <th>9</th>\n      <td>100.004940</td>\n      <td>0.049557</td>\n      <td>0.004940</td>\n    </tr>\n  </tbody>\n</table>\n</div>"
     },
     "metadata": {},
     "execution_count": 18
    }
   ],
   "source": [
    "pd.DataFrame({\"S\": S + deltaS, \"epsilon\": e, \"delta S\": deltaS})"
   ]
  },
  {
   "cell_type": "markdown",
   "metadata": {},
   "source": [
    "We are interested in the last predicted price in the next 10 weeks:"
   ]
  },
  {
   "cell_type": "code",
   "execution_count": 19,
   "metadata": {
    "execution_event_id": "b00b147e-e6e4-4b38-84dc-28a0498a4c04",
    "last_executed_text": "(S + deltaS)[9]",
    "persistent_id": "fa0f2ca7-f3bb-4de4-82bb-f5ed033fd4ae"
   },
   "outputs": [
    {
     "output_type": "execute_result",
     "data": {
      "text/plain": "100.00494003258659"
     },
     "metadata": {},
     "execution_count": 19
    }
   ],
   "source": [
    "(S + deltaS)[9]"
   ]
  },
  {
   "cell_type": "markdown",
   "metadata": {},
   "source": [
    "Repeat this process 1,000 times give us 1,000 possible forecasts:"
   ]
  },
  {
   "cell_type": "code",
   "execution_count": 20,
   "metadata": {
    "execution_event_id": "77ee0654-3e05-4373-9cde-9d9b2e801f01",
    "last_executed_text": "def oneForecast(S=100, mu=0.15, sigma=0.30, t=1 / 52, k=10):\n    e = np.random.randn(k)\n    deltaS = mu * t + sigma * e * np.sqrt(t)\n    return (S + deltaS)[k - 1]\n\n\noneForecast()",
    "persistent_id": "34b5f297-276e-465d-8ba1-213227c4e747"
   },
   "outputs": [
    {
     "output_type": "execute_result",
     "data": {
      "text/plain": "99.99037401705453"
     },
     "metadata": {},
     "execution_count": 20
    }
   ],
   "source": [
    "def oneForecast(S=100, mu=0.15, sigma=0.30, t=1 / 52, k=10):\n",
    "    e = np.random.randn(k)\n",
    "    deltaS = mu * t + sigma * e * np.sqrt(t)\n",
    "    return (S + deltaS)[k - 1]\n",
    "\n",
    "\n",
    "oneForecast()"
   ]
  },
  {
   "cell_type": "code",
   "execution_count": 21,
   "metadata": {
    "execution_event_id": "4b6a6e7d-0c06-4f6c-b877-fa760f61b5cc",
    "last_executed_text": "oneForecast()",
    "persistent_id": "4cdec563-ce50-4493-9848-7350eb29c311"
   },
   "outputs": [
    {
     "output_type": "execute_result",
     "data": {
      "text/plain": "99.96133483764022"
     },
     "metadata": {},
     "execution_count": 21
    }
   ],
   "source": [
    "oneForecast()"
   ]
  },
  {
   "cell_type": "code",
   "execution_count": 22,
   "metadata": {
    "execution_event_id": "bded6670-82bb-4f0b-bc2a-db5f7c4c01f1",
    "last_executed_text": "oneForecast()",
    "persistent_id": "3325a9d1-951d-40c6-a2d9-ee137c439618"
   },
   "outputs": [
    {
     "output_type": "execute_result",
     "data": {
      "text/plain": "99.94513321529031"
     },
     "metadata": {},
     "execution_count": 22
    }
   ],
   "source": [
    "oneForecast()"
   ]
  },
  {
   "cell_type": "code",
   "execution_count": 23,
   "metadata": {
    "execution_event_id": "18cd24c3-63db-499b-84b4-a7cc01e8bc3c",
    "last_executed_text": "np.random.seed(42)\nfor i in range(10):\n    print(oneForecast())",
    "persistent_id": "7ec80180-6e81-47a6-84f3-b7044fac490e"
   },
   "outputs": [
    {
     "output_type": "stream",
     "name": "stdout",
     "text": "100.0254564775827\n99.9441292298651\n99.99074942186601\n100.01107453784705\n99.92953771137466\n100.04346974589272\n99.9760460112995\n99.9201967503641\n100.02423783132441\n99.99312520071598\n"
    }
   ],
   "source": [
    "np.random.seed(42)\n",
    "for i in range(10):\n",
    "    print(oneForecast())"
   ]
  },
  {
   "cell_type": "code",
   "execution_count": 24,
   "metadata": {
    "execution_event_id": "d171d1b3-ee48-44c3-b861-d3d244745050",
    "last_executed_text": "ForecastPrice = []\nnp.random.seed(42)\nfor i in range(1000):\n    x = oneForecast()\n    ForecastPrice.append(x)",
    "persistent_id": "513685a0-1840-4d95-962c-126ef9148c2b"
   },
   "outputs": [],
   "source": [
    "ForecastPrice = []\n",
    "np.random.seed(42)\n",
    "for i in range(1000):\n",
    "    x = oneForecast()\n",
    "    ForecastPrice.append(x)"
   ]
  },
  {
   "cell_type": "code",
   "execution_count": 25,
   "metadata": {
    "execution_event_id": "eceba77b-0e32-400f-be0b-e7e3e47de0c0",
    "last_executed_text": "ForecastPrice[0:10]",
    "persistent_id": "c8e4d1cf-62e7-4de8-81fd-7de0a86c2e6b"
   },
   "outputs": [
    {
     "output_type": "execute_result",
     "data": {
      "text/plain": "[100.0254564775827,\n 99.9441292298651,\n 99.99074942186601,\n 100.01107453784705,\n 99.92953771137466,\n 100.04346974589272,\n 99.9760460112995,\n 99.9201967503641,\n 100.02423783132441,\n 99.99312520071598]"
     },
     "metadata": {},
     "execution_count": 25
    }
   ],
   "source": [
    "ForecastPrice[0:10]"
   ]
  },
  {
   "cell_type": "code",
   "execution_count": 26,
   "metadata": {
    "execution_event_id": "4990b772-713c-49b7-8368-ee142a5dd9bd",
    "last_executed_text": "import matplotlib\nimport matplotlib.pyplot as plt\nplt.hist(ForecastPrice, bins = 10)",
    "persistent_id": "a2fdbd58-dfe0-49dd-9326-719485f8bb99"
   },
   "outputs": [
    {
     "output_type": "execute_result",
     "data": {
      "text/plain": "(array([  3.,  28.,  94., 201., 289., 241., 109.,  31.,   3.,   1.]),\n array([ 99.87072575,  99.89996997,  99.92921419,  99.9584584 ,\n         99.98770262, 100.01694684, 100.04619106, 100.07543528,\n        100.1046795 , 100.13392372, 100.16316793]),\n <a list of 10 Patch objects>)"
     },
     "metadata": {},
     "execution_count": 26
    },
    {
     "output_type": "display_data",
     "data": {
      "text/plain": "<Figure size 432x288 with 1 Axes>",
      "image/svg+xml": "<?xml version=\"1.0\" encoding=\"utf-8\" standalone=\"no\"?>\r\n<!DOCTYPE svg PUBLIC \"-//W3C//DTD SVG 1.1//EN\"\r\n  \"http://www.w3.org/Graphics/SVG/1.1/DTD/svg11.dtd\">\r\n<!-- Created with matplotlib (https://matplotlib.org/) -->\r\n<svg height=\"249.845213pt\" version=\"1.1\" viewBox=\"0 0 375.2875 249.845213\" width=\"375.2875pt\" xmlns=\"http://www.w3.org/2000/svg\" xmlns:xlink=\"http://www.w3.org/1999/xlink\">\r\n <defs>\r\n  <style type=\"text/css\">\r\n*{stroke-linecap:butt;stroke-linejoin:round;}\r\n  </style>\r\n </defs>\r\n <g id=\"figure_1\">\r\n  <g id=\"patch_1\">\r\n   <path d=\"M 0 249.845213 \r\nL 375.2875 249.845213 \r\nL 375.2875 0 \r\nL 0 0 \r\nz\r\n\" style=\"fill:none;\"/>\r\n  </g>\r\n  <g id=\"axes_1\">\r\n   <g id=\"patch_2\">\r\n    <path d=\"M 33.2875 225.967088 \r\nL 368.0875 225.967088 \r\nL 368.0875 8.527088 \r\nL 33.2875 8.527088 \r\nz\r\n\" style=\"fill:#ffffff;\"/>\r\n   </g>\r\n   <g id=\"patch_3\">\r\n    <path clip-path=\"url(#p00062bcf6e)\" d=\"M 48.505682 225.967088 \r\nL 78.942045 225.967088 \r\nL 78.942045 223.81741 \r\nL 48.505682 223.81741 \r\nz\r\n\" style=\"fill:#1f77b4;\"/>\r\n   </g>\r\n   <g id=\"patch_4\">\r\n    <path clip-path=\"url(#p00062bcf6e)\" d=\"M 78.942045 225.967088 \r\nL 109.378409 225.967088 \r\nL 109.378409 205.90342 \r\nL 78.942045 205.90342 \r\nz\r\n\" style=\"fill:#1f77b4;\"/>\r\n   </g>\r\n   <g id=\"patch_5\">\r\n    <path clip-path=\"url(#p00062bcf6e)\" d=\"M 109.378409 225.967088 \r\nL 139.814773 225.967088 \r\nL 139.814773 158.610489 \r\nL 109.378409 158.610489 \r\nz\r\n\" style=\"fill:#1f77b4;\"/>\r\n   </g>\r\n   <g id=\"patch_6\">\r\n    <path clip-path=\"url(#p00062bcf6e)\" d=\"M 139.814773 225.967088 \r\nL 170.251136 225.967088 \r\nL 170.251136 81.938616 \r\nL 139.814773 81.938616 \r\nz\r\n\" style=\"fill:#1f77b4;\"/>\r\n   </g>\r\n   <g id=\"patch_7\">\r\n    <path clip-path=\"url(#p00062bcf6e)\" d=\"M 170.251136 225.967088 \r\nL 200.6875 225.967088 \r\nL 200.6875 18.881374 \r\nL 170.251136 18.881374 \r\nz\r\n\" style=\"fill:#1f77b4;\"/>\r\n   </g>\r\n   <g id=\"patch_8\">\r\n    <path clip-path=\"url(#p00062bcf6e)\" d=\"M 200.6875 225.967088 \r\nL 231.123864 225.967088 \r\nL 231.123864 53.276233 \r\nL 200.6875 53.276233 \r\nz\r\n\" style=\"fill:#1f77b4;\"/>\r\n   </g>\r\n   <g id=\"patch_9\">\r\n    <path clip-path=\"url(#p00062bcf6e)\" d=\"M 231.123864 225.967088 \r\nL 261.560227 225.967088 \r\nL 261.560227 147.862096 \r\nL 231.123864 147.862096 \r\nz\r\n\" style=\"fill:#1f77b4;\"/>\r\n   </g>\r\n   <g id=\"patch_10\">\r\n    <path clip-path=\"url(#p00062bcf6e)\" d=\"M 261.560227 225.967088 \r\nL 291.996591 225.967088 \r\nL 291.996591 203.753742 \r\nL 261.560227 203.753742 \r\nz\r\n\" style=\"fill:#1f77b4;\"/>\r\n   </g>\r\n   <g id=\"patch_11\">\r\n    <path clip-path=\"url(#p00062bcf6e)\" d=\"M 291.996591 225.967088 \r\nL 322.432955 225.967088 \r\nL 322.432955 223.81741 \r\nL 291.996591 223.81741 \r\nz\r\n\" style=\"fill:#1f77b4;\"/>\r\n   </g>\r\n   <g id=\"patch_12\">\r\n    <path clip-path=\"url(#p00062bcf6e)\" d=\"M 322.432955 225.967088 \r\nL 352.869318 225.967088 \r\nL 352.869318 225.250529 \r\nL 322.432955 225.250529 \r\nz\r\n\" style=\"fill:#1f77b4;\"/>\r\n   </g>\r\n   <g id=\"matplotlib.axis_1\">\r\n    <g id=\"xtick_1\">\r\n     <g id=\"line2d_1\">\r\n      <defs>\r\n       <path d=\"M 0 0 \r\nL 0 3.5 \r\n\" id=\"m51ac8f9234\" style=\"stroke:#000000;stroke-width:0.8;\"/>\r\n      </defs>\r\n      <g>\r\n       <use style=\"stroke:#000000;stroke-width:0.8;\" x=\"78.973303\" xlink:href=\"#m51ac8f9234\" y=\"225.967088\"/>\r\n      </g>\r\n     </g>\r\n     <g id=\"text_1\">\r\n      <!-- 99.90 -->\r\n      <defs>\r\n       <path d=\"M 10.984375 1.515625 \r\nL 10.984375 10.5 \r\nQ 14.703125 8.734375 18.5 7.8125 \r\nQ 22.3125 6.890625 25.984375 6.890625 \r\nQ 35.75 6.890625 40.890625 13.453125 \r\nQ 46.046875 20.015625 46.78125 33.40625 \r\nQ 43.953125 29.203125 39.59375 26.953125 \r\nQ 35.25 24.703125 29.984375 24.703125 \r\nQ 19.046875 24.703125 12.671875 31.3125 \r\nQ 6.296875 37.9375 6.296875 49.421875 \r\nQ 6.296875 60.640625 12.9375 67.421875 \r\nQ 19.578125 74.21875 30.609375 74.21875 \r\nQ 43.265625 74.21875 49.921875 64.515625 \r\nQ 56.59375 54.828125 56.59375 36.375 \r\nQ 56.59375 19.140625 48.40625 8.859375 \r\nQ 40.234375 -1.421875 26.421875 -1.421875 \r\nQ 22.703125 -1.421875 18.890625 -0.6875 \r\nQ 15.09375 0.046875 10.984375 1.515625 \r\nz\r\nM 30.609375 32.421875 \r\nQ 37.25 32.421875 41.125 36.953125 \r\nQ 45.015625 41.5 45.015625 49.421875 \r\nQ 45.015625 57.28125 41.125 61.84375 \r\nQ 37.25 66.40625 30.609375 66.40625 \r\nQ 23.96875 66.40625 20.09375 61.84375 \r\nQ 16.21875 57.28125 16.21875 49.421875 \r\nQ 16.21875 41.5 20.09375 36.953125 \r\nQ 23.96875 32.421875 30.609375 32.421875 \r\nz\r\n\" id=\"DejaVuSans-57\"/>\r\n       <path d=\"M 10.6875 12.40625 \r\nL 21 12.40625 \r\nL 21 0 \r\nL 10.6875 0 \r\nz\r\n\" id=\"DejaVuSans-46\"/>\r\n       <path d=\"M 31.78125 66.40625 \r\nQ 24.171875 66.40625 20.328125 58.90625 \r\nQ 16.5 51.421875 16.5 36.375 \r\nQ 16.5 21.390625 20.328125 13.890625 \r\nQ 24.171875 6.390625 31.78125 6.390625 \r\nQ 39.453125 6.390625 43.28125 13.890625 \r\nQ 47.125 21.390625 47.125 36.375 \r\nQ 47.125 51.421875 43.28125 58.90625 \r\nQ 39.453125 66.40625 31.78125 66.40625 \r\nz\r\nM 31.78125 74.21875 \r\nQ 44.046875 74.21875 50.515625 64.515625 \r\nQ 56.984375 54.828125 56.984375 36.375 \r\nQ 56.984375 17.96875 50.515625 8.265625 \r\nQ 44.046875 -1.421875 31.78125 -1.421875 \r\nQ 19.53125 -1.421875 13.0625 8.265625 \r\nQ 6.59375 17.96875 6.59375 36.375 \r\nQ 6.59375 54.828125 13.0625 64.515625 \r\nQ 19.53125 74.21875 31.78125 74.21875 \r\nz\r\n\" id=\"DejaVuSans-48\"/>\r\n      </defs>\r\n      <g transform=\"translate(64.65924 240.565526)scale(0.1 -0.1)\">\r\n       <use xlink:href=\"#DejaVuSans-57\"/>\r\n       <use x=\"63.623047\" xlink:href=\"#DejaVuSans-57\"/>\r\n       <use x=\"127.246094\" xlink:href=\"#DejaVuSans-46\"/>\r\n       <use x=\"159.033203\" xlink:href=\"#DejaVuSans-57\"/>\r\n       <use x=\"222.65625\" xlink:href=\"#DejaVuSans-48\"/>\r\n      </g>\r\n     </g>\r\n    </g>\r\n    <g id=\"xtick_2\">\r\n     <g id=\"line2d_2\">\r\n      <g>\r\n       <use style=\"stroke:#000000;stroke-width:0.8;\" x=\"131.011561\" xlink:href=\"#m51ac8f9234\" y=\"225.967088\"/>\r\n      </g>\r\n     </g>\r\n     <g id=\"text_2\">\r\n      <!-- 99.95 -->\r\n      <defs>\r\n       <path d=\"M 10.796875 72.90625 \r\nL 49.515625 72.90625 \r\nL 49.515625 64.59375 \r\nL 19.828125 64.59375 \r\nL 19.828125 46.734375 \r\nQ 21.96875 47.46875 24.109375 47.828125 \r\nQ 26.265625 48.1875 28.421875 48.1875 \r\nQ 40.625 48.1875 47.75 41.5 \r\nQ 54.890625 34.8125 54.890625 23.390625 \r\nQ 54.890625 11.625 47.5625 5.09375 \r\nQ 40.234375 -1.421875 26.90625 -1.421875 \r\nQ 22.3125 -1.421875 17.546875 -0.640625 \r\nQ 12.796875 0.140625 7.71875 1.703125 \r\nL 7.71875 11.625 \r\nQ 12.109375 9.234375 16.796875 8.0625 \r\nQ 21.484375 6.890625 26.703125 6.890625 \r\nQ 35.15625 6.890625 40.078125 11.328125 \r\nQ 45.015625 15.765625 45.015625 23.390625 \r\nQ 45.015625 31 40.078125 35.4375 \r\nQ 35.15625 39.890625 26.703125 39.890625 \r\nQ 22.75 39.890625 18.8125 39.015625 \r\nQ 14.890625 38.140625 10.796875 36.28125 \r\nz\r\n\" id=\"DejaVuSans-53\"/>\r\n      </defs>\r\n      <g transform=\"translate(116.697498 240.565526)scale(0.1 -0.1)\">\r\n       <use xlink:href=\"#DejaVuSans-57\"/>\r\n       <use x=\"63.623047\" xlink:href=\"#DejaVuSans-57\"/>\r\n       <use x=\"127.246094\" xlink:href=\"#DejaVuSans-46\"/>\r\n       <use x=\"159.033203\" xlink:href=\"#DejaVuSans-57\"/>\r\n       <use x=\"222.65625\" xlink:href=\"#DejaVuSans-53\"/>\r\n      </g>\r\n     </g>\r\n    </g>\r\n    <g id=\"xtick_3\">\r\n     <g id=\"line2d_3\">\r\n      <g>\r\n       <use style=\"stroke:#000000;stroke-width:0.8;\" x=\"183.049818\" xlink:href=\"#m51ac8f9234\" y=\"225.967088\"/>\r\n      </g>\r\n     </g>\r\n     <g id=\"text_3\">\r\n      <!-- 100.00 -->\r\n      <defs>\r\n       <path d=\"M 12.40625 8.296875 \r\nL 28.515625 8.296875 \r\nL 28.515625 63.921875 \r\nL 10.984375 60.40625 \r\nL 10.984375 69.390625 \r\nL 28.421875 72.90625 \r\nL 38.28125 72.90625 \r\nL 38.28125 8.296875 \r\nL 54.390625 8.296875 \r\nL 54.390625 0 \r\nL 12.40625 0 \r\nz\r\n\" id=\"DejaVuSans-49\"/>\r\n      </defs>\r\n      <g transform=\"translate(165.554506 240.565526)scale(0.1 -0.1)\">\r\n       <use xlink:href=\"#DejaVuSans-49\"/>\r\n       <use x=\"63.623047\" xlink:href=\"#DejaVuSans-48\"/>\r\n       <use x=\"127.246094\" xlink:href=\"#DejaVuSans-48\"/>\r\n       <use x=\"190.869141\" xlink:href=\"#DejaVuSans-46\"/>\r\n       <use x=\"222.65625\" xlink:href=\"#DejaVuSans-48\"/>\r\n       <use x=\"286.279297\" xlink:href=\"#DejaVuSans-48\"/>\r\n      </g>\r\n     </g>\r\n    </g>\r\n    <g id=\"xtick_4\">\r\n     <g id=\"line2d_4\">\r\n      <g>\r\n       <use style=\"stroke:#000000;stroke-width:0.8;\" x=\"235.088076\" xlink:href=\"#m51ac8f9234\" y=\"225.967088\"/>\r\n      </g>\r\n     </g>\r\n     <g id=\"text_4\">\r\n      <!-- 100.05 -->\r\n      <g transform=\"translate(217.592764 240.565526)scale(0.1 -0.1)\">\r\n       <use xlink:href=\"#DejaVuSans-49\"/>\r\n       <use x=\"63.623047\" xlink:href=\"#DejaVuSans-48\"/>\r\n       <use x=\"127.246094\" xlink:href=\"#DejaVuSans-48\"/>\r\n       <use x=\"190.869141\" xlink:href=\"#DejaVuSans-46\"/>\r\n       <use x=\"222.65625\" xlink:href=\"#DejaVuSans-48\"/>\r\n       <use x=\"286.279297\" xlink:href=\"#DejaVuSans-53\"/>\r\n      </g>\r\n     </g>\r\n    </g>\r\n    <g id=\"xtick_5\">\r\n     <g id=\"line2d_5\">\r\n      <g>\r\n       <use style=\"stroke:#000000;stroke-width:0.8;\" x=\"287.126334\" xlink:href=\"#m51ac8f9234\" y=\"225.967088\"/>\r\n      </g>\r\n     </g>\r\n     <g id=\"text_5\">\r\n      <!-- 100.10 -->\r\n      <g transform=\"translate(269.631021 240.565526)scale(0.1 -0.1)\">\r\n       <use xlink:href=\"#DejaVuSans-49\"/>\r\n       <use x=\"63.623047\" xlink:href=\"#DejaVuSans-48\"/>\r\n       <use x=\"127.246094\" xlink:href=\"#DejaVuSans-48\"/>\r\n       <use x=\"190.869141\" xlink:href=\"#DejaVuSans-46\"/>\r\n       <use x=\"222.65625\" xlink:href=\"#DejaVuSans-49\"/>\r\n       <use x=\"286.279297\" xlink:href=\"#DejaVuSans-48\"/>\r\n      </g>\r\n     </g>\r\n    </g>\r\n    <g id=\"xtick_6\">\r\n     <g id=\"line2d_6\">\r\n      <g>\r\n       <use style=\"stroke:#000000;stroke-width:0.8;\" x=\"339.164591\" xlink:href=\"#m51ac8f9234\" y=\"225.967088\"/>\r\n      </g>\r\n     </g>\r\n     <g id=\"text_6\">\r\n      <!-- 100.15 -->\r\n      <g transform=\"translate(321.669279 240.565526)scale(0.1 -0.1)\">\r\n       <use xlink:href=\"#DejaVuSans-49\"/>\r\n       <use x=\"63.623047\" xlink:href=\"#DejaVuSans-48\"/>\r\n       <use x=\"127.246094\" xlink:href=\"#DejaVuSans-48\"/>\r\n       <use x=\"190.869141\" xlink:href=\"#DejaVuSans-46\"/>\r\n       <use x=\"222.65625\" xlink:href=\"#DejaVuSans-49\"/>\r\n       <use x=\"286.279297\" xlink:href=\"#DejaVuSans-53\"/>\r\n      </g>\r\n     </g>\r\n    </g>\r\n   </g>\r\n   <g id=\"matplotlib.axis_2\">\r\n    <g id=\"ytick_1\">\r\n     <g id=\"line2d_7\">\r\n      <defs>\r\n       <path d=\"M 0 0 \r\nL -3.5 0 \r\n\" id=\"m9dbc757033\" style=\"stroke:#000000;stroke-width:0.8;\"/>\r\n      </defs>\r\n      <g>\r\n       <use style=\"stroke:#000000;stroke-width:0.8;\" x=\"33.2875\" xlink:href=\"#m9dbc757033\" y=\"225.967088\"/>\r\n      </g>\r\n     </g>\r\n     <g id=\"text_7\">\r\n      <!-- 0 -->\r\n      <g transform=\"translate(19.925 229.766307)scale(0.1 -0.1)\">\r\n       <use xlink:href=\"#DejaVuSans-48\"/>\r\n      </g>\r\n     </g>\r\n    </g>\r\n    <g id=\"ytick_2\">\r\n     <g id=\"line2d_8\">\r\n      <g>\r\n       <use style=\"stroke:#000000;stroke-width:0.8;\" x=\"33.2875\" xlink:href=\"#m9dbc757033\" y=\"190.13911\"/>\r\n      </g>\r\n     </g>\r\n     <g id=\"text_8\">\r\n      <!-- 50 -->\r\n      <g transform=\"translate(13.5625 193.938329)scale(0.1 -0.1)\">\r\n       <use xlink:href=\"#DejaVuSans-53\"/>\r\n       <use x=\"63.623047\" xlink:href=\"#DejaVuSans-48\"/>\r\n      </g>\r\n     </g>\r\n    </g>\r\n    <g id=\"ytick_3\">\r\n     <g id=\"line2d_9\">\r\n      <g>\r\n       <use style=\"stroke:#000000;stroke-width:0.8;\" x=\"33.2875\" xlink:href=\"#m9dbc757033\" y=\"154.311132\"/>\r\n      </g>\r\n     </g>\r\n     <g id=\"text_9\">\r\n      <!-- 100 -->\r\n      <g transform=\"translate(7.2 158.110351)scale(0.1 -0.1)\">\r\n       <use xlink:href=\"#DejaVuSans-49\"/>\r\n       <use x=\"63.623047\" xlink:href=\"#DejaVuSans-48\"/>\r\n       <use x=\"127.246094\" xlink:href=\"#DejaVuSans-48\"/>\r\n      </g>\r\n     </g>\r\n    </g>\r\n    <g id=\"ytick_4\">\r\n     <g id=\"line2d_10\">\r\n      <g>\r\n       <use style=\"stroke:#000000;stroke-width:0.8;\" x=\"33.2875\" xlink:href=\"#m9dbc757033\" y=\"118.483154\"/>\r\n      </g>\r\n     </g>\r\n     <g id=\"text_10\">\r\n      <!-- 150 -->\r\n      <g transform=\"translate(7.2 122.282372)scale(0.1 -0.1)\">\r\n       <use xlink:href=\"#DejaVuSans-49\"/>\r\n       <use x=\"63.623047\" xlink:href=\"#DejaVuSans-53\"/>\r\n       <use x=\"127.246094\" xlink:href=\"#DejaVuSans-48\"/>\r\n      </g>\r\n     </g>\r\n    </g>\r\n    <g id=\"ytick_5\">\r\n     <g id=\"line2d_11\">\r\n      <g>\r\n       <use style=\"stroke:#000000;stroke-width:0.8;\" x=\"33.2875\" xlink:href=\"#m9dbc757033\" y=\"82.655175\"/>\r\n      </g>\r\n     </g>\r\n     <g id=\"text_11\">\r\n      <!-- 200 -->\r\n      <defs>\r\n       <path d=\"M 19.1875 8.296875 \r\nL 53.609375 8.296875 \r\nL 53.609375 0 \r\nL 7.328125 0 \r\nL 7.328125 8.296875 \r\nQ 12.9375 14.109375 22.625 23.890625 \r\nQ 32.328125 33.6875 34.8125 36.53125 \r\nQ 39.546875 41.84375 41.421875 45.53125 \r\nQ 43.3125 49.21875 43.3125 52.78125 \r\nQ 43.3125 58.59375 39.234375 62.25 \r\nQ 35.15625 65.921875 28.609375 65.921875 \r\nQ 23.96875 65.921875 18.8125 64.3125 \r\nQ 13.671875 62.703125 7.8125 59.421875 \r\nL 7.8125 69.390625 \r\nQ 13.765625 71.78125 18.9375 73 \r\nQ 24.125 74.21875 28.421875 74.21875 \r\nQ 39.75 74.21875 46.484375 68.546875 \r\nQ 53.21875 62.890625 53.21875 53.421875 \r\nQ 53.21875 48.921875 51.53125 44.890625 \r\nQ 49.859375 40.875 45.40625 35.40625 \r\nQ 44.1875 33.984375 37.640625 27.21875 \r\nQ 31.109375 20.453125 19.1875 8.296875 \r\nz\r\n\" id=\"DejaVuSans-50\"/>\r\n      </defs>\r\n      <g transform=\"translate(7.2 86.454394)scale(0.1 -0.1)\">\r\n       <use xlink:href=\"#DejaVuSans-50\"/>\r\n       <use x=\"63.623047\" xlink:href=\"#DejaVuSans-48\"/>\r\n       <use x=\"127.246094\" xlink:href=\"#DejaVuSans-48\"/>\r\n      </g>\r\n     </g>\r\n    </g>\r\n    <g id=\"ytick_6\">\r\n     <g id=\"line2d_12\">\r\n      <g>\r\n       <use style=\"stroke:#000000;stroke-width:0.8;\" x=\"33.2875\" xlink:href=\"#m9dbc757033\" y=\"46.827197\"/>\r\n      </g>\r\n     </g>\r\n     <g id=\"text_12\">\r\n      <!-- 250 -->\r\n      <g transform=\"translate(7.2 50.626416)scale(0.1 -0.1)\">\r\n       <use xlink:href=\"#DejaVuSans-50\"/>\r\n       <use x=\"63.623047\" xlink:href=\"#DejaVuSans-53\"/>\r\n       <use x=\"127.246094\" xlink:href=\"#DejaVuSans-48\"/>\r\n      </g>\r\n     </g>\r\n    </g>\r\n    <g id=\"ytick_7\">\r\n     <g id=\"line2d_13\">\r\n      <g>\r\n       <use style=\"stroke:#000000;stroke-width:0.8;\" x=\"33.2875\" xlink:href=\"#m9dbc757033\" y=\"10.999219\"/>\r\n      </g>\r\n     </g>\r\n     <g id=\"text_13\">\r\n      <!-- 300 -->\r\n      <defs>\r\n       <path d=\"M 40.578125 39.3125 \r\nQ 47.65625 37.796875 51.625 33 \r\nQ 55.609375 28.21875 55.609375 21.1875 \r\nQ 55.609375 10.40625 48.1875 4.484375 \r\nQ 40.765625 -1.421875 27.09375 -1.421875 \r\nQ 22.515625 -1.421875 17.65625 -0.515625 \r\nQ 12.796875 0.390625 7.625 2.203125 \r\nL 7.625 11.71875 \r\nQ 11.71875 9.328125 16.59375 8.109375 \r\nQ 21.484375 6.890625 26.8125 6.890625 \r\nQ 36.078125 6.890625 40.9375 10.546875 \r\nQ 45.796875 14.203125 45.796875 21.1875 \r\nQ 45.796875 27.640625 41.28125 31.265625 \r\nQ 36.765625 34.90625 28.71875 34.90625 \r\nL 20.21875 34.90625 \r\nL 20.21875 43.015625 \r\nL 29.109375 43.015625 \r\nQ 36.375 43.015625 40.234375 45.921875 \r\nQ 44.09375 48.828125 44.09375 54.296875 \r\nQ 44.09375 59.90625 40.109375 62.90625 \r\nQ 36.140625 65.921875 28.71875 65.921875 \r\nQ 24.65625 65.921875 20.015625 65.03125 \r\nQ 15.375 64.15625 9.8125 62.3125 \r\nL 9.8125 71.09375 \r\nQ 15.4375 72.65625 20.34375 73.4375 \r\nQ 25.25 74.21875 29.59375 74.21875 \r\nQ 40.828125 74.21875 47.359375 69.109375 \r\nQ 53.90625 64.015625 53.90625 55.328125 \r\nQ 53.90625 49.265625 50.4375 45.09375 \r\nQ 46.96875 40.921875 40.578125 39.3125 \r\nz\r\n\" id=\"DejaVuSans-51\"/>\r\n      </defs>\r\n      <g transform=\"translate(7.2 14.798437)scale(0.1 -0.1)\">\r\n       <use xlink:href=\"#DejaVuSans-51\"/>\r\n       <use x=\"63.623047\" xlink:href=\"#DejaVuSans-48\"/>\r\n       <use x=\"127.246094\" xlink:href=\"#DejaVuSans-48\"/>\r\n      </g>\r\n     </g>\r\n    </g>\r\n   </g>\r\n   <g id=\"patch_13\">\r\n    <path d=\"M 33.2875 225.967088 \r\nL 33.2875 8.527088 \r\n\" style=\"fill:none;stroke:#000000;stroke-linecap:square;stroke-linejoin:miter;stroke-width:0.8;\"/>\r\n   </g>\r\n   <g id=\"patch_14\">\r\n    <path d=\"M 368.0875 225.967088 \r\nL 368.0875 8.527088 \r\n\" style=\"fill:none;stroke:#000000;stroke-linecap:square;stroke-linejoin:miter;stroke-width:0.8;\"/>\r\n   </g>\r\n   <g id=\"patch_15\">\r\n    <path d=\"M 33.2875 225.967088 \r\nL 368.0875 225.967088 \r\n\" style=\"fill:none;stroke:#000000;stroke-linecap:square;stroke-linejoin:miter;stroke-width:0.8;\"/>\r\n   </g>\r\n   <g id=\"patch_16\">\r\n    <path d=\"M 33.2875 8.527088 \r\nL 368.0875 8.527088 \r\n\" style=\"fill:none;stroke:#000000;stroke-linecap:square;stroke-linejoin:miter;stroke-width:0.8;\"/>\r\n   </g>\r\n  </g>\r\n </g>\r\n <defs>\r\n  <clipPath id=\"p00062bcf6e\">\r\n   <rect height=\"217.44\" width=\"334.8\" x=\"33.2875\" y=\"8.527088\"/>\r\n  </clipPath>\r\n </defs>\r\n</svg>\r\n",
      "image/png": "[encoded data removed]"
     },
     "metadata": {
      "needs_background": "light"
     }
    }
   ],
   "source": [
    "import matplotlib\n",
    "import matplotlib.pyplot as plt\n",
    "plt.hist(ForecastPrice, bins = 10)"
   ]
  },
  {
   "cell_type": "code",
   "execution_count": null,
   "metadata": {},
   "outputs": [],
   "source": []
  }
 ],
 "metadata": {
  "history": [
   {
    "cell": {
     "executionCount": 1,
     "executionEventId": "649d20ba-da01-46b6-838c-944a0e4aec7d",
     "hasError": false,
     "id": "a58b36de-7db8-4249-ac80-54d08a075685",
     "outputs": [],
     "persistentId": "5ac89a4f-2b2c-48a4-80b8-7a150881fda2",
     "text": "outcomes = [1,2,3,4,5,6]"
    },
    "executionTime": "2020-02-04T03:23:14.979Z"
   },
   {
    "cell": {
     "executionCount": 3,
     "executionEventId": "c8484889-99b5-490e-80fc-b8bc3afc996f",
     "hasError": true,
     "id": "38aac778-063e-4ffe-9c44-25641ac7471c",
     "outputs": [
      {
       "ename": "TypeError",
       "evalue": "'module' object is not callable",
       "output_type": "error",
       "traceback": [
        "\u001b[1;31m---------------------------------------------------------------------------\u001b[0m",
        "\u001b[1;31mTypeError\u001b[0m                                 Traceback (most recent call last)",
        "\u001b[1;32m<ipython-input-3-ae4458c14db5>\u001b[0m in \u001b[0;36m<module>\u001b[1;34m\u001b[0m\n\u001b[1;32m----> 1\u001b[1;33m \u001b[0mnp\u001b[0m\u001b[1;33m.\u001b[0m\u001b[0mrandom\u001b[0m\u001b[1;33m(\u001b[0m\u001b[0moutcomes\u001b[0m\u001b[1;33m,\u001b[0m \u001b[0msize\u001b[0m\u001b[1;33m=\u001b[0m\u001b[1;36m1\u001b[0m\u001b[1;33m)\u001b[0m\u001b[1;33m\u001b[0m\u001b[1;33m\u001b[0m\u001b[0m\n\u001b[0m",
        "\u001b[1;31mTypeError\u001b[0m: 'module' object is not callable"
       ]
      }
     ],
     "persistentId": "09c0b07d-4b5c-4586-861b-06890b818dc5",
     "text": "np.random(outcomes, size=1)"
    },
    "executionTime": "2020-02-04T03:25:58.505Z"
   },
   {
    "cell": {
     "executionCount": 4,
     "executionEventId": "c2d20422-2e21-4cce-8b1d-7dc910b0f46f",
     "hasError": false,
     "id": "38aac778-063e-4ffe-9c44-25641ac7471c",
     "outputs": [
      {
       "data": {
        "text/plain": "array([4])"
       },
       "execution_count": 4,
       "metadata": {},
       "output_type": "execute_result"
      }
     ],
     "persistentId": "09c0b07d-4b5c-4586-861b-06890b818dc5",
     "text": "np.random.choice(outcomes, size=1)"
    },
    "executionTime": "2020-02-04T03:26:06.073Z"
   },
   {
    "cell": {
     "executionCount": 5,
     "executionEventId": "d088afd6-f674-46de-b74f-527a99bfca48",
     "hasError": false,
     "id": "707852ed-302b-409b-96b8-4a98566183fc",
     "outputs": [],
     "persistentId": "7613bc3c-37f3-4891-9a73-e4679b9dd53d",
     "text": "actualOutcomes = []"
    },
    "executionTime": "2020-02-04T03:26:38.633Z"
   },
   {
    "cell": {
     "executionCount": 6,
     "executionEventId": "ef06a35e-b514-4215-8df6-cd2effd8b44c",
     "hasError": false,
     "id": "bad9f7ec-ef90-4eca-99b9-4232b873e98b",
     "outputs": [
      {
       "data": {
        "text/plain": "array([1])"
       },
       "execution_count": 6,
       "metadata": {},
       "output_type": "execute_result"
      }
     ],
     "persistentId": "09c0b07d-4b5c-4586-861b-06890b818dc5",
     "text": "np.random.choice(outcomes, size=1)"
    },
    "executionTime": "2020-02-04T03:26:44.606Z"
   },
   {
    "cell": {
     "executionCount": 7,
     "executionEventId": "39ae45a0-7360-4e45-8597-573717cac134",
     "hasError": false,
     "id": "07570cda-6420-499c-895e-c6c6022de317",
     "outputs": [],
     "persistentId": "eb4d90b6-0bdb-46c2-8141-c5b1ffbf482e",
     "text": "for i in np.arange(10001):\n    actualOutcomes.append(np.random.choice(outcomes, size=1))"
    },
    "executionTime": "2020-02-04T03:27:48.806Z"
   },
   {
    "cell": {
     "executionCount": 8,
     "executionEventId": "1e2aed2e-b93f-4414-9bec-1d64f45960eb",
     "hasError": false,
     "id": "c135b60f-f565-45a3-a908-226dc618d758",
     "outputs": [
      {
       "data": {
        "text/plain": "[array([1]),\n array([5]),\n array([5]),\n array([3]),\n array([6]),\n array([2]),\n array([3]),\n array([6]),\n array([2]),\n array([2]),\n array([6]),\n array([6]),\n array([3]),\n array([2]),\n array([5]),\n array([3]),\n array([6]),\n array([1]),\n array([4]),\n array([3]),\n array([5]),\n array([1]),\n array([6]),\n array([4]),\n array([4]),\n array([2]),\n array([1]),\n array([3]),\n array([3]),\n array([4]),\n array([1]),\n array([3]),\n array([1]),\n array([6]),\n array([2]),\n array([3]),\n array([2]),\n array([6]),\n array([5]),\n array([3]),\n array([3]),\n array([4]),\n array([3]),\n array([1]),\n array([3]),\n array([6]),\n array([3]),\n array([3]),\n array([5]),\n array([2]),\n array([4]),\n array([6]),\n array([1]),\n array([5]),\n array([5]),\n array([5]),\n array([1]),\n array([3]),\n array([3]),\n array([5]),\n array([5]),\n array([6]),\n array([3]),\n array([2]),\n array([3]),\n array([1]),\n array([6]),\n array([1]),\n array([1]),\n array([3]),\n array([5]),\n array([3]),\n array([6]),\n array([5]),\n array([4]),\n array([6]),\n array([4]),\n array([5]),\n array([6]),\n array([3]),\n array([2]),\n array([1]),\n array([1]),\n array([3]),\n array([1]),\n array([5]),\n array([4]),\n array([5]),\n array([3]),\n array([2]),\n array([5]),\n array([3]),\n array([2]),\n array([6]),\n array([5]),\n array([3]),\n array([3]),\n array([2]),\n array([4]),\n array([5]),\n array([1]),\n array([3]),\n array([3]),\n array([1]),\n array([1]),\n array([5]),\n array([2]),\n array([4]),\n array([3]),\n array([6]),\n array([3]),\n array([1]),\n array([1]),\n array([2]),\n array([1]),\n array([3]),\n array([2]),\n array([6]),\n array([2]),\n array([1]),\n array([2]),\n array([6]),\n array([5]),\n array([6]),\n array([5]),\n array([2]),\n array([3]),\n array([4]),\n array([1]),\n array([3]),\n array([3]),\n array([4]),\n array([1]),\n array([6]),\n array([2]),\n array([3]),\n array([3]),\n array([4]),\n array([3]),\n array([5]),\n array([5]),\n array([6]),\n array([5]),\n array([5]),\n array([5]),\n array([6]),\n array([1]),\n array([4]),\n array([6]),\n array([2]),\n array([5]),\n array([5]),\n array([6]),\n array([3]),\n array([2]),\n array([6]),\n array([3]),\n array([5]),\n array([3]),\n array([6]),\n array([3]),\n array([4]),\n array([4]),\n array([1]),\n array([1]),\n array([1]),\n array([5]),\n array([1]),\n array([6]),\n array([4]),\n array([1]),\n array([5]),\n array([5]),\n array([1]),\n array([3]),\n array([6]),\n array([2]),\n array([6]),\n array([3]),\n array([6]),\n array([3]),\n array([6]),\n array([2]),\n array([1]),\n array([3]),\n array([5]),\n array([5]),\n array([2]),\n array([6]),\n array([3]),\n array([2]),\n array([2]),\n array([5]),\n array([3]),\n array([2]),\n array([3]),\n array([4]),\n array([1]),\n array([5]),\n array([6]),\n array([1]),\n array([2]),\n array([6]),\n array([4]),\n array([3]),\n array([1]),\n array([2]),\n array([3]),\n array([2]),\n array([2]),\n array([5]),\n array([6]),\n array([5]),\n array([6]),\n array([2]),\n array([4]),\n array([3]),\n array([6]),\n array([4]),\n array([5]),\n array([3]),\n array([6]),\n array([2]),\n array([4]),\n array([3]),\n array([3]),\n array([1]),\n array([6]),\n array([5]),\n array([1]),\n array([1]),\n array([6]),\n array([4]),\n array([2]),\n array([4]),\n array([4]),\n array([6]),\n array([5]),\n array([2]),\n array([5]),\n array([1]),\n array([4]),\n array([6]),\n array([2]),\n array([5]),\n array([6]),\n array([2]),\n array([5]),\n array([1]),\n array([5]),\n array([6]),\n array([2]),\n array([1]),\n array([1]),\n array([2]),\n array([5]),\n array([2]),\n array([4]),\n array([3]),\n array([6]),\n array([3]),\n array([1]),\n array([2]),\n array([2]),\n array([2]),\n array([1]),\n array([3]),\n array([5]),\n array([4]),\n array([1]),\n array([1]),\n array([4]),\n array([6]),\n array([4]),\n array([5]),\n array([6]),\n array([1]),\n array([3]),\n array([2]),\n array([2]),\n array([2]),\n array([1]),\n array([4]),\n array([2]),\n array([6]),\n array([1]),\n array([1]),\n array([6]),\n array([5]),\n array([1]),\n array([2]),\n array([2]),\n array([4]),\n array([2]),\n array([5]),\n array([5]),\n array([3]),\n array([5]),\n array([1]),\n array([6]),\n array([5]),\n array([5]),\n array([3]),\n array([3]),\n array([3]),\n array([6]),\n array([1]),\n array([1]),\n array([4]),\n array([2]),\n array([2]),\n array([5]),\n array([2]),\n array([6]),\n array([2]),\n array([5]),\n array([3]),\n array([3]),\n array([2]),\n array([3]),\n array([2]),\n array([6]),\n array([3]),\n array([5]),\n array([5]),\n array([6]),\n array([5]),\n array([6]),\n array([5]),\n array([1]),\n array([6]),\n array([2]),\n array([4]),\n array([5]),\n array([1]),\n array([5]),\n array([5]),\n array([1]),\n array([4]),\n array([1]),\n array([4]),\n array([5]),\n array([6]),\n array([5]),\n array([3]),\n array([6]),\n array([3]),\n array([3]),\n array([4]),\n array([4]),\n array([4]),\n array([1]),\n array([1]),\n array([2]),\n array([6]),\n array([2]),\n array([2]),\n array([1]),\n array([6]),\n array([6]),\n array([3]),\n array([1]),\n array([6]),\n array([1]),\n array([1]),\n array([1]),\n array([6]),\n array([3]),\n array([5]),\n array([1]),\n array([5]),\n array([6]),\n array([3]),\n array([4]),\n array([2]),\n array([2]),\n array([5]),\n array([1]),\n array([1]),\n array([2]),\n array([6]),\n array([5]),\n array([1]),\n array([1]),\n array([5]),\n array([6]),\n array([1]),\n array([1]),\n array([3]),\n array([5]),\n array([6]),\n array([4]),\n array([2]),\n array([6]),\n array([2]),\n array([2]),\n array([6]),\n array([6]),\n array([4]),\n array([3]),\n array([2]),\n array([4]),\n array([5]),\n array([6]),\n array([4]),\n array([5]),\n array([6]),\n array([5]),\n array([5]),\n array([4]),\n array([6]),\n array([5]),\n array([6]),\n array([6]),\n array([2]),\n array([3]),\n array([1]),\n array([3]),\n array([6]),\n array([6]),\n array([2]),\n array([1]),\n array([1]),\n array([5]),\n array([5]),\n array([2]),\n array([1]),\n array([3]),\n array([4]),\n array([4]),\n array([4]),\n array([2]),\n array([6]),\n array([3]),\n array([1]),\n array([4]),\n array([5]),\n array([6]),\n array([6]),\n array([4]),\n array([4]),\n array([6]),\n array([3]),\n array([5]),\n array([3]),\n array([5]),\n array([3]),\n array([6]),\n array([5]),\n array([6]),\n array([4]),\n array([5]),\n array([4]),\n array([2]),\n array([2]),\n array([5]),\n array([2]),\n array([4]),\n array([5]),\n array([6]),\n array([2]),\n array([5]),\n array([1]),\n array([6]),\n array([1]),\n array([3]),\n array([1]),\n array([6]),\n array([4]),\n array([2]),\n array([3]),\n array([4]),\n array([5]),\n array([3]),\n array([3]),\n array([6]),\n array([2]),\n array([2]),\n array([1]),\n array([5]),\n array([1]),\n array([5]),\n array([1]),\n array([1]),\n array([5]),\n array([1]),\n array([5]),\n array([5]),\n array([2]),\n array([2]),\n array([2]),\n array([3]),\n array([6]),\n array([1]),\n array([5]),\n array([2]),\n array([2]),\n array([5]),\n array([2]),\n array([3]),\n array([4]),\n array([6]),\n array([3]),\n array([6]),\n array([4]),\n array([1]),\n array([2]),\n array([5]),\n array([3]),\n array([5]),\n array([5]),\n array([3]),\n array([4]),\n array([3]),\n array([2]),\n array([6]),\n array([6]),\n array([3]),\n array([4]),\n array([3]),\n array([1]),\n array([5]),\n array([2]),\n array([5]),\n array([2]),\n array([2]),\n array([5]),\n array([1]),\n array([3]),\n array([6]),\n array([3]),\n array([3]),\n array([3]),\n array([1]),\n array([5]),\n array([6]),\n array([4]),\n array([5]),\n array([3]),\n array([1]),\n array([6]),\n array([5]),\n array([6]),\n array([3]),\n array([1]),\n array([4]),\n array([6]),\n array([4]),\n array([6]),\n array([2]),\n array([5]),\n array([5]),\n array([1]),\n array([5]),\n array([3]),\n array([2]),\n array([6]),\n array([6]),\n array([6]),\n array([2]),\n array([3]),\n array([2]),\n array([6]),\n array([2]),\n array([4]),\n array([5]),\n array([2]),\n array([1]),\n array([5]),\n array([1]),\n array([2]),\n array([1]),\n array([1]),\n array([1]),\n array([6]),\n array([5]),\n array([6]),\n array([2]),\n array([2]),\n array([3]),\n array([5]),\n array([5]),\n array([5]),\n array([1]),\n array([3]),\n array([3]),\n array([2]),\n array([4]),\n array([2]),\n array([2]),\n array([5]),\n array([3]),\n array([1]),\n array([1]),\n array([1]),\n array([5]),\n array([6]),\n array([2]),\n array([2]),\n array([1]),\n array([1]),\n array([5]),\n array([2]),\n array([1]),\n array([4]),\n array([4]),\n array([2]),\n array([5]),\n array([6]),\n array([2]),\n array([2]),\n array([6]),\n array([6]),\n array([1]),\n array([2]),\n array([3]),\n array([4]),\n array([3]),\n array([3]),\n array([3]),\n array([5]),\n array([1]),\n array([6]),\n array([4]),\n array([6]),\n array([5]),\n array([3]),\n array([1]),\n array([3]),\n array([4]),\n array([6]),\n array([3]),\n array([1]),\n array([4]),\n array([4]),\n array([6]),\n array([3]),\n array([3]),\n array([6]),\n array([2]),\n array([2]),\n array([5]),\n array([2]),\n array([5]),\n array([2]),\n array([5]),\n array([1]),\n array([5]),\n array([4]),\n array([3]),\n array([3]),\n array([4]),\n array([1]),\n array([1]),\n array([5]),\n array([1]),\n array([3]),\n array([6]),\n array([5]),\n array([4]),\n array([4]),\n array([1]),\n array([5]),\n array([3]),\n array([5]),\n array([6]),\n array([6]),\n array([4]),\n array([6]),\n array([5]),\n array([1]),\n array([1]),\n array([5]),\n array([3]),\n array([3]),\n array([2]),\n array([4]),\n array([5]),\n array([6]),\n array([3]),\n array([5]),\n array([3]),\n array([2]),\n array([3]),\n array([3]),\n array([5]),\n array([6]),\n array([6]),\n array([2]),\n array([1]),\n array([5]),\n array([2]),\n array([5]),\n array([3]),\n array([5]),\n array([1]),\n array([1]),\n array([4]),\n array([1]),\n array([6]),\n array([2]),\n array([3]),\n array([3]),\n array([1]),\n array([2]),\n array([3]),\n array([5]),\n array([6]),\n array([3]),\n array([3]),\n array([6]),\n array([2]),\n array([3]),\n array([3]),\n array([3]),\n array([5]),\n array([3]),\n array([5]),\n array([5]),\n array([2]),\n array([2]),\n array([5]),\n array([4]),\n array([6]),\n array([6]),\n array([1]),\n array([3]),\n array([4]),\n array([4]),\n array([1]),\n array([4]),\n array([6]),\n array([6]),\n array([5]),\n array([3]),\n array([2]),\n array([1]),\n array([3]),\n array([4]),\n array([4]),\n array([4]),\n array([4]),\n array([4]),\n array([2]),\n array([4]),\n array([6]),\n array([3]),\n array([6]),\n array([4]),\n array([4]),\n array([6]),\n array([5]),\n array([2]),\n array([5]),\n array([5]),\n array([6]),\n array([3]),\n array([5]),\n array([1]),\n array([2]),\n array([1]),\n array([1]),\n array([6]),\n array([3]),\n array([3]),\n array([1]),\n array([4]),\n array([4]),\n array([5]),\n array([2]),\n array([1]),\n array([3]),\n array([5]),\n array([5]),\n array([1]),\n array([6]),\n array([2]),\n array([3]),\n array([6]),\n array([3]),\n array([4]),\n array([3]),\n array([6]),\n array([1]),\n array([1]),\n array([5]),\n array([4]),\n array([3]),\n array([1]),\n array([4]),\n array([1]),\n array([2]),\n array([3]),\n array([1]),\n array([4]),\n array([2]),\n array([6]),\n array([5]),\n array([1]),\n array([1]),\n array([1]),\n array([1]),\n array([1]),\n array([1]),\n array([1]),\n array([1]),\n array([1]),\n array([1]),\n array([4]),\n array([6]),\n array([2]),\n array([4]),\n array([3]),\n array([1]),\n array([4]),\n array([3]),\n array([2]),\n array([5]),\n array([1]),\n array([6]),\n array([3]),\n array([1]),\n array([5]),\n array([1]),\n array([1]),\n array([5]),\n array([4]),\n array([2]),\n array([1]),\n array([6]),\n array([5]),\n array([1]),\n array([5]),\n array([3]),\n array([4]),\n array([4]),\n array([4]),\n array([5]),\n array([6]),\n array([2]),\n array([3]),\n array([5]),\n array([5]),\n array([5]),\n array([4]),\n array([5]),\n array([1]),\n array([4]),\n array([5]),\n array([2]),\n array([2]),\n array([3]),\n array([5]),\n array([3]),\n array([2]),\n array([5]),\n array([5]),\n array([5]),\n array([2]),\n array([6]),\n array([3]),\n array([3]),\n array([4]),\n array([3]),\n array([6]),\n array([6]),\n array([2]),\n array([6]),\n array([2]),\n array([5]),\n array([6]),\n array([4]),\n array([4]),\n array([3]),\n array([4]),\n array([3]),\n array([1]),\n array([1]),\n array([6]),\n array([5]),\n array([3]),\n array([5]),\n array([5]),\n array([3]),\n array([1]),\n array([4]),\n array([3]),\n array([2]),\n array([6]),\n array([2]),\n array([4]),\n array([5]),\n array([1]),\n array([4]),\n array([4]),\n array([6]),\n array([4]),\n array([5]),\n array([3]),\n array([1]),\n array([1]),\n array([3]),\n array([3]),\n array([1]),\n array([5]),\n array([4]),\n array([2]),\n array([2]),\n array([1]),\n array([2]),\n array([5]),\n array([2]),\n array([2]),\n array([3]),\n array([6]),\n array([3]),\n array([6]),\n array([3]),\n array([2]),\n array([3]),\n array([1]),\n array([6]),\n array([5]),\n array([2]),\n array([2]),\n array([4]),\n array([1]),\n array([4]),\n array([5]),\n array([5]),\n array([6]),\n array([5]),\n array([1]),\n array([1]),\n array([4]),\n array([3]),\n array([3]),\n array([1]),\n array([3]),\n array([1]),\n array([1]),\n array([5]),\n array([6]),\n array([6]),\n array([3]),\n array([4]),\n array([4]),\n array([5]),\n array([3]),\n array([3]),\n array([6]),\n array([1]),\n array([2]),\n array([2]),\n array([3]),\n array([5]),\n array([5]),\n array([6]),\n array([4]),\n array([1]),\n array([4]),\n array([1]),\n array([5]),\n array([2]),\n array([5]),\n array([4]),\n array([6]),\n array([2]),\n array([3]),\n array([1]),\n array([6]),\n array([1]),\n array([1]),\n array([6]),\n array([1]),\n array([1]),\n array([3]),\n array([3]),\n array([6]),\n array([4]),\n array([6]),\n array([6]),\n array([6]),\n array([6]),\n array([6]),\n array([1]),\n array([5]),\n array([6]),\n array([1]),\n array([4]),\n array([2]),\n array([6]),\n array([5]),\n array([4]),\n array([2]),\n array([2]),\n array([2]),\n array([4]),\n array([5]),\n array([1]),\n ...]"
       },
       "execution_count": 8,
       "metadata": {},
       "output_type": "execute_result"
      }
     ],
     "persistentId": "676ed11a-7eb3-485e-a1aa-027a2bd62a5b",
     "text": "actualOutcomes"
    },
    "executionTime": "2020-02-04T03:27:52.313Z"
   },
   {
    "cell": {
     "executionCount": 9,
     "executionEventId": "edf6682c-d4fb-4c17-a5d8-1e1e62efadfc",
     "hasError": false,
     "id": "38aac778-063e-4ffe-9c44-25641ac7471c",
     "outputs": [
      {
       "data": {
        "text/plain": "2"
       },
       "execution_count": 9,
       "metadata": {},
       "output_type": "execute_result"
      }
     ],
     "persistentId": "09c0b07d-4b5c-4586-861b-06890b818dc5",
     "text": "np.random.choice(outcomes, size=1)[0]"
    },
    "executionTime": "2020-02-04T03:28:07.327Z"
   },
   {
    "cell": {
     "executionCount": 10,
     "executionEventId": "48425427-9f15-4717-ad29-65d273a17f23",
     "hasError": false,
     "id": "bad9f7ec-ef90-4eca-99b9-4232b873e98b",
     "outputs": [
      {
       "data": {
        "text/plain": "6"
       },
       "execution_count": 10,
       "metadata": {},
       "output_type": "execute_result"
      }
     ],
     "persistentId": "09c0b07d-4b5c-4586-861b-06890b818dc5",
     "text": "np.random.choice(outcomes, size=1)[0]"
    },
    "executionTime": "2020-02-04T03:28:11.219Z"
   },
   {
    "cell": {
     "executionCount": 11,
     "executionEventId": "6bbc8d50-81a4-4b62-8ca7-95ba9aa3b133",
     "hasError": false,
     "id": "707852ed-302b-409b-96b8-4a98566183fc",
     "outputs": [],
     "persistentId": "7613bc3c-37f3-4891-9a73-e4679b9dd53d",
     "text": "actualOutcomes = []"
    },
    "executionTime": "2020-02-04T03:28:17.825Z"
   },
   {
    "cell": {
     "executionCount": 12,
     "executionEventId": "132bed37-2275-4b70-bd5c-c981b50e9393",
     "hasError": false,
     "id": "07570cda-6420-499c-895e-c6c6022de317",
     "outputs": [],
     "persistentId": "eb4d90b6-0bdb-46c2-8141-c5b1ffbf482e",
     "text": "for i in np.arange(10001):\n    actualOutcomes.append(np.random.choice(outcomes, size=1)[0])"
    },
    "executionTime": "2020-02-04T03:28:21.077Z"
   },
   {
    "cell": {
     "executionCount": 13,
     "executionEventId": "4733ba7b-81e6-460b-b6b4-99724c8d0d86",
     "hasError": false,
     "id": "c135b60f-f565-45a3-a908-226dc618d758",
     "outputs": [
      {
       "data": {
        "text/plain": "[6,\n 1,\n 3,\n 4,\n 2,\n 3,\n 3,\n 5,\n 6,\n 1,\n 2,\n 2,\n 2,\n 3,\n 4,\n 4,\n 6,\n 3,\n 4,\n 6,\n 3,\n 1,\n 2,\n 2,\n 6,\n 5,\n 3,\n 2,\n 6,\n 3,\n 4,\n 1,\n 1,\n 5,\n 1,\n 6,\n 1,\n 2,\n 6,\n 5,\n 1,\n 6,\n 2,\n 5,\n 4,\n 4,\n 4,\n 4,\n 4,\n 5,\n 5,\n 2,\n 5,\n 5,\n 2,\n 1,\n 5,\n 1,\n 1,\n 5,\n 1,\n 5,\n 3,\n 6,\n 1,\n 6,\n 4,\n 1,\n 6,\n 6,\n 3,\n 1,\n 6,\n 5,\n 2,\n 1,\n 5,\n 2,\n 6,\n 1,\n 4,\n 6,\n 2,\n 6,\n 2,\n 4,\n 3,\n 6,\n 4,\n 3,\n 1,\n 1,\n 4,\n 1,\n 1,\n 2,\n 1,\n 3,\n 1,\n 4,\n 3,\n 2,\n 2,\n 1,\n 2,\n 1,\n 5,\n 1,\n 4,\n 1,\n 6,\n 2,\n 3,\n 4,\n 3,\n 3,\n 6,\n 3,\n 4,\n 3,\n 2,\n 1,\n 1,\n 5,\n 3,\n 5,\n 4,\n 2,\n 5,\n 6,\n 4,\n 5,\n 3,\n 1,\n 1,\n 5,\n 1,\n 4,\n 4,\n 3,\n 3,\n 4,\n 5,\n 5,\n 2,\n 5,\n 6,\n 4,\n 2,\n 6,\n 5,\n 1,\n 4,\n 5,\n 6,\n 6,\n 3,\n 6,\n 5,\n 4,\n 5,\n 3,\n 5,\n 6,\n 1,\n 4,\n 5,\n 3,\n 6,\n 6,\n 6,\n 5,\n 2,\n 2,\n 1,\n 3,\n 1,\n 5,\n 5,\n 5,\n 1,\n 5,\n 3,\n 4,\n 4,\n 2,\n 4,\n 3,\n 2,\n 3,\n 2,\n 3,\n 6,\n 3,\n 6,\n 1,\n 2,\n 4,\n 6,\n 5,\n 4,\n 3,\n 4,\n 6,\n 3,\n 3,\n 4,\n 4,\n 2,\n 2,\n 5,\n 4,\n 1,\n 2,\n 5,\n 1,\n 5,\n 3,\n 2,\n 5,\n 6,\n 1,\n 4,\n 2,\n 5,\n 1,\n 6,\n 2,\n 4,\n 1,\n 4,\n 1,\n 3,\n 4,\n 2,\n 1,\n 2,\n 5,\n 5,\n 6,\n 6,\n 3,\n 6,\n 5,\n 5,\n 3,\n 6,\n 1,\n 1,\n 6,\n 5,\n 1,\n 5,\n 3,\n 6,\n 4,\n 2,\n 4,\n 1,\n 1,\n 5,\n 6,\n 2,\n 3,\n 4,\n 1,\n 1,\n 4,\n 3,\n 4,\n 6,\n 4,\n 4,\n 4,\n 1,\n 6,\n 6,\n 2,\n 3,\n 2,\n 6,\n 4,\n 2,\n 6,\n 6,\n 6,\n 4,\n 4,\n 6,\n 6,\n 3,\n 5,\n 1,\n 1,\n 3,\n 3,\n 6,\n 1,\n 2,\n 4,\n 4,\n 2,\n 6,\n 1,\n 3,\n 6,\n 6,\n 1,\n 3,\n 6,\n 2,\n 2,\n 1,\n 5,\n 1,\n 4,\n 2,\n 5,\n 6,\n 1,\n 5,\n 2,\n 3,\n 6,\n 1,\n 2,\n 2,\n 1,\n 2,\n 5,\n 4,\n 3,\n 2,\n 1,\n 3,\n 1,\n 5,\n 5,\n 5,\n 2,\n 2,\n 1,\n 2,\n 1,\n 6,\n 4,\n 6,\n 4,\n 3,\n 2,\n 5,\n 5,\n 1,\n 4,\n 1,\n 1,\n 1,\n 5,\n 3,\n 4,\n 2,\n 4,\n 2,\n 5,\n 3,\n 5,\n 6,\n 4,\n 1,\n 5,\n 3,\n 5,\n 2,\n 2,\n 1,\n 4,\n 2,\n 2,\n 3,\n 6,\n 3,\n 4,\n 5,\n 6,\n 1,\n 1,\n 5,\n 2,\n 6,\n 6,\n 2,\n 5,\n 6,\n 2,\n 2,\n 1,\n 2,\n 5,\n 6,\n 6,\n 6,\n 2,\n 6,\n 6,\n 1,\n 6,\n 4,\n 2,\n 1,\n 4,\n 5,\n 4,\n 5,\n 6,\n 6,\n 2,\n 6,\n 1,\n 2,\n 6,\n 6,\n 4,\n 5,\n 6,\n 2,\n 1,\n 3,\n 2,\n 6,\n 2,\n 2,\n 4,\n 2,\n 5,\n 4,\n 3,\n 3,\n 5,\n 2,\n 2,\n 5,\n 1,\n 3,\n 4,\n 5,\n 3,\n 6,\n 5,\n 2,\n 2,\n 5,\n 1,\n 6,\n 5,\n 3,\n 3,\n 3,\n 5,\n 2,\n 2,\n 2,\n 6,\n 4,\n 6,\n 2,\n 6,\n 3,\n 5,\n 1,\n 1,\n 1,\n 2,\n 4,\n 4,\n 2,\n 4,\n 6,\n 4,\n 5,\n 1,\n 4,\n 3,\n 5,\n 1,\n 1,\n 6,\n 2,\n 2,\n 3,\n 2,\n 3,\n 6,\n 5,\n 5,\n 4,\n 1,\n 2,\n 5,\n 4,\n 4,\n 2,\n 2,\n 2,\n 2,\n 4,\n 2,\n 2,\n 6,\n 5,\n 1,\n 1,\n 3,\n 4,\n 5,\n 4,\n 4,\n 3,\n 3,\n 6,\n 4,\n 4,\n 1,\n 2,\n 1,\n 5,\n 2,\n 2,\n 2,\n 3,\n 4,\n 2,\n 4,\n 1,\n 3,\n 6,\n 1,\n 4,\n 5,\n 5,\n 5,\n 6,\n 6,\n 4,\n 1,\n 3,\n 1,\n 3,\n 3,\n 3,\n 2,\n 4,\n 3,\n 6,\n 2,\n 3,\n 6,\n 3,\n 4,\n 2,\n 1,\n 5,\n 4,\n 6,\n 2,\n 3,\n 6,\n 6,\n 1,\n 5,\n 5,\n 4,\n 1,\n 1,\n 6,\n 1,\n 2,\n 5,\n 2,\n 1,\n 5,\n 6,\n 6,\n 5,\n 2,\n 6,\n 4,\n 6,\n 4,\n 6,\n 2,\n 6,\n 5,\n 5,\n 2,\n 4,\n 4,\n 2,\n 2,\n 3,\n 3,\n 3,\n 4,\n 5,\n 3,\n 4,\n 5,\n 3,\n 2,\n 2,\n 4,\n 4,\n 1,\n 5,\n 5,\n 4,\n 3,\n 2,\n 5,\n 2,\n 5,\n 4,\n 4,\n 5,\n 6,\n 6,\n 5,\n 6,\n 4,\n 4,\n 1,\n 1,\n 3,\n 1,\n 2,\n 6,\n 5,\n 2,\n 3,\n 6,\n 1,\n 1,\n 5,\n 6,\n 5,\n 4,\n 6,\n 5,\n 4,\n 2,\n 1,\n 3,\n 4,\n 2,\n 2,\n 3,\n 3,\n 3,\n 1,\n 4,\n 5,\n 3,\n 3,\n 3,\n 4,\n 4,\n 1,\n 4,\n 5,\n 3,\n 2,\n 6,\n 4,\n 1,\n 3,\n 4,\n 5,\n 3,\n 5,\n 6,\n 2,\n 6,\n 4,\n 6,\n 1,\n 5,\n 2,\n 6,\n 4,\n 6,\n 5,\n 5,\n 5,\n 5,\n 3,\n 3,\n 4,\n 6,\n 1,\n 1,\n 6,\n 6,\n 4,\n 4,\n 5,\n 3,\n 6,\n 6,\n 5,\n 5,\n 4,\n 3,\n 1,\n 6,\n 6,\n 6,\n 4,\n 4,\n 2,\n 6,\n 1,\n 1,\n 2,\n 6,\n 3,\n 5,\n 6,\n 2,\n 4,\n 2,\n 6,\n 4,\n 5,\n 1,\n 2,\n 4,\n 5,\n 6,\n 1,\n 4,\n 1,\n 1,\n 6,\n 4,\n 4,\n 6,\n 4,\n 6,\n 3,\n 6,\n 1,\n 5,\n 1,\n 3,\n 4,\n 6,\n 4,\n 2,\n 4,\n 6,\n 6,\n 1,\n 2,\n 4,\n 3,\n 3,\n 1,\n 3,\n 5,\n 3,\n 3,\n 2,\n 3,\n 3,\n 2,\n 2,\n 1,\n 2,\n 4,\n 6,\n 2,\n 5,\n 6,\n 2,\n 1,\n 2,\n 5,\n 5,\n 3,\n 2,\n 3,\n 5,\n 2,\n 2,\n 3,\n 4,\n 5,\n 5,\n 6,\n 2,\n 2,\n 2,\n 6,\n 6,\n 2,\n 3,\n 3,\n 2,\n 4,\n 3,\n 4,\n 4,\n 4,\n 3,\n 5,\n 4,\n 2,\n 5,\n 4,\n 5,\n 3,\n 3,\n 4,\n 5,\n 1,\n 2,\n 2,\n 3,\n 2,\n 5,\n 3,\n 5,\n 2,\n 3,\n 2,\n 2,\n 3,\n 3,\n 6,\n 5,\n 3,\n 1,\n 2,\n 2,\n 4,\n 3,\n 5,\n 3,\n 6,\n 4,\n 6,\n 3,\n 5,\n 6,\n 4,\n 4,\n 6,\n 2,\n 2,\n 6,\n 1,\n 4,\n 1,\n 6,\n 4,\n 4,\n 3,\n 2,\n 6,\n 6,\n 5,\n 4,\n 5,\n 4,\n 4,\n 2,\n 1,\n 2,\n 5,\n 4,\n 2,\n 3,\n 6,\n 2,\n 6,\n 2,\n 1,\n 4,\n 6,\n 1,\n 4,\n 5,\n 6,\n 2,\n 1,\n 3,\n 4,\n 4,\n 3,\n 5,\n 5,\n 6,\n 1,\n 1,\n 6,\n 4,\n 5,\n 2,\n 3,\n 4,\n 4,\n 2,\n 6,\n 1,\n 4,\n 1,\n 3,\n 2,\n 2,\n 2,\n 1,\n 4,\n 4,\n 2,\n 4,\n 3,\n 3,\n 6,\n 2,\n 2,\n 5,\n 6,\n 5,\n 1,\n 3,\n 2,\n 4,\n 1,\n 1,\n 4,\n 2,\n 1,\n 2,\n 4,\n 1,\n 3,\n 6,\n 3,\n 6,\n 3,\n 2,\n 2,\n 2,\n 5,\n 5,\n 4,\n 2,\n 1,\n 3,\n 2,\n 6,\n 5,\n 6,\n 2,\n 5,\n 5,\n 4,\n 3,\n 6,\n 1,\n 6,\n 2,\n 3,\n 3,\n 5,\n 4,\n 1,\n 1,\n 2,\n 2,\n 2,\n 3,\n 5,\n 2,\n 5,\n 5,\n 1,\n 1,\n 4,\n 4,\n 1,\n 3,\n 5,\n 5,\n 2,\n 2,\n 1,\n 6,\n 1,\n 2,\n 6,\n ...]"
       },
       "execution_count": 13,
       "metadata": {},
       "output_type": "execute_result"
      }
     ],
     "persistentId": "676ed11a-7eb3-485e-a1aa-027a2bd62a5b",
     "text": "actualOutcomes"
    },
    "executionTime": "2020-02-04T03:28:23.175Z"
   },
   {
    "cell": {
     "executionCount": 14,
     "executionEventId": "f0b9466d-aeca-4d5f-8c71-b0434d2654f8",
     "hasError": false,
     "id": "c135b60f-f565-45a3-a908-226dc618d758",
     "outputs": [
      {
       "data": {
        "text/plain": "[6, 1, 3, 4, 2, 3, 3, 5, 6, 1]"
       },
       "execution_count": 14,
       "metadata": {},
       "output_type": "execute_result"
      }
     ],
     "persistentId": "676ed11a-7eb3-485e-a1aa-027a2bd62a5b",
     "text": "actualOutcomes[0:10]"
    },
    "executionTime": "2020-02-04T03:28:56.857Z"
   },
   {
    "cell": {
     "executionCount": 15,
     "executionEventId": "a0e5804c-8501-483a-9102-f41776c5997a",
     "hasError": true,
     "id": "39fe5b1b-9a81-4615-8925-c04e141fff75",
     "outputs": [
      {
       "ename": "AttributeError",
       "evalue": "'list' object has no attribute 'value_counts'",
       "output_type": "error",
       "traceback": [
        "\u001b[1;31m---------------------------------------------------------------------------\u001b[0m",
        "\u001b[1;31mAttributeError\u001b[0m                            Traceback (most recent call last)",
        "\u001b[1;32m<ipython-input-15-69986a7ce699>\u001b[0m in \u001b[0;36m<module>\u001b[1;34m\u001b[0m\n\u001b[1;32m----> 1\u001b[1;33m \u001b[0mactualOutcomes\u001b[0m\u001b[1;33m.\u001b[0m\u001b[0mvalue_counts\u001b[0m\u001b[1;33m(\u001b[0m\u001b[1;33m)\u001b[0m\u001b[1;33m\u001b[0m\u001b[1;33m\u001b[0m\u001b[0m\n\u001b[0m",
        "\u001b[1;31mAttributeError\u001b[0m: 'list' object has no attribute 'value_counts'"
       ]
      }
     ],
     "persistentId": "8f4e198e-0a2e-45ec-834f-4d291d87516a",
     "text": "actualOutcomes.value_counts()"
    },
    "executionTime": "2020-02-04T03:29:41.159Z"
   },
   {
    "cell": {
     "executionCount": 16,
     "executionEventId": "a51b669f-ce8b-43d0-9646-4ab8bb02c362",
     "hasError": false,
     "id": "39fe5b1b-9a81-4615-8925-c04e141fff75",
     "outputs": [
      {
       "data": {
        "text/plain": "5    1744\n2    1694\n6    1661\n3    1645\n4    1635\n1    1622\ndtype: int64"
       },
       "execution_count": 16,
       "metadata": {},
       "output_type": "execute_result"
      }
     ],
     "persistentId": "8f4e198e-0a2e-45ec-834f-4d291d87516a",
     "text": "import pandas as pd\npd.Series(actualOutcomes).value_counts()"
    },
    "executionTime": "2020-02-04T03:32:14.248Z"
   },
   {
    "cell": {
     "executionCount": 17,
     "executionEventId": "1df5eef4-afa7-4633-b532-87d9bfd4f156",
     "hasError": false,
     "id": "39fe5b1b-9a81-4615-8925-c04e141fff75",
     "outputs": [
      {
       "data": {
        "text/plain": "5    0.1744\n2    0.1694\n6    0.1661\n3    0.1645\n4    0.1635\n1    0.1622\ndtype: float64"
       },
       "execution_count": 17,
       "metadata": {},
       "output_type": "execute_result"
      }
     ],
     "persistentId": "8f4e198e-0a2e-45ec-834f-4d291d87516a",
     "text": "import pandas as pd\npd.Series(actualOutcomes).value_counts()/10000"
    },
    "executionTime": "2020-02-04T03:32:38.488Z"
   },
   {
    "cell": {
     "executionCount": 18,
     "executionEventId": "28b7c89f-f590-42b1-aea6-2e56058c40d8",
     "hasError": false,
     "id": "39fe5b1b-9a81-4615-8925-c04e141fff75",
     "outputs": [
      {
       "data": {
        "text/plain": "1    1622\n4    1635\n3    1645\n6    1661\n2    1694\n5    1744\ndtype: int64"
       },
       "execution_count": 18,
       "metadata": {},
       "output_type": "execute_result"
      }
     ],
     "persistentId": "8f4e198e-0a2e-45ec-834f-4d291d87516a",
     "text": "import pandas as pd\npd.Series(actualOutcomes).value_counts().sort_values()"
    },
    "executionTime": "2020-02-04T03:32:53.372Z"
   },
   {
    "cell": {
     "executionCount": 19,
     "executionEventId": "7a755b0b-3589-46ed-a321-1034c067f459",
     "hasError": false,
     "id": "39fe5b1b-9a81-4615-8925-c04e141fff75",
     "outputs": [
      {
       "data": {
        "text/plain": "1    1622\n2    1694\n3    1645\n4    1635\n5    1744\n6    1661\ndtype: int64"
       },
       "execution_count": 19,
       "metadata": {},
       "output_type": "execute_result"
      }
     ],
     "persistentId": "8f4e198e-0a2e-45ec-834f-4d291d87516a",
     "text": "import pandas as pd\npd.Series(actualOutcomes).value_counts().sort_index()"
    },
    "executionTime": "2020-02-04T03:33:00.260Z"
   },
   {
    "cell": {
     "executionCount": 20,
     "executionEventId": "c92f476c-75a7-4fd5-8fb8-a3acf9926b4d",
     "hasError": false,
     "id": "40fe8782-273c-41d1-8f50-0d72e257971f",
     "outputs": [
      {
       "data": {
        "text/plain": "1    0.1622\n2    0.1694\n3    0.1645\n4    0.1635\n5    0.1744\n6    0.1661\ndtype: float64"
       },
       "execution_count": 20,
       "metadata": {},
       "output_type": "execute_result"
      }
     ],
     "persistentId": "7abf8cc3-5f69-4266-a2f6-f1c773825055",
     "text": "pd.Series(actualOutcomes).value_counts().sort_index()/10000 # return probability"
    },
    "executionTime": "2020-02-04T03:33:15.512Z"
   },
   {
    "cell": {
     "executionCount": 21,
     "executionEventId": "44d7462b-23b2-48f7-83c7-754a6f87bf6a",
     "hasError": false,
     "id": "a571f689-2a06-4efb-9c75-9a7c28779f78",
     "outputs": [
      {
       "data": {
        "text/plain": "1    0.1676\n2    0.1707\n3    0.1644\n4    0.1646\n5    0.1625\n6    0.1703\ndtype: float64"
       },
       "execution_count": 21,
       "metadata": {},
       "output_type": "execute_result"
      }
     ],
     "persistentId": "79d012a9-b5ed-461b-85a6-b8d9b26d8a8d",
     "text": "actualOutcomes = []\nfor i in np.arange(10001):\n    actualOutcomes.append(np.random.choice(outcomes, size=1)[0])\npd.Series(actualOutcomes).value_counts().sort_index()/10000 # return probability"
    },
    "executionTime": "2020-02-04T03:33:58.961Z"
   },
   {
    "cell": {
     "executionCount": 22,
     "executionEventId": "7a27f2a9-b843-47aa-89b2-06c3a16e2dca",
     "hasError": false,
     "id": "a571f689-2a06-4efb-9c75-9a7c28779f78",
     "outputs": [
      {
       "data": {
        "text/plain": "1    16.6999\n2    16.5953\n3    16.6643\n4    16.6577\n5    16.6896\n6    16.6933\ndtype: float64"
       },
       "execution_count": 22,
       "metadata": {},
       "output_type": "execute_result"
      }
     ],
     "persistentId": "79d012a9-b5ed-461b-85a6-b8d9b26d8a8d",
     "text": "actualOutcomes = []\nfor i in np.arange(1000001):\n    actualOutcomes.append(np.random.choice(outcomes, size=1)[0])\npd.Series(actualOutcomes).value_counts().sort_index()/10000 # return probability"
    },
    "executionTime": "2020-02-04T03:34:33.664Z"
   },
   {
    "cell": {
     "executionCount": 23,
     "executionEventId": "e23a5e98-6b13-4692-a123-b2a17138ce06",
     "hasError": false,
     "id": "52792df3-2185-4553-8842-d30b5a903835",
     "outputs": [
      {
       "data": {
        "text/plain": "16.666666666666668"
       },
       "execution_count": 23,
       "metadata": {},
       "output_type": "execute_result"
      }
     ],
     "persistentId": "b11434ed-e219-410e-9dd1-c9c2810908c0",
     "text": "100/6"
    },
    "executionTime": "2020-02-04T03:35:35.416Z"
   },
   {
    "cell": {
     "executionCount": 24,
     "executionEventId": "b1897100-790e-410a-bfa5-8533481874d5",
     "hasError": false,
     "id": "d0924f29-d829-48b6-9aa4-15d6384afa89",
     "outputs": [],
     "persistentId": "a2fe1cb0-faa2-4cbf-af62-48ee8e662cbd",
     "text": "mu = 0.15\nsigma = 0.3\nt = 0.0192\nS = 100"
    },
    "executionTime": "2020-02-04T03:51:49.426Z"
   },
   {
    "cell": {
     "executionCount": 25,
     "executionEventId": "56dfb69a-bcc2-4c16-98bb-eb5d7e65d36f",
     "hasError": false,
     "id": "663872f1-f3f5-494b-abd4-c60286766259",
     "outputs": [],
     "persistentId": "3ba0c6fb-891a-4eae-b0ef-773925573d5c",
     "text": "e = np.random.randn(10)"
    },
    "executionTime": "2020-02-04T03:52:06.185Z"
   },
   {
    "cell": {
     "executionCount": 26,
     "executionEventId": "e0376c31-776c-4d92-b51f-ab272fe4d960",
     "hasError": false,
     "id": "c529d636-b103-44cd-8c00-2de13b0ed068",
     "outputs": [
      {
       "data": {
        "text/plain": "array([-0.47768564, -0.64030796,  0.22424646, -0.19954019, -1.33101241,\n        0.91095564,  0.16767638, -0.48182816, -0.73939994,  0.06400303])"
       },
       "execution_count": 26,
       "metadata": {},
       "output_type": "execute_result"
      }
     ],
     "persistentId": "eebf2e33-91d9-42b5-9a8a-41023cbbcc6a",
     "text": "e"
    },
    "executionTime": "2020-02-04T03:52:07.831Z"
   },
   {
    "cell": {
     "executionCount": 27,
     "executionEventId": "236a0e43-cafc-4d77-84ee-e3d3b92c83e3",
     "hasError": false,
     "id": "7d5785b6-2a80-440f-bae2-2a7f20f71cff",
     "outputs": [],
     "persistentId": "84a928b4-d2e7-4604-b7ce-06825e3f8eb1",
     "text": "deltaS = mu*t + sigma*e*np.sqrt(t)"
    },
    "executionTime": "2020-02-04T03:52:41.567Z"
   },
   {
    "cell": {
     "executionCount": 28,
     "executionEventId": "14e3f637-17aa-4a54-8e65-875e448f79b7",
     "hasError": false,
     "id": "88fd01c1-75ba-43b4-b64a-2f488831b415",
     "outputs": [
      {
       "data": {
        "text/plain": "array([-0.01697702, -0.0237371 ,  0.01220175, -0.00541473, -0.05244915,\n        0.04074771,  0.00985018, -0.01714922, -0.02785628,  0.00554056])"
       },
       "execution_count": 28,
       "metadata": {},
       "output_type": "execute_result"
      }
     ],
     "persistentId": "737bc343-626e-49e7-bfaa-faa2e4a0bc94",
     "text": "deltaS"
    },
    "executionTime": "2020-02-04T03:52:44.328Z"
   },
   {
    "cell": {
     "executionCount": 29,
     "executionEventId": "f639aaa7-3bf7-464d-a884-3d4e13d66a81",
     "hasError": false,
     "id": "65adc69d-6d6d-480a-9b59-5040c5c15684",
     "outputs": [
      {
       "data": {
        "text/plain": "array([ 99.98302298,  99.9762629 , 100.01220175,  99.99458527,\n        99.94755085, 100.04074771, 100.00985018,  99.98285078,\n        99.97214372, 100.00554056])"
       },
       "execution_count": 29,
       "metadata": {},
       "output_type": "execute_result"
      }
     ],
     "persistentId": "d51dd857-fb8a-433b-9240-3b4b80f90b12",
     "text": "S + deltaS"
    },
    "executionTime": "2020-02-04T03:53:27.077Z"
   },
   {
    "cell": {
     "executionCount": 30,
     "executionEventId": "1422fdd8-a72d-4eb9-b84f-7ba643d40d81",
     "hasError": false,
     "id": "dc6407e8-b5bc-4c30-ad13-8fae29242b71",
     "outputs": [
      {
       "data": {
        "text/html": "<div>\n<style scoped>\n    .dataframe tbody tr th:only-of-type {\n        vertical-align: middle;\n    }\n\n    .dataframe tbody tr th {\n        vertical-align: top;\n    }\n\n    .dataframe thead th {\n        text-align: right;\n    }\n</style>\n<table border=\"1\" class=\"dataframe\">\n  <thead>\n    <tr style=\"text-align: right;\">\n      <th></th>\n      <th>S</th>\n      <th>epsilon</th>\n      <th>delta S</th>\n    </tr>\n  </thead>\n  <tbody>\n    <tr>\n      <th>0</th>\n      <td>99.983023</td>\n      <td>-0.477686</td>\n      <td>-0.016977</td>\n    </tr>\n    <tr>\n      <th>1</th>\n      <td>99.976263</td>\n      <td>-0.640308</td>\n      <td>-0.023737</td>\n    </tr>\n    <tr>\n      <th>2</th>\n      <td>100.012202</td>\n      <td>0.224246</td>\n      <td>0.012202</td>\n    </tr>\n    <tr>\n      <th>3</th>\n      <td>99.994585</td>\n      <td>-0.199540</td>\n      <td>-0.005415</td>\n    </tr>\n    <tr>\n      <th>4</th>\n      <td>99.947551</td>\n      <td>-1.331012</td>\n      <td>-0.052449</td>\n    </tr>\n    <tr>\n      <th>5</th>\n      <td>100.040748</td>\n      <td>0.910956</td>\n      <td>0.040748</td>\n    </tr>\n    <tr>\n      <th>6</th>\n      <td>100.009850</td>\n      <td>0.167676</td>\n      <td>0.009850</td>\n    </tr>\n    <tr>\n      <th>7</th>\n      <td>99.982851</td>\n      <td>-0.481828</td>\n      <td>-0.017149</td>\n    </tr>\n    <tr>\n      <th>8</th>\n      <td>99.972144</td>\n      <td>-0.739400</td>\n      <td>-0.027856</td>\n    </tr>\n    <tr>\n      <th>9</th>\n      <td>100.005541</td>\n      <td>0.064003</td>\n      <td>0.005541</td>\n    </tr>\n  </tbody>\n</table>\n</div>",
        "text/plain": "            S   epsilon   delta S\n0   99.983023 -0.477686 -0.016977\n1   99.976263 -0.640308 -0.023737\n2  100.012202  0.224246  0.012202\n3   99.994585 -0.199540 -0.005415\n4   99.947551 -1.331012 -0.052449\n5  100.040748  0.910956  0.040748\n6  100.009850  0.167676  0.009850\n7   99.982851 -0.481828 -0.017149\n8   99.972144 -0.739400 -0.027856\n9  100.005541  0.064003  0.005541"
       },
       "execution_count": 30,
       "metadata": {},
       "output_type": "execute_result"
      }
     ],
     "persistentId": "c925d983-39c2-4b5d-9e29-d43a1eea2a92",
     "text": "pd.DataFrame({\n    'S': S+deltaS,\n    'epsilon': e,\n    'delta S': deltaS\n})"
    },
    "executionTime": "2020-02-04T03:54:30.097Z"
   },
   {
    "cell": {
     "executionCount": 31,
     "executionEventId": "35d45150-478f-4bf4-b785-d6870461dfa3",
     "hasError": false,
     "id": "79896f59-1ea1-4974-841f-9e94389e89e6",
     "outputs": [
      {
       "data": {
        "text/plain": "100.00554055593636"
       },
       "execution_count": 31,
       "metadata": {},
       "output_type": "execute_result"
      }
     ],
     "persistentId": "fa0f2ca7-f3bb-4de4-82bb-f5ed033fd4ae",
     "text": "(S + deltaS)[9]"
    },
    "executionTime": "2020-02-04T03:55:53.164Z"
   },
   {
    "cell": {
     "executionCount": 32,
     "executionEventId": "e7277e34-9017-4a6d-b427-0b94d7c99123",
     "hasError": false,
     "id": "ba7ec442-1594-4b99-a4f2-14155710063c",
     "outputs": [
      {
       "data": {
        "text/plain": "99.96337724285671"
       },
       "execution_count": 32,
       "metadata": {},
       "output_type": "execute_result"
      }
     ],
     "persistentId": "34b5f297-276e-465d-8ba1-213227c4e747",
     "text": "k = 10\ndef oneForecast(S=100, mu=0.15, sigma=0.30, t=1/52, e=np.random.randn(k)):\n    deltaS = mu*t + sigma*e*np.sqrt(t)\n    return (S + deltaS)[k-1]\noneForecast()"
    },
    "executionTime": "2020-02-04T03:58:14.404Z"
   },
   {
    "cell": {
     "executionCount": 33,
     "executionEventId": "2885bf4b-b397-4c80-a464-cd76864044a3",
     "hasError": false,
     "id": "f471a3e6-665e-4f00-b27f-2873b19ed496",
     "outputs": [
      {
       "data": {
        "text/plain": "99.96337724285671"
       },
       "execution_count": 33,
       "metadata": {},
       "output_type": "execute_result"
      }
     ],
     "persistentId": "4cdec563-ce50-4493-9848-7350eb29c311",
     "text": "oneForecast()"
    },
    "executionTime": "2020-02-04T03:58:20.497Z"
   },
   {
    "cell": {
     "executionCount": 34,
     "executionEventId": "9ea78dcc-f772-4aec-81bf-9522eef57da9",
     "hasError": false,
     "id": "9297346a-7860-46b1-9f32-55f215c530f7",
     "outputs": [
      {
       "data": {
        "text/plain": "99.96337724285671"
       },
       "execution_count": 34,
       "metadata": {},
       "output_type": "execute_result"
      }
     ],
     "persistentId": "3325a9d1-951d-40c6-a2d9-ee137c439618",
     "text": "oneForecast()"
    },
    "executionTime": "2020-02-04T03:58:30.045Z"
   },
   {
    "cell": {
     "executionCount": 35,
     "executionEventId": "e350516c-a4a5-4f07-898d-4ca08b8a0672",
     "hasError": true,
     "id": "ba7ec442-1594-4b99-a4f2-14155710063c",
     "outputs": [
      {
       "ename": "SyntaxError",
       "evalue": "non-default argument follows default argument (<ipython-input-35-a56723b1bde5>, line 2)",
       "output_type": "error",
       "traceback": [
        "\u001b[1;36m  File \u001b[1;32m\"<ipython-input-35-a56723b1bde5>\"\u001b[1;36m, line \u001b[1;32m2\u001b[0m\n\u001b[1;33m    def oneForecast(S=100, mu=0.15, sigma=0.30, t=1/52, k):\u001b[0m\n\u001b[1;37m                   ^\u001b[0m\n\u001b[1;31mSyntaxError\u001b[0m\u001b[1;31m:\u001b[0m non-default argument follows default argument\n"
       ]
      }
     ],
     "persistentId": "34b5f297-276e-465d-8ba1-213227c4e747",
     "text": "k = 10\ndef oneForecast(S=100, mu=0.15, sigma=0.30, t=1/52, k):\n    e=np.random.randn(k)\n    deltaS = mu*t + sigma*e*np.sqrt(t)\n    return (S + deltaS)[k-1]\noneForecast()"
    },
    "executionTime": "2020-02-04T03:58:48.052Z"
   },
   {
    "cell": {
     "executionCount": 36,
     "executionEventId": "6fbcd0f7-bc02-4329-b45d-2aa1b234b112",
     "hasError": false,
     "id": "ba7ec442-1594-4b99-a4f2-14155710063c",
     "outputs": [
      {
       "data": {
        "text/plain": "99.93672744564904"
       },
       "execution_count": 36,
       "metadata": {},
       "output_type": "execute_result"
      }
     ],
     "persistentId": "34b5f297-276e-465d-8ba1-213227c4e747",
     "text": "k = 10\ndef oneForecast(S=100, mu=0.15, sigma=0.30, t=1/52, k=k):\n    e=np.random.randn(k)\n    deltaS = mu*t + sigma*e*np.sqrt(t)\n    return (S + deltaS)[k-1]\noneForecast()"
    },
    "executionTime": "2020-02-04T03:58:59.344Z"
   },
   {
    "cell": {
     "executionCount": 37,
     "executionEventId": "94867b9b-0c25-4bef-b16e-5090fafd8fa5",
     "hasError": false,
     "id": "ba7ec442-1594-4b99-a4f2-14155710063c",
     "outputs": [
      {
       "data": {
        "text/plain": "100.02419994989201"
       },
       "execution_count": 37,
       "metadata": {},
       "output_type": "execute_result"
      }
     ],
     "persistentId": "34b5f297-276e-465d-8ba1-213227c4e747",
     "text": "k = 10\ndef oneForecast(S=100, mu=0.15, sigma=0.30, t=1/52, k=k):\n    e=np.random.randn(k)\n    deltaS = mu*t + sigma*e*np.sqrt(t)\n    return (S + deltaS)[k-1]\noneForecast()"
    },
    "executionTime": "2020-02-04T03:59:02.243Z"
   },
   {
    "cell": {
     "executionCount": 38,
     "executionEventId": "e3c22e8a-d157-4952-917a-c11de34334ae",
     "hasError": false,
     "id": "f471a3e6-665e-4f00-b27f-2873b19ed496",
     "outputs": [
      {
       "data": {
        "text/plain": "100.05387122459227"
       },
       "execution_count": 38,
       "metadata": {},
       "output_type": "execute_result"
      }
     ],
     "persistentId": "4cdec563-ce50-4493-9848-7350eb29c311",
     "text": "oneForecast()"
    },
    "executionTime": "2020-02-04T03:59:04.490Z"
   },
   {
    "cell": {
     "executionCount": 39,
     "executionEventId": "5c57d7e8-8c0f-431e-945c-7ce174d2c4e4",
     "hasError": false,
     "id": "9297346a-7860-46b1-9f32-55f215c530f7",
     "outputs": [
      {
       "data": {
        "text/plain": "100.00818433586275"
       },
       "execution_count": 39,
       "metadata": {},
       "output_type": "execute_result"
      }
     ],
     "persistentId": "3325a9d1-951d-40c6-a2d9-ee137c439618",
     "text": "oneForecast()"
    },
    "executionTime": "2020-02-04T03:59:06.555Z"
   },
   {
    "cell": {
     "executionCount": 40,
     "executionEventId": "b35546b8-847f-44d1-9332-3c8eab6083dc",
     "hasError": false,
     "id": "5ae9dee1-7db8-4f1a-b8e2-fc2eefa00d65",
     "outputs": [],
     "persistentId": "7ec80180-6e81-47a6-84f3-b7044fac490e",
     "text": "ForecastPrice = map(oneForecast, range(1000))"
    },
    "executionTime": "2020-02-04T04:00:06.714Z"
   },
   {
    "cell": {
     "executionCount": 41,
     "executionEventId": "74cc2b64-6474-4d60-99fd-1d10561a6f9b",
     "hasError": false,
     "id": "6eaeb6e7-8938-4c20-909a-ea9d83c077f9",
     "outputs": [
      {
       "data": {
        "text/plain": "<map at 0x2608cc35278>"
       },
       "execution_count": 41,
       "metadata": {},
       "output_type": "execute_result"
      }
     ],
     "persistentId": "23b0879e-b813-45cc-8204-f79bc232ae18",
     "text": "ForecastPrice"
    },
    "executionTime": "2020-02-04T04:00:10.018Z"
   },
   {
    "cell": {
     "executionCount": 42,
     "executionEventId": "b2cbe369-534a-4ac6-85c4-cb907a96b93e",
     "hasError": false,
     "id": "5ae9dee1-7db8-4f1a-b8e2-fc2eefa00d65",
     "outputs": [],
     "persistentId": "7ec80180-6e81-47a6-84f3-b7044fac490e",
     "text": "np.random.seed(42)\nForecastPrice = list(map(oneForecast, range(1000)))"
    },
    "executionTime": "2020-02-04T04:00:21.347Z"
   },
   {
    "cell": {
     "executionCount": 43,
     "executionEventId": "67bb0d30-6223-4df4-9db8-a749b8c7bc49",
     "hasError": false,
     "id": "6eaeb6e7-8938-4c20-909a-ea9d83c077f9",
     "outputs": [
      {
       "data": {
        "text/plain": "[0.025456477582698145,\n 0.9441292298650926,\n 1.9907494218660151,\n 3.0110745378470463,\n 3.9295377113746652,\n 5.043469745892716,\n 5.9760460112994975,\n 6.920196750364094,\n 8.024237831324415,\n 8.993125200715982,\n 9.999787478078341,\n 11.034166920443084,\n 11.98193876207465,\n 12.951677564545674,\n 14.01523992462349,\n 15.030198896550234,\n 15.97152729551428,\n 17.116050493170096,\n 17.939863161425777,\n 18.955334176748146,\n 20.16316793392481,\n 21.006290785473368,\n 22.031157590736235,\n 23.038347985740646,\n 24.01973287297494,\n 25.035111339992614,\n 26.008323752175254,\n 26.986854600800555,\n 27.976978749447078,\n 29.029078758546923,\n 29.994472892586085,\n 30.997470337049982,\n 32.029025368681076,\n 32.97943225638031,\n 33.99400467711425,\n 34.968469727881214,\n 35.970725464475464,\n 36.96925737407249,\n 37.97888397255969,\n 39.0543808867203,\n 40.024286564549485,\n 41.00569355400114,\n 41.929716630017516,\n 43.00057369142378,\n 43.9588186692519,\n 44.95304988272915,\n 45.97892912855394,\n 47.049461747114236,\n 48.0395630463481,\n 48.945356669226655,\n 49.96831500093762,\n 51.034144209242776,\n 51.96526276967998,\n 52.97888446289272,\n 53.97775731276548,\n 54.98537060232571,\n 55.9882607704916,\n 57.05046765979964,\n 57.96726937541835,\n 59.01858126469921,\n 60.06512382087047,\n 61.01219875379957,\n 62.0484057341349,\n 62.9490060817103,\n 64.03184855092276,\n 64.99687885922302,\n 66.0482940452553,\n 67.05578450493745,\n 68.02136708633888,\n 68.99519222153206,\n 70.07346146641297,\n 71.0005155342357,\n 71.97050518159183,\n 73.0450849609429,\n 73.9443639764013,\n 75.03201926744912,\n 76.0782870331923,\n 77.02870613545733,\n 77.93378446370383,\n 79.0041225456159,\n 79.96566670192819,\n 81.04721127836883,\n 81.9911616670475,\n 82.99398214134348,\n 83.98079380674953,\n 85.02921617064757,\n 86.0865141792926,\n 87.05232476403269,\n 88.0490094724125,\n 88.96889803710961,\n 90.09288145184732,\n 91.01095924717058,\n 92.00014923918069,\n 92.97941752584791,\n 94.01300814840626,\n 95.02151041734162,\n 95.94336077314219,\n 97.03451977730779,\n 98.00400313389706,\n 99.02670549897262,\n 99.98061748461866,\n 101.02053098541221,\n 101.96033387263861,\n 103.04644653792907,\n 104.06029988625619,\n 104.98746612717972,\n 106.01730004822377,\n 107.03825597792351,\n 107.9947159678984,\n 109.01729940730239,\n 110.08251313295246,\n 111.04659448035689,\n 112.01656195839763,\n 113.03205516471569,\n 113.96764889342656,\n 114.98937081297169,\n 116.0383888487284,\n 116.95697252457374,\n 117.96259905095013,\n 119.05963628769851,\n 120.07567140759139,\n 121.09212821354274,\n 122.09484793109034,\n 123.07063000986325,\n 123.93815544386548,\n 125.00056448151061,\n 126.05430919989776,\n 126.9900245931334,\n 127.91331895280744,\n 129.01626805310127,\n 130.0226332556041,\n 130.99510613900054,\n 132.02784315920337,\n 133.00997435878398,\n 133.99353380944453,\n 135.01051284914573,\n 135.96607459745277,\n 137.07885121136565,\n 137.97154053734556,\n 138.97555616147628,\n 139.99244933112607,\n 141.02401185990942,\n 141.99136848600216,\n 143.03345737929388,\n 144.00376956646883,\n 145.03089065245797,\n 146.0213812044324,\n 146.98468525000737,\n 148.05541128912876,\n 149.02753522650892,\n 150.06435358232636,\n 151.080019528662,\n 151.95630571463892,\n 152.8833912843858,\n 154.0539281228879,\n 154.99160519178216,\n 155.9808746935893,\n 156.96917607644932,\n 158.0064684175468,\n 158.9725978623082,\n 159.99238607509855,\n 161.05066284490303,\n 162.03836214475407,\n 162.95847256160857,\n 164.11061697491203,\n 165.05030642999947,\n 166.02563010670193,\n 166.98492812497264,\n 167.9921135174058,\n 169.01035566911065,\n 169.962341745645,\n 170.98476728724398,\n 172.07935767885084,\n 173.07405043339236,\n 174.04453065018294,\n 175.0575883632913,\n 176.0258277938575,\n 176.97407816137914,\n 178.05865072479256,\n 179.00377123356213,\n 180.04012046001816,\n 180.96181546457808,\n 182.00366880710058,\n 182.9942264307671,\n 184.02065697511136,\n 185.01371465851324,\n 185.98579370792407,\n 186.96935839408332,\n 188.00228336457272,\n 188.99059189110525,\n 190.0088314075882,\n 190.98324446017827,\n 192.08435679416962,\n 193.00696096096888,\n 194.00074650724267,\n 195.01217191559505,\n 196.0500523025251,\n 197.01981901415027,\n 198.02085367940597,\n 198.9718947921414,\n 200.04188989083335,\n 200.95132834977468,\n 201.9824313137365,\n 202.92928660901617,\n 204.00934093809377,\n 205.01093844252134,\n 206.04141750528737,\n 206.98415560986825,\n 208.06331091736325,\n 209.0369108819194,\n 210.02797872936327,\n 210.9949373800797,\n 212.03276294760784,\n 212.94183187391874,\n 213.93452382868594,\n 215.02608596594592,\n 216.02228629652086,\n 217.003167506018,\n 218.02736991145193,\n 219.02318132929594,\n 220.00285513606832,\n 220.99260772503388,\n 222.04479971849352,\n 223.03143718909064,\n 224.04122757772979,\n 225.01116135858962,\n 225.99949306717716,\n 227.02212957645347,\n 228.0620587784888,\n 228.94035269500998,\n 230.03981331330306,\n 230.95711543271656,\n 232.03820939844294,\n 232.9754135954618,\n 233.98657590376317,\n 235.01988559998833,\n 236.05429748649325,\n 237.01371293899024,\n 238.04595359106813,\n 239.0057695141867,\n 239.95511397501542,\n 240.94770003914502,\n 241.9889861624662,\n 242.93604696790732,\n 243.97415637109302,\n 245.02252109680694,\n 245.99417663412513,\n 247.0317117725969,\n 247.9230213846523,\n 249.01703160437143,\n 249.9478670387767,\n 250.96746396667325,\n 251.9558368126108,\n 253.00517001254593,\n 254.08976908657831,\n 255.04133657746712,\n 255.99312380967007,\n 257.0760476499598,\n 258.0002418333343,\n 258.982420236573,\n 260.05592262305163,\n 261.0634504849669,\n 261.98293650215174,\n 263.01943938133627,\n 264.04042161478577,\n 265.0259012574062,\n 266.02891243550897,\n 266.9919245070979,\n 268.0283648574012,\n 269.05817158336833,\n 270.067926542654,\n 271.00802451022383,\n 271.98269467222656,\n 273.038412163517,\n 273.99437809840435,\n 275.0287909682413,\n 275.9947111114562,\n 277.02283058819665,\n 278.01043241901795,\n 279.0154114378947,\n 279.98002235802323,\n 280.92268858853305,\n 281.9876370016759,\n 282.9962679346783,\n 283.9804557551926,\n 285.01095998095803,\n 286.0540132948262,\n 286.99509125713945,\n 288.0188179202587,\n 289.0148382203586,\n 290.05518518418046,\n 291.05679614026076,\n 292.04388180043316,\n 292.98655683041875,\n 293.93505282826743,\n 294.9568600232533,\n 296.0141196806115,\n 297.01119723189396,\n 298.1032164297728,\n 298.99642544852094,\n 299.9832846451239,\n 301.0258384201328,\n 302.004317448081,\n 302.9942890665804,\n 304.0526930981453,\n 304.9864233027506,\n 306.0317036239991,\n 306.9925451998936,\n 308.00885823462625,\n 309.02700813662983,\n 309.92509555360135,\n 311.07175371416935,\n 311.9857654657821,\n 312.9917500729617,\n 313.96558204392693,\n 315.0159138770677,\n 315.9855793451429,\n 317.02433604052254,\n 318.0790014167528,\n 319.0210779436843,\n 320.0216567233722,\n 321.03289996956914,\n 322.00126130525547,\n 323.0419042603371,\n 323.9255912429103,\n 325.0626397802389,\n 326.02978020589217,\n 327.02593481196146,\n 327.99090147389325,\n 329.0501997603711,\n 330.00287156581516,\n 331.0994041436661,\n 332.037612369723,\n 333.0776177429573,\n 333.9971852585189,\n 334.96212574871487,\n 336.00833725672305,\n 336.9725866603661,\n 338.00866987766614,\n 338.98606066563514,\n 340.0880392300055,\n 340.98074506490525,\n 342.0487024199419,\n 343.0150623155383,\n 343.98567716356814,\n 344.95414084815724,\n 345.9937880891922,\n 347.060560236587,\n 347.93642047241985,\n 348.9880461160708,\n 349.98068550078307,\n 350.9106593769957,\n 351.95914747931363,\n 352.99621323275295,\n 354.0013941812192,\n 354.94883394750394,\n 356.0404940190109,\n 356.9585265609386,\n 357.9864004643701,\n 358.99342103093215,\n 359.98561067849465,\n 361.0401041881721,\n 361.9765604149416,\n 363.021930480009,\n 363.98494870753154,\n 365.09493147051273,\n 366.01697485951286,\n 366.9994017377279,\n 367.99657291342896,\n 368.9936188741528,\n 370.0045257117896,\n 370.99846072867183,\n 371.906527206239,\n 372.94680246557107,\n 373.9415570116667,\n 375.00195775382525,\n 375.9798817181108,\n 376.9993038997236,\n 378.05710425911224,\n 378.9606215015342,\n 380.0366158779703,\n 380.9536259666609,\n 382.02289160139065,\n 382.9899750345046,\n 383.9432618959293,\n 384.99475588542424,\n 386.04432563808024,\n 386.9947188466966,\n 388.0382306106405,\n 389.0186785794437,\n 389.9722331249609,\n 391.0004127944313,\n 392.01005083103036,\n 392.9707438126447,\n 393.9496737203577,\n 395.01063999682987,\n 396.0565786705644,\n 396.95921630704356,\n 397.9706586846945,\n 399.0178884745957,\n 400.0292326039868,\n 400.99921979810847,\n 402.0362551763891,\n 402.97422524446137,\n 404.01924717772073,\n 404.9930243214141,\n 406.04673307394165,\n 406.99017009181864,\n 407.98676938355356,\n 409.00589160210575,\n 410.01252982943464,\n 410.95962604887484,\n 412.07178704356505,\n 413.0030605881557,\n 414.01301608428827,\n 415.0063862254196,\n 415.97326473871954,\n 416.98861999250056,\n 418.0002585393027,\n 419.02664711503786,\n 419.9560379389038,\n 420.9278393870098,\n 422.003240569863,\n 422.99963002323983,\n 424.00049173221873,\n 424.96595117121564,\n 426.0415504079549,\n 427.0180267089112,\n 428.0280793575903,\n 428.9699136470125,\n 429.9835568742451,\n 430.9888831813112,\n 431.9861689318631,\n 432.9896820368607,\n 433.97955555149935,\n 435.0311834929421,\n 436.0121732436218,\n 436.9705802984646,\n 438.02723454380606,\n 439.04210698841905,\n 440.0393354560572,\n 440.9105957700499,\n 441.98279777343237,\n 443.0236918232803,\n 444.0651515321373,\n 445.0304276365835,\n 446.01900024310856,\n 447.046729154199,\n 448.0029397673697,\n 448.95320333325094,\n 449.99999189742294,\n 450.9655326268329,\n 451.97996238679417,\n 453.03476225003044,\n 453.99327154404807,\n 455.0301510628615,\n 456.0034732603886,\n 457.0374819649705,\n 457.9579604540589,\n 459.0573918935225,\n 459.9679845705676,\n 460.9984822889685,\n 462.02057905137383,\n 462.88505273440745,\n 463.9933417335478,\n 464.96950774874847,\n 466.004364253503,\n 467.01334001994155,\n 467.98279435168155,\n 468.98336759211816,\n 470.00127281352565,\n 471.0075357415091,\n 472.0036893773752,\n 473.03206856237347,\n 474.00695389435003,\n 475.03291761576173,\n 476.03602941903057,\n 476.8707257482449,\n 477.9958014441666,\n 479.0336363827939,\n 479.98543507491434,\n 480.99125640202936,\n 481.95917604317634,\n 482.9756899193161,\n 484.0228272365044,\n 484.9969967881473,\n 485.9811626290587,\n 487.0431486117925,\n 488.0293424730931,\n 489.0280038193904,\n 489.9686234896493,\n 491.05666607031696,\n 491.99692468424985,\n 492.9446381525187,\n 494.02096101811316,\n 495.0238144398492,\n 496.0633228993308,\n 496.91050951768267,\n 498.10240239169053,\n 498.9676029538617,\n 499.9969966265644,\n 501.01944854284136,\n 502.00348822624,\n 503.01882537563813,\n 503.99511830110765,\n 504.98524972366056,\n 506.01491538340144,\n 507.06437612328864,\n 507.97319769865305,\n 509.0057165929679,\n 510.0062578530689,\n 511.036867089174,\n 512.0069544718601,\n 512.975466924252,\n 514.016429471299,\n 514.9558663381586,\n 515.9559543763467,\n 517.003537683172,\n 518.0749056254676,\n 519.0413949071035,\n 520.0054777562744,\n 520.9530052222048,\n 522.0427369978095,\n 523.0377404725567,\n 524.0205194838163,\n 525.0870294552182,\n 526.0330105172505,\n 527.0061697182566,\n 528.0407603144163,\n 529.0144833886825,\n 529.962166535338,\n 531.0253619525278,\n 531.9302093616766,\n 533.0349519260855,\n 534.0043003317514,\n 534.9914503597187,\n 536.0689885287829,\n 536.97970658254,\n 537.912275680753,\n 539.0158434184219,\n 540.0494191059021,\n 540.9538307485437,\n 541.929083018323,\n 543.000386902673,\n 543.9443522318589,\n 544.9944201202685,\n 546.0080746164468,\n 547.0486050866862,\n 547.986890242419,\n 549.06942662871,\n 549.9969871446569,\n 550.9403614187693,\n 551.998308110006,\n 553.0425094285312,\n 554.0581351216535,\n 555.0351313536378,\n 555.9613564752093,\n 557.0035370358582,\n 558.0669659664238,\n 559.0219799200943,\n 560.0044528876227,\n 560.9964817709144,\n 562.0181450020187,\n 563.0125200687372,\n 564.041934400742,\n 564.9749480189112,\n 566.0583776167424,\n 566.9821401913968,\n 567.9958846122659,\n 569.0283782512297,\n 570.0818767653899,\n 570.9236341357018,\n 572.0007002724981,\n 573.0070005097155,\n 573.9622639179905,\n 575.038379945219,\n 575.9353478197916,\n 577.0319220902451,\n 578.006821088788,\n 578.97586940592,\n 579.9932885100036,\n 580.9918500667037,\n 582.0595527487553,\n 582.978285963298,\n 583.9793628460175,\n 584.9766152471559,\n 585.9868035121206,\n 587.0162511485252,\n 587.9882913599237,\n 589.0483064630714,\n 589.9653851203963,\n 590.9571615899335,\n 592.0196618513284,\n 593.0957205816713,\n 593.9406990008038,\n 595.0883286376647,\n 595.9782459069223,\n 597.02311633404,\n 597.9864937786799,\n 598.9541979950739,\n 599.9680595607815,\n 601.0429863369833,\n 601.9784591436982,\n 603.0368866087539,\n 603.9670627837264,\n 605.0277670442846,\n 605.9821934228283,\n 607.0584929227822,\n 608.0012066232913,\n 608.9730113146564,\n 609.9726503245914,\n 610.9885692720998,\n 611.9423506847625,\n 613.0426484131546,\n 614.0136014588456,\n 614.9377924003057,\n 616.0211236861675,\n 617.0393581302262,\n 618.0560765576255,\n 618.9879807483804,\n 619.9754374128274,\n 621.0598842979131,\n 621.9766063235401,\n 623.0178798955271,\n 624.0447619788221,\n 624.9890995264853,\n 626.0234353166976,\n 627.005245212099,\n 627.9897764148418,\n 628.9785141649863,\n 630.0040817512128,\n 630.9984709781666,\n 632.0075078768558,\n 633.0010073896758,\n 633.9728904458366,\n 634.9405149073668,\n 635.9851284875836,\n 637.0058904822847,\n 638.0342927985637,\n 638.9432346874935,\n 640.0104558521548,\n 640.9933542684244,\n 641.9834739607209,\n 643.0248440597077,\n 644.0168617362646,\n 645.0080506361367,\n 645.9752840028901,\n 647.0151456774408,\n 648.0578413621599,\n 648.9879876099551,\n 650.0621527115744,\n 651.017002670579,\n 651.9695015078419,\n 652.9603147081,\n 654.0270882000592,\n 655.0612117289994,\n 656.0565045749998,\n 656.928288128152,\n 658.014083218581,\n 659.075312159202,\n 660.011344880312,\n 660.9935131229852,\n 662.0211922150581,\n 663.00115928513,\n 664.0112341857674,\n 665.0153273340359,\n 666.0321170383131,\n 666.9800119954591,\n 667.9739646539848,\n 668.968610929891,\n 669.9908010020602,\n 671.0386558537797,\n 672.0771002814053,\n 672.9601204018229,\n 673.9954163576416,\n 675.0094617597846,\n 675.9767078076737,\n 676.996055587026,\n 678.0314832970815,\n 679.0540849511013,\n 679.9486009514975,\n 680.9802692014897,\n 681.9847557164863,\n 682.9921508114604,\n 683.9615486478159,\n 685.0402649617965,\n 685.9478716367723,\n 686.9351843552737,\n 687.9988591517678,\n 688.9415415956466,\n 689.9658347133357,\n 691.00157336597,\n 691.9581760136759,\n 692.9487551979813,\n 694.0321117679166,\n 695.0069265404467,\n 696.0372650715559,\n 696.9216930264798,\n 698.0004737271181,\n 699.0194741907627,\n 700.0629449310841,\n 701.0051810426843,\n 702.0163016202606,\n 702.9703268467069,\n 703.9549134075036,\n 705.0314637387813,\n 705.916320577055,\n 706.9963747630416,\n 708.0388828451986,\n 708.9443462496556,\n 710.0176023632627,\n 711.0314754631312,\n 712.0573783003731,\n 713.0591756950334,\n 713.9721929132708,\n 714.9861160616778,\n 716.0044886073614,\n 716.9727518085458,\n 717.9186378625736,\n 718.9413463412617,\n 720.0509227798079,\n 720.9305293074457,\n 722.0304364208464,\n 722.9614097527254,\n 723.9416820574546,\n 725.104909370776,\n 725.9681768295568,\n 727.0349172508616,\n 728.0022371517508,\n 729.0495418028506,\n 729.9624345633488,\n 730.9276145286617,\n 731.9831797732621,\n 733.0532517212741,\n 734.061937541235,\n 735.0837403042642,\n 735.9818549703945,\n 737.0194027553117,\n 738.0375469749358,\n 739.0596939501381,\n 740.0519751055568,\n 740.9925721790826,\n 741.9381115348864,\n 743.0291306269678,\n 743.9922977706609,\n 744.9468046009272,\n 746.0287342022784,\n 746.9881879389911,\n 748.0365232025985,\n 748.9954119832814,\n 749.9821254907242,\n 751.0307603667173,\n 751.9176213229326,\n 752.9899488327845,\n 754.0727663305742,\n 754.9939985993824,\n 755.9786003067325,\n 756.9434385904632,\n 758.0099465493997,\n 759.0134820712764,\n 760.0008531714166,\n 761.0192749755167,\n 762.0193158601576,\n 762.9268183328185,\n 763.9588260079304,\n 764.9679581577969,\n 766.0011681100781,\n 766.966448516253,\n 767.9947266447016,\n 769.0382766815126,\n 769.9663735263799,\n 770.9514762622241,\n 772.0098111481557,\n 773.0284769840939,\n 774.0607920245991,\n 774.9488802286274,\n 776.0514151276599,\n 776.9637775887343,\n 778.04980343338,\n 778.9265978442004,\n 779.9228924744401,\n 781.0126303898818,\n 781.9550538933232,\n 782.98783599417,\n 783.9892952553298,\n 785.0255406127282,\n 786.0330498102072,\n 787.0194858551185,\n 787.9917293528981,\n 788.9826791582658,\n 790.0354660361415,\n 791.0223416998133,\n 791.94112132268,\n 792.9910434786551,\n 794.0032531181319,\n 794.9870566930324,\n 796.0500121394701,\n 796.9315068348086,\n 798.0270376911286,\n 799.0893253879512,\n 800.045773452331,\n 801.043565533084,\n 802.0063339569764,\n 803.0966582689834,\n 804.0063739223734,\n 804.9616345970649,\n 805.9878037452823,\n 807.058391905071,\n 807.981211013565,\n 809.0098108213872,\n 810.0201406920726,\n 811.0033233435125,\n 812.0145837285479,\n 813.0172920950084,\n 813.9796371479641,\n 814.9711859438117,\n 815.9981588958057,\n 816.9923747855624,\n 818.0422645991065,\n 819.0061982383176,\n 820.0171608741858,\n 820.947441840929,\n 822.0334679599368,\n 822.9627426276634,\n 824.0310290276293,\n 825.0140678853984,\n 826.0358633871662,\n 827.0501292875053,\n 827.9235803783434,\n 829.0458457649174,\n 829.9918572449507,\n 830.9823779755968,\n 831.9976875628768,\n 832.9957599224427,\n 834.0563065998638,\n 834.9782266874698,\n 836.0127046004212,\n 837.0124828043208,\n 837.9507399519531,\n 839.0013167363893,\n 840.0011823430245,\n 840.9816646723942,\n 841.9807103052262,\n 843.0241268881218,\n 844.0167121402691,\n 845.069012770887,\n 845.9793402075678,\n 846.9468165222966,\n 847.9727857525279,\n 849.0471567926901,\n 850.0275773483517,\n 851.0498475095985,\n 851.9843399841033,\n 853.0297652347405,\n 853.9899181147601,\n 855.0512683803425,\n 855.9312343959434,\n 857.0208157024446,\n 857.9941740633504,\n 859.0172547139599,\n 859.9709019994972,\n 861.0688035659459,\n 861.974410173484,\n 862.9772545035819,\n 863.9560735561968,\n 865.0081395336316,\n 866.0361069971551,\n 866.9361248515983,\n 868.0090033812629,\n 868.9537744906751,\n 869.9665157273884,\n 870.9695780438849,\n 871.9931825554058,\n 872.9412131812373,\n 873.9899713277882,\n 875.0636957190654,\n 876.0353274478883,\n 876.9957499671456,\n 877.9733411467477,\n 879.0522964789277,\n 880.0348065312297,\n 881.0140122641876,\n 881.9510873535355,\n 883.0275180426353,\n 884.0307202426916,\n 884.9273808841592,\n 885.9460508342277,\n 886.9759066659474,\n 887.9919255297277,\n 889.0288172226221,\n 890.0313609598293,\n 891.0372451134027,\n 892.0081608412144,\n 892.9965085909563,\n 894.0261748866659,\n 894.9904089583387,\n 896.0649951988444,\n 896.993595955841,\n 897.9843737266092,\n 899.0362157915118,\n 900.0506480825502,\n 901.030586807345,\n 901.9746179954003,\n 903.0025733954282,\n 904.0401936395886,\n 905.0507967997523,\n 906.0330393400623,\n 906.9328371064612,\n 907.9788577376662,\n 908.9820887233151,\n 910.020379999881,\n 911.0601852162207,\n 912.0442547604291,\n 913.0360143627759,\n 914.0202275831061,\n 915.0524404095171,\n 916.0171220600892,\n 916.9838249645223,\n 918.0698768528036,\n 918.9838213850663,\n 920.0397685517797,\n 920.9856841096138,\n 922.0036977716804,\n 922.9524350291781,\n 923.9331762550698,\n 924.9924194237551,\n 925.9848295207933,\n 926.9901106322625,\n 928.0399816019316,\n 928.9586596331986,\n 930.0458346105137,\n 930.9571973001916,\n 932.0281274466682,\n 933.0037675310283,\n 933.9890782025866,\n 935.0157417408869,\n 936.0182469171287,\n 937.0094222751638,\n 938.0365144054462,\n 939.0295061875769,\n 940.0592895269716,\n 940.9924884075629,\n 942.0872053042832,\n 942.9985575699575,\n 944.0336757042179,\n 944.9945050410274,\n 945.9989627849808,\n 947.0463186861971,\n 948.0140694841825,\n 949.0721587258602,\n 950.0373793003182,\n 950.9860482500436,\n 951.9965630665341,\n 952.9903381369927,\n 953.9174544110232,\n 954.9889153804985,\n 955.9870467616955,\n 956.9887951310862,\n 958.0361042790464,\n 958.9893980427523,\n 960.023648867589,\n 960.97593149892,\n 962.0877593154013,\n 962.9928698789852,\n 964.0118284412116,\n 965.0085082869545,\n 966.0140663641082,\n 967.0025907807941,\n 968.0150859851585,\n 968.9409266448556,\n 969.9581576250032,\n 970.9773734586033,\n 972.0190130732575,\n 973.0197791477802,\n 974.050825216596,\n 974.9799567938976,\n 975.9290911093427,\n 977.0182150416642,\n 977.977886197808,\n 978.9536652828251,\n 979.994358909109,\n 981.0489986982407,\n 981.9757124575079,\n 982.9520311735002,\n 984.031409645545,\n 985.0883400264094,\n 985.989926796825,\n 987.074137717078,\n 987.9563209907108,\n 989.0422663174882,\n 990.0617117833069,\n 991.0068560763651,\n 992.0256719343085,\n 992.9233755814291,\n 994.0569939027732,\n 995.0206035826616,\n 995.9725817466583,\n 996.9296659000888,\n 997.970816829973,\n 999.0296927955063]"
       },
       "execution_count": 43,
       "metadata": {},
       "output_type": "execute_result"
      }
     ],
     "persistentId": "23b0879e-b813-45cc-8204-f79bc232ae18",
     "text": "ForecastPrice"
    },
    "executionTime": "2020-02-04T04:00:22.997Z"
   },
   {
    "cell": {
     "executionCount": 44,
     "executionEventId": "eee615c0-6cbe-410d-86d8-d37d52336ca6",
     "hasError": true,
     "id": "5ae9dee1-7db8-4f1a-b8e2-fc2eefa00d65",
     "outputs": [
      {
       "ename": "NameError",
       "evalue": "name 'repeat' is not defined",
       "output_type": "error",
       "traceback": [
        "\u001b[1;31m---------------------------------------------------------------------------\u001b[0m",
        "\u001b[1;31mNameError\u001b[0m                                 Traceback (most recent call last)",
        "\u001b[1;32m<ipython-input-44-93e2260223cc>\u001b[0m in \u001b[0;36m<module>\u001b[1;34m\u001b[0m\n\u001b[0;32m      1\u001b[0m \u001b[0mnp\u001b[0m\u001b[1;33m.\u001b[0m\u001b[0mrandom\u001b[0m\u001b[1;33m.\u001b[0m\u001b[0mseed\u001b[0m\u001b[1;33m(\u001b[0m\u001b[1;36m42\u001b[0m\u001b[1;33m)\u001b[0m\u001b[1;33m\u001b[0m\u001b[1;33m\u001b[0m\u001b[0m\n\u001b[1;32m----> 2\u001b[1;33m \u001b[0mrepeat\u001b[0m\u001b[1;33m(\u001b[0m\u001b[0moneForecast\u001b[0m\u001b[1;33m,\u001b[0m \u001b[1;36m2\u001b[0m\u001b[1;33m)\u001b[0m\u001b[1;33m\u001b[0m\u001b[1;33m\u001b[0m\u001b[0m\n\u001b[0m",
        "\u001b[1;31mNameError\u001b[0m: name 'repeat' is not defined"
       ]
      }
     ],
     "persistentId": "7ec80180-6e81-47a6-84f3-b7044fac490e",
     "text": "np.random.seed(42)\nrepeat(oneForecast, 2)"
    },
    "executionTime": "2020-02-04T04:01:18.007Z"
   },
   {
    "cell": {
     "executionCount": 45,
     "executionEventId": "bf6eacce-eee9-4d75-b9d5-fb7ed70b2ca6",
     "hasError": false,
     "id": "5ae9dee1-7db8-4f1a-b8e2-fc2eefa00d65",
     "outputs": [],
     "persistentId": "7ec80180-6e81-47a6-84f3-b7044fac490e",
     "text": "np.random.seed(42)\nfor i in range(10):\n    oneForecast()"
    },
    "executionTime": "2020-02-04T04:01:56.507Z"
   },
   {
    "cell": {
     "executionCount": 46,
     "executionEventId": "d472c035-4491-424d-aff0-64cc96667925",
     "hasError": false,
     "id": "ba7ec442-1594-4b99-a4f2-14155710063c",
     "outputs": [
      {
       "data": {
        "text/plain": "99.99978747807835"
       },
       "execution_count": 46,
       "metadata": {},
       "output_type": "execute_result"
      }
     ],
     "persistentId": "34b5f297-276e-465d-8ba1-213227c4e747",
     "text": "def oneForecast(S=100, mu=0.15, sigma=0.30, t=1/52, k=10):\n    e=np.random.randn(k)\n    deltaS = mu*t + sigma*e*np.sqrt(t)\n    return (S + deltaS)[k-1]\noneForecast()"
    },
    "executionTime": "2020-02-04T04:02:14.285Z"
   },
   {
    "cell": {
     "executionCount": 47,
     "executionEventId": "94f5741c-329d-4856-8c6b-13a31e9b8160",
     "hasError": false,
     "id": "f471a3e6-665e-4f00-b27f-2873b19ed496",
     "outputs": [
      {
       "data": {
        "text/plain": "100.03416692044308"
       },
       "execution_count": 47,
       "metadata": {},
       "output_type": "execute_result"
      }
     ],
     "persistentId": "4cdec563-ce50-4493-9848-7350eb29c311",
     "text": "oneForecast()"
    },
    "executionTime": "2020-02-04T04:02:16.058Z"
   },
   {
    "cell": {
     "executionCount": 48,
     "executionEventId": "5e6cde58-ab8a-4d52-a7d8-1caa6ee782a4",
     "hasError": false,
     "id": "9297346a-7860-46b1-9f32-55f215c530f7",
     "outputs": [
      {
       "data": {
        "text/plain": "99.98193876207465"
       },
       "execution_count": 48,
       "metadata": {},
       "output_type": "execute_result"
      }
     ],
     "persistentId": "3325a9d1-951d-40c6-a2d9-ee137c439618",
     "text": "oneForecast()"
    },
    "executionTime": "2020-02-04T04:02:17.814Z"
   },
   {
    "cell": {
     "executionCount": 49,
     "executionEventId": "3f33e199-16b7-4e53-afff-1b0828f7f77e",
     "hasError": false,
     "id": "5ae9dee1-7db8-4f1a-b8e2-fc2eefa00d65",
     "outputs": [],
     "persistentId": "7ec80180-6e81-47a6-84f3-b7044fac490e",
     "text": "np.random.seed(42)\nfor i in range(10):\n    oneForecast()"
    },
    "executionTime": "2020-02-04T04:02:19.898Z"
   },
   {
    "cell": {
     "executionCount": 50,
     "executionEventId": "f5fece80-5762-41e2-82ee-ec1f71422dfb",
     "hasError": false,
     "id": "5ae9dee1-7db8-4f1a-b8e2-fc2eefa00d65",
     "outputs": [
      {
       "name": "stdout",
       "output_type": "stream",
       "text": "100.0254564775827\n99.9441292298651\n99.99074942186601\n100.01107453784705\n99.92953771137466\n100.04346974589272\n99.9760460112995\n99.9201967503641\n100.02423783132441\n99.99312520071598\n"
      }
     ],
     "persistentId": "7ec80180-6e81-47a6-84f3-b7044fac490e",
     "text": "np.random.seed(42)\nfor i in range(10):\n    print(oneForecast())"
    },
    "executionTime": "2020-02-04T04:02:26.967Z"
   },
   {
    "cell": {
     "executionCount": 51,
     "executionEventId": "ce03a054-a8a6-4c54-a9d3-6d8e3874ce1a",
     "hasError": false,
     "id": "6eaeb6e7-8938-4c20-909a-ea9d83c077f9",
     "outputs": [],
     "persistentId": "23b0879e-b813-45cc-8204-f79bc232ae18",
     "text": "ForecastPrice = []\nnp.random.seed(42)\nfor i in range(10):\n    ForecastPrice.append(oneForecast())"
    },
    "executionTime": "2020-02-04T04:02:58.660Z"
   },
   {
    "cell": {
     "executionCount": 52,
     "executionEventId": "d505397a-b83c-4482-9708-2269ff688edd",
     "hasError": false,
     "id": "6eaeb6e7-8938-4c20-909a-ea9d83c077f9",
     "outputs": [],
     "persistentId": "23b0879e-b813-45cc-8204-f79bc232ae18",
     "text": "ForecastPrice = []\nnp.random.seed(42)\nfor i in range(10):\n    ForecastPrice.append(oneForecast())"
    },
    "executionTime": "2020-02-04T04:03:17.358Z"
   },
   {
    "cell": {
     "executionCount": 53,
     "executionEventId": "c7a57db8-0de0-4cca-b99b-52f78bd1ce7b",
     "hasError": false,
     "id": "6eaeb6e7-8938-4c20-909a-ea9d83c077f9",
     "outputs": [],
     "persistentId": "23b0879e-b813-45cc-8204-f79bc232ae18",
     "text": "ForecastPrice = []\nnp.random.seed(42)\nfor i in range(1000):\n    ForecastPrice.append(oneForecast())"
    },
    "executionTime": "2020-02-04T04:04:08.753Z"
   },
   {
    "cell": {
     "executionCount": 1,
     "executionEventId": "9e85040a-df28-4832-904d-9c469550ee51",
     "hasError": false,
     "id": "a58b36de-7db8-4249-ac80-54d08a075685",
     "outputs": [],
     "persistentId": "5ac89a4f-2b2c-48a4-80b8-7a150881fda2",
     "text": "outcomes = [1, 2, 3, 4, 5, 6]"
    },
    "executionTime": "2020-02-04T04:06:09.781Z"
   },
   {
    "cell": {
     "executionCount": 3,
     "executionEventId": "39b6378d-2f89-475d-a3d8-013c018ad5d8",
     "hasError": false,
     "id": "38aac778-063e-4ffe-9c44-25641ac7471c",
     "outputs": [
      {
       "data": {
        "text/plain": "2"
       },
       "execution_count": 3,
       "metadata": {},
       "output_type": "execute_result"
      }
     ],
     "persistentId": "09c0b07d-4b5c-4586-861b-06890b818dc5",
     "text": "np.random.choice(outcomes, size=1)[0]"
    },
    "executionTime": "2020-02-04T04:06:09.828Z"
   },
   {
    "cell": {
     "executionCount": 4,
     "executionEventId": "78655cf2-6f5a-4cc9-94d3-e2675358c937",
     "hasError": false,
     "id": "bad9f7ec-ef90-4eca-99b9-4232b873e98b",
     "outputs": [
      {
       "data": {
        "text/plain": "1"
       },
       "execution_count": 4,
       "metadata": {},
       "output_type": "execute_result"
      }
     ],
     "persistentId": "09c0b07d-4b5c-4586-861b-06890b818dc5",
     "text": "np.random.choice(outcomes, size=1)[0]"
    },
    "executionTime": "2020-02-04T04:06:09.840Z"
   },
   {
    "cell": {
     "executionCount": 5,
     "executionEventId": "b4930109-2f93-4b35-802c-e6d73f194cd5",
     "hasError": false,
     "id": "707852ed-302b-409b-96b8-4a98566183fc",
     "outputs": [],
     "persistentId": "7613bc3c-37f3-4891-9a73-e4679b9dd53d",
     "text": "actualOutcomes = []"
    },
    "executionTime": "2020-02-04T04:06:09.847Z"
   },
   {
    "cell": {
     "executionCount": 6,
     "executionEventId": "a5df80fa-505d-48b5-b175-badc2b8b6113",
     "hasError": false,
     "id": "07570cda-6420-499c-895e-c6c6022de317",
     "outputs": [],
     "persistentId": "eb4d90b6-0bdb-46c2-8141-c5b1ffbf482e",
     "text": "for i in np.arange(10001):\n    actualOutcomes.append(np.random.choice(outcomes, size=1)[0])"
    },
    "executionTime": "2020-02-04T04:06:10.125Z"
   },
   {
    "cell": {
     "executionCount": 7,
     "executionEventId": "518575e2-146e-4d00-9c2d-951d492a37a8",
     "hasError": false,
     "id": "c135b60f-f565-45a3-a908-226dc618d758",
     "outputs": [
      {
       "data": {
        "text/plain": "[1, 4, 4, 2, 6, 2, 5, 2, 3, 5]"
       },
       "execution_count": 7,
       "metadata": {},
       "output_type": "execute_result"
      }
     ],
     "persistentId": "676ed11a-7eb3-485e-a1aa-027a2bd62a5b",
     "text": "actualOutcomes[0:10]"
    },
    "executionTime": "2020-02-04T04:06:10.153Z"
   },
   {
    "cell": {
     "executionCount": 8,
     "executionEventId": "23150afb-f921-4c26-8e67-8760195b77f0",
     "hasError": false,
     "id": "39fe5b1b-9a81-4615-8925-c04e141fff75",
     "outputs": [
      {
       "data": {
        "text/plain": "1    1681\n2    1685\n3    1722\n4    1677\n5    1637\n6    1599\ndtype: int64"
       },
       "execution_count": 8,
       "metadata": {},
       "output_type": "execute_result"
      }
     ],
     "persistentId": "8f4e198e-0a2e-45ec-834f-4d291d87516a",
     "text": "import pandas as pd\n\npd.Series(actualOutcomes).value_counts().sort_index()"
    },
    "executionTime": "2020-02-04T04:06:10.507Z"
   },
   {
    "cell": {
     "executionCount": 9,
     "executionEventId": "474ead73-f71c-4c48-81f4-1b5f604b7174",
     "hasError": false,
     "id": "40fe8782-273c-41d1-8f50-0d72e257971f",
     "outputs": [
      {
       "data": {
        "text/plain": "1    0.1681\n2    0.1685\n3    0.1722\n4    0.1677\n5    0.1637\n6    0.1599\ndtype: float64"
       },
       "execution_count": 9,
       "metadata": {},
       "output_type": "execute_result"
      }
     ],
     "persistentId": "7abf8cc3-5f69-4266-a2f6-f1c773825055",
     "text": "pd.Series(actualOutcomes).value_counts().sort_index() / 10000  # return probability"
    },
    "executionTime": "2020-02-04T04:06:10.527Z"
   },
   {
    "cell": {
     "executionCount": 10,
     "executionEventId": "b28e36a9-b930-4b0c-bcbf-1e9282a53588",
     "hasError": false,
     "id": "a571f689-2a06-4efb-9c75-9a7c28779f78",
     "outputs": [
      {
       "data": {
        "text/plain": "1    16.6355\n2    16.6991\n3    16.6352\n4    16.6894\n5    16.6813\n6    16.6596\ndtype: float64"
       },
       "execution_count": 10,
       "metadata": {},
       "output_type": "execute_result"
      }
     ],
     "persistentId": "79d012a9-b5ed-461b-85a6-b8d9b26d8a8d",
     "text": "actualOutcomes = []\nfor i in np.arange(1000001):\n    actualOutcomes.append(np.random.choice(outcomes, size=1)[0])\npd.Series(actualOutcomes).value_counts().sort_index() / 10000  # return probability"
    },
    "executionTime": "2020-02-04T04:06:38.400Z"
   },
   {
    "cell": {
     "executionCount": 11,
     "executionEventId": "0e62ad86-abab-4e4e-8f83-b81875cb09c2",
     "hasError": false,
     "id": "52792df3-2185-4553-8842-d30b5a903835",
     "outputs": [
      {
       "data": {
        "text/plain": "16.666666666666668"
       },
       "execution_count": 11,
       "metadata": {},
       "output_type": "execute_result"
      }
     ],
     "persistentId": "b11434ed-e219-410e-9dd1-c9c2810908c0",
     "text": "100 / 6"
    },
    "executionTime": "2020-02-04T04:06:38.426Z"
   },
   {
    "cell": {
     "executionCount": 12,
     "executionEventId": "749e859e-ec40-4f4f-a532-df818967cd7c",
     "hasError": false,
     "id": "d0924f29-d829-48b6-9aa4-15d6384afa89",
     "outputs": [],
     "persistentId": "a2fe1cb0-faa2-4cbf-af62-48ee8e662cbd",
     "text": "mu = 0.15\nsigma = 0.3\nt = 0.0192\nS = 100"
    },
    "executionTime": "2020-02-04T04:06:38.431Z"
   },
   {
    "cell": {
     "executionCount": 13,
     "executionEventId": "a641d2f6-c041-4139-8741-5925e4bd768c",
     "hasError": false,
     "id": "663872f1-f3f5-494b-abd4-c60286766259",
     "outputs": [],
     "persistentId": "3ba0c6fb-891a-4eae-b0ef-773925573d5c",
     "text": "e = np.random.randn(10)"
    },
    "executionTime": "2020-02-04T04:06:38.456Z"
   },
   {
    "cell": {
     "executionCount": 14,
     "executionEventId": "914fef5b-7b9d-475f-82f0-578b23d3d480",
     "hasError": false,
     "id": "c529d636-b103-44cd-8c00-2de13b0ed068",
     "outputs": [
      {
       "data": {
        "text/plain": "array([-0.13648474, -0.34455731,  0.13420203, -0.11518535, -0.92611176,\n        0.89655253, -1.51224868, -0.7287433 ,  0.8673832 ,  0.37122172])"
       },
       "execution_count": 14,
       "metadata": {},
       "output_type": "execute_result"
      }
     ],
     "persistentId": "eebf2e33-91d9-42b5-9a8a-41023cbbcc6a",
     "text": "e"
    },
    "executionTime": "2020-02-04T04:06:38.474Z"
   },
   {
    "cell": {
     "executionCount": 15,
     "executionEventId": "b0ab5ca8-9f36-4a84-b813-dfb6799b10ad",
     "hasError": false,
     "id": "7d5785b6-2a80-440f-bae2-2a7f20f71cff",
     "outputs": [],
     "persistentId": "84a928b4-d2e7-4604-b7ce-06825e3f8eb1",
     "text": "deltaS = mu * t + sigma * e * np.sqrt(t)"
    },
    "executionTime": "2020-02-04T04:06:38.480Z"
   },
   {
    "cell": {
     "executionCount": 16,
     "executionEventId": "602fa893-e42e-40a2-8653-40dfd7d7284a",
     "hasError": false,
     "id": "88fd01c1-75ba-43b4-b64a-2f488831b415",
     "outputs": [
      {
       "data": {
        "text/plain": "array([-0.00279356, -0.01144298,  0.00845867, -0.00190817, -0.03561774,\n        0.04014899, -0.059983  , -0.02741329,  0.03893644,  0.0183114 ])"
       },
       "execution_count": 16,
       "metadata": {},
       "output_type": "execute_result"
      }
     ],
     "persistentId": "737bc343-626e-49e7-bfaa-faa2e4a0bc94",
     "text": "deltaS"
    },
    "executionTime": "2020-02-04T04:06:38.490Z"
   },
   {
    "cell": {
     "executionCount": 17,
     "executionEventId": "b1e20176-f368-4ad7-9c00-63048bfd9437",
     "hasError": false,
     "id": "65adc69d-6d6d-480a-9b59-5040c5c15684",
     "outputs": [
      {
       "data": {
        "text/plain": "array([ 99.99720644,  99.98855702, 100.00845867,  99.99809183,\n        99.96438226, 100.04014899,  99.940017  ,  99.97258671,\n       100.03893644, 100.0183114 ])"
       },
       "execution_count": 17,
       "metadata": {},
       "output_type": "execute_result"
      }
     ],
     "persistentId": "d51dd857-fb8a-433b-9240-3b4b80f90b12",
     "text": "S + deltaS"
    },
    "executionTime": "2020-02-04T04:06:38.498Z"
   },
   {
    "cell": {
     "executionCount": 18,
     "executionEventId": "e1344aa3-773c-4310-820a-ffc11dcc5e5b",
     "hasError": false,
     "id": "dc6407e8-b5bc-4c30-ad13-8fae29242b71",
     "outputs": [
      {
       "data": {
        "text/html": "<div>\n<style scoped>\n    .dataframe tbody tr th:only-of-type {\n        vertical-align: middle;\n    }\n\n    .dataframe tbody tr th {\n        vertical-align: top;\n    }\n\n    .dataframe thead th {\n        text-align: right;\n    }\n</style>\n<table border=\"1\" class=\"dataframe\">\n  <thead>\n    <tr style=\"text-align: right;\">\n      <th></th>\n      <th>S</th>\n      <th>epsilon</th>\n      <th>delta S</th>\n    </tr>\n  </thead>\n  <tbody>\n    <tr>\n      <th>0</th>\n      <td>99.997206</td>\n      <td>-0.136485</td>\n      <td>-0.002794</td>\n    </tr>\n    <tr>\n      <th>1</th>\n      <td>99.988557</td>\n      <td>-0.344557</td>\n      <td>-0.011443</td>\n    </tr>\n    <tr>\n      <th>2</th>\n      <td>100.008459</td>\n      <td>0.134202</td>\n      <td>0.008459</td>\n    </tr>\n    <tr>\n      <th>3</th>\n      <td>99.998092</td>\n      <td>-0.115185</td>\n      <td>-0.001908</td>\n    </tr>\n    <tr>\n      <th>4</th>\n      <td>99.964382</td>\n      <td>-0.926112</td>\n      <td>-0.035618</td>\n    </tr>\n    <tr>\n      <th>5</th>\n      <td>100.040149</td>\n      <td>0.896553</td>\n      <td>0.040149</td>\n    </tr>\n    <tr>\n      <th>6</th>\n      <td>99.940017</td>\n      <td>-1.512249</td>\n      <td>-0.059983</td>\n    </tr>\n    <tr>\n      <th>7</th>\n      <td>99.972587</td>\n      <td>-0.728743</td>\n      <td>-0.027413</td>\n    </tr>\n    <tr>\n      <th>8</th>\n      <td>100.038936</td>\n      <td>0.867383</td>\n      <td>0.038936</td>\n    </tr>\n    <tr>\n      <th>9</th>\n      <td>100.018311</td>\n      <td>0.371222</td>\n      <td>0.018311</td>\n    </tr>\n  </tbody>\n</table>\n</div>",
        "text/plain": "            S   epsilon   delta S\n0   99.997206 -0.136485 -0.002794\n1   99.988557 -0.344557 -0.011443\n2  100.008459  0.134202  0.008459\n3   99.998092 -0.115185 -0.001908\n4   99.964382 -0.926112 -0.035618\n5  100.040149  0.896553  0.040149\n6   99.940017 -1.512249 -0.059983\n7   99.972587 -0.728743 -0.027413\n8  100.038936  0.867383  0.038936\n9  100.018311  0.371222  0.018311"
       },
       "execution_count": 18,
       "metadata": {},
       "output_type": "execute_result"
      }
     ],
     "persistentId": "c925d983-39c2-4b5d-9e29-d43a1eea2a92",
     "text": "pd.DataFrame({\"S\": S + deltaS, \"epsilon\": e, \"delta S\": deltaS})"
    },
    "executionTime": "2020-02-04T04:06:38.506Z"
   },
   {
    "cell": {
     "executionCount": 19,
     "executionEventId": "b00b147e-e6e4-4b38-84dc-28a0498a4c04",
     "hasError": false,
     "id": "79896f59-1ea1-4974-841f-9e94389e89e6",
     "outputs": [
      {
       "data": {
        "text/plain": "100.01831139718287"
       },
       "execution_count": 19,
       "metadata": {},
       "output_type": "execute_result"
      }
     ],
     "persistentId": "fa0f2ca7-f3bb-4de4-82bb-f5ed033fd4ae",
     "text": "(S + deltaS)[9]"
    },
    "executionTime": "2020-02-04T04:06:38.521Z"
   },
   {
    "cell": {
     "executionCount": 20,
     "executionEventId": "77ee0654-3e05-4373-9cde-9d9b2e801f01",
     "hasError": false,
     "id": "ba7ec442-1594-4b99-a4f2-14155710063c",
     "outputs": [
      {
       "data": {
        "text/plain": "100.04669080856227"
       },
       "execution_count": 20,
       "metadata": {},
       "output_type": "execute_result"
      }
     ],
     "persistentId": "34b5f297-276e-465d-8ba1-213227c4e747",
     "text": "def oneForecast(S=100, mu=0.15, sigma=0.30, t=1 / 52, k=10):\n    e = np.random.randn(k)\n    deltaS = mu * t + sigma * e * np.sqrt(t)\n    return (S + deltaS)[k - 1]\n\n\noneForecast()"
    },
    "executionTime": "2020-02-04T04:06:38.535Z"
   },
   {
    "cell": {
     "executionCount": 21,
     "executionEventId": "4b6a6e7d-0c06-4f6c-b877-fa760f61b5cc",
     "hasError": false,
     "id": "f471a3e6-665e-4f00-b27f-2873b19ed496",
     "outputs": [
      {
       "data": {
        "text/plain": "99.99222250539425"
       },
       "execution_count": 21,
       "metadata": {},
       "output_type": "execute_result"
      }
     ],
     "persistentId": "4cdec563-ce50-4493-9848-7350eb29c311",
     "text": "oneForecast()"
    },
    "executionTime": "2020-02-04T04:06:38.548Z"
   },
   {
    "cell": {
     "executionCount": 22,
     "executionEventId": "bded6670-82bb-4f0b-bc2a-db5f7c4c01f1",
     "hasError": false,
     "id": "9297346a-7860-46b1-9f32-55f215c530f7",
     "outputs": [
      {
       "data": {
        "text/plain": "100.0960429168658"
       },
       "execution_count": 22,
       "metadata": {},
       "output_type": "execute_result"
      }
     ],
     "persistentId": "3325a9d1-951d-40c6-a2d9-ee137c439618",
     "text": "oneForecast()"
    },
    "executionTime": "2020-02-04T04:06:38.555Z"
   },
   {
    "cell": {
     "executionCount": 23,
     "executionEventId": "a7711c96-7c03-48f7-a24f-a7b33c5cb5c1",
     "hasError": false,
     "id": "5ae9dee1-7db8-4f1a-b8e2-fc2eefa00d65",
     "outputs": [
      {
       "name": "stdout",
       "output_type": "stream",
       "text": "100.0254564775827\n99.9441292298651\n99.99074942186601\n100.01107453784705\n99.92953771137466\n100.04346974589272\n99.9760460112995\n99.9201967503641\n100.02423783132441\n99.99312520071598\n"
      }
     ],
     "persistentId": "7ec80180-6e81-47a6-84f3-b7044fac490e",
     "text": "np.random.seed(42)\nfor i in range(10):\n    print(oneForecast())"
    },
    "executionTime": "2020-02-04T04:06:38.574Z"
   },
   {
    "cell": {
     "executionCount": 24,
     "executionEventId": "5442707b-fdc4-43d4-942d-7c30b7344134",
     "hasError": false,
     "id": "6eaeb6e7-8938-4c20-909a-ea9d83c077f9",
     "outputs": [],
     "persistentId": "23b0879e-b813-45cc-8204-f79bc232ae18",
     "text": "ForecastPrice = []\nnp.random.seed(42)\nfor i in range(1000):\n    ForecastPrice.append(oneForecast())"
    },
    "executionTime": "2020-02-04T04:06:38.581Z"
   },
   {
    "cell": {
     "executionCount": 25,
     "executionEventId": "b442b4f4-0f4c-41d6-83d4-5a80e3249e8d",
     "hasError": true,
     "id": "3d0a8abe-8e16-4280-b599-9b81caa69629",
     "outputs": [
      {
       "ename": "TypeError",
       "evalue": "_repeat_dispatcher() missing 1 required positional argument: 'repeats'",
       "output_type": "error",
       "traceback": [
        "\u001b[1;31m---------------------------------------------------------------------------\u001b[0m",
        "\u001b[1;31mTypeError\u001b[0m                                 Traceback (most recent call last)",
        "\u001b[1;32m<ipython-input-25-648943d135f7>\u001b[0m in \u001b[0;36m<module>\u001b[1;34m\u001b[0m\n\u001b[1;32m----> 1\u001b[1;33m \u001b[0mnp\u001b[0m\u001b[1;33m.\u001b[0m\u001b[0mrepeat\u001b[0m\u001b[1;33m(\u001b[0m\u001b[0moneForecast\u001b[0m\u001b[1;33m)\u001b[0m\u001b[1;33m\u001b[0m\u001b[1;33m\u001b[0m\u001b[0m\n\u001b[0m",
        "\u001b[1;32m<__array_function__ internals>\u001b[0m in \u001b[0;36mrepeat\u001b[1;34m(*args, **kwargs)\u001b[0m\n",
        "\u001b[1;31mTypeError\u001b[0m: _repeat_dispatcher() missing 1 required positional argument: 'repeats'"
       ]
      }
     ],
     "persistentId": "513685a0-1840-4d95-962c-126ef9148c2b",
     "text": "np.repeat(oneForecast)"
    },
    "executionTime": "2020-02-04T04:07:30.406Z"
   },
   {
    "cell": {
     "executionCount": 26,
     "executionEventId": "0cefc066-6012-4df1-9cfd-48cee23d0c15",
     "hasError": false,
     "id": "3d0a8abe-8e16-4280-b599-9b81caa69629",
     "outputs": [
      {
       "data": {
        "text/plain": "array([<function oneForecast at 0x0000020DFFD62048>,\n       <function oneForecast at 0x0000020DFFD62048>,\n       <function oneForecast at 0x0000020DFFD62048>,\n       <function oneForecast at 0x0000020DFFD62048>,\n       <function oneForecast at 0x0000020DFFD62048>,\n       <function oneForecast at 0x0000020DFFD62048>,\n       <function oneForecast at 0x0000020DFFD62048>,\n       <function oneForecast at 0x0000020DFFD62048>,\n       <function oneForecast at 0x0000020DFFD62048>,\n       <function oneForecast at 0x0000020DFFD62048>], dtype=object)"
       },
       "execution_count": 26,
       "metadata": {},
       "output_type": "execute_result"
      }
     ],
     "persistentId": "513685a0-1840-4d95-962c-126ef9148c2b",
     "text": "np.repeat(oneForecast, 10)"
    },
    "executionTime": "2020-02-04T04:07:34.962Z"
   },
   {
    "cell": {
     "executionCount": 27,
     "executionEventId": "3f943db0-b125-4396-bc05-91a065f69793",
     "hasError": true,
     "id": "3d0a8abe-8e16-4280-b599-9b81caa69629",
     "outputs": [
      {
       "ename": "SyntaxError",
       "evalue": "invalid syntax (<ipython-input-27-4a901d88c6b5>, line 1)",
       "output_type": "error",
       "traceback": [
        "\u001b[1;36m  File \u001b[1;32m\"<ipython-input-27-4a901d88c6b5>\"\u001b[1;36m, line \u001b[1;32m1\u001b[0m\n\u001b[1;33m    np.repeat(oneForecast(, 10)\u001b[0m\n\u001b[1;37m                          ^\u001b[0m\n\u001b[1;31mSyntaxError\u001b[0m\u001b[1;31m:\u001b[0m invalid syntax\n"
       ]
      }
     ],
     "persistentId": "513685a0-1840-4d95-962c-126ef9148c2b",
     "text": "np.repeat(oneForecast(, 10)"
    },
    "executionTime": "2020-02-04T04:07:39.287Z"
   },
   {
    "cell": {
     "executionCount": 28,
     "executionEventId": "cf5b25e6-bc38-41ab-8671-c0c3bfee9fa9",
     "hasError": false,
     "id": "3d0a8abe-8e16-4280-b599-9b81caa69629",
     "outputs": [
      {
       "data": {
        "text/plain": "array([100.03694021, 100.03694021, 100.03694021, 100.03694021,\n       100.03694021, 100.03694021, 100.03694021, 100.03694021,\n       100.03694021, 100.03694021])"
       },
       "execution_count": 28,
       "metadata": {},
       "output_type": "execute_result"
      }
     ],
     "persistentId": "513685a0-1840-4d95-962c-126ef9148c2b",
     "text": "np.repeat(oneForecast(), 10)"
    },
    "executionTime": "2020-02-04T04:07:41.760Z"
   },
   {
    "cell": {
     "executionCount": 29,
     "executionEventId": "13058a98-57dd-4a4b-89a3-0d9e87d8f7ad",
     "hasError": false,
     "id": "3d0a8abe-8e16-4280-b599-9b81caa69629",
     "outputs": [],
     "persistentId": "513685a0-1840-4d95-962c-126ef9148c2b",
     "text": "ForecastPrice = np.repeat(oneForecast(), 1000)"
    },
    "executionTime": "2020-02-04T04:07:54.217Z"
   },
   {
    "cell": {
     "executionCount": 30,
     "executionEventId": "0a77b01c-2161-4f26-a1d0-a49f774769b8",
     "hasError": false,
     "id": "51b336d9-7036-44b3-a710-e1a51c764cad",
     "outputs": [
      {
       "data": {
        "text/plain": "array([100.07754136, 100.07754136, 100.07754136, 100.07754136,\n       100.07754136, 100.07754136, 100.07754136, 100.07754136,\n       100.07754136, 100.07754136, 100.07754136, 100.07754136,\n       100.07754136, 100.07754136, 100.07754136, 100.07754136,\n       100.07754136, 100.07754136, 100.07754136, 100.07754136,\n       100.07754136, 100.07754136, 100.07754136, 100.07754136,\n       100.07754136, 100.07754136, 100.07754136, 100.07754136,\n       100.07754136, 100.07754136, 100.07754136, 100.07754136,\n       100.07754136, 100.07754136, 100.07754136, 100.07754136,\n       100.07754136, 100.07754136, 100.07754136, 100.07754136,\n       100.07754136, 100.07754136, 100.07754136, 100.07754136,\n       100.07754136, 100.07754136, 100.07754136, 100.07754136,\n       100.07754136, 100.07754136, 100.07754136, 100.07754136,\n       100.07754136, 100.07754136, 100.07754136, 100.07754136,\n       100.07754136, 100.07754136, 100.07754136, 100.07754136,\n       100.07754136, 100.07754136, 100.07754136, 100.07754136,\n       100.07754136, 100.07754136, 100.07754136, 100.07754136,\n       100.07754136, 100.07754136, 100.07754136, 100.07754136,\n       100.07754136, 100.07754136, 100.07754136, 100.07754136,\n       100.07754136, 100.07754136, 100.07754136, 100.07754136,\n       100.07754136, 100.07754136, 100.07754136, 100.07754136,\n       100.07754136, 100.07754136, 100.07754136, 100.07754136,\n       100.07754136, 100.07754136, 100.07754136, 100.07754136,\n       100.07754136, 100.07754136, 100.07754136, 100.07754136,\n       100.07754136, 100.07754136, 100.07754136, 100.07754136,\n       100.07754136, 100.07754136, 100.07754136, 100.07754136,\n       100.07754136, 100.07754136, 100.07754136, 100.07754136,\n       100.07754136, 100.07754136, 100.07754136, 100.07754136,\n       100.07754136, 100.07754136, 100.07754136, 100.07754136,\n       100.07754136, 100.07754136, 100.07754136, 100.07754136,\n       100.07754136, 100.07754136, 100.07754136, 100.07754136,\n       100.07754136, 100.07754136, 100.07754136, 100.07754136,\n       100.07754136, 100.07754136, 100.07754136, 100.07754136,\n       100.07754136, 100.07754136, 100.07754136, 100.07754136,\n       100.07754136, 100.07754136, 100.07754136, 100.07754136,\n       100.07754136, 100.07754136, 100.07754136, 100.07754136,\n       100.07754136, 100.07754136, 100.07754136, 100.07754136,\n       100.07754136, 100.07754136, 100.07754136, 100.07754136,\n       100.07754136, 100.07754136, 100.07754136, 100.07754136,\n       100.07754136, 100.07754136, 100.07754136, 100.07754136,\n       100.07754136, 100.07754136, 100.07754136, 100.07754136,\n       100.07754136, 100.07754136, 100.07754136, 100.07754136,\n       100.07754136, 100.07754136, 100.07754136, 100.07754136,\n       100.07754136, 100.07754136, 100.07754136, 100.07754136,\n       100.07754136, 100.07754136, 100.07754136, 100.07754136,\n       100.07754136, 100.07754136, 100.07754136, 100.07754136,\n       100.07754136, 100.07754136, 100.07754136, 100.07754136,\n       100.07754136, 100.07754136, 100.07754136, 100.07754136,\n       100.07754136, 100.07754136, 100.07754136, 100.07754136,\n       100.07754136, 100.07754136, 100.07754136, 100.07754136,\n       100.07754136, 100.07754136, 100.07754136, 100.07754136,\n       100.07754136, 100.07754136, 100.07754136, 100.07754136,\n       100.07754136, 100.07754136, 100.07754136, 100.07754136,\n       100.07754136, 100.07754136, 100.07754136, 100.07754136,\n       100.07754136, 100.07754136, 100.07754136, 100.07754136,\n       100.07754136, 100.07754136, 100.07754136, 100.07754136,\n       100.07754136, 100.07754136, 100.07754136, 100.07754136,\n       100.07754136, 100.07754136, 100.07754136, 100.07754136,\n       100.07754136, 100.07754136, 100.07754136, 100.07754136,\n       100.07754136, 100.07754136, 100.07754136, 100.07754136,\n       100.07754136, 100.07754136, 100.07754136, 100.07754136,\n       100.07754136, 100.07754136, 100.07754136, 100.07754136,\n       100.07754136, 100.07754136, 100.07754136, 100.07754136,\n       100.07754136, 100.07754136, 100.07754136, 100.07754136,\n       100.07754136, 100.07754136, 100.07754136, 100.07754136,\n       100.07754136, 100.07754136, 100.07754136, 100.07754136,\n       100.07754136, 100.07754136, 100.07754136, 100.07754136,\n       100.07754136, 100.07754136, 100.07754136, 100.07754136,\n       100.07754136, 100.07754136, 100.07754136, 100.07754136,\n       100.07754136, 100.07754136, 100.07754136, 100.07754136,\n       100.07754136, 100.07754136, 100.07754136, 100.07754136,\n       100.07754136, 100.07754136, 100.07754136, 100.07754136,\n       100.07754136, 100.07754136, 100.07754136, 100.07754136,\n       100.07754136, 100.07754136, 100.07754136, 100.07754136,\n       100.07754136, 100.07754136, 100.07754136, 100.07754136,\n       100.07754136, 100.07754136, 100.07754136, 100.07754136,\n       100.07754136, 100.07754136, 100.07754136, 100.07754136,\n       100.07754136, 100.07754136, 100.07754136, 100.07754136,\n       100.07754136, 100.07754136, 100.07754136, 100.07754136,\n       100.07754136, 100.07754136, 100.07754136, 100.07754136,\n       100.07754136, 100.07754136, 100.07754136, 100.07754136,\n       100.07754136, 100.07754136, 100.07754136, 100.07754136,\n       100.07754136, 100.07754136, 100.07754136, 100.07754136,\n       100.07754136, 100.07754136, 100.07754136, 100.07754136,\n       100.07754136, 100.07754136, 100.07754136, 100.07754136,\n       100.07754136, 100.07754136, 100.07754136, 100.07754136,\n       100.07754136, 100.07754136, 100.07754136, 100.07754136,\n       100.07754136, 100.07754136, 100.07754136, 100.07754136,\n       100.07754136, 100.07754136, 100.07754136, 100.07754136,\n       100.07754136, 100.07754136, 100.07754136, 100.07754136,\n       100.07754136, 100.07754136, 100.07754136, 100.07754136,\n       100.07754136, 100.07754136, 100.07754136, 100.07754136,\n       100.07754136, 100.07754136, 100.07754136, 100.07754136,\n       100.07754136, 100.07754136, 100.07754136, 100.07754136,\n       100.07754136, 100.07754136, 100.07754136, 100.07754136,\n       100.07754136, 100.07754136, 100.07754136, 100.07754136,\n       100.07754136, 100.07754136, 100.07754136, 100.07754136,\n       100.07754136, 100.07754136, 100.07754136, 100.07754136,\n       100.07754136, 100.07754136, 100.07754136, 100.07754136,\n       100.07754136, 100.07754136, 100.07754136, 100.07754136,\n       100.07754136, 100.07754136, 100.07754136, 100.07754136,\n       100.07754136, 100.07754136, 100.07754136, 100.07754136,\n       100.07754136, 100.07754136, 100.07754136, 100.07754136,\n       100.07754136, 100.07754136, 100.07754136, 100.07754136,\n       100.07754136, 100.07754136, 100.07754136, 100.07754136,\n       100.07754136, 100.07754136, 100.07754136, 100.07754136,\n       100.07754136, 100.07754136, 100.07754136, 100.07754136,\n       100.07754136, 100.07754136, 100.07754136, 100.07754136,\n       100.07754136, 100.07754136, 100.07754136, 100.07754136,\n       100.07754136, 100.07754136, 100.07754136, 100.07754136,\n       100.07754136, 100.07754136, 100.07754136, 100.07754136,\n       100.07754136, 100.07754136, 100.07754136, 100.07754136,\n       100.07754136, 100.07754136, 100.07754136, 100.07754136,\n       100.07754136, 100.07754136, 100.07754136, 100.07754136,\n       100.07754136, 100.07754136, 100.07754136, 100.07754136,\n       100.07754136, 100.07754136, 100.07754136, 100.07754136,\n       100.07754136, 100.07754136, 100.07754136, 100.07754136,\n       100.07754136, 100.07754136, 100.07754136, 100.07754136,\n       100.07754136, 100.07754136, 100.07754136, 100.07754136,\n       100.07754136, 100.07754136, 100.07754136, 100.07754136,\n       100.07754136, 100.07754136, 100.07754136, 100.07754136,\n       100.07754136, 100.07754136, 100.07754136, 100.07754136,\n       100.07754136, 100.07754136, 100.07754136, 100.07754136,\n       100.07754136, 100.07754136, 100.07754136, 100.07754136,\n       100.07754136, 100.07754136, 100.07754136, 100.07754136,\n       100.07754136, 100.07754136, 100.07754136, 100.07754136,\n       100.07754136, 100.07754136, 100.07754136, 100.07754136,\n       100.07754136, 100.07754136, 100.07754136, 100.07754136,\n       100.07754136, 100.07754136, 100.07754136, 100.07754136,\n       100.07754136, 100.07754136, 100.07754136, 100.07754136,\n       100.07754136, 100.07754136, 100.07754136, 100.07754136,\n       100.07754136, 100.07754136, 100.07754136, 100.07754136,\n       100.07754136, 100.07754136, 100.07754136, 100.07754136,\n       100.07754136, 100.07754136, 100.07754136, 100.07754136,\n       100.07754136, 100.07754136, 100.07754136, 100.07754136,\n       100.07754136, 100.07754136, 100.07754136, 100.07754136,\n       100.07754136, 100.07754136, 100.07754136, 100.07754136,\n       100.07754136, 100.07754136, 100.07754136, 100.07754136,\n       100.07754136, 100.07754136, 100.07754136, 100.07754136,\n       100.07754136, 100.07754136, 100.07754136, 100.07754136,\n       100.07754136, 100.07754136, 100.07754136, 100.07754136,\n       100.07754136, 100.07754136, 100.07754136, 100.07754136,\n       100.07754136, 100.07754136, 100.07754136, 100.07754136,\n       100.07754136, 100.07754136, 100.07754136, 100.07754136,\n       100.07754136, 100.07754136, 100.07754136, 100.07754136,\n       100.07754136, 100.07754136, 100.07754136, 100.07754136,\n       100.07754136, 100.07754136, 100.07754136, 100.07754136,\n       100.07754136, 100.07754136, 100.07754136, 100.07754136,\n       100.07754136, 100.07754136, 100.07754136, 100.07754136,\n       100.07754136, 100.07754136, 100.07754136, 100.07754136,\n       100.07754136, 100.07754136, 100.07754136, 100.07754136,\n       100.07754136, 100.07754136, 100.07754136, 100.07754136,\n       100.07754136, 100.07754136, 100.07754136, 100.07754136,\n       100.07754136, 100.07754136, 100.07754136, 100.07754136,\n       100.07754136, 100.07754136, 100.07754136, 100.07754136,\n       100.07754136, 100.07754136, 100.07754136, 100.07754136,\n       100.07754136, 100.07754136, 100.07754136, 100.07754136,\n       100.07754136, 100.07754136, 100.07754136, 100.07754136,\n       100.07754136, 100.07754136, 100.07754136, 100.07754136,\n       100.07754136, 100.07754136, 100.07754136, 100.07754136,\n       100.07754136, 100.07754136, 100.07754136, 100.07754136,\n       100.07754136, 100.07754136, 100.07754136, 100.07754136,\n       100.07754136, 100.07754136, 100.07754136, 100.07754136,\n       100.07754136, 100.07754136, 100.07754136, 100.07754136,\n       100.07754136, 100.07754136, 100.07754136, 100.07754136,\n       100.07754136, 100.07754136, 100.07754136, 100.07754136,\n       100.07754136, 100.07754136, 100.07754136, 100.07754136,\n       100.07754136, 100.07754136, 100.07754136, 100.07754136,\n       100.07754136, 100.07754136, 100.07754136, 100.07754136,\n       100.07754136, 100.07754136, 100.07754136, 100.07754136,\n       100.07754136, 100.07754136, 100.07754136, 100.07754136,\n       100.07754136, 100.07754136, 100.07754136, 100.07754136,\n       100.07754136, 100.07754136, 100.07754136, 100.07754136,\n       100.07754136, 100.07754136, 100.07754136, 100.07754136,\n       100.07754136, 100.07754136, 100.07754136, 100.07754136,\n       100.07754136, 100.07754136, 100.07754136, 100.07754136,\n       100.07754136, 100.07754136, 100.07754136, 100.07754136,\n       100.07754136, 100.07754136, 100.07754136, 100.07754136,\n       100.07754136, 100.07754136, 100.07754136, 100.07754136,\n       100.07754136, 100.07754136, 100.07754136, 100.07754136,\n       100.07754136, 100.07754136, 100.07754136, 100.07754136,\n       100.07754136, 100.07754136, 100.07754136, 100.07754136,\n       100.07754136, 100.07754136, 100.07754136, 100.07754136,\n       100.07754136, 100.07754136, 100.07754136, 100.07754136,\n       100.07754136, 100.07754136, 100.07754136, 100.07754136,\n       100.07754136, 100.07754136, 100.07754136, 100.07754136,\n       100.07754136, 100.07754136, 100.07754136, 100.07754136,\n       100.07754136, 100.07754136, 100.07754136, 100.07754136,\n       100.07754136, 100.07754136, 100.07754136, 100.07754136,\n       100.07754136, 100.07754136, 100.07754136, 100.07754136,\n       100.07754136, 100.07754136, 100.07754136, 100.07754136,\n       100.07754136, 100.07754136, 100.07754136, 100.07754136,\n       100.07754136, 100.07754136, 100.07754136, 100.07754136,\n       100.07754136, 100.07754136, 100.07754136, 100.07754136,\n       100.07754136, 100.07754136, 100.07754136, 100.07754136,\n       100.07754136, 100.07754136, 100.07754136, 100.07754136,\n       100.07754136, 100.07754136, 100.07754136, 100.07754136,\n       100.07754136, 100.07754136, 100.07754136, 100.07754136,\n       100.07754136, 100.07754136, 100.07754136, 100.07754136,\n       100.07754136, 100.07754136, 100.07754136, 100.07754136,\n       100.07754136, 100.07754136, 100.07754136, 100.07754136,\n       100.07754136, 100.07754136, 100.07754136, 100.07754136,\n       100.07754136, 100.07754136, 100.07754136, 100.07754136,\n       100.07754136, 100.07754136, 100.07754136, 100.07754136,\n       100.07754136, 100.07754136, 100.07754136, 100.07754136,\n       100.07754136, 100.07754136, 100.07754136, 100.07754136,\n       100.07754136, 100.07754136, 100.07754136, 100.07754136,\n       100.07754136, 100.07754136, 100.07754136, 100.07754136,\n       100.07754136, 100.07754136, 100.07754136, 100.07754136,\n       100.07754136, 100.07754136, 100.07754136, 100.07754136,\n       100.07754136, 100.07754136, 100.07754136, 100.07754136,\n       100.07754136, 100.07754136, 100.07754136, 100.07754136,\n       100.07754136, 100.07754136, 100.07754136, 100.07754136,\n       100.07754136, 100.07754136, 100.07754136, 100.07754136,\n       100.07754136, 100.07754136, 100.07754136, 100.07754136,\n       100.07754136, 100.07754136, 100.07754136, 100.07754136,\n       100.07754136, 100.07754136, 100.07754136, 100.07754136,\n       100.07754136, 100.07754136, 100.07754136, 100.07754136,\n       100.07754136, 100.07754136, 100.07754136, 100.07754136,\n       100.07754136, 100.07754136, 100.07754136, 100.07754136,\n       100.07754136, 100.07754136, 100.07754136, 100.07754136,\n       100.07754136, 100.07754136, 100.07754136, 100.07754136,\n       100.07754136, 100.07754136, 100.07754136, 100.07754136,\n       100.07754136, 100.07754136, 100.07754136, 100.07754136,\n       100.07754136, 100.07754136, 100.07754136, 100.07754136,\n       100.07754136, 100.07754136, 100.07754136, 100.07754136,\n       100.07754136, 100.07754136, 100.07754136, 100.07754136,\n       100.07754136, 100.07754136, 100.07754136, 100.07754136,\n       100.07754136, 100.07754136, 100.07754136, 100.07754136,\n       100.07754136, 100.07754136, 100.07754136, 100.07754136,\n       100.07754136, 100.07754136, 100.07754136, 100.07754136,\n       100.07754136, 100.07754136, 100.07754136, 100.07754136,\n       100.07754136, 100.07754136, 100.07754136, 100.07754136,\n       100.07754136, 100.07754136, 100.07754136, 100.07754136,\n       100.07754136, 100.07754136, 100.07754136, 100.07754136,\n       100.07754136, 100.07754136, 100.07754136, 100.07754136,\n       100.07754136, 100.07754136, 100.07754136, 100.07754136,\n       100.07754136, 100.07754136, 100.07754136, 100.07754136,\n       100.07754136, 100.07754136, 100.07754136, 100.07754136,\n       100.07754136, 100.07754136, 100.07754136, 100.07754136,\n       100.07754136, 100.07754136, 100.07754136, 100.07754136,\n       100.07754136, 100.07754136, 100.07754136, 100.07754136,\n       100.07754136, 100.07754136, 100.07754136, 100.07754136,\n       100.07754136, 100.07754136, 100.07754136, 100.07754136,\n       100.07754136, 100.07754136, 100.07754136, 100.07754136,\n       100.07754136, 100.07754136, 100.07754136, 100.07754136,\n       100.07754136, 100.07754136, 100.07754136, 100.07754136,\n       100.07754136, 100.07754136, 100.07754136, 100.07754136,\n       100.07754136, 100.07754136, 100.07754136, 100.07754136,\n       100.07754136, 100.07754136, 100.07754136, 100.07754136])"
       },
       "execution_count": 30,
       "metadata": {},
       "output_type": "execute_result"
      }
     ],
     "persistentId": "c8e4d1cf-62e7-4de8-81fd-7de0a86c2e6b",
     "text": "ForecastPrice"
    },
    "executionTime": "2020-02-04T04:07:57.882Z"
   },
   {
    "cell": {
     "executionCount": 31,
     "executionEventId": "60304d1f-f8a9-4891-8895-1a04d6396738",
     "hasError": false,
     "id": "3d0a8abe-8e16-4280-b599-9b81caa69629",
     "outputs": [
      {
       "data": {
        "text/plain": "array([100.02545648, 100.02545648, 100.02545648, 100.02545648,\n       100.02545648, 100.02545648, 100.02545648, 100.02545648,\n       100.02545648, 100.02545648, 100.02545648, 100.02545648,\n       100.02545648, 100.02545648, 100.02545648, 100.02545648,\n       100.02545648, 100.02545648, 100.02545648, 100.02545648,\n       100.02545648, 100.02545648, 100.02545648, 100.02545648,\n       100.02545648, 100.02545648, 100.02545648, 100.02545648,\n       100.02545648, 100.02545648, 100.02545648, 100.02545648,\n       100.02545648, 100.02545648, 100.02545648, 100.02545648,\n       100.02545648, 100.02545648, 100.02545648, 100.02545648,\n       100.02545648, 100.02545648, 100.02545648, 100.02545648,\n       100.02545648, 100.02545648, 100.02545648, 100.02545648,\n       100.02545648, 100.02545648, 100.02545648, 100.02545648,\n       100.02545648, 100.02545648, 100.02545648, 100.02545648,\n       100.02545648, 100.02545648, 100.02545648, 100.02545648,\n       100.02545648, 100.02545648, 100.02545648, 100.02545648,\n       100.02545648, 100.02545648, 100.02545648, 100.02545648,\n       100.02545648, 100.02545648, 100.02545648, 100.02545648,\n       100.02545648, 100.02545648, 100.02545648, 100.02545648,\n       100.02545648, 100.02545648, 100.02545648, 100.02545648,\n       100.02545648, 100.02545648, 100.02545648, 100.02545648,\n       100.02545648, 100.02545648, 100.02545648, 100.02545648,\n       100.02545648, 100.02545648, 100.02545648, 100.02545648,\n       100.02545648, 100.02545648, 100.02545648, 100.02545648,\n       100.02545648, 100.02545648, 100.02545648, 100.02545648,\n       100.02545648, 100.02545648, 100.02545648, 100.02545648,\n       100.02545648, 100.02545648, 100.02545648, 100.02545648,\n       100.02545648, 100.02545648, 100.02545648, 100.02545648,\n       100.02545648, 100.02545648, 100.02545648, 100.02545648,\n       100.02545648, 100.02545648, 100.02545648, 100.02545648,\n       100.02545648, 100.02545648, 100.02545648, 100.02545648,\n       100.02545648, 100.02545648, 100.02545648, 100.02545648,\n       100.02545648, 100.02545648, 100.02545648, 100.02545648,\n       100.02545648, 100.02545648, 100.02545648, 100.02545648,\n       100.02545648, 100.02545648, 100.02545648, 100.02545648,\n       100.02545648, 100.02545648, 100.02545648, 100.02545648,\n       100.02545648, 100.02545648, 100.02545648, 100.02545648,\n       100.02545648, 100.02545648, 100.02545648, 100.02545648,\n       100.02545648, 100.02545648, 100.02545648, 100.02545648,\n       100.02545648, 100.02545648, 100.02545648, 100.02545648,\n       100.02545648, 100.02545648, 100.02545648, 100.02545648,\n       100.02545648, 100.02545648, 100.02545648, 100.02545648,\n       100.02545648, 100.02545648, 100.02545648, 100.02545648,\n       100.02545648, 100.02545648, 100.02545648, 100.02545648,\n       100.02545648, 100.02545648, 100.02545648, 100.02545648,\n       100.02545648, 100.02545648, 100.02545648, 100.02545648,\n       100.02545648, 100.02545648, 100.02545648, 100.02545648,\n       100.02545648, 100.02545648, 100.02545648, 100.02545648,\n       100.02545648, 100.02545648, 100.02545648, 100.02545648,\n       100.02545648, 100.02545648, 100.02545648, 100.02545648,\n       100.02545648, 100.02545648, 100.02545648, 100.02545648,\n       100.02545648, 100.02545648, 100.02545648, 100.02545648,\n       100.02545648, 100.02545648, 100.02545648, 100.02545648,\n       100.02545648, 100.02545648, 100.02545648, 100.02545648,\n       100.02545648, 100.02545648, 100.02545648, 100.02545648,\n       100.02545648, 100.02545648, 100.02545648, 100.02545648,\n       100.02545648, 100.02545648, 100.02545648, 100.02545648,\n       100.02545648, 100.02545648, 100.02545648, 100.02545648,\n       100.02545648, 100.02545648, 100.02545648, 100.02545648,\n       100.02545648, 100.02545648, 100.02545648, 100.02545648,\n       100.02545648, 100.02545648, 100.02545648, 100.02545648,\n       100.02545648, 100.02545648, 100.02545648, 100.02545648,\n       100.02545648, 100.02545648, 100.02545648, 100.02545648,\n       100.02545648, 100.02545648, 100.02545648, 100.02545648,\n       100.02545648, 100.02545648, 100.02545648, 100.02545648,\n       100.02545648, 100.02545648, 100.02545648, 100.02545648,\n       100.02545648, 100.02545648, 100.02545648, 100.02545648,\n       100.02545648, 100.02545648, 100.02545648, 100.02545648,\n       100.02545648, 100.02545648, 100.02545648, 100.02545648,\n       100.02545648, 100.02545648, 100.02545648, 100.02545648,\n       100.02545648, 100.02545648, 100.02545648, 100.02545648,\n       100.02545648, 100.02545648, 100.02545648, 100.02545648,\n       100.02545648, 100.02545648, 100.02545648, 100.02545648,\n       100.02545648, 100.02545648, 100.02545648, 100.02545648,\n       100.02545648, 100.02545648, 100.02545648, 100.02545648,\n       100.02545648, 100.02545648, 100.02545648, 100.02545648,\n       100.02545648, 100.02545648, 100.02545648, 100.02545648,\n       100.02545648, 100.02545648, 100.02545648, 100.02545648,\n       100.02545648, 100.02545648, 100.02545648, 100.02545648,\n       100.02545648, 100.02545648, 100.02545648, 100.02545648,\n       100.02545648, 100.02545648, 100.02545648, 100.02545648,\n       100.02545648, 100.02545648, 100.02545648, 100.02545648,\n       100.02545648, 100.02545648, 100.02545648, 100.02545648,\n       100.02545648, 100.02545648, 100.02545648, 100.02545648,\n       100.02545648, 100.02545648, 100.02545648, 100.02545648,\n       100.02545648, 100.02545648, 100.02545648, 100.02545648,\n       100.02545648, 100.02545648, 100.02545648, 100.02545648,\n       100.02545648, 100.02545648, 100.02545648, 100.02545648,\n       100.02545648, 100.02545648, 100.02545648, 100.02545648,\n       100.02545648, 100.02545648, 100.02545648, 100.02545648,\n       100.02545648, 100.02545648, 100.02545648, 100.02545648,\n       100.02545648, 100.02545648, 100.02545648, 100.02545648,\n       100.02545648, 100.02545648, 100.02545648, 100.02545648,\n       100.02545648, 100.02545648, 100.02545648, 100.02545648,\n       100.02545648, 100.02545648, 100.02545648, 100.02545648,\n       100.02545648, 100.02545648, 100.02545648, 100.02545648,\n       100.02545648, 100.02545648, 100.02545648, 100.02545648,\n       100.02545648, 100.02545648, 100.02545648, 100.02545648,\n       100.02545648, 100.02545648, 100.02545648, 100.02545648,\n       100.02545648, 100.02545648, 100.02545648, 100.02545648,\n       100.02545648, 100.02545648, 100.02545648, 100.02545648,\n       100.02545648, 100.02545648, 100.02545648, 100.02545648,\n       100.02545648, 100.02545648, 100.02545648, 100.02545648,\n       100.02545648, 100.02545648, 100.02545648, 100.02545648,\n       100.02545648, 100.02545648, 100.02545648, 100.02545648,\n       100.02545648, 100.02545648, 100.02545648, 100.02545648,\n       100.02545648, 100.02545648, 100.02545648, 100.02545648,\n       100.02545648, 100.02545648, 100.02545648, 100.02545648,\n       100.02545648, 100.02545648, 100.02545648, 100.02545648,\n       100.02545648, 100.02545648, 100.02545648, 100.02545648,\n       100.02545648, 100.02545648, 100.02545648, 100.02545648,\n       100.02545648, 100.02545648, 100.02545648, 100.02545648,\n       100.02545648, 100.02545648, 100.02545648, 100.02545648,\n       100.02545648, 100.02545648, 100.02545648, 100.02545648,\n       100.02545648, 100.02545648, 100.02545648, 100.02545648,\n       100.02545648, 100.02545648, 100.02545648, 100.02545648,\n       100.02545648, 100.02545648, 100.02545648, 100.02545648,\n       100.02545648, 100.02545648, 100.02545648, 100.02545648,\n       100.02545648, 100.02545648, 100.02545648, 100.02545648,\n       100.02545648, 100.02545648, 100.02545648, 100.02545648,\n       100.02545648, 100.02545648, 100.02545648, 100.02545648,\n       100.02545648, 100.02545648, 100.02545648, 100.02545648,\n       100.02545648, 100.02545648, 100.02545648, 100.02545648,\n       100.02545648, 100.02545648, 100.02545648, 100.02545648,\n       100.02545648, 100.02545648, 100.02545648, 100.02545648,\n       100.02545648, 100.02545648, 100.02545648, 100.02545648,\n       100.02545648, 100.02545648, 100.02545648, 100.02545648,\n       100.02545648, 100.02545648, 100.02545648, 100.02545648,\n       100.02545648, 100.02545648, 100.02545648, 100.02545648,\n       100.02545648, 100.02545648, 100.02545648, 100.02545648,\n       100.02545648, 100.02545648, 100.02545648, 100.02545648,\n       100.02545648, 100.02545648, 100.02545648, 100.02545648,\n       100.02545648, 100.02545648, 100.02545648, 100.02545648,\n       100.02545648, 100.02545648, 100.02545648, 100.02545648,\n       100.02545648, 100.02545648, 100.02545648, 100.02545648,\n       100.02545648, 100.02545648, 100.02545648, 100.02545648,\n       100.02545648, 100.02545648, 100.02545648, 100.02545648,\n       100.02545648, 100.02545648, 100.02545648, 100.02545648,\n       100.02545648, 100.02545648, 100.02545648, 100.02545648,\n       100.02545648, 100.02545648, 100.02545648, 100.02545648,\n       100.02545648, 100.02545648, 100.02545648, 100.02545648,\n       100.02545648, 100.02545648, 100.02545648, 100.02545648,\n       100.02545648, 100.02545648, 100.02545648, 100.02545648,\n       100.02545648, 100.02545648, 100.02545648, 100.02545648,\n       100.02545648, 100.02545648, 100.02545648, 100.02545648,\n       100.02545648, 100.02545648, 100.02545648, 100.02545648,\n       100.02545648, 100.02545648, 100.02545648, 100.02545648,\n       100.02545648, 100.02545648, 100.02545648, 100.02545648,\n       100.02545648, 100.02545648, 100.02545648, 100.02545648,\n       100.02545648, 100.02545648, 100.02545648, 100.02545648,\n       100.02545648, 100.02545648, 100.02545648, 100.02545648,\n       100.02545648, 100.02545648, 100.02545648, 100.02545648,\n       100.02545648, 100.02545648, 100.02545648, 100.02545648,\n       100.02545648, 100.02545648, 100.02545648, 100.02545648,\n       100.02545648, 100.02545648, 100.02545648, 100.02545648,\n       100.02545648, 100.02545648, 100.02545648, 100.02545648,\n       100.02545648, 100.02545648, 100.02545648, 100.02545648,\n       100.02545648, 100.02545648, 100.02545648, 100.02545648,\n       100.02545648, 100.02545648, 100.02545648, 100.02545648,\n       100.02545648, 100.02545648, 100.02545648, 100.02545648,\n       100.02545648, 100.02545648, 100.02545648, 100.02545648,\n       100.02545648, 100.02545648, 100.02545648, 100.02545648,\n       100.02545648, 100.02545648, 100.02545648, 100.02545648,\n       100.02545648, 100.02545648, 100.02545648, 100.02545648,\n       100.02545648, 100.02545648, 100.02545648, 100.02545648,\n       100.02545648, 100.02545648, 100.02545648, 100.02545648,\n       100.02545648, 100.02545648, 100.02545648, 100.02545648,\n       100.02545648, 100.02545648, 100.02545648, 100.02545648,\n       100.02545648, 100.02545648, 100.02545648, 100.02545648,\n       100.02545648, 100.02545648, 100.02545648, 100.02545648,\n       100.02545648, 100.02545648, 100.02545648, 100.02545648,\n       100.02545648, 100.02545648, 100.02545648, 100.02545648,\n       100.02545648, 100.02545648, 100.02545648, 100.02545648,\n       100.02545648, 100.02545648, 100.02545648, 100.02545648,\n       100.02545648, 100.02545648, 100.02545648, 100.02545648,\n       100.02545648, 100.02545648, 100.02545648, 100.02545648,\n       100.02545648, 100.02545648, 100.02545648, 100.02545648,\n       100.02545648, 100.02545648, 100.02545648, 100.02545648,\n       100.02545648, 100.02545648, 100.02545648, 100.02545648,\n       100.02545648, 100.02545648, 100.02545648, 100.02545648,\n       100.02545648, 100.02545648, 100.02545648, 100.02545648,\n       100.02545648, 100.02545648, 100.02545648, 100.02545648,\n       100.02545648, 100.02545648, 100.02545648, 100.02545648,\n       100.02545648, 100.02545648, 100.02545648, 100.02545648,\n       100.02545648, 100.02545648, 100.02545648, 100.02545648,\n       100.02545648, 100.02545648, 100.02545648, 100.02545648,\n       100.02545648, 100.02545648, 100.02545648, 100.02545648,\n       100.02545648, 100.02545648, 100.02545648, 100.02545648,\n       100.02545648, 100.02545648, 100.02545648, 100.02545648,\n       100.02545648, 100.02545648, 100.02545648, 100.02545648,\n       100.02545648, 100.02545648, 100.02545648, 100.02545648,\n       100.02545648, 100.02545648, 100.02545648, 100.02545648,\n       100.02545648, 100.02545648, 100.02545648, 100.02545648,\n       100.02545648, 100.02545648, 100.02545648, 100.02545648,\n       100.02545648, 100.02545648, 100.02545648, 100.02545648,\n       100.02545648, 100.02545648, 100.02545648, 100.02545648,\n       100.02545648, 100.02545648, 100.02545648, 100.02545648,\n       100.02545648, 100.02545648, 100.02545648, 100.02545648,\n       100.02545648, 100.02545648, 100.02545648, 100.02545648,\n       100.02545648, 100.02545648, 100.02545648, 100.02545648,\n       100.02545648, 100.02545648, 100.02545648, 100.02545648,\n       100.02545648, 100.02545648, 100.02545648, 100.02545648,\n       100.02545648, 100.02545648, 100.02545648, 100.02545648,\n       100.02545648, 100.02545648, 100.02545648, 100.02545648,\n       100.02545648, 100.02545648, 100.02545648, 100.02545648,\n       100.02545648, 100.02545648, 100.02545648, 100.02545648,\n       100.02545648, 100.02545648, 100.02545648, 100.02545648,\n       100.02545648, 100.02545648, 100.02545648, 100.02545648,\n       100.02545648, 100.02545648, 100.02545648, 100.02545648,\n       100.02545648, 100.02545648, 100.02545648, 100.02545648,\n       100.02545648, 100.02545648, 100.02545648, 100.02545648,\n       100.02545648, 100.02545648, 100.02545648, 100.02545648,\n       100.02545648, 100.02545648, 100.02545648, 100.02545648,\n       100.02545648, 100.02545648, 100.02545648, 100.02545648,\n       100.02545648, 100.02545648, 100.02545648, 100.02545648,\n       100.02545648, 100.02545648, 100.02545648, 100.02545648,\n       100.02545648, 100.02545648, 100.02545648, 100.02545648,\n       100.02545648, 100.02545648, 100.02545648, 100.02545648,\n       100.02545648, 100.02545648, 100.02545648, 100.02545648,\n       100.02545648, 100.02545648, 100.02545648, 100.02545648,\n       100.02545648, 100.02545648, 100.02545648, 100.02545648,\n       100.02545648, 100.02545648, 100.02545648, 100.02545648,\n       100.02545648, 100.02545648, 100.02545648, 100.02545648,\n       100.02545648, 100.02545648, 100.02545648, 100.02545648,\n       100.02545648, 100.02545648, 100.02545648, 100.02545648,\n       100.02545648, 100.02545648, 100.02545648, 100.02545648,\n       100.02545648, 100.02545648, 100.02545648, 100.02545648,\n       100.02545648, 100.02545648, 100.02545648, 100.02545648,\n       100.02545648, 100.02545648, 100.02545648, 100.02545648,\n       100.02545648, 100.02545648, 100.02545648, 100.02545648,\n       100.02545648, 100.02545648, 100.02545648, 100.02545648,\n       100.02545648, 100.02545648, 100.02545648, 100.02545648,\n       100.02545648, 100.02545648, 100.02545648, 100.02545648,\n       100.02545648, 100.02545648, 100.02545648, 100.02545648,\n       100.02545648, 100.02545648, 100.02545648, 100.02545648,\n       100.02545648, 100.02545648, 100.02545648, 100.02545648,\n       100.02545648, 100.02545648, 100.02545648, 100.02545648,\n       100.02545648, 100.02545648, 100.02545648, 100.02545648,\n       100.02545648, 100.02545648, 100.02545648, 100.02545648,\n       100.02545648, 100.02545648, 100.02545648, 100.02545648,\n       100.02545648, 100.02545648, 100.02545648, 100.02545648,\n       100.02545648, 100.02545648, 100.02545648, 100.02545648,\n       100.02545648, 100.02545648, 100.02545648, 100.02545648,\n       100.02545648, 100.02545648, 100.02545648, 100.02545648,\n       100.02545648, 100.02545648, 100.02545648, 100.02545648,\n       100.02545648, 100.02545648, 100.02545648, 100.02545648,\n       100.02545648, 100.02545648, 100.02545648, 100.02545648,\n       100.02545648, 100.02545648, 100.02545648, 100.02545648,\n       100.02545648, 100.02545648, 100.02545648, 100.02545648,\n       100.02545648, 100.02545648, 100.02545648, 100.02545648])"
       },
       "execution_count": 31,
       "metadata": {},
       "output_type": "execute_result"
      }
     ],
     "persistentId": "513685a0-1840-4d95-962c-126ef9148c2b",
     "text": "np.random.seed(42)\nForecastPrice = np.repeat(oneForecast(), 1000)\nForecastPrice"
    },
    "executionTime": "2020-02-04T04:08:27.905Z"
   },
   {
    "cell": {
     "executionCount": 32,
     "executionEventId": "415f4c3a-80a6-41a6-96ec-ae185a752415",
     "hasError": false,
     "id": "3d0a8abe-8e16-4280-b599-9b81caa69629",
     "outputs": [
      {
       "data": {
        "text/plain": "array([99.94412923, 99.94412923, 99.94412923, 99.94412923, 99.94412923,\n       99.94412923, 99.94412923, 99.94412923, 99.94412923, 99.94412923,\n       99.94412923, 99.94412923, 99.94412923, 99.94412923, 99.94412923,\n       99.94412923, 99.94412923, 99.94412923, 99.94412923, 99.94412923,\n       99.94412923, 99.94412923, 99.94412923, 99.94412923, 99.94412923,\n       99.94412923, 99.94412923, 99.94412923, 99.94412923, 99.94412923,\n       99.94412923, 99.94412923, 99.94412923, 99.94412923, 99.94412923,\n       99.94412923, 99.94412923, 99.94412923, 99.94412923, 99.94412923,\n       99.94412923, 99.94412923, 99.94412923, 99.94412923, 99.94412923,\n       99.94412923, 99.94412923, 99.94412923, 99.94412923, 99.94412923,\n       99.94412923, 99.94412923, 99.94412923, 99.94412923, 99.94412923,\n       99.94412923, 99.94412923, 99.94412923, 99.94412923, 99.94412923,\n       99.94412923, 99.94412923, 99.94412923, 99.94412923, 99.94412923,\n       99.94412923, 99.94412923, 99.94412923, 99.94412923, 99.94412923,\n       99.94412923, 99.94412923, 99.94412923, 99.94412923, 99.94412923,\n       99.94412923, 99.94412923, 99.94412923, 99.94412923, 99.94412923,\n       99.94412923, 99.94412923, 99.94412923, 99.94412923, 99.94412923,\n       99.94412923, 99.94412923, 99.94412923, 99.94412923, 99.94412923,\n       99.94412923, 99.94412923, 99.94412923, 99.94412923, 99.94412923,\n       99.94412923, 99.94412923, 99.94412923, 99.94412923, 99.94412923,\n       99.94412923, 99.94412923, 99.94412923, 99.94412923, 99.94412923,\n       99.94412923, 99.94412923, 99.94412923, 99.94412923, 99.94412923,\n       99.94412923, 99.94412923, 99.94412923, 99.94412923, 99.94412923,\n       99.94412923, 99.94412923, 99.94412923, 99.94412923, 99.94412923,\n       99.94412923, 99.94412923, 99.94412923, 99.94412923, 99.94412923,\n       99.94412923, 99.94412923, 99.94412923, 99.94412923, 99.94412923,\n       99.94412923, 99.94412923, 99.94412923, 99.94412923, 99.94412923,\n       99.94412923, 99.94412923, 99.94412923, 99.94412923, 99.94412923,\n       99.94412923, 99.94412923, 99.94412923, 99.94412923, 99.94412923,\n       99.94412923, 99.94412923, 99.94412923, 99.94412923, 99.94412923,\n       99.94412923, 99.94412923, 99.94412923, 99.94412923, 99.94412923,\n       99.94412923, 99.94412923, 99.94412923, 99.94412923, 99.94412923,\n       99.94412923, 99.94412923, 99.94412923, 99.94412923, 99.94412923,\n       99.94412923, 99.94412923, 99.94412923, 99.94412923, 99.94412923,\n       99.94412923, 99.94412923, 99.94412923, 99.94412923, 99.94412923,\n       99.94412923, 99.94412923, 99.94412923, 99.94412923, 99.94412923,\n       99.94412923, 99.94412923, 99.94412923, 99.94412923, 99.94412923,\n       99.94412923, 99.94412923, 99.94412923, 99.94412923, 99.94412923,\n       99.94412923, 99.94412923, 99.94412923, 99.94412923, 99.94412923,\n       99.94412923, 99.94412923, 99.94412923, 99.94412923, 99.94412923,\n       99.94412923, 99.94412923, 99.94412923, 99.94412923, 99.94412923,\n       99.94412923, 99.94412923, 99.94412923, 99.94412923, 99.94412923,\n       99.94412923, 99.94412923, 99.94412923, 99.94412923, 99.94412923,\n       99.94412923, 99.94412923, 99.94412923, 99.94412923, 99.94412923,\n       99.94412923, 99.94412923, 99.94412923, 99.94412923, 99.94412923,\n       99.94412923, 99.94412923, 99.94412923, 99.94412923, 99.94412923,\n       99.94412923, 99.94412923, 99.94412923, 99.94412923, 99.94412923,\n       99.94412923, 99.94412923, 99.94412923, 99.94412923, 99.94412923,\n       99.94412923, 99.94412923, 99.94412923, 99.94412923, 99.94412923,\n       99.94412923, 99.94412923, 99.94412923, 99.94412923, 99.94412923,\n       99.94412923, 99.94412923, 99.94412923, 99.94412923, 99.94412923,\n       99.94412923, 99.94412923, 99.94412923, 99.94412923, 99.94412923,\n       99.94412923, 99.94412923, 99.94412923, 99.94412923, 99.94412923,\n       99.94412923, 99.94412923, 99.94412923, 99.94412923, 99.94412923,\n       99.94412923, 99.94412923, 99.94412923, 99.94412923, 99.94412923,\n       99.94412923, 99.94412923, 99.94412923, 99.94412923, 99.94412923,\n       99.94412923, 99.94412923, 99.94412923, 99.94412923, 99.94412923,\n       99.94412923, 99.94412923, 99.94412923, 99.94412923, 99.94412923,\n       99.94412923, 99.94412923, 99.94412923, 99.94412923, 99.94412923,\n       99.94412923, 99.94412923, 99.94412923, 99.94412923, 99.94412923,\n       99.94412923, 99.94412923, 99.94412923, 99.94412923, 99.94412923,\n       99.94412923, 99.94412923, 99.94412923, 99.94412923, 99.94412923,\n       99.94412923, 99.94412923, 99.94412923, 99.94412923, 99.94412923,\n       99.94412923, 99.94412923, 99.94412923, 99.94412923, 99.94412923,\n       99.94412923, 99.94412923, 99.94412923, 99.94412923, 99.94412923,\n       99.94412923, 99.94412923, 99.94412923, 99.94412923, 99.94412923,\n       99.94412923, 99.94412923, 99.94412923, 99.94412923, 99.94412923,\n       99.94412923, 99.94412923, 99.94412923, 99.94412923, 99.94412923,\n       99.94412923, 99.94412923, 99.94412923, 99.94412923, 99.94412923,\n       99.94412923, 99.94412923, 99.94412923, 99.94412923, 99.94412923,\n       99.94412923, 99.94412923, 99.94412923, 99.94412923, 99.94412923,\n       99.94412923, 99.94412923, 99.94412923, 99.94412923, 99.94412923,\n       99.94412923, 99.94412923, 99.94412923, 99.94412923, 99.94412923,\n       99.94412923, 99.94412923, 99.94412923, 99.94412923, 99.94412923,\n       99.94412923, 99.94412923, 99.94412923, 99.94412923, 99.94412923,\n       99.94412923, 99.94412923, 99.94412923, 99.94412923, 99.94412923,\n       99.94412923, 99.94412923, 99.94412923, 99.94412923, 99.94412923,\n       99.94412923, 99.94412923, 99.94412923, 99.94412923, 99.94412923,\n       99.94412923, 99.94412923, 99.94412923, 99.94412923, 99.94412923,\n       99.94412923, 99.94412923, 99.94412923, 99.94412923, 99.94412923,\n       99.94412923, 99.94412923, 99.94412923, 99.94412923, 99.94412923,\n       99.94412923, 99.94412923, 99.94412923, 99.94412923, 99.94412923,\n       99.94412923, 99.94412923, 99.94412923, 99.94412923, 99.94412923,\n       99.94412923, 99.94412923, 99.94412923, 99.94412923, 99.94412923,\n       99.94412923, 99.94412923, 99.94412923, 99.94412923, 99.94412923,\n       99.94412923, 99.94412923, 99.94412923, 99.94412923, 99.94412923,\n       99.94412923, 99.94412923, 99.94412923, 99.94412923, 99.94412923,\n       99.94412923, 99.94412923, 99.94412923, 99.94412923, 99.94412923,\n       99.94412923, 99.94412923, 99.94412923, 99.94412923, 99.94412923,\n       99.94412923, 99.94412923, 99.94412923, 99.94412923, 99.94412923,\n       99.94412923, 99.94412923, 99.94412923, 99.94412923, 99.94412923,\n       99.94412923, 99.94412923, 99.94412923, 99.94412923, 99.94412923,\n       99.94412923, 99.94412923, 99.94412923, 99.94412923, 99.94412923,\n       99.94412923, 99.94412923, 99.94412923, 99.94412923, 99.94412923,\n       99.94412923, 99.94412923, 99.94412923, 99.94412923, 99.94412923,\n       99.94412923, 99.94412923, 99.94412923, 99.94412923, 99.94412923,\n       99.94412923, 99.94412923, 99.94412923, 99.94412923, 99.94412923,\n       99.94412923, 99.94412923, 99.94412923, 99.94412923, 99.94412923,\n       99.94412923, 99.94412923, 99.94412923, 99.94412923, 99.94412923,\n       99.94412923, 99.94412923, 99.94412923, 99.94412923, 99.94412923,\n       99.94412923, 99.94412923, 99.94412923, 99.94412923, 99.94412923,\n       99.94412923, 99.94412923, 99.94412923, 99.94412923, 99.94412923,\n       99.94412923, 99.94412923, 99.94412923, 99.94412923, 99.94412923,\n       99.94412923, 99.94412923, 99.94412923, 99.94412923, 99.94412923,\n       99.94412923, 99.94412923, 99.94412923, 99.94412923, 99.94412923,\n       99.94412923, 99.94412923, 99.94412923, 99.94412923, 99.94412923,\n       99.94412923, 99.94412923, 99.94412923, 99.94412923, 99.94412923,\n       99.94412923, 99.94412923, 99.94412923, 99.94412923, 99.94412923,\n       99.94412923, 99.94412923, 99.94412923, 99.94412923, 99.94412923,\n       99.94412923, 99.94412923, 99.94412923, 99.94412923, 99.94412923,\n       99.94412923, 99.94412923, 99.94412923, 99.94412923, 99.94412923,\n       99.94412923, 99.94412923, 99.94412923, 99.94412923, 99.94412923,\n       99.94412923, 99.94412923, 99.94412923, 99.94412923, 99.94412923,\n       99.94412923, 99.94412923, 99.94412923, 99.94412923, 99.94412923,\n       99.94412923, 99.94412923, 99.94412923, 99.94412923, 99.94412923,\n       99.94412923, 99.94412923, 99.94412923, 99.94412923, 99.94412923,\n       99.94412923, 99.94412923, 99.94412923, 99.94412923, 99.94412923,\n       99.94412923, 99.94412923, 99.94412923, 99.94412923, 99.94412923,\n       99.94412923, 99.94412923, 99.94412923, 99.94412923, 99.94412923,\n       99.94412923, 99.94412923, 99.94412923, 99.94412923, 99.94412923,\n       99.94412923, 99.94412923, 99.94412923, 99.94412923, 99.94412923,\n       99.94412923, 99.94412923, 99.94412923, 99.94412923, 99.94412923,\n       99.94412923, 99.94412923, 99.94412923, 99.94412923, 99.94412923,\n       99.94412923, 99.94412923, 99.94412923, 99.94412923, 99.94412923,\n       99.94412923, 99.94412923, 99.94412923, 99.94412923, 99.94412923,\n       99.94412923, 99.94412923, 99.94412923, 99.94412923, 99.94412923,\n       99.94412923, 99.94412923, 99.94412923, 99.94412923, 99.94412923,\n       99.94412923, 99.94412923, 99.94412923, 99.94412923, 99.94412923,\n       99.94412923, 99.94412923, 99.94412923, 99.94412923, 99.94412923,\n       99.94412923, 99.94412923, 99.94412923, 99.94412923, 99.94412923,\n       99.94412923, 99.94412923, 99.94412923, 99.94412923, 99.94412923,\n       99.94412923, 99.94412923, 99.94412923, 99.94412923, 99.94412923,\n       99.94412923, 99.94412923, 99.94412923, 99.94412923, 99.94412923,\n       99.94412923, 99.94412923, 99.94412923, 99.94412923, 99.94412923,\n       99.94412923, 99.94412923, 99.94412923, 99.94412923, 99.94412923,\n       99.94412923, 99.94412923, 99.94412923, 99.94412923, 99.94412923,\n       99.94412923, 99.94412923, 99.94412923, 99.94412923, 99.94412923,\n       99.94412923, 99.94412923, 99.94412923, 99.94412923, 99.94412923,\n       99.94412923, 99.94412923, 99.94412923, 99.94412923, 99.94412923,\n       99.94412923, 99.94412923, 99.94412923, 99.94412923, 99.94412923,\n       99.94412923, 99.94412923, 99.94412923, 99.94412923, 99.94412923,\n       99.94412923, 99.94412923, 99.94412923, 99.94412923, 99.94412923,\n       99.94412923, 99.94412923, 99.94412923, 99.94412923, 99.94412923,\n       99.94412923, 99.94412923, 99.94412923, 99.94412923, 99.94412923,\n       99.94412923, 99.94412923, 99.94412923, 99.94412923, 99.94412923,\n       99.94412923, 99.94412923, 99.94412923, 99.94412923, 99.94412923,\n       99.94412923, 99.94412923, 99.94412923, 99.94412923, 99.94412923,\n       99.94412923, 99.94412923, 99.94412923, 99.94412923, 99.94412923,\n       99.94412923, 99.94412923, 99.94412923, 99.94412923, 99.94412923,\n       99.94412923, 99.94412923, 99.94412923, 99.94412923, 99.94412923,\n       99.94412923, 99.94412923, 99.94412923, 99.94412923, 99.94412923,\n       99.94412923, 99.94412923, 99.94412923, 99.94412923, 99.94412923,\n       99.94412923, 99.94412923, 99.94412923, 99.94412923, 99.94412923,\n       99.94412923, 99.94412923, 99.94412923, 99.94412923, 99.94412923,\n       99.94412923, 99.94412923, 99.94412923, 99.94412923, 99.94412923,\n       99.94412923, 99.94412923, 99.94412923, 99.94412923, 99.94412923,\n       99.94412923, 99.94412923, 99.94412923, 99.94412923, 99.94412923,\n       99.94412923, 99.94412923, 99.94412923, 99.94412923, 99.94412923,\n       99.94412923, 99.94412923, 99.94412923, 99.94412923, 99.94412923,\n       99.94412923, 99.94412923, 99.94412923, 99.94412923, 99.94412923,\n       99.94412923, 99.94412923, 99.94412923, 99.94412923, 99.94412923,\n       99.94412923, 99.94412923, 99.94412923, 99.94412923, 99.94412923,\n       99.94412923, 99.94412923, 99.94412923, 99.94412923, 99.94412923,\n       99.94412923, 99.94412923, 99.94412923, 99.94412923, 99.94412923,\n       99.94412923, 99.94412923, 99.94412923, 99.94412923, 99.94412923,\n       99.94412923, 99.94412923, 99.94412923, 99.94412923, 99.94412923,\n       99.94412923, 99.94412923, 99.94412923, 99.94412923, 99.94412923,\n       99.94412923, 99.94412923, 99.94412923, 99.94412923, 99.94412923,\n       99.94412923, 99.94412923, 99.94412923, 99.94412923, 99.94412923,\n       99.94412923, 99.94412923, 99.94412923, 99.94412923, 99.94412923,\n       99.94412923, 99.94412923, 99.94412923, 99.94412923, 99.94412923,\n       99.94412923, 99.94412923, 99.94412923, 99.94412923, 99.94412923,\n       99.94412923, 99.94412923, 99.94412923, 99.94412923, 99.94412923,\n       99.94412923, 99.94412923, 99.94412923, 99.94412923, 99.94412923,\n       99.94412923, 99.94412923, 99.94412923, 99.94412923, 99.94412923,\n       99.94412923, 99.94412923, 99.94412923, 99.94412923, 99.94412923,\n       99.94412923, 99.94412923, 99.94412923, 99.94412923, 99.94412923,\n       99.94412923, 99.94412923, 99.94412923, 99.94412923, 99.94412923,\n       99.94412923, 99.94412923, 99.94412923, 99.94412923, 99.94412923,\n       99.94412923, 99.94412923, 99.94412923, 99.94412923, 99.94412923,\n       99.94412923, 99.94412923, 99.94412923, 99.94412923, 99.94412923,\n       99.94412923, 99.94412923, 99.94412923, 99.94412923, 99.94412923,\n       99.94412923, 99.94412923, 99.94412923, 99.94412923, 99.94412923,\n       99.94412923, 99.94412923, 99.94412923, 99.94412923, 99.94412923,\n       99.94412923, 99.94412923, 99.94412923, 99.94412923, 99.94412923,\n       99.94412923, 99.94412923, 99.94412923, 99.94412923, 99.94412923,\n       99.94412923, 99.94412923, 99.94412923, 99.94412923, 99.94412923,\n       99.94412923, 99.94412923, 99.94412923, 99.94412923, 99.94412923,\n       99.94412923, 99.94412923, 99.94412923, 99.94412923, 99.94412923,\n       99.94412923, 99.94412923, 99.94412923, 99.94412923, 99.94412923,\n       99.94412923, 99.94412923, 99.94412923, 99.94412923, 99.94412923,\n       99.94412923, 99.94412923, 99.94412923, 99.94412923, 99.94412923,\n       99.94412923, 99.94412923, 99.94412923, 99.94412923, 99.94412923,\n       99.94412923, 99.94412923, 99.94412923, 99.94412923, 99.94412923,\n       99.94412923, 99.94412923, 99.94412923, 99.94412923, 99.94412923,\n       99.94412923, 99.94412923, 99.94412923, 99.94412923, 99.94412923,\n       99.94412923, 99.94412923, 99.94412923, 99.94412923, 99.94412923,\n       99.94412923, 99.94412923, 99.94412923, 99.94412923, 99.94412923,\n       99.94412923, 99.94412923, 99.94412923, 99.94412923, 99.94412923,\n       99.94412923, 99.94412923, 99.94412923, 99.94412923, 99.94412923])"
       },
       "execution_count": 32,
       "metadata": {},
       "output_type": "execute_result"
      }
     ],
     "persistentId": "513685a0-1840-4d95-962c-126ef9148c2b",
     "text": "ForecastPrice = np.repeat(oneForecast(), 1000)\nForecastPrice"
    },
    "executionTime": "2020-02-04T04:08:35.778Z"
   },
   {
    "cell": {
     "executionCount": 33,
     "executionEventId": "bd80f356-0594-41ce-bf51-3d2de848b397",
     "hasError": false,
     "id": "3d0a8abe-8e16-4280-b599-9b81caa69629",
     "outputs": [
      {
       "data": {
        "text/plain": "array([99.99074942, 99.99074942, 99.99074942, 99.99074942, 99.99074942,\n       99.99074942, 99.99074942, 99.99074942, 99.99074942, 99.99074942,\n       99.99074942, 99.99074942, 99.99074942, 99.99074942, 99.99074942,\n       99.99074942, 99.99074942, 99.99074942, 99.99074942, 99.99074942,\n       99.99074942, 99.99074942, 99.99074942, 99.99074942, 99.99074942,\n       99.99074942, 99.99074942, 99.99074942, 99.99074942, 99.99074942,\n       99.99074942, 99.99074942, 99.99074942, 99.99074942, 99.99074942,\n       99.99074942, 99.99074942, 99.99074942, 99.99074942, 99.99074942,\n       99.99074942, 99.99074942, 99.99074942, 99.99074942, 99.99074942,\n       99.99074942, 99.99074942, 99.99074942, 99.99074942, 99.99074942,\n       99.99074942, 99.99074942, 99.99074942, 99.99074942, 99.99074942,\n       99.99074942, 99.99074942, 99.99074942, 99.99074942, 99.99074942,\n       99.99074942, 99.99074942, 99.99074942, 99.99074942, 99.99074942,\n       99.99074942, 99.99074942, 99.99074942, 99.99074942, 99.99074942,\n       99.99074942, 99.99074942, 99.99074942, 99.99074942, 99.99074942,\n       99.99074942, 99.99074942, 99.99074942, 99.99074942, 99.99074942,\n       99.99074942, 99.99074942, 99.99074942, 99.99074942, 99.99074942,\n       99.99074942, 99.99074942, 99.99074942, 99.99074942, 99.99074942,\n       99.99074942, 99.99074942, 99.99074942, 99.99074942, 99.99074942,\n       99.99074942, 99.99074942, 99.99074942, 99.99074942, 99.99074942,\n       99.99074942, 99.99074942, 99.99074942, 99.99074942, 99.99074942,\n       99.99074942, 99.99074942, 99.99074942, 99.99074942, 99.99074942,\n       99.99074942, 99.99074942, 99.99074942, 99.99074942, 99.99074942,\n       99.99074942, 99.99074942, 99.99074942, 99.99074942, 99.99074942,\n       99.99074942, 99.99074942, 99.99074942, 99.99074942, 99.99074942,\n       99.99074942, 99.99074942, 99.99074942, 99.99074942, 99.99074942,\n       99.99074942, 99.99074942, 99.99074942, 99.99074942, 99.99074942,\n       99.99074942, 99.99074942, 99.99074942, 99.99074942, 99.99074942,\n       99.99074942, 99.99074942, 99.99074942, 99.99074942, 99.99074942,\n       99.99074942, 99.99074942, 99.99074942, 99.99074942, 99.99074942,\n       99.99074942, 99.99074942, 99.99074942, 99.99074942, 99.99074942,\n       99.99074942, 99.99074942, 99.99074942, 99.99074942, 99.99074942,\n       99.99074942, 99.99074942, 99.99074942, 99.99074942, 99.99074942,\n       99.99074942, 99.99074942, 99.99074942, 99.99074942, 99.99074942,\n       99.99074942, 99.99074942, 99.99074942, 99.99074942, 99.99074942,\n       99.99074942, 99.99074942, 99.99074942, 99.99074942, 99.99074942,\n       99.99074942, 99.99074942, 99.99074942, 99.99074942, 99.99074942,\n       99.99074942, 99.99074942, 99.99074942, 99.99074942, 99.99074942,\n       99.99074942, 99.99074942, 99.99074942, 99.99074942, 99.99074942,\n       99.99074942, 99.99074942, 99.99074942, 99.99074942, 99.99074942,\n       99.99074942, 99.99074942, 99.99074942, 99.99074942, 99.99074942,\n       99.99074942, 99.99074942, 99.99074942, 99.99074942, 99.99074942,\n       99.99074942, 99.99074942, 99.99074942, 99.99074942, 99.99074942,\n       99.99074942, 99.99074942, 99.99074942, 99.99074942, 99.99074942,\n       99.99074942, 99.99074942, 99.99074942, 99.99074942, 99.99074942,\n       99.99074942, 99.99074942, 99.99074942, 99.99074942, 99.99074942,\n       99.99074942, 99.99074942, 99.99074942, 99.99074942, 99.99074942,\n       99.99074942, 99.99074942, 99.99074942, 99.99074942, 99.99074942,\n       99.99074942, 99.99074942, 99.99074942, 99.99074942, 99.99074942,\n       99.99074942, 99.99074942, 99.99074942, 99.99074942, 99.99074942,\n       99.99074942, 99.99074942, 99.99074942, 99.99074942, 99.99074942,\n       99.99074942, 99.99074942, 99.99074942, 99.99074942, 99.99074942,\n       99.99074942, 99.99074942, 99.99074942, 99.99074942, 99.99074942,\n       99.99074942, 99.99074942, 99.99074942, 99.99074942, 99.99074942,\n       99.99074942, 99.99074942, 99.99074942, 99.99074942, 99.99074942,\n       99.99074942, 99.99074942, 99.99074942, 99.99074942, 99.99074942,\n       99.99074942, 99.99074942, 99.99074942, 99.99074942, 99.99074942,\n       99.99074942, 99.99074942, 99.99074942, 99.99074942, 99.99074942,\n       99.99074942, 99.99074942, 99.99074942, 99.99074942, 99.99074942,\n       99.99074942, 99.99074942, 99.99074942, 99.99074942, 99.99074942,\n       99.99074942, 99.99074942, 99.99074942, 99.99074942, 99.99074942,\n       99.99074942, 99.99074942, 99.99074942, 99.99074942, 99.99074942,\n       99.99074942, 99.99074942, 99.99074942, 99.99074942, 99.99074942,\n       99.99074942, 99.99074942, 99.99074942, 99.99074942, 99.99074942,\n       99.99074942, 99.99074942, 99.99074942, 99.99074942, 99.99074942,\n       99.99074942, 99.99074942, 99.99074942, 99.99074942, 99.99074942,\n       99.99074942, 99.99074942, 99.99074942, 99.99074942, 99.99074942,\n       99.99074942, 99.99074942, 99.99074942, 99.99074942, 99.99074942,\n       99.99074942, 99.99074942, 99.99074942, 99.99074942, 99.99074942,\n       99.99074942, 99.99074942, 99.99074942, 99.99074942, 99.99074942,\n       99.99074942, 99.99074942, 99.99074942, 99.99074942, 99.99074942,\n       99.99074942, 99.99074942, 99.99074942, 99.99074942, 99.99074942,\n       99.99074942, 99.99074942, 99.99074942, 99.99074942, 99.99074942,\n       99.99074942, 99.99074942, 99.99074942, 99.99074942, 99.99074942,\n       99.99074942, 99.99074942, 99.99074942, 99.99074942, 99.99074942,\n       99.99074942, 99.99074942, 99.99074942, 99.99074942, 99.99074942,\n       99.99074942, 99.99074942, 99.99074942, 99.99074942, 99.99074942,\n       99.99074942, 99.99074942, 99.99074942, 99.99074942, 99.99074942,\n       99.99074942, 99.99074942, 99.99074942, 99.99074942, 99.99074942,\n       99.99074942, 99.99074942, 99.99074942, 99.99074942, 99.99074942,\n       99.99074942, 99.99074942, 99.99074942, 99.99074942, 99.99074942,\n       99.99074942, 99.99074942, 99.99074942, 99.99074942, 99.99074942,\n       99.99074942, 99.99074942, 99.99074942, 99.99074942, 99.99074942,\n       99.99074942, 99.99074942, 99.99074942, 99.99074942, 99.99074942,\n       99.99074942, 99.99074942, 99.99074942, 99.99074942, 99.99074942,\n       99.99074942, 99.99074942, 99.99074942, 99.99074942, 99.99074942,\n       99.99074942, 99.99074942, 99.99074942, 99.99074942, 99.99074942,\n       99.99074942, 99.99074942, 99.99074942, 99.99074942, 99.99074942,\n       99.99074942, 99.99074942, 99.99074942, 99.99074942, 99.99074942,\n       99.99074942, 99.99074942, 99.99074942, 99.99074942, 99.99074942,\n       99.99074942, 99.99074942, 99.99074942, 99.99074942, 99.99074942,\n       99.99074942, 99.99074942, 99.99074942, 99.99074942, 99.99074942,\n       99.99074942, 99.99074942, 99.99074942, 99.99074942, 99.99074942,\n       99.99074942, 99.99074942, 99.99074942, 99.99074942, 99.99074942,\n       99.99074942, 99.99074942, 99.99074942, 99.99074942, 99.99074942,\n       99.99074942, 99.99074942, 99.99074942, 99.99074942, 99.99074942,\n       99.99074942, 99.99074942, 99.99074942, 99.99074942, 99.99074942,\n       99.99074942, 99.99074942, 99.99074942, 99.99074942, 99.99074942,\n       99.99074942, 99.99074942, 99.99074942, 99.99074942, 99.99074942,\n       99.99074942, 99.99074942, 99.99074942, 99.99074942, 99.99074942,\n       99.99074942, 99.99074942, 99.99074942, 99.99074942, 99.99074942,\n       99.99074942, 99.99074942, 99.99074942, 99.99074942, 99.99074942,\n       99.99074942, 99.99074942, 99.99074942, 99.99074942, 99.99074942,\n       99.99074942, 99.99074942, 99.99074942, 99.99074942, 99.99074942,\n       99.99074942, 99.99074942, 99.99074942, 99.99074942, 99.99074942,\n       99.99074942, 99.99074942, 99.99074942, 99.99074942, 99.99074942,\n       99.99074942, 99.99074942, 99.99074942, 99.99074942, 99.99074942,\n       99.99074942, 99.99074942, 99.99074942, 99.99074942, 99.99074942,\n       99.99074942, 99.99074942, 99.99074942, 99.99074942, 99.99074942,\n       99.99074942, 99.99074942, 99.99074942, 99.99074942, 99.99074942,\n       99.99074942, 99.99074942, 99.99074942, 99.99074942, 99.99074942,\n       99.99074942, 99.99074942, 99.99074942, 99.99074942, 99.99074942,\n       99.99074942, 99.99074942, 99.99074942, 99.99074942, 99.99074942,\n       99.99074942, 99.99074942, 99.99074942, 99.99074942, 99.99074942,\n       99.99074942, 99.99074942, 99.99074942, 99.99074942, 99.99074942,\n       99.99074942, 99.99074942, 99.99074942, 99.99074942, 99.99074942,\n       99.99074942, 99.99074942, 99.99074942, 99.99074942, 99.99074942,\n       99.99074942, 99.99074942, 99.99074942, 99.99074942, 99.99074942,\n       99.99074942, 99.99074942, 99.99074942, 99.99074942, 99.99074942,\n       99.99074942, 99.99074942, 99.99074942, 99.99074942, 99.99074942,\n       99.99074942, 99.99074942, 99.99074942, 99.99074942, 99.99074942,\n       99.99074942, 99.99074942, 99.99074942, 99.99074942, 99.99074942,\n       99.99074942, 99.99074942, 99.99074942, 99.99074942, 99.99074942,\n       99.99074942, 99.99074942, 99.99074942, 99.99074942, 99.99074942,\n       99.99074942, 99.99074942, 99.99074942, 99.99074942, 99.99074942,\n       99.99074942, 99.99074942, 99.99074942, 99.99074942, 99.99074942,\n       99.99074942, 99.99074942, 99.99074942, 99.99074942, 99.99074942,\n       99.99074942, 99.99074942, 99.99074942, 99.99074942, 99.99074942,\n       99.99074942, 99.99074942, 99.99074942, 99.99074942, 99.99074942,\n       99.99074942, 99.99074942, 99.99074942, 99.99074942, 99.99074942,\n       99.99074942, 99.99074942, 99.99074942, 99.99074942, 99.99074942,\n       99.99074942, 99.99074942, 99.99074942, 99.99074942, 99.99074942,\n       99.99074942, 99.99074942, 99.99074942, 99.99074942, 99.99074942,\n       99.99074942, 99.99074942, 99.99074942, 99.99074942, 99.99074942,\n       99.99074942, 99.99074942, 99.99074942, 99.99074942, 99.99074942,\n       99.99074942, 99.99074942, 99.99074942, 99.99074942, 99.99074942,\n       99.99074942, 99.99074942, 99.99074942, 99.99074942, 99.99074942,\n       99.99074942, 99.99074942, 99.99074942, 99.99074942, 99.99074942,\n       99.99074942, 99.99074942, 99.99074942, 99.99074942, 99.99074942,\n       99.99074942, 99.99074942, 99.99074942, 99.99074942, 99.99074942,\n       99.99074942, 99.99074942, 99.99074942, 99.99074942, 99.99074942,\n       99.99074942, 99.99074942, 99.99074942, 99.99074942, 99.99074942,\n       99.99074942, 99.99074942, 99.99074942, 99.99074942, 99.99074942,\n       99.99074942, 99.99074942, 99.99074942, 99.99074942, 99.99074942,\n       99.99074942, 99.99074942, 99.99074942, 99.99074942, 99.99074942,\n       99.99074942, 99.99074942, 99.99074942, 99.99074942, 99.99074942,\n       99.99074942, 99.99074942, 99.99074942, 99.99074942, 99.99074942,\n       99.99074942, 99.99074942, 99.99074942, 99.99074942, 99.99074942,\n       99.99074942, 99.99074942, 99.99074942, 99.99074942, 99.99074942,\n       99.99074942, 99.99074942, 99.99074942, 99.99074942, 99.99074942,\n       99.99074942, 99.99074942, 99.99074942, 99.99074942, 99.99074942,\n       99.99074942, 99.99074942, 99.99074942, 99.99074942, 99.99074942,\n       99.99074942, 99.99074942, 99.99074942, 99.99074942, 99.99074942,\n       99.99074942, 99.99074942, 99.99074942, 99.99074942, 99.99074942,\n       99.99074942, 99.99074942, 99.99074942, 99.99074942, 99.99074942,\n       99.99074942, 99.99074942, 99.99074942, 99.99074942, 99.99074942,\n       99.99074942, 99.99074942, 99.99074942, 99.99074942, 99.99074942,\n       99.99074942, 99.99074942, 99.99074942, 99.99074942, 99.99074942,\n       99.99074942, 99.99074942, 99.99074942, 99.99074942, 99.99074942,\n       99.99074942, 99.99074942, 99.99074942, 99.99074942, 99.99074942,\n       99.99074942, 99.99074942, 99.99074942, 99.99074942, 99.99074942,\n       99.99074942, 99.99074942, 99.99074942, 99.99074942, 99.99074942,\n       99.99074942, 99.99074942, 99.99074942, 99.99074942, 99.99074942,\n       99.99074942, 99.99074942, 99.99074942, 99.99074942, 99.99074942,\n       99.99074942, 99.99074942, 99.99074942, 99.99074942, 99.99074942,\n       99.99074942, 99.99074942, 99.99074942, 99.99074942, 99.99074942,\n       99.99074942, 99.99074942, 99.99074942, 99.99074942, 99.99074942,\n       99.99074942, 99.99074942, 99.99074942, 99.99074942, 99.99074942,\n       99.99074942, 99.99074942, 99.99074942, 99.99074942, 99.99074942,\n       99.99074942, 99.99074942, 99.99074942, 99.99074942, 99.99074942,\n       99.99074942, 99.99074942, 99.99074942, 99.99074942, 99.99074942,\n       99.99074942, 99.99074942, 99.99074942, 99.99074942, 99.99074942,\n       99.99074942, 99.99074942, 99.99074942, 99.99074942, 99.99074942,\n       99.99074942, 99.99074942, 99.99074942, 99.99074942, 99.99074942,\n       99.99074942, 99.99074942, 99.99074942, 99.99074942, 99.99074942,\n       99.99074942, 99.99074942, 99.99074942, 99.99074942, 99.99074942,\n       99.99074942, 99.99074942, 99.99074942, 99.99074942, 99.99074942,\n       99.99074942, 99.99074942, 99.99074942, 99.99074942, 99.99074942,\n       99.99074942, 99.99074942, 99.99074942, 99.99074942, 99.99074942,\n       99.99074942, 99.99074942, 99.99074942, 99.99074942, 99.99074942,\n       99.99074942, 99.99074942, 99.99074942, 99.99074942, 99.99074942,\n       99.99074942, 99.99074942, 99.99074942, 99.99074942, 99.99074942,\n       99.99074942, 99.99074942, 99.99074942, 99.99074942, 99.99074942,\n       99.99074942, 99.99074942, 99.99074942, 99.99074942, 99.99074942,\n       99.99074942, 99.99074942, 99.99074942, 99.99074942, 99.99074942,\n       99.99074942, 99.99074942, 99.99074942, 99.99074942, 99.99074942,\n       99.99074942, 99.99074942, 99.99074942, 99.99074942, 99.99074942,\n       99.99074942, 99.99074942, 99.99074942, 99.99074942, 99.99074942,\n       99.99074942, 99.99074942, 99.99074942, 99.99074942, 99.99074942,\n       99.99074942, 99.99074942, 99.99074942, 99.99074942, 99.99074942,\n       99.99074942, 99.99074942, 99.99074942, 99.99074942, 99.99074942,\n       99.99074942, 99.99074942, 99.99074942, 99.99074942, 99.99074942,\n       99.99074942, 99.99074942, 99.99074942, 99.99074942, 99.99074942,\n       99.99074942, 99.99074942, 99.99074942, 99.99074942, 99.99074942,\n       99.99074942, 99.99074942, 99.99074942, 99.99074942, 99.99074942,\n       99.99074942, 99.99074942, 99.99074942, 99.99074942, 99.99074942,\n       99.99074942, 99.99074942, 99.99074942, 99.99074942, 99.99074942,\n       99.99074942, 99.99074942, 99.99074942, 99.99074942, 99.99074942,\n       99.99074942, 99.99074942, 99.99074942, 99.99074942, 99.99074942,\n       99.99074942, 99.99074942, 99.99074942, 99.99074942, 99.99074942])"
       },
       "execution_count": 33,
       "metadata": {},
       "output_type": "execute_result"
      }
     ],
     "persistentId": "513685a0-1840-4d95-962c-126ef9148c2b",
     "text": "ForecastPrice = np.repeat(oneForecast(), 1000)\nForecastPrice"
    },
    "executionTime": "2020-02-04T04:08:44.670Z"
   },
   {
    "cell": {
     "executionCount": 34,
     "executionEventId": "a7d0391f-92a9-4283-a410-044097b4b393",
     "hasError": false,
     "id": "3d0a8abe-8e16-4280-b599-9b81caa69629",
     "outputs": [],
     "persistentId": "513685a0-1840-4d95-962c-126ef9148c2b",
     "text": "ForecastPrice = np.repeat(oneForecast(), 1000)"
    },
    "executionTime": "2020-02-04T04:08:55.748Z"
   },
   {
    "cell": {
     "executionCount": 35,
     "executionEventId": "53bd3e4b-d5d7-442a-852c-871cf30abec0",
     "hasError": false,
     "id": "5ae9dee1-7db8-4f1a-b8e2-fc2eefa00d65",
     "outputs": [
      {
       "name": "stdout",
       "output_type": "stream",
       "text": "100.0254564775827\n99.9441292298651\n99.99074942186601\n100.01107453784705\n99.92953771137466\n100.04346974589272\n99.9760460112995\n99.9201967503641\n100.02423783132441\n99.99312520071598\n"
      }
     ],
     "persistentId": "7ec80180-6e81-47a6-84f3-b7044fac490e",
     "text": "np.random.seed(42)\nfor i in range(10):\n    print(oneForecast())"
    },
    "executionTime": "2020-02-04T04:09:06.364Z"
   },
   {
    "cell": {
     "executionCount": 36,
     "executionEventId": "641b163c-f1bc-4625-b578-10a7c45e5de6",
     "hasError": false,
     "id": "5ae9dee1-7db8-4f1a-b8e2-fc2eefa00d65",
     "outputs": [
      {
       "name": "stdout",
       "output_type": "stream",
       "text": "100.0254564775827\n99.9441292298651\n99.99074942186601\n100.01107453784705\n99.92953771137466\n100.04346974589272\n99.9760460112995\n99.9201967503641\n100.02423783132441\n99.99312520071598\n"
      }
     ],
     "persistentId": "7ec80180-6e81-47a6-84f3-b7044fac490e",
     "text": "np.random.seed(42)\nfor i in range(10):\n    print(oneForecast())"
    },
    "executionTime": "2020-02-04T04:09:14.971Z"
   },
   {
    "cell": {
     "executionCount": 37,
     "executionEventId": "18cd24c3-63db-499b-84b4-a7cc01e8bc3c",
     "hasError": false,
     "id": "5ae9dee1-7db8-4f1a-b8e2-fc2eefa00d65",
     "outputs": [
      {
       "name": "stdout",
       "output_type": "stream",
       "text": "100.0254564775827\n99.9441292298651\n99.99074942186601\n100.01107453784705\n99.92953771137466\n100.04346974589272\n99.9760460112995\n99.9201967503641\n100.02423783132441\n99.99312520071598\n"
      }
     ],
     "persistentId": "7ec80180-6e81-47a6-84f3-b7044fac490e",
     "text": "np.random.seed(42)\nfor i in range(10):\n    print(oneForecast())"
    },
    "executionTime": "2020-02-04T04:09:16.846Z"
   },
   {
    "cell": {
     "executionCount": 38,
     "executionEventId": "684feafa-9275-4066-ae48-8f4f6fed0c9b",
     "hasError": true,
     "id": "3d0a8abe-8e16-4280-b599-9b81caa69629",
     "outputs": [
      {
       "ename": "SyntaxError",
       "evalue": "invalid syntax (<ipython-input-38-2986f01e301e>, line 1)",
       "output_type": "error",
       "traceback": [
        "\u001b[1;36m  File \u001b[1;32m\"<ipython-input-38-2986f01e301e>\"\u001b[1;36m, line \u001b[1;32m1\u001b[0m\n\u001b[1;33m    ForecastPrice[]\u001b[0m\n\u001b[1;37m                  ^\u001b[0m\n\u001b[1;31mSyntaxError\u001b[0m\u001b[1;31m:\u001b[0m invalid syntax\n"
       ]
      }
     ],
     "persistentId": "513685a0-1840-4d95-962c-126ef9148c2b",
     "text": "ForecastPrice[]\nnp.random.seed(42)\nfor i in range(1000):\n    x = oneForecast()\n    ForecastPrice.append(x)"
    },
    "executionTime": "2020-02-04T04:09:53.810Z"
   },
   {
    "cell": {
     "executionCount": 39,
     "executionEventId": "d171d1b3-ee48-44c3-b861-d3d244745050",
     "hasError": false,
     "id": "3d0a8abe-8e16-4280-b599-9b81caa69629",
     "outputs": [],
     "persistentId": "513685a0-1840-4d95-962c-126ef9148c2b",
     "text": "ForecastPrice = []\nnp.random.seed(42)\nfor i in range(1000):\n    x = oneForecast()\n    ForecastPrice.append(x)"
    },
    "executionTime": "2020-02-04T04:09:58.163Z"
   },
   {
    "cell": {
     "executionCount": 40,
     "executionEventId": "eceba77b-0e32-400f-be0b-e7e3e47de0c0",
     "hasError": false,
     "id": "51b336d9-7036-44b3-a710-e1a51c764cad",
     "outputs": [
      {
       "data": {
        "text/plain": "[100.0254564775827,\n 99.9441292298651,\n 99.99074942186601,\n 100.01107453784705,\n 99.92953771137466,\n 100.04346974589272,\n 99.9760460112995,\n 99.9201967503641,\n 100.02423783132441,\n 99.99312520071598]"
       },
       "execution_count": 40,
       "metadata": {},
       "output_type": "execute_result"
      }
     ],
     "persistentId": "c8e4d1cf-62e7-4de8-81fd-7de0a86c2e6b",
     "text": "ForecastPrice[0:10]"
    },
    "executionTime": "2020-02-04T04:10:03.227Z"
   },
   {
    "cell": {
     "executionCount": 41,
     "executionEventId": "9762730f-1442-41ce-97e4-45080e912169",
     "hasError": true,
     "id": "8e52183f-a32f-4481-b058-06d060eb783e",
     "outputs": [
      {
       "ename": "ModuleNotFoundError",
       "evalue": "No module named 'matplotlib'",
       "output_type": "error",
       "traceback": [
        "\u001b[1;31m---------------------------------------------------------------------------\u001b[0m",
        "\u001b[1;31mModuleNotFoundError\u001b[0m                       Traceback (most recent call last)",
        "\u001b[1;32m<ipython-input-41-8640fe330489>\u001b[0m in \u001b[0;36m<module>\u001b[1;34m\u001b[0m\n\u001b[1;32m----> 1\u001b[1;33m \u001b[1;32mimport\u001b[0m \u001b[0mmatplotlib\u001b[0m\u001b[1;33m.\u001b[0m\u001b[0mpyplot\u001b[0m \u001b[1;32mas\u001b[0m \u001b[0mplt\u001b[0m\u001b[1;33m\u001b[0m\u001b[1;33m\u001b[0m\u001b[0m\n\u001b[0m\u001b[0;32m      2\u001b[0m \u001b[1;33m\u001b[0m\u001b[0m\n\u001b[0;32m      3\u001b[0m \u001b[0mplt\u001b[0m\u001b[1;33m.\u001b[0m\u001b[0mhist\u001b[0m\u001b[1;33m(\u001b[0m\u001b[0mForecastPrice\u001b[0m\u001b[1;33m,\u001b[0m \u001b[0mbins\u001b[0m \u001b[1;33m=\u001b[0m \u001b[1;36m10\u001b[0m\u001b[1;33m)\u001b[0m\u001b[1;33m\u001b[0m\u001b[1;33m\u001b[0m\u001b[0m\n",
        "\u001b[1;31mModuleNotFoundError\u001b[0m: No module named 'matplotlib'"
       ]
      }
     ],
     "persistentId": "a2fdbd58-dfe0-49dd-9326-719485f8bb99",
     "text": "import matplotlib.pyplot as plt\n\nplt.hist(ForecastPrice, bins = 10)"
    },
    "executionTime": "2020-02-04T04:11:07.086Z"
   },
   {
    "cell": {
     "executionCount": 42,
     "executionEventId": "4990b772-713c-49b7-8368-ee142a5dd9bd",
     "hasError": true,
     "id": "8e52183f-a32f-4481-b058-06d060eb783e",
     "outputs": [
      {
       "ename": "ModuleNotFoundError",
       "evalue": "No module named 'matplotlib'",
       "output_type": "error",
       "traceback": [
        "\u001b[1;31m---------------------------------------------------------------------------\u001b[0m",
        "\u001b[1;31mModuleNotFoundError\u001b[0m                       Traceback (most recent call last)",
        "\u001b[1;32m<ipython-input-42-2ef15a17d46a>\u001b[0m in \u001b[0;36m<module>\u001b[1;34m\u001b[0m\n\u001b[1;32m----> 1\u001b[1;33m \u001b[1;32mimport\u001b[0m \u001b[0mmatplotlib\u001b[0m\u001b[1;33m\u001b[0m\u001b[1;33m\u001b[0m\u001b[0m\n\u001b[0m\u001b[0;32m      2\u001b[0m \u001b[1;32mimport\u001b[0m \u001b[0mmatplotlib\u001b[0m\u001b[1;33m.\u001b[0m\u001b[0mpyplot\u001b[0m \u001b[1;32mas\u001b[0m \u001b[0mplt\u001b[0m\u001b[1;33m\u001b[0m\u001b[1;33m\u001b[0m\u001b[0m\n\u001b[0;32m      3\u001b[0m \u001b[0mplt\u001b[0m\u001b[1;33m.\u001b[0m\u001b[0mhist\u001b[0m\u001b[1;33m(\u001b[0m\u001b[0mForecastPrice\u001b[0m\u001b[1;33m,\u001b[0m \u001b[0mbins\u001b[0m \u001b[1;33m=\u001b[0m \u001b[1;36m10\u001b[0m\u001b[1;33m)\u001b[0m\u001b[1;33m\u001b[0m\u001b[1;33m\u001b[0m\u001b[0m\n",
        "\u001b[1;31mModuleNotFoundError\u001b[0m: No module named 'matplotlib'"
       ]
      }
     ],
     "persistentId": "a2fdbd58-dfe0-49dd-9326-719485f8bb99",
     "text": "import matplotlib\nimport matplotlib.pyplot as plt\nplt.hist(ForecastPrice, bins = 10)"
    },
    "executionTime": "2020-02-04T04:11:33.510Z"
   },
   {
    "cell": {
     "executionCount": 43,
     "executionEventId": "69aef5ce-65db-4af6-80e3-f48d0c027965",
     "hasError": false,
     "id": "359e1f9e-0d1f-47de-8f63-0de7aaacd9b2",
     "outputs": [
      {
       "name": "stderr",
       "output_type": "stream",
       "text": "'pwd' is not recognized as an internal or external command,\noperable program or batch file.\n"
      }
     ],
     "persistentId": "de1284b2-5313-42b4-882f-69513201753b",
     "text": "!pwd"
    },
    "executionTime": "2020-02-04T04:11:39.660Z"
   },
   {
    "cell": {
     "executionCount": 44,
     "executionEventId": "1f0bfd1f-bbfb-460f-97f9-0b31ad78092a",
     "hasError": false,
     "id": "359e1f9e-0d1f-47de-8f63-0de7aaacd9b2",
     "outputs": [
      {
       "name": "stdout",
       "output_type": "stream",
       "text": " Volume in drive G is Google Drive File Stream\n Volume Serial Number is 1983-1116\n\n Directory of G:\\My Drive\\_YZU_JOB\\01_teaching\\derivative\\codes\\py18w+\n\n02/04/2020  12:11 PM    <DIR>          .\n01/31/2020  01:08 PM    <DIR>          ..\n02/02/2020  09:33 PM               454 README.md\n01/31/2020  01:11 PM                 0 requirements.txt\n01/31/2020  01:11 PM    <DIR>          data\n02/02/2020  12:37 PM            10,116 01_helloWorld.ipynb\n02/02/2020  12:37 PM            32,585 02_varStats.ipynb\n02/04/2020  12:11 PM    <DIR>          .git\n02/02/2020  12:37 PM           388,382 03_plotRegression.ipynb\n02/02/2020  01:13 PM            14,336 04_functionConditions.ipynb\n02/03/2020  11:50 AM             5,810 a04_functionConditions.ipynb\n02/02/2020  09:28 PM                16 .gitignore\n02/02/2020  09:12 PM    <DIR>          advanced\n02/02/2020  09:48 PM             6,248 05_forwardFuturesPrice.ipynb\n02/04/2020  12:11 PM           187,256 a_samplingSimulation.ipynb\n02/04/2020  11:38 AM    <DIR>          .ipynb_checkpoints\n              10 File(s)        645,203 bytes\n               6 Dir(s)  64,991,834,112 bytes free\n"
      }
     ],
     "persistentId": "de1284b2-5313-42b4-882f-69513201753b",
     "text": "!dir"
    },
    "executionTime": "2020-02-04T04:11:45.057Z"
   },
   {
    "cell": {
     "executionCount": 45,
     "executionEventId": "7d2c1d5b-60fb-4144-85d7-538c6e55ce4d",
     "hasError": false,
     "id": "359e1f9e-0d1f-47de-8f63-0de7aaacd9b2",
     "outputs": [
      {
       "name": "stderr",
       "output_type": "stream",
       "text": "WARNING: Retrying (Retry(total=4, connect=None, read=None, redirect=None, status=None)) after connection broken by 'NewConnectionError('<pip._vendor.urllib3.connection.VerifiedHTTPSConnection object at 0x000001F73C7E8780>: Failed to establish a new connection: [Errno 11001] getaddrinfo failed')': /simple/matplotlib/\nWARNING: Retrying (Retry(total=3, connect=None, read=None, redirect=None, status=None)) after connection broken by 'NewConnectionError('<pip._vendor.urllib3.connection.VerifiedHTTPSConnection object at 0x000001F73C7E8668>: Failed to establish a new connection: [Errno 11001] getaddrinfo failed')': /simple/matplotlib/\nWARNING: Retrying (Retry(total=2, connect=None, read=None, redirect=None, status=None)) after connection broken by 'NewConnectionError('<pip._vendor.urllib3.connection.VerifiedHTTPSConnection object at 0x000001F73C7E8BE0>: Failed to establish a new connection: [Errno 11001] getaddrinfo failed')': /simple/matplotlib/\nWARNING: Retrying (Retry(total=1, connect=None, read=None, redirect=None, status=None)) after connection broken by 'NewConnectionError('<pip._vendor.urllib3.connection.VerifiedHTTPSConnection object at 0x000001F73C7E83C8>: Failed to establish a new connection: [Errno 11001] getaddrinfo failed')': /simple/matplotlib/\nWARNING: Retrying (Retry(total=0, connect=None, read=None, redirect=None, status=None)) after connection broken by 'NewConnectionError('<pip._vendor.urllib3.connection.VerifiedHTTPSConnection object at 0x000001F73C7E8518>: Failed to establish a new connection: [Errno 11001] getaddrinfo failed')': /simple/matplotlib/\nERROR: Could not find a version that satisfies the requirement matplotlib (from versions: none)\nERROR: No matching distribution found for matplotlib\n"
      }
     ],
     "persistentId": "de1284b2-5313-42b4-882f-69513201753b",
     "text": "! pip install matplotlib"
    },
    "executionTime": "2020-02-04T04:12:10.017Z"
   },
   {
    "cell": {
     "executionCount": 46,
     "executionEventId": "35f6f442-cfec-488d-b9e8-9ef9d9144e40",
     "hasError": false,
     "id": "c3d876e0-e932-45bf-93af-b6c91205b426",
     "outputs": [
      {
       "name": "stdout",
       "output_type": "stream",
       "text": "On branch master\nYour branch is up to date with 'origin/master'.\n\nnothing to commit, working tree clean\n"
      }
     ],
     "persistentId": "2ea511f1-425a-4bc3-8c86-92d159a9a893",
     "text": "! git status"
    },
    "executionTime": "2020-02-04T04:12:12.487Z"
   },
   {
    "cell": {
     "executionCount": 47,
     "executionEventId": "c79a91a9-473a-4807-8003-54d67dea2364",
     "hasError": false,
     "id": "359e1f9e-0d1f-47de-8f63-0de7aaacd9b2",
     "outputs": [
      {
       "name": "stdout",
       "output_type": "stream",
       "text": "Package                   Version   \n------------------------- ----------\nappdirs                   1.4.3     \nasn1crypto                0.24.0    \nastroid                   2.3.3     \nattrs                     19.3.0    \nbackcall                  0.1.0     \nblack                     19.10b0   \nbleach                    3.1.0     \ncertifi                   2019.6.16 \ncffi                      1.12.3    \nchardet                   3.0.4     \nClick                     7.0       \ncolorama                  0.4.3     \nconda                     4.7.10    \nconda-package-handling    1.3.11    \ncryptography              2.7       \ndecorator                 4.4.1     \ndefusedxml                0.6.0     \nentrypoints               0.3       \ngitdb2                    2.0.6     \nGitPython                 3.0.5     \nidna                      2.8       \nimportlib-metadata        1.3.0     \nipykernel                 5.1.3     \nipython                   7.11.0    \nipython-genutils          0.2.0     \nipywidgets                7.5.1     \nisort                     4.3.21    \njedi                      0.15.2    \nJinja2                    2.10.3    \njson5                     0.8.5     \njsonschema                3.2.0     \njupyter                   1.0.0     \njupyter-client            5.3.4     \njupyter-console           6.0.0     \njupyter-core              4.6.1     \njupyterlab                1.2.4     \njupyterlab-code-formatter 1.0.3     \njupyterlab-git            0.9.0     \njupyterlab-server         1.0.6     \njupyternotify             0.1.15    \njupytext                  1.3.1     \nlazy-object-proxy         1.4.3     \nlibarchive-c              2.8       \nMarkupSafe                1.1.1     \nmccabe                    0.6.1     \nmenuinst                  1.4.16    \nmistune                   0.8.4     \nmore-itertools            8.0.2     \nnbconvert                 5.6.1     \nnbdime                    1.1.0     \nnbformat                  4.4.0     \nnotebook                  6.0.2     \nnumpy                     1.18.1    \npackaging                 19.2      \npandas                    0.25.3    \npandocfilters             1.4.2     \nparso                     0.5.2     \npathspec                  0.7.0     \npexpect                   4.7.0     \npickleshare               0.7.5     \npip                       19.3.1    \nplydata                   0.3.3     \nprometheus-client         0.7.1     \nprompt-toolkit            2.0.10    \nptyprocess                0.6.0     \npycosat                   0.6.3     \npycparser                 2.19      \nPygments                  2.5.2     \npylint                    2.4.4     \npyOpenSSL                 19.0.0    \npyparsing                 2.4.6     \npyrsistent                0.15.6    \nPySocks                   1.7.0     \npython-dateutil           2.8.1     \npytz                      2019.3    \npywin32                   223       \npywinpty                  0.5.7     \nPyYAML                    5.2       \npyzmq                     18.1.1    \nqtconsole                 4.6.0     \nregex                     2019.12.20\nrequests                  2.22.0    \nruamel-yaml               0.15.46   \nSend2Trash                1.5.0     \nsetuptools                41.0.1    \nsix                       1.12.0    \nsmmap2                    2.0.5     \nterminado                 0.8.3     \ntestpath                  0.4.4     \ntoml                      0.10.0    \ntornado                   6.0.3     \ntqdm                      4.32.1    \ntraitlets                 4.3.3     \ntyped-ast                 1.4.0     \nurllib3                   1.24.2    \nvirtualenv                16.7.5    \nwcwidth                   0.1.7     \nwebencodings              0.5.1     \nwheel                     0.33.4    \nwidgetsnbextension        3.5.1     \nwin-inet-pton             1.1.0     \nwincertstore              0.2       \nwrapt                     1.11.2    \nzipp                      0.6.0     \n"
      }
     ],
     "persistentId": "de1284b2-5313-42b4-882f-69513201753b",
     "text": "! pip list"
    },
    "executionTime": "2020-02-04T04:12:23.204Z"
   }
  ],
  "kernelspec": {
   "display_name": "Python 3.7.7 64-bit",
   "language": "python",
   "name": "python37764bitc8e3faec5a4d40138f7b6b9b9ed235d0"
  },
  "language_info": {
   "codemirror_mode": {
    "name": "ipython",
    "version": 3
   },
   "file_extension": ".py",
   "mimetype": "text/x-python",
   "name": "python",
   "nbconvert_exporter": "python",
   "pygments_lexer": "ipython3",
   "version": "3.7.7-final"
  },
  "uuid": "2b1623ba-fcc7-4b7c-8aaf-dd8f1b42e6c9"
 },
 "nbformat": 4,
 "nbformat_minor": 4
}