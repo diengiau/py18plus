{
 "nbformat": 4,
 "nbformat_minor": 2,
 "metadata": {
  "language_info": {
   "name": "python",
   "codemirror_mode": {
    "name": "ipython",
    "version": 3
   },
   "version": "3.6.8-final"
  },
  "orig_nbformat": 2,
  "file_extension": ".py",
  "mimetype": "text/x-python",
  "name": "python",
  "npconvert_exporter": "python",
  "pygments_lexer": "ipython3",
  "version": 3,
  "kernelspec": {
   "name": "python36864bit105ca9937d9642daa3958d93a183440c",
   "display_name": "Python 3.6.8 64-bit"
  }
 },
 "cells": [
  {
   "cell_type": "markdown",
   "metadata": {},
   "source": [
    "# 1. Delta $\\Delta$\n",
    "\n",
    "`delta` $\\Delta$ is the rate of change of the option price with respect to the price of the underlying asset.\n",
    "So if $c$ is (call) option price and $S$ is stock price then \n",
    "\n",
    "$$\\Delta=\\frac{\\partial c}{\\partial S}$$"
   ]
  },
  {
   "cell_type": "markdown",
   "metadata": {},
   "source": [
    "For European option, we have `delta` equals:\n",
    "\n",
    "- Long position of European call option: $N(d_1)$\n",
    "- Short position of European call option: $-N(d_{1})$\n",
    "- European put option: $N(d_{1})-1$\n",
    "\n",
    "where \n",
    "\n",
    "$$d_{1}=\\frac{\\ln(S_{0}/K)+(r+\\sigma^{2}/2)T}{\\sigma\\sqrt{T}}$$"
   ]
  },
  {
   "cell_type": "markdown",
   "metadata": {},
   "source": [
    "Let create a function for `d1` first:"
   ]
  },
  {
   "cell_type": "code",
   "execution_count": 1,
   "metadata": {},
   "outputs": [],
   "source": [
    "def getD1(S0, K, r, sigma, T):\n",
    "    import numpy as np\n",
    "    return (np.log(S0/K) + (r + sigma**2/2)*T)/(sigma*np.sqrt(T))"
   ]
  },
  {
   "cell_type": "code",
   "execution_count": 3,
   "metadata": {},
   "outputs": [
    {
     "data": {
      "text/plain": "0.05418135192383571"
     },
     "execution_count": 3,
     "metadata": {},
     "output_type": "execute_result"
    }
   ],
   "source": [
    "# example\n",
    "getD1(49, 50, 0.05, 0.2, 20/52)"
   ]
  },
  {
   "cell_type": "markdown",
   "metadata": {},
   "source": [
    "To get $N(d1)$, we use the package `scipy`:"
   ]
  },
  {
   "cell_type": "code",
   "execution_count": 4,
   "metadata": {},
   "outputs": [
    {
     "data": {
      "text/plain": "0.5216046610663964"
     },
     "execution_count": 4,
     "metadata": {},
     "output_type": "execute_result"
    }
   ],
   "source": [
    "import scipy.stats as scs\n",
    "scs.norm.cdf(d1(49, 50, 0.05, 0.2, 20/52))"
   ]
  },
  {
   "cell_type": "markdown",
   "metadata": {},
   "source": [
    "We can create a composite function, which includes `d1` function, to calculate `delta`:\n",
    "\n",
    "- We should learn the idea of `scope` in programming\n",
    "- We also need to check `if ... else if ... else if ...` to return the `delta` w.r.t. the corresponding option: read this [documentation](https://www.tutorialspoint.com/python/python_if_else.htm)"
   ]
  },
  {
   "cell_type": "code",
   "execution_count": 6,
   "metadata": {},
   "outputs": [],
   "source": [
    "def getOptionDelta(S0, K, r, sigma, T, call=True, long=True):\n",
    "    import scipy.stats as scs\n",
    "    import numpy as np\n",
    "    # Step 1: calculate d1\n",
    "    def getD1(S0, K, r, sigma, T):\n",
    "        return (np.log(S0/K) + (r + sigma**2/2)*T)/(sigma*np.sqrt(T))\n",
    "    d1 = getD1(S0, K, r, sigma, T)\n",
    "    # Step 2: return result\n",
    "    if (call == True & long == True):\n",
    "        return scs.norm.cdf(d1)\n",
    "    elif (call == True & long == False):\n",
    "        return -scs.norm.cdf(d1)\n",
    "    else:\n",
    "        return scs.norm.cdf(d1) - 1"
   ]
  },
  {
   "cell_type": "code",
   "execution_count": 7,
   "metadata": {},
   "outputs": [
    {
     "data": {
      "text/plain": "0.5216046610663964"
     },
     "execution_count": 7,
     "metadata": {},
     "output_type": "execute_result"
    }
   ],
   "source": [
    "getOptionDelta(49, 50, 0.05, 0.2, 20/52)"
   ]
  },
  {
   "cell_type": "code",
   "execution_count": 8,
   "metadata": {},
   "outputs": [
    {
     "data": {
      "text/plain": "-0.47839533893360364"
     },
     "execution_count": 8,
     "metadata": {},
     "output_type": "execute_result"
    }
   ],
   "source": [
    "getOptionDelta(49, 50, 0.05, 0.2, 20/52, long=False)"
   ]
  },
  {
   "cell_type": "code",
   "execution_count": 9,
   "metadata": {},
   "outputs": [
    {
     "data": {
      "text/plain": "-0.47839533893360364"
     },
     "execution_count": 9,
     "metadata": {},
     "output_type": "execute_result"
    }
   ],
   "source": [
    "getOptionDelta(49, 50, 0.05, 0.2, 20/52, call=False)"
   ]
  },
  {
   "cell_type": "markdown",
   "metadata": {},
   "source": [
    "# 2. Theta $\\Theta$\n",
    "\n",
    "The theta ($\\Theta$) is the rate of change of the value of the portfolio with respect to the passage of time (like, when 1 day passes) with all else remaining the same."
   ]
  },
  {
   "cell_type": "markdown",
   "metadata": {},
   "source": [
    "To get the PDF of a number, we need:"
   ]
  },
  {
   "cell_type": "code",
   "execution_count": 11,
   "metadata": {},
   "outputs": [
    {
     "data": {
      "text/plain": "0.058440944333451476"
     },
     "execution_count": 11,
     "metadata": {},
     "output_type": "execute_result"
    }
   ],
   "source": [
    "import scipy.stats as scs\n",
    "scs.norm.pdf(1.96)"
   ]
  },
  {
   "cell_type": "code",
   "execution_count": 13,
   "metadata": {},
   "outputs": [
    {
     "data": {
      "text/plain": "0.10396109532876424"
     },
     "execution_count": 13,
     "metadata": {},
     "output_type": "execute_result"
    }
   ],
   "source": [
    "scs.norm.pdf(-1.64)"
   ]
  },
  {
   "cell_type": "markdown",
   "metadata": {},
   "source": [
    "OK, now let's go to get $\\Theta$:"
   ]
  },
  {
   "cell_type": "code",
   "execution_count": 10,
   "metadata": {},
   "outputs": [],
   "source": [
    "def getD2(S0, K, r, sigma, T):\n",
    "    import numpy as np\n",
    "    return (np.log(S0/K) + (r - sigma**2/2)*T)/(sigma*np.sqrt(T))"
   ]
  },
  {
   "cell_type": "code",
   "execution_count": 14,
   "metadata": {},
   "outputs": [],
   "source": [
    "def getOptionTheta(S0, K, r, sigma, T, call=True):\n",
    "    import scipy.stats as scs\n",
    "    import numpy as np\n",
    "    # Step 1: calculate d1 & d2\n",
    "    def getD1(S0, K, r, sigma, T):\n",
    "        return (np.log(S0/K) + (r + sigma**2/2)*T)/(sigma*np.sqrt(T))\n",
    "    def getD2(S0, K, r, sigma, T):\n",
    "        return (np.log(S0/K) + (r - sigma**2/2)*T)/(sigma*np.sqrt(T))\n",
    "\n",
    "    d1 = getD1(S0, K, r, sigma, T)\n",
    "    d2 = getD2(S0, K, r, sigma, T)\n",
    "    pdf1 = scs.norm.pdf(d1)\n",
    "    pdf2 = scs.norm.pdf(d2)\n",
    "    cdf2 = scs.norm.cdf(d2)\n",
    "    cdf_2 = scs.norm.cdf(-d2)\n",
    "\n",
    "    # Step 2: return result\n",
    "    if (call == True):\n",
    "        return ( -(S0*pdf1*sigma)/(2*np.sqrt(T)) - r*K*np.exp(-r*T)*cdf2 )\n",
    "    else:\n",
    "        return ( -(S0*pdf1*sigma)/(2*np.sqrt(T)) + r*K*np.exp(-r*T)*cdf_2 )"
   ]
  },
  {
   "cell_type": "code",
   "execution_count": 15,
   "metadata": {},
   "outputs": [
    {
     "data": {
      "text/plain": "-4.436781777484395"
     },
     "execution_count": 15,
     "metadata": {},
     "output_type": "execute_result"
    }
   ],
   "source": [
    "getOptionTheta(S0=50, K=49, r=0.05, sigma=0.2, T=20/52)"
   ]
  },
  {
   "cell_type": "markdown",
   "metadata": {},
   "source": [
    "# 3. Gamma $\\Gamma$"
   ]
  },
  {
   "cell_type": "markdown",
   "metadata": {},
   "source": [
    "The gamma ($\\Gamma$) of a portfolio of options is the rate of change of the portfolio's `delta` with respect to the price of the underlying asset. It is the second partial derivative of the portfolio with respect to asset price:\n",
    "\n",
    "$$\\Gamma=\\frac{\\partial^{2}\\Pi}{\\partial S^{2}}$$"
   ]
  },
  {
   "cell_type": "code",
   "execution_count": 16,
   "metadata": {},
   "outputs": [],
   "source": [
    "def getOptionGamma(S0, K, r, sigma, T, call=True):\n",
    "    import scipy.stats as scs\n",
    "    import numpy as np\n",
    "    # Step 1: calculate d1\n",
    "    def getD1(S0, K, r, sigma, T):\n",
    "        return (np.log(S0/K) + (r + sigma**2/2)*T)/(sigma*np.sqrt(T))\n",
    "    d1 = getD1(S0, K, r, sigma, T)\n",
    "    # Step 2: return result\n",
    "    return scs.norm.pdf(d1)/(S0*sigma*np.sqrt(T))\n"
   ]
  },
  {
   "cell_type": "code",
   "execution_count": 18,
   "metadata": {},
   "outputs": [
    {
     "data": {
      "text/plain": "0.06554403934784439"
     },
     "execution_count": 18,
     "metadata": {},
     "output_type": "execute_result"
    }
   ],
   "source": [
    "getOptionGamma(49, 50, 0.05, 0.2, 20/52)"
   ]
  },
  {
   "cell_type": "markdown",
   "metadata": {},
   "source": [
    "For other `Greeks`, we can calculate similarly."
   ]
  },
  {
   "cell_type": "code",
   "execution_count": null,
   "metadata": {},
   "outputs": [],
   "source": []
  }
 ]
}