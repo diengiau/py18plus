{
 "cells": [
  {
   "cell_type": "code",
   "execution_count": 1,
   "metadata": {},
   "outputs": [],
   "source": [
    "import pandas as pd"
   ]
  },
  {
   "cell_type": "markdown",
   "metadata": {},
   "source": [
    "# 1. Historical VaR\n",
    "\n",
    "First, load data from `data/varData.csv` using `pandas`:"
   ]
  },
  {
   "cell_type": "code",
   "execution_count": 9,
   "metadata": {},
   "outputs": [],
   "source": [
    "Data = pd.read_csv(\"data/varData.csv\")"
   ]
  },
  {
   "cell_type": "markdown",
   "metadata": {},
   "source": [
    "This is a portfolio of 4 assets: Dow Jones index, FTSE index, CAC index, and Nikkei index."
   ]
  },
  {
   "cell_type": "code",
   "execution_count": 10,
   "metadata": {},
   "outputs": [
    {
     "output_type": "execute_result",
     "data": {
      "text/plain": "   row       date      DJIA     FTSE-500       CAC-40       Nikkei\n0    0   7-Aug-06  11219.38  6026.332958  4345.083562  14023.43535\n1    1   8-Aug-06  11173.59  6007.081161  4347.992701  14300.91343\n2    2   9-Aug-06  11076.18  6055.300076  4413.353201  14467.08611\n3    3  10-Aug-06  11124.37  5964.003963  4333.898171  14413.32157\n4    4  11-Aug-06  11088.02  5977.008283  4338.859931  14270.95226",
      "text/html": "<div>\n<style scoped>\n    .dataframe tbody tr th:only-of-type {\n        vertical-align: middle;\n    }\n\n    .dataframe tbody tr th {\n        vertical-align: top;\n    }\n\n    .dataframe thead th {\n        text-align: right;\n    }\n</style>\n<table border=\"1\" class=\"dataframe\">\n  <thead>\n    <tr style=\"text-align: right;\">\n      <th></th>\n      <th>row</th>\n      <th>date</th>\n      <th>DJIA</th>\n      <th>FTSE-500</th>\n      <th>CAC-40</th>\n      <th>Nikkei</th>\n    </tr>\n  </thead>\n  <tbody>\n    <tr>\n      <th>0</th>\n      <td>0</td>\n      <td>7-Aug-06</td>\n      <td>11219.38</td>\n      <td>6026.332958</td>\n      <td>4345.083562</td>\n      <td>14023.43535</td>\n    </tr>\n    <tr>\n      <th>1</th>\n      <td>1</td>\n      <td>8-Aug-06</td>\n      <td>11173.59</td>\n      <td>6007.081161</td>\n      <td>4347.992701</td>\n      <td>14300.91343</td>\n    </tr>\n    <tr>\n      <th>2</th>\n      <td>2</td>\n      <td>9-Aug-06</td>\n      <td>11076.18</td>\n      <td>6055.300076</td>\n      <td>4413.353201</td>\n      <td>14467.08611</td>\n    </tr>\n    <tr>\n      <th>3</th>\n      <td>3</td>\n      <td>10-Aug-06</td>\n      <td>11124.37</td>\n      <td>5964.003963</td>\n      <td>4333.898171</td>\n      <td>14413.32157</td>\n    </tr>\n    <tr>\n      <th>4</th>\n      <td>4</td>\n      <td>11-Aug-06</td>\n      <td>11088.02</td>\n      <td>5977.008283</td>\n      <td>4338.859931</td>\n      <td>14270.95226</td>\n    </tr>\n  </tbody>\n</table>\n</div>"
     },
     "metadata": {},
     "execution_count": 10
    }
   ],
   "source": [
    "Data.head() # first few rows"
   ]
  },
  {
   "cell_type": "code",
   "execution_count": 11,
   "metadata": {},
   "outputs": [
    {
     "output_type": "execute_result",
     "data": {
      "text/plain": "     row       date      DJIA     FTSE-500       CAC-40       Nikkei\n496  496  18-Sep-08  11019.69  4806.292767  3878.771078  11658.00254\n497  497  19-Sep-08  11388.44  5269.607790  4246.994928  11878.44496\n498  498  22-Sep-08  11015.69  5227.512359  4214.237071  12049.82757\n499  499  24-Sep-08  10825.17  5109.668623  4113.333213  12159.59156\n500  500  25-Sep-08  11022.06  5197.000000  4226.810000  12006.53000",
      "text/html": "<div>\n<style scoped>\n    .dataframe tbody tr th:only-of-type {\n        vertical-align: middle;\n    }\n\n    .dataframe tbody tr th {\n        vertical-align: top;\n    }\n\n    .dataframe thead th {\n        text-align: right;\n    }\n</style>\n<table border=\"1\" class=\"dataframe\">\n  <thead>\n    <tr style=\"text-align: right;\">\n      <th></th>\n      <th>row</th>\n      <th>date</th>\n      <th>DJIA</th>\n      <th>FTSE-500</th>\n      <th>CAC-40</th>\n      <th>Nikkei</th>\n    </tr>\n  </thead>\n  <tbody>\n    <tr>\n      <th>496</th>\n      <td>496</td>\n      <td>18-Sep-08</td>\n      <td>11019.69</td>\n      <td>4806.292767</td>\n      <td>3878.771078</td>\n      <td>11658.00254</td>\n    </tr>\n    <tr>\n      <th>497</th>\n      <td>497</td>\n      <td>19-Sep-08</td>\n      <td>11388.44</td>\n      <td>5269.607790</td>\n      <td>4246.994928</td>\n      <td>11878.44496</td>\n    </tr>\n    <tr>\n      <th>498</th>\n      <td>498</td>\n      <td>22-Sep-08</td>\n      <td>11015.69</td>\n      <td>5227.512359</td>\n      <td>4214.237071</td>\n      <td>12049.82757</td>\n    </tr>\n    <tr>\n      <th>499</th>\n      <td>499</td>\n      <td>24-Sep-08</td>\n      <td>10825.17</td>\n      <td>5109.668623</td>\n      <td>4113.333213</td>\n      <td>12159.59156</td>\n    </tr>\n    <tr>\n      <th>500</th>\n      <td>500</td>\n      <td>25-Sep-08</td>\n      <td>11022.06</td>\n      <td>5197.000000</td>\n      <td>4226.810000</td>\n      <td>12006.53000</td>\n    </tr>\n  </tbody>\n</table>\n</div>"
     },
     "metadata": {},
     "execution_count": 11
    }
   ],
   "source": [
    "Data.tail() # last few rows"
   ]
  },
  {
   "cell_type": "markdown",
   "metadata": {},
   "source": [
    "Assume now we are at the end of date 25-Sep-2008 and we wanna predict the expected DJIA tomorrow (on 26-Sep-2008) using historical data of this index in the previous 501 dates. From the previous 501 DJIA's index price, we can get 500 return observations."
   ]
  },
  {
   "cell_type": "code",
   "execution_count": 12,
   "metadata": {},
   "outputs": [],
   "source": [
    "Data['djiaRet'] = Data['DJIA']/Data['DJIA'].shift(1)"
   ]
  },
  {
   "cell_type": "code",
   "execution_count": 13,
   "metadata": {},
   "outputs": [
    {
     "output_type": "execute_result",
     "data": {
      "text/plain": "     row       date      DJIA     FTSE-500       CAC-40       Nikkei   djiaRet\n0      0   7-Aug-06  11219.38  6026.332958  4345.083562  14023.43535       NaN\n1      1   8-Aug-06  11173.59  6007.081161  4347.992701  14300.91343  0.995919\n2      2   9-Aug-06  11076.18  6055.300076  4413.353201  14467.08611  0.991282\n3      3  10-Aug-06  11124.37  5964.003963  4333.898171  14413.32157  1.004351\n4      4  11-Aug-06  11088.02  5977.008283  4338.859931  14270.95226  0.996732\n..   ...        ...       ...          ...          ...          ...       ...\n496  496  18-Sep-08  11019.69  4806.292767  3878.771078  11658.00254  1.038647\n497  497  19-Sep-08  11388.44  5269.607790  4246.994928  11878.44496  1.033463\n498  498  22-Sep-08  11015.69  5227.512359  4214.237071  12049.82757  0.967269\n499  499  24-Sep-08  10825.17  5109.668623  4113.333213  12159.59156  0.982705\n500  500  25-Sep-08  11022.06  5197.000000  4226.810000  12006.53000  1.018188\n\n[501 rows x 7 columns]",
      "text/html": "<div>\n<style scoped>\n    .dataframe tbody tr th:only-of-type {\n        vertical-align: middle;\n    }\n\n    .dataframe tbody tr th {\n        vertical-align: top;\n    }\n\n    .dataframe thead th {\n        text-align: right;\n    }\n</style>\n<table border=\"1\" class=\"dataframe\">\n  <thead>\n    <tr style=\"text-align: right;\">\n      <th></th>\n      <th>row</th>\n      <th>date</th>\n      <th>DJIA</th>\n      <th>FTSE-500</th>\n      <th>CAC-40</th>\n      <th>Nikkei</th>\n      <th>djiaRet</th>\n    </tr>\n  </thead>\n  <tbody>\n    <tr>\n      <th>0</th>\n      <td>0</td>\n      <td>7-Aug-06</td>\n      <td>11219.38</td>\n      <td>6026.332958</td>\n      <td>4345.083562</td>\n      <td>14023.43535</td>\n      <td>NaN</td>\n    </tr>\n    <tr>\n      <th>1</th>\n      <td>1</td>\n      <td>8-Aug-06</td>\n      <td>11173.59</td>\n      <td>6007.081161</td>\n      <td>4347.992701</td>\n      <td>14300.91343</td>\n      <td>0.995919</td>\n    </tr>\n    <tr>\n      <th>2</th>\n      <td>2</td>\n      <td>9-Aug-06</td>\n      <td>11076.18</td>\n      <td>6055.300076</td>\n      <td>4413.353201</td>\n      <td>14467.08611</td>\n      <td>0.991282</td>\n    </tr>\n    <tr>\n      <th>3</th>\n      <td>3</td>\n      <td>10-Aug-06</td>\n      <td>11124.37</td>\n      <td>5964.003963</td>\n      <td>4333.898171</td>\n      <td>14413.32157</td>\n      <td>1.004351</td>\n    </tr>\n    <tr>\n      <th>4</th>\n      <td>4</td>\n      <td>11-Aug-06</td>\n      <td>11088.02</td>\n      <td>5977.008283</td>\n      <td>4338.859931</td>\n      <td>14270.95226</td>\n      <td>0.996732</td>\n    </tr>\n    <tr>\n      <th>...</th>\n      <td>...</td>\n      <td>...</td>\n      <td>...</td>\n      <td>...</td>\n      <td>...</td>\n      <td>...</td>\n      <td>...</td>\n    </tr>\n    <tr>\n      <th>496</th>\n      <td>496</td>\n      <td>18-Sep-08</td>\n      <td>11019.69</td>\n      <td>4806.292767</td>\n      <td>3878.771078</td>\n      <td>11658.00254</td>\n      <td>1.038647</td>\n    </tr>\n    <tr>\n      <th>497</th>\n      <td>497</td>\n      <td>19-Sep-08</td>\n      <td>11388.44</td>\n      <td>5269.607790</td>\n      <td>4246.994928</td>\n      <td>11878.44496</td>\n      <td>1.033463</td>\n    </tr>\n    <tr>\n      <th>498</th>\n      <td>498</td>\n      <td>22-Sep-08</td>\n      <td>11015.69</td>\n      <td>5227.512359</td>\n      <td>4214.237071</td>\n      <td>12049.82757</td>\n      <td>0.967269</td>\n    </tr>\n    <tr>\n      <th>499</th>\n      <td>499</td>\n      <td>24-Sep-08</td>\n      <td>10825.17</td>\n      <td>5109.668623</td>\n      <td>4113.333213</td>\n      <td>12159.59156</td>\n      <td>0.982705</td>\n    </tr>\n    <tr>\n      <th>500</th>\n      <td>500</td>\n      <td>25-Sep-08</td>\n      <td>11022.06</td>\n      <td>5197.000000</td>\n      <td>4226.810000</td>\n      <td>12006.53000</td>\n      <td>1.018188</td>\n    </tr>\n  </tbody>\n</table>\n<p>501 rows × 7 columns</p>\n</div>"
     },
     "metadata": {},
     "execution_count": 13
    }
   ],
   "source": [
    "Data"
   ]
  },
  {
   "cell_type": "markdown",
   "metadata": {},
   "source": [
    "From that 500 return observations, we have 500 possible scenarios to predict the tomorrow DJIA:"
   ]
  },
  {
   "cell_type": "code",
   "execution_count": 28,
   "metadata": {},
   "outputs": [
    {
     "output_type": "execute_result",
     "data": {
      "text/plain": "     row       date      DJIA     FTSE-500       CAC-40       Nikkei  \\\n0      0   7-Aug-06  11219.38  6026.332958  4345.083562  14023.43535   \n1      1   8-Aug-06  11173.59  6007.081161  4347.992701  14300.91343   \n2      2   9-Aug-06  11076.18  6055.300076  4413.353201  14467.08611   \n3      3  10-Aug-06  11124.37  5964.003963  4333.898171  14413.32157   \n4      4  11-Aug-06  11088.02  5977.008283  4338.859931  14270.95226   \n..   ...        ...       ...          ...          ...          ...   \n496  496  18-Sep-08  11019.69  4806.292767  3878.771078  11658.00254   \n497  497  19-Sep-08  11388.44  5269.607790  4246.994928  11878.44496   \n498  498  22-Sep-08  11015.69  5227.512359  4214.237071  12049.82757   \n499  499  24-Sep-08  10825.17  5109.668623  4113.333213  12159.59156   \n500  500  25-Sep-08  11022.06  5197.000000  4226.810000  12006.53000   \n\n      djiaRet  djiaForecast  \n0         NaN           NaN  \n1    0.995919  10977.075328  \n2    0.991282  10925.971020  \n3    1.004351  11070.014536  \n4    0.996732  10986.044308  \n..        ...           ...  \n496  1.038647  11448.027963  \n497  1.033463  11390.889307  \n498  0.967269  10661.301822  \n499  0.982705  10831.429829  \n500  1.018188  11222.531068  \n\n[501 rows x 8 columns]",
      "text/html": "<div>\n<style scoped>\n    .dataframe tbody tr th:only-of-type {\n        vertical-align: middle;\n    }\n\n    .dataframe tbody tr th {\n        vertical-align: top;\n    }\n\n    .dataframe thead th {\n        text-align: right;\n    }\n</style>\n<table border=\"1\" class=\"dataframe\">\n  <thead>\n    <tr style=\"text-align: right;\">\n      <th></th>\n      <th>row</th>\n      <th>date</th>\n      <th>DJIA</th>\n      <th>FTSE-500</th>\n      <th>CAC-40</th>\n      <th>Nikkei</th>\n      <th>djiaRet</th>\n      <th>djiaForecast</th>\n    </tr>\n  </thead>\n  <tbody>\n    <tr>\n      <th>0</th>\n      <td>0</td>\n      <td>7-Aug-06</td>\n      <td>11219.38</td>\n      <td>6026.332958</td>\n      <td>4345.083562</td>\n      <td>14023.43535</td>\n      <td>NaN</td>\n      <td>NaN</td>\n    </tr>\n    <tr>\n      <th>1</th>\n      <td>1</td>\n      <td>8-Aug-06</td>\n      <td>11173.59</td>\n      <td>6007.081161</td>\n      <td>4347.992701</td>\n      <td>14300.91343</td>\n      <td>0.995919</td>\n      <td>10977.075328</td>\n    </tr>\n    <tr>\n      <th>2</th>\n      <td>2</td>\n      <td>9-Aug-06</td>\n      <td>11076.18</td>\n      <td>6055.300076</td>\n      <td>4413.353201</td>\n      <td>14467.08611</td>\n      <td>0.991282</td>\n      <td>10925.971020</td>\n    </tr>\n    <tr>\n      <th>3</th>\n      <td>3</td>\n      <td>10-Aug-06</td>\n      <td>11124.37</td>\n      <td>5964.003963</td>\n      <td>4333.898171</td>\n      <td>14413.32157</td>\n      <td>1.004351</td>\n      <td>11070.014536</td>\n    </tr>\n    <tr>\n      <th>4</th>\n      <td>4</td>\n      <td>11-Aug-06</td>\n      <td>11088.02</td>\n      <td>5977.008283</td>\n      <td>4338.859931</td>\n      <td>14270.95226</td>\n      <td>0.996732</td>\n      <td>10986.044308</td>\n    </tr>\n    <tr>\n      <th>...</th>\n      <td>...</td>\n      <td>...</td>\n      <td>...</td>\n      <td>...</td>\n      <td>...</td>\n      <td>...</td>\n      <td>...</td>\n      <td>...</td>\n    </tr>\n    <tr>\n      <th>496</th>\n      <td>496</td>\n      <td>18-Sep-08</td>\n      <td>11019.69</td>\n      <td>4806.292767</td>\n      <td>3878.771078</td>\n      <td>11658.00254</td>\n      <td>1.038647</td>\n      <td>11448.027963</td>\n    </tr>\n    <tr>\n      <th>497</th>\n      <td>497</td>\n      <td>19-Sep-08</td>\n      <td>11388.44</td>\n      <td>5269.607790</td>\n      <td>4246.994928</td>\n      <td>11878.44496</td>\n      <td>1.033463</td>\n      <td>11390.889307</td>\n    </tr>\n    <tr>\n      <th>498</th>\n      <td>498</td>\n      <td>22-Sep-08</td>\n      <td>11015.69</td>\n      <td>5227.512359</td>\n      <td>4214.237071</td>\n      <td>12049.82757</td>\n      <td>0.967269</td>\n      <td>10661.301822</td>\n    </tr>\n    <tr>\n      <th>499</th>\n      <td>499</td>\n      <td>24-Sep-08</td>\n      <td>10825.17</td>\n      <td>5109.668623</td>\n      <td>4113.333213</td>\n      <td>12159.59156</td>\n      <td>0.982705</td>\n      <td>10831.429829</td>\n    </tr>\n    <tr>\n      <th>500</th>\n      <td>500</td>\n      <td>25-Sep-08</td>\n      <td>11022.06</td>\n      <td>5197.000000</td>\n      <td>4226.810000</td>\n      <td>12006.53000</td>\n      <td>1.018188</td>\n      <td>11222.531068</td>\n    </tr>\n  </tbody>\n</table>\n<p>501 rows × 8 columns</p>\n</div>"
     },
     "metadata": {},
     "execution_count": 28
    }
   ],
   "source": [
    "Data['djiaForecast'] = Data['DJIA'][500] * Data['djiaRet']\n",
    "Data"
   ]
  },
  {
   "cell_type": "markdown",
   "metadata": {},
   "source": [
    "Repeat for the other three assets in our portfolio:"
   ]
  },
  {
   "cell_type": "code",
   "execution_count": 31,
   "metadata": {},
   "outputs": [
    {
     "output_type": "execute_result",
     "data": {
      "text/plain": "     row       date      DJIA     FTSE-500       CAC-40       Nikkei  \\\n496  496  18-Sep-08  11019.69  4806.292767  3878.771078  11658.00254   \n497  497  19-Sep-08  11388.44  5269.607790  4246.994928  11878.44496   \n498  498  22-Sep-08  11015.69  5227.512359  4214.237071  12049.82757   \n499  499  24-Sep-08  10825.17  5109.668623  4113.333213  12159.59156   \n500  500  25-Sep-08  11022.06  5197.000000  4226.810000  12006.53000   \n\n      djiaRet  djiaForecast   ftseRet  ftseForecast    cacRet  cacForecast  \\\n496  1.038647  11448.027963  1.006572   5231.156658  1.002240  4236.276372   \n497  1.033463  11390.889307  1.096398   5697.978257  1.094933  4628.074272   \n498  0.967269  10661.301822  0.992012   5155.484585  0.992287  4194.207833   \n499  0.982705  10831.429829  0.977457   5079.844104  0.976056  4125.605101   \n500  1.018188  11222.531068  1.017091   5285.823992  1.027588  4343.417334   \n\n     nikkeiRet  nikkeiForecast  \n496   0.976618    11725.795841  \n497   1.018909    12233.562763  \n498   1.014428    12179.760625  \n499   1.009109    12115.899585  \n500   0.987412    11855.395136  ",
      "text/html": "<div>\n<style scoped>\n    .dataframe tbody tr th:only-of-type {\n        vertical-align: middle;\n    }\n\n    .dataframe tbody tr th {\n        vertical-align: top;\n    }\n\n    .dataframe thead th {\n        text-align: right;\n    }\n</style>\n<table border=\"1\" class=\"dataframe\">\n  <thead>\n    <tr style=\"text-align: right;\">\n      <th></th>\n      <th>row</th>\n      <th>date</th>\n      <th>DJIA</th>\n      <th>FTSE-500</th>\n      <th>CAC-40</th>\n      <th>Nikkei</th>\n      <th>djiaRet</th>\n      <th>djiaForecast</th>\n      <th>ftseRet</th>\n      <th>ftseForecast</th>\n      <th>cacRet</th>\n      <th>cacForecast</th>\n      <th>nikkeiRet</th>\n      <th>nikkeiForecast</th>\n    </tr>\n  </thead>\n  <tbody>\n    <tr>\n      <th>496</th>\n      <td>496</td>\n      <td>18-Sep-08</td>\n      <td>11019.69</td>\n      <td>4806.292767</td>\n      <td>3878.771078</td>\n      <td>11658.00254</td>\n      <td>1.038647</td>\n      <td>11448.027963</td>\n      <td>1.006572</td>\n      <td>5231.156658</td>\n      <td>1.002240</td>\n      <td>4236.276372</td>\n      <td>0.976618</td>\n      <td>11725.795841</td>\n    </tr>\n    <tr>\n      <th>497</th>\n      <td>497</td>\n      <td>19-Sep-08</td>\n      <td>11388.44</td>\n      <td>5269.607790</td>\n      <td>4246.994928</td>\n      <td>11878.44496</td>\n      <td>1.033463</td>\n      <td>11390.889307</td>\n      <td>1.096398</td>\n      <td>5697.978257</td>\n      <td>1.094933</td>\n      <td>4628.074272</td>\n      <td>1.018909</td>\n      <td>12233.562763</td>\n    </tr>\n    <tr>\n      <th>498</th>\n      <td>498</td>\n      <td>22-Sep-08</td>\n      <td>11015.69</td>\n      <td>5227.512359</td>\n      <td>4214.237071</td>\n      <td>12049.82757</td>\n      <td>0.967269</td>\n      <td>10661.301822</td>\n      <td>0.992012</td>\n      <td>5155.484585</td>\n      <td>0.992287</td>\n      <td>4194.207833</td>\n      <td>1.014428</td>\n      <td>12179.760625</td>\n    </tr>\n    <tr>\n      <th>499</th>\n      <td>499</td>\n      <td>24-Sep-08</td>\n      <td>10825.17</td>\n      <td>5109.668623</td>\n      <td>4113.333213</td>\n      <td>12159.59156</td>\n      <td>0.982705</td>\n      <td>10831.429829</td>\n      <td>0.977457</td>\n      <td>5079.844104</td>\n      <td>0.976056</td>\n      <td>4125.605101</td>\n      <td>1.009109</td>\n      <td>12115.899585</td>\n    </tr>\n    <tr>\n      <th>500</th>\n      <td>500</td>\n      <td>25-Sep-08</td>\n      <td>11022.06</td>\n      <td>5197.000000</td>\n      <td>4226.810000</td>\n      <td>12006.53000</td>\n      <td>1.018188</td>\n      <td>11222.531068</td>\n      <td>1.017091</td>\n      <td>5285.823992</td>\n      <td>1.027588</td>\n      <td>4343.417334</td>\n      <td>0.987412</td>\n      <td>11855.395136</td>\n    </tr>\n  </tbody>\n</table>\n</div>"
     },
     "metadata": {},
     "execution_count": 31
    }
   ],
   "source": [
    "Data['ftseRet'] = Data['FTSE-500']/Data['FTSE-500'].shift(1)\n",
    "Data['ftseForecast'] = Data['FTSE-500'][500] * Data['ftseRet']\n",
    "Data['cacRet'] = Data['CAC-40']/Data['CAC-40'].shift(1)\n",
    "Data['cacForecast'] = Data['CAC-40'][500] * Data['cacRet']\n",
    "Data['nikkeiRet'] = Data['Nikkei']/Data['Nikkei'].shift(1)\n",
    "Data['nikkeiForecast'] = Data['Nikkei'][500] * Data['nikkeiRet']\n",
    "Data.tail()\n"
   ]
  },
  {
   "cell_type": "markdown",
   "metadata": {},
   "source": [
    "The 500 possible final portfolio values and the `loss` (negative of gains):"
   ]
  },
  {
   "cell_type": "code",
   "execution_count": 38,
   "metadata": {},
   "outputs": [
    {
     "output_type": "execute_result",
     "data": {
      "text/plain": "0               NaN\n1      10014.333846\n2      10027.481312\n3       9946.735942\n4       9974.860634\n           ...     \n496    10129.780586\n497    10555.795412\n498     9866.255623\n499     9857.464506\n500    10126.438966\nLength: 501, dtype: float64"
     },
     "metadata": {},
     "execution_count": 38
    }
   ],
   "source": [
    "4000*Data['djiaForecast']/Data['DJIA'][500]\n",
    "3000*Data['ftseForecast']/Data['FTSE-500'][500]\n",
    "1000*Data['cacForecast']/Data['CAC-40'][500]\n",
    "2000*Data['nikkeiForecast']/Data['Nikkei'][500]\n",
    "4000*Data['djiaForecast']/Data['DJIA'][500] + 3000*Data['ftseForecast']/Data['FTSE-500'][500] + 1000*Data['cacForecast']/Data['CAC-40'][500] + 2000*Data['nikkeiForecast']/Data['Nikkei'][500]"
   ]
  },
  {
   "cell_type": "code",
   "execution_count": 40,
   "metadata": {},
   "outputs": [
    {
     "output_type": "execute_result",
     "data": {
      "text/plain": "     row       date      DJIA     FTSE-500       CAC-40       Nikkei  \\\n496  496  18-Sep-08  11019.69  4806.292767  3878.771078  11658.00254   \n497  497  19-Sep-08  11388.44  5269.607790  4246.994928  11878.44496   \n498  498  22-Sep-08  11015.69  5227.512359  4214.237071  12049.82757   \n499  499  24-Sep-08  10825.17  5109.668623  4113.333213  12159.59156   \n500  500  25-Sep-08  11022.06  5197.000000  4226.810000  12006.53000   \n\n      djiaRet  djiaForecast   ftseRet  ftseForecast    cacRet  cacForecast  \\\n496  1.038647  11448.027963  1.006572   5231.156658  1.002240  4236.276372   \n497  1.033463  11390.889307  1.096398   5697.978257  1.094933  4628.074272   \n498  0.967269  10661.301822  0.992012   5155.484585  0.992287  4194.207833   \n499  0.982705  10831.429829  0.977457   5079.844104  0.976056  4125.605101   \n500  1.018188  11222.531068  1.017091   5285.823992  1.027588  4343.417334   \n\n     nikkeiRet  nikkeiForecast        pValue        loss  \n496   0.976618    11725.795841  10129.780586 -129.780586  \n497   1.018909    12233.562763  10555.795412 -555.795412  \n498   1.014428    12179.760625   9866.255623  133.744377  \n499   1.009109    12115.899585   9857.464506  142.535494  \n500   0.987412    11855.395136  10126.438966 -126.438966  ",
      "text/html": "<div>\n<style scoped>\n    .dataframe tbody tr th:only-of-type {\n        vertical-align: middle;\n    }\n\n    .dataframe tbody tr th {\n        vertical-align: top;\n    }\n\n    .dataframe thead th {\n        text-align: right;\n    }\n</style>\n<table border=\"1\" class=\"dataframe\">\n  <thead>\n    <tr style=\"text-align: right;\">\n      <th></th>\n      <th>row</th>\n      <th>date</th>\n      <th>DJIA</th>\n      <th>FTSE-500</th>\n      <th>CAC-40</th>\n      <th>Nikkei</th>\n      <th>djiaRet</th>\n      <th>djiaForecast</th>\n      <th>ftseRet</th>\n      <th>ftseForecast</th>\n      <th>cacRet</th>\n      <th>cacForecast</th>\n      <th>nikkeiRet</th>\n      <th>nikkeiForecast</th>\n      <th>pValue</th>\n      <th>loss</th>\n    </tr>\n  </thead>\n  <tbody>\n    <tr>\n      <th>496</th>\n      <td>496</td>\n      <td>18-Sep-08</td>\n      <td>11019.69</td>\n      <td>4806.292767</td>\n      <td>3878.771078</td>\n      <td>11658.00254</td>\n      <td>1.038647</td>\n      <td>11448.027963</td>\n      <td>1.006572</td>\n      <td>5231.156658</td>\n      <td>1.002240</td>\n      <td>4236.276372</td>\n      <td>0.976618</td>\n      <td>11725.795841</td>\n      <td>10129.780586</td>\n      <td>-129.780586</td>\n    </tr>\n    <tr>\n      <th>497</th>\n      <td>497</td>\n      <td>19-Sep-08</td>\n      <td>11388.44</td>\n      <td>5269.607790</td>\n      <td>4246.994928</td>\n      <td>11878.44496</td>\n      <td>1.033463</td>\n      <td>11390.889307</td>\n      <td>1.096398</td>\n      <td>5697.978257</td>\n      <td>1.094933</td>\n      <td>4628.074272</td>\n      <td>1.018909</td>\n      <td>12233.562763</td>\n      <td>10555.795412</td>\n      <td>-555.795412</td>\n    </tr>\n    <tr>\n      <th>498</th>\n      <td>498</td>\n      <td>22-Sep-08</td>\n      <td>11015.69</td>\n      <td>5227.512359</td>\n      <td>4214.237071</td>\n      <td>12049.82757</td>\n      <td>0.967269</td>\n      <td>10661.301822</td>\n      <td>0.992012</td>\n      <td>5155.484585</td>\n      <td>0.992287</td>\n      <td>4194.207833</td>\n      <td>1.014428</td>\n      <td>12179.760625</td>\n      <td>9866.255623</td>\n      <td>133.744377</td>\n    </tr>\n    <tr>\n      <th>499</th>\n      <td>499</td>\n      <td>24-Sep-08</td>\n      <td>10825.17</td>\n      <td>5109.668623</td>\n      <td>4113.333213</td>\n      <td>12159.59156</td>\n      <td>0.982705</td>\n      <td>10831.429829</td>\n      <td>0.977457</td>\n      <td>5079.844104</td>\n      <td>0.976056</td>\n      <td>4125.605101</td>\n      <td>1.009109</td>\n      <td>12115.899585</td>\n      <td>9857.464506</td>\n      <td>142.535494</td>\n    </tr>\n    <tr>\n      <th>500</th>\n      <td>500</td>\n      <td>25-Sep-08</td>\n      <td>11022.06</td>\n      <td>5197.000000</td>\n      <td>4226.810000</td>\n      <td>12006.53000</td>\n      <td>1.018188</td>\n      <td>11222.531068</td>\n      <td>1.017091</td>\n      <td>5285.823992</td>\n      <td>1.027588</td>\n      <td>4343.417334</td>\n      <td>0.987412</td>\n      <td>11855.395136</td>\n      <td>10126.438966</td>\n      <td>-126.438966</td>\n    </tr>\n  </tbody>\n</table>\n</div>"
     },
     "metadata": {},
     "execution_count": 40
    }
   ],
   "source": [
    "Data['pValue'] = 4000*Data['djiaForecast']/Data['DJIA'][500] + 3000*Data['ftseForecast']/Data['FTSE-500'][500] + 1000*Data['cacForecast']/Data['CAC-40'][500] + 2000*Data['nikkeiForecast']/Data['Nikkei'][500]\n",
    "Data['loss'] = -(Data['pValue'] - 10000)\n",
    "Data.tail()"
   ]
  },
  {
   "cell_type": "markdown",
   "metadata": {},
   "source": [
    "Now just consider the variable `loss`:"
   ]
  },
  {
   "cell_type": "code",
   "execution_count": 45,
   "metadata": {},
   "outputs": [
    {
     "output_type": "execute_result",
     "data": {
      "text/plain": "     row        loss\n494  494  477.841000\n339  339  345.435075\n349  349  282.203845\n329  329  277.041294\n487  487  253.384956\n..   ...         ...\n341  341 -307.930115\n377  377 -316.489338\n379  379 -333.021840\n497  497 -555.795412\n0      0         NaN\n\n[501 rows x 2 columns]",
      "text/html": "<div>\n<style scoped>\n    .dataframe tbody tr th:only-of-type {\n        vertical-align: middle;\n    }\n\n    .dataframe tbody tr th {\n        vertical-align: top;\n    }\n\n    .dataframe thead th {\n        text-align: right;\n    }\n</style>\n<table border=\"1\" class=\"dataframe\">\n  <thead>\n    <tr style=\"text-align: right;\">\n      <th></th>\n      <th>row</th>\n      <th>loss</th>\n    </tr>\n  </thead>\n  <tbody>\n    <tr>\n      <th>494</th>\n      <td>494</td>\n      <td>477.841000</td>\n    </tr>\n    <tr>\n      <th>339</th>\n      <td>339</td>\n      <td>345.435075</td>\n    </tr>\n    <tr>\n      <th>349</th>\n      <td>349</td>\n      <td>282.203845</td>\n    </tr>\n    <tr>\n      <th>329</th>\n      <td>329</td>\n      <td>277.041294</td>\n    </tr>\n    <tr>\n      <th>487</th>\n      <td>487</td>\n      <td>253.384956</td>\n    </tr>\n    <tr>\n      <th>...</th>\n      <td>...</td>\n      <td>...</td>\n    </tr>\n    <tr>\n      <th>341</th>\n      <td>341</td>\n      <td>-307.930115</td>\n    </tr>\n    <tr>\n      <th>377</th>\n      <td>377</td>\n      <td>-316.489338</td>\n    </tr>\n    <tr>\n      <th>379</th>\n      <td>379</td>\n      <td>-333.021840</td>\n    </tr>\n    <tr>\n      <th>497</th>\n      <td>497</td>\n      <td>-555.795412</td>\n    </tr>\n    <tr>\n      <th>0</th>\n      <td>0</td>\n      <td>NaN</td>\n    </tr>\n  </tbody>\n</table>\n<p>501 rows × 2 columns</p>\n</div>"
     },
     "metadata": {},
     "execution_count": 45
    }
   ],
   "source": [
    "Loss = Data[['row', 'loss']]\n",
    "Loss.sort_values(by=['loss'], ascending=False)"
   ]
  },
  {
   "cell_type": "markdown",
   "metadata": {},
   "source": [
    "Find the 1% top highest or the 99th percentile:"
   ]
  },
  {
   "cell_type": "code",
   "execution_count": 46,
   "metadata": {},
   "outputs": [
    {
     "output_type": "execute_result",
     "data": {
      "text/plain": "253.38495634799074"
     },
     "metadata": {},
     "execution_count": 46
    }
   ],
   "source": [
    "import scipy.stats as scs\n",
    "scs.scoreatpercentile(Loss['loss'], 99)"
   ]
  },
  {
   "cell_type": "markdown",
   "metadata": {},
   "source": [
    "The ten-day 99% VaR: $VaR_{1-day} \\times \\sqrt{10}$"
   ]
  },
  {
   "cell_type": "code",
   "execution_count": 47,
   "metadata": {},
   "outputs": [
    {
     "output_type": "execute_result",
     "data": {
      "text/plain": "801.2735868819912"
     },
     "metadata": {},
     "execution_count": 47
    }
   ],
   "source": [
    "import numpy as np\n",
    "253.38495634799074 * np.sqrt(10)"
   ]
  },
  {
   "cell_type": "markdown",
   "metadata": {},
   "source": [
    "# 2. Model-Building approach"
   ]
  },
  {
   "cell_type": "markdown",
   "metadata": {},
   "source": [
    "## One-asset"
   ]
  },
  {
   "cell_type": "markdown",
   "metadata": {},
   "source": [
    "This approach relies on the property that 99% certain that a normally distributed random variable will not decrease by more than 2.326 standard deviations. So the one-day 99% VaR is:\n",
    "\n",
    "$$\\sigma * 2.326$$"
   ]
  },
  {
   "cell_type": "markdown",
   "metadata": {},
   "source": [
    "So we just need to calculate the historical volatility and use the above formula."
   ]
  },
  {
   "cell_type": "markdown",
   "metadata": {},
   "source": [
    "## Generalization of many-assets case\n",
    "\n",
    "The variance of the portfolio equals:\n",
    "\n",
    "$$\\sigma_p^2 = \\alpha^T C \\alpha$$"
   ]
  },
  {
   "cell_type": "markdown",
   "metadata": {},
   "source": [
    "Thus, it is better to use the matrix calculation to solve the problem. Let's consider an easy example with only two assets:"
   ]
  },
  {
   "cell_type": "code",
   "execution_count": 59,
   "metadata": {},
   "outputs": [],
   "source": [
    "alpha = np.array([10, 5])\n",
    "C = np.array([[0.02*0.02, 0.02*0.01*0.3], [0.02*0.01*0.3, 0.01*0.01]])"
   ]
  },
  {
   "cell_type": "code",
   "execution_count": 60,
   "metadata": {},
   "outputs": [
    {
     "output_type": "execute_result",
     "data": {
      "text/plain": "array([10,  5])"
     },
     "metadata": {},
     "execution_count": 60
    }
   ],
   "source": [
    "alpha"
   ]
  },
  {
   "cell_type": "code",
   "execution_count": 61,
   "metadata": {},
   "outputs": [
    {
     "output_type": "execute_result",
     "data": {
      "text/plain": "array([[4.e-04, 6.e-05],\n       [6.e-05, 1.e-04]])"
     },
     "metadata": {},
     "execution_count": 61
    }
   ],
   "source": [
    "C"
   ]
  },
  {
   "cell_type": "code",
   "execution_count": 62,
   "metadata": {},
   "outputs": [
    {
     "output_type": "execute_result",
     "data": {
      "text/plain": "array([10,  5])"
     },
     "metadata": {},
     "execution_count": 62
    }
   ],
   "source": [
    "alpha.T"
   ]
  },
  {
   "cell_type": "code",
   "execution_count": 63,
   "metadata": {},
   "outputs": [
    {
     "output_type": "execute_result",
     "data": {
      "text/plain": "array([0.0043, 0.0011])"
     },
     "metadata": {},
     "execution_count": 63
    }
   ],
   "source": [
    "alpha.T.dot(C)"
   ]
  },
  {
   "cell_type": "code",
   "execution_count": 66,
   "metadata": {},
   "outputs": [
    {
     "output_type": "execute_result",
     "data": {
      "text/plain": "0.048499999999999995"
     },
     "metadata": {},
     "execution_count": 66
    }
   ],
   "source": [
    "var_p = alpha.T.dot(C).dot(alpha) # variance\n",
    "var_p"
   ]
  },
  {
   "cell_type": "code",
   "execution_count": 67,
   "metadata": {},
   "outputs": [
    {
     "output_type": "execute_result",
     "data": {
      "text/plain": "0.2202271554554524"
     },
     "metadata": {},
     "execution_count": 67
    }
   ],
   "source": [
    "np.sqrt(var_p) # standard deviation"
   ]
  },
  {
   "cell_type": "markdown",
   "metadata": {},
   "source": [
    "The ten-day 99% VaR is:"
   ]
  },
  {
   "cell_type": "code",
   "execution_count": 68,
   "metadata": {},
   "outputs": [
    {
     "output_type": "execute_result",
     "data": {
      "text/plain": "1.6198715566365132"
     },
     "metadata": {},
     "execution_count": 68
    }
   ],
   "source": [
    "2.326 * np.sqrt(var_p) * np.sqrt(10)"
   ]
  },
  {
   "cell_type": "code",
   "execution_count": null,
   "metadata": {},
   "outputs": [],
   "source": []
  }
 ],
 "metadata": {
  "language_info": {
   "codemirror_mode": {
    "name": "ipython",
    "version": 3
   },
   "file_extension": ".py",
   "mimetype": "text/x-python",
   "name": "python",
   "nbconvert_exporter": "python",
   "pygments_lexer": "ipython3",
   "version": "3.7.7-final"
  },
  "orig_nbformat": 2,
  "kernelspec": {
   "name": "python37764bitc8e3faec5a4d40138f7b6b9b9ed235d0",
   "display_name": "Python 3.7.7 64-bit"
  }
 },
 "nbformat": 4,
 "nbformat_minor": 2
}