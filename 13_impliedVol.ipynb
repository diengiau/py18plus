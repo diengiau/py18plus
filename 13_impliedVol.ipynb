{
 "cells": [
  {
   "cell_type": "markdown",
   "metadata": {},
   "source": [
    "# 1. Summary statistics\n",
    "\n",
    "We have a monthly data of these variables:\n",
    "\n",
    "- Implied volatility of call & put for every stock in the market\n",
    "- Implied volatility (average of call and put's implied volatility)\n",
    "- Implied volatility spread = ATM Call's implied volatility - ATM Put's implied volatility\n",
    "- Implied volatility skew = OTM Put's implied volatility - ATM Call's implied volatility\n",
    "\n",
    "So the idea is if implied volatility of the call is high, it is pretty good news, but the implied volatility of the put (especially the OTM Put) signals the bad news."
   ]
  },
  {
   "cell_type": "code",
   "execution_count": 1,
   "metadata": {},
   "outputs": [
    {
     "output_type": "execute_result",
     "data": {
      "text/plain": "   secid  year  month  ...    ImpVol  ImpVolSpread  ImpVolSkew\n0   5036  1996      1  ...  0.185636     -0.015760    0.013152\n1   5036  1996      2  ...  0.267272     -0.064513    0.031035\n2   5036  1996      3  ...  0.219927      0.017376    0.031591\n3   5036  1996      4  ...  0.204428     -0.010639    0.036173\n4   5036  1996      5  ...  0.216019     -0.033279    0.036380\n\n[5 rows x 8 columns]",
      "text/html": "<div>\n<style scoped>\n    .dataframe tbody tr th:only-of-type {\n        vertical-align: middle;\n    }\n\n    .dataframe tbody tr th {\n        vertical-align: top;\n    }\n\n    .dataframe thead th {\n        text-align: right;\n    }\n</style>\n<table border=\"1\" class=\"dataframe\">\n  <thead>\n    <tr style=\"text-align: right;\">\n      <th></th>\n      <th>secid</th>\n      <th>year</th>\n      <th>month</th>\n      <th>ImpVolCall</th>\n      <th>ImpVolPut</th>\n      <th>ImpVol</th>\n      <th>ImpVolSpread</th>\n      <th>ImpVolSkew</th>\n    </tr>\n  </thead>\n  <tbody>\n    <tr>\n      <th>0</th>\n      <td>5036</td>\n      <td>1996</td>\n      <td>1</td>\n      <td>0.177756</td>\n      <td>0.193516</td>\n      <td>0.185636</td>\n      <td>-0.015760</td>\n      <td>0.013152</td>\n    </tr>\n    <tr>\n      <th>1</th>\n      <td>5036</td>\n      <td>1996</td>\n      <td>2</td>\n      <td>0.235016</td>\n      <td>0.299529</td>\n      <td>0.267272</td>\n      <td>-0.064513</td>\n      <td>0.031035</td>\n    </tr>\n    <tr>\n      <th>2</th>\n      <td>5036</td>\n      <td>1996</td>\n      <td>3</td>\n      <td>0.228615</td>\n      <td>0.211239</td>\n      <td>0.219927</td>\n      <td>0.017376</td>\n      <td>0.031591</td>\n    </tr>\n    <tr>\n      <th>3</th>\n      <td>5036</td>\n      <td>1996</td>\n      <td>4</td>\n      <td>0.199108</td>\n      <td>0.209747</td>\n      <td>0.204428</td>\n      <td>-0.010639</td>\n      <td>0.036173</td>\n    </tr>\n    <tr>\n      <th>4</th>\n      <td>5036</td>\n      <td>1996</td>\n      <td>5</td>\n      <td>0.199379</td>\n      <td>0.232658</td>\n      <td>0.216019</td>\n      <td>-0.033279</td>\n      <td>0.036380</td>\n    </tr>\n  </tbody>\n</table>\n</div>"
     },
     "metadata": {},
     "execution_count": 1
    }
   ],
   "source": [
    "import pandas as pd\n",
    "ImpVol = pd.read_csv(\"data/ImpliedVol.csv\")\n",
    "ImpVol.head()"
   ]
  },
  {
   "cell_type": "code",
   "execution_count": 2,
   "metadata": {},
   "outputs": [
    {
     "output_type": "execute_result",
     "data": {
      "text/plain": "               secid           year  ...   ImpVolSpread     ImpVolSkew\ncount  740875.000000  740875.000000  ...  740874.000000  692741.000000\nmean   116280.222854    2009.064167  ...      -0.006218       0.073621\nstd     23215.924692       6.451440  ...       0.134255       0.173179\nmin      5036.000000    1996.000000  ...      -2.648926      -2.723524\n25%    104699.000000    2004.000000  ...      -0.027291       0.015644\n50%    108992.000000    2010.000000  ...      -0.002918       0.053371\n75%    115481.000000    2015.000000  ...       0.016326       0.113536\nmax    213798.000000    2019.000000  ...       2.792060       2.850887\n\n[8 rows x 8 columns]",
      "text/html": "<div>\n<style scoped>\n    .dataframe tbody tr th:only-of-type {\n        vertical-align: middle;\n    }\n\n    .dataframe tbody tr th {\n        vertical-align: top;\n    }\n\n    .dataframe thead th {\n        text-align: right;\n    }\n</style>\n<table border=\"1\" class=\"dataframe\">\n  <thead>\n    <tr style=\"text-align: right;\">\n      <th></th>\n      <th>secid</th>\n      <th>year</th>\n      <th>month</th>\n      <th>ImpVolCall</th>\n      <th>ImpVolPut</th>\n      <th>ImpVol</th>\n      <th>ImpVolSpread</th>\n      <th>ImpVolSkew</th>\n    </tr>\n  </thead>\n  <tbody>\n    <tr>\n      <th>count</th>\n      <td>740875.000000</td>\n      <td>740875.000000</td>\n      <td>740875.000000</td>\n      <td>740875.000000</td>\n      <td>740874.000000</td>\n      <td>740874.000000</td>\n      <td>740874.000000</td>\n      <td>692741.000000</td>\n    </tr>\n    <tr>\n      <th>mean</th>\n      <td>116280.222854</td>\n      <td>2009.064167</td>\n      <td>6.458762</td>\n      <td>0.473300</td>\n      <td>0.479517</td>\n      <td>0.476408</td>\n      <td>-0.006218</td>\n      <td>0.073621</td>\n    </tr>\n    <tr>\n      <th>std</th>\n      <td>23215.924692</td>\n      <td>6.451440</td>\n      <td>3.449827</td>\n      <td>0.273091</td>\n      <td>0.279044</td>\n      <td>0.267797</td>\n      <td>0.134255</td>\n      <td>0.173179</td>\n    </tr>\n    <tr>\n      <th>min</th>\n      <td>5036.000000</td>\n      <td>1996.000000</td>\n      <td>1.000000</td>\n      <td>0.010012</td>\n      <td>0.010094</td>\n      <td>0.011487</td>\n      <td>-2.648926</td>\n      <td>-2.723524</td>\n    </tr>\n    <tr>\n      <th>25%</th>\n      <td>104699.000000</td>\n      <td>2004.000000</td>\n      <td>3.000000</td>\n      <td>0.286752</td>\n      <td>0.289273</td>\n      <td>0.290494</td>\n      <td>-0.027291</td>\n      <td>0.015644</td>\n    </tr>\n    <tr>\n      <th>50%</th>\n      <td>108992.000000</td>\n      <td>2010.000000</td>\n      <td>6.000000</td>\n      <td>0.403817</td>\n      <td>0.407160</td>\n      <td>0.407589</td>\n      <td>-0.002918</td>\n      <td>0.053371</td>\n    </tr>\n    <tr>\n      <th>75%</th>\n      <td>115481.000000</td>\n      <td>2015.000000</td>\n      <td>9.000000</td>\n      <td>0.584735</td>\n      <td>0.591392</td>\n      <td>0.589575</td>\n      <td>0.016326</td>\n      <td>0.113536</td>\n    </tr>\n    <tr>\n      <th>max</th>\n      <td>213798.000000</td>\n      <td>2019.000000</td>\n      <td>12.000000</td>\n      <td>2.999243</td>\n      <td>2.999202</td>\n      <td>2.999202</td>\n      <td>2.792060</td>\n      <td>2.850887</td>\n    </tr>\n  </tbody>\n</table>\n</div>"
     },
     "metadata": {},
     "execution_count": 2
    }
   ],
   "source": [
    "ImpVol.describe()"
   ]
  },
  {
   "cell_type": "markdown",
   "metadata": {},
   "source": [
    "# 2. Histogram/Density of these implied volatility\n",
    "\n",
    "Please see some histogram below and discuss about their distribution."
   ]
  },
  {
   "cell_type": "markdown",
   "metadata": {},
   "source": [
    "__Implied volatility of call/put __\n",
    "\n",
    "![Fig 1. Distribution of implied volatility](fig/impVolDist.jpeg)"
   ]
  },
  {
   "cell_type": "markdown",
   "metadata": {},
   "source": [
    "__Implied volatility spread and skew__\n",
    "\n",
    "![Fig 1. Distribution of implied volatility spread and skew](fig/impVolSpreadSkewDist.jpeg)"
   ]
  }
 ],
 "metadata": {
  "language_info": {
   "codemirror_mode": {
    "name": "ipython",
    "version": 3
   },
   "file_extension": ".py",
   "mimetype": "text/x-python",
   "name": "python",
   "nbconvert_exporter": "python",
   "pygments_lexer": "ipython3",
   "version": "3.7.7-final"
  },
  "orig_nbformat": 2,
  "kernelspec": {
   "name": "python37764bitc8e3faec5a4d40138f7b6b9b9ed235d0",
   "display_name": "Python 3.7.7 64-bit"
  }
 },
 "nbformat": 4,
 "nbformat_minor": 2
}